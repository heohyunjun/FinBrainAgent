{
 "cells": [
  {
   "cell_type": "code",
   "execution_count": 1,
   "metadata": {},
   "outputs": [],
   "source": [
    "import json\n",
    "import streamlit as st\n",
    "import openai\n",
    "from dotenv import load_dotenv\n",
    "from pydantic import BaseModel, Field\n",
    "from typing import List, Annotated, Literal, Dict, Callable, TypeVar, Tuple, Type, Generic, Optional, Union, Any\n",
    "from typing_extensions import TypedDict \n",
    "\n",
    "# LangChain 및 LangGraph 관련 라이브러리\n",
    "from langchain.prompts import PromptTemplate\n",
    "from langchain.prompts.chat import ChatPromptTemplate, MessagesPlaceholder\n",
    "from langchain_core.output_parsers import StrOutputParser\n",
    "from langchain_core.messages import HumanMessage, AIMessage\n",
    "from langchain_core.language_models.chat_models import BaseChatModel\n",
    "from langchain.agents import AgentExecutor\n",
    "\n",
    "from langgraph.types import Command\n",
    "from langgraph.graph.message import add_messages\n",
    "from langgraph.graph import StateGraph, MessagesState, START, END\n",
    "from langgraph.prebuilt import create_react_agent\n",
    "from langsmith import utils \n",
    "from datetime import datetime, timedelta\n",
    "from langchain_openai import ChatOpenAI\n",
    "from langchain_core.prompts import PromptTemplate\n",
    "\n",
    "\n",
    "from sec_tool.insider_trade_tool import SECInsiderTradeAPI\n",
    "from sec_tool.market_data_tool import MarketDataTools, FinancialDataTools, EconomicDataTools\n",
    "\n",
    "from agents.agent_library import agent_configs\n",
    "from team_graph.report_team_subgraph import report_graph\n",
    "from team_graph.general_chat_subgraph import general_graph\n",
    "\n",
    "# 환경 변수 로드\n",
    "load_dotenv()\n",
    "print(utils.tracing_is_enabled())"
   ]
  },
  {
   "cell_type": "code",
   "execution_count": 3,
   "metadata": {},
   "outputs": [],
   "source": [
    "class AgentState(MessagesState):\n",
    "    query: str\n"
   ]
  },
  {
   "cell_type": "code",
   "execution_count": 4,
   "metadata": {},
   "outputs": [],
   "source": [
    "llm = ChatOpenAI(model=\"gpt-4o-mini-2024-07-18\")"
   ]
  },
  {
   "cell_type": "code",
   "execution_count": null,
   "metadata": {},
   "outputs": [],
   "source": [
    "# 시장 조사 에이전트\n",
    "news_and_sentiment_retrieval_tools = [MarketDataTools.get_stock_news, MarketDataTools.get_websearch_tool()] # 여기 ㄷ통일\n",
    "news_and_sentiment_retrieval_agent = create_react_agent(\n",
    "    llm, \n",
    "    tools=news_and_sentiment_retrieval_tools,\n",
    "    prompt=agent_configs['news_and_sentiment_retrieval_agent']['prompt']\n",
    ")\n",
    "\n",
    "market_data_tools = [MarketDataTools.get_stock_price]\n",
    "market_data_retrieval_agent = create_react_agent(\n",
    "    llm, tools=market_data_tools, \n",
    "    prompt = agent_configs['market_data_retrieval_agent']['prompt']\n",
    ")\n",
    "\n",
    "\n",
    "economic_data_retrieval_tools = [EconomicDataTools.get_core_cpi_data]\n",
    "economic_data_retrieval_agent = create_react_agent(\n",
    "    llm, tools=economic_data_retrieval_tools, \n",
    "    prompt=agent_configs['economic_data_retrieval_agent']['prompt']\n",
    ")\n",
    "\n",
    "\n",
    "financial_statement_retrieval_tools = [FinancialDataTools.get_income_statement, FinancialDataTools.get_financial_event_filings]\n",
    "financial_statement_retrieval_agent = create_react_agent(\n",
    "    llm,\n",
    "    tools=financial_statement_retrieval_tools,\n",
    "    prompt = agent_configs['financial_statement_retrieval_agent']['prompt']\n",
    ")\n",
    "\n",
    "insider_tracker_research_tools = [SECInsiderTradeAPI.fetch_filings]\n",
    "insider_tracker_research_agent = create_react_agent(\n",
    "    llm, tools=insider_tracker_research_tools, \n",
    "    prompt=agent_configs['insider_tracker_research_agent']['prompt']\n",
    ")\n",
    "\n",
    "\n"
   ]
  },
  {
   "cell_type": "code",
   "execution_count": 5,
   "metadata": {},
   "outputs": [],
   "source": [
    "def news_and_sentiment_retrieval_node(state: AgentState) -> Command[Literal[\"data_retrieval_leader\"]]:\n",
    "    \"\"\"\n",
    "    금융 뉴스 및 애널리스트 의견 수집\n",
    "\n",
    "    Args:\n",
    "        state (MessagesState): 현재 메시지 상태를 나타내는 객체\n",
    "\n",
    "    Returns:\n",
    "        Command: supervisor node로 이동하기 위한 명령을 반환\n",
    "    \"\"\"\n",
    "    # 시장 조사 에이전트를 호출하여 결과를 얻습니다.\n",
    "    result = news_and_sentiment_retrieval_agent.invoke(state)\n",
    "    \n",
    "    # 결과 메시지를 업데이트하고 supervisor node로 이동합니다.\n",
    "    return Command(\n",
    "        update={'messages': [HumanMessage(content=result['messages'][-1].content, name='news_and_sentiment_retrieval')]},\n",
    "        goto='data_retrieval_leader'\n",
    "    )\n",
    "\n"
   ]
  },
  {
   "cell_type": "code",
   "execution_count": 6,
   "metadata": {},
   "outputs": [],
   "source": [
    "def market_data_retrieval_node(state: AgentState) -> Command[Literal[\"data_retrieval_leader\"]]:\n",
    "    \"\"\"\n",
    "    실시간 주가 및 거래량 수집\n",
    "    Args:\n",
    "        state (MessagesState): 현재 메시지 상태를 나타내는 객체\n",
    "\n",
    "    Returns:\n",
    "        Command: supervisor node로 이동하기 위한 명령을 반환\n",
    "    \"\"\"\n",
    "    result = market_data_retrieval_agent.invoke(state)\n",
    "\n",
    "    return Command(\n",
    "        update={'messages': [HumanMessage(content=result['messages'][-1].content, name='market_data_retrieval')]},\n",
    "        goto='data_retrieval_leader'\n",
    "    )"
   ]
  },
  {
   "cell_type": "code",
   "execution_count": 7,
   "metadata": {},
   "outputs": [],
   "source": [
    "def economic_data_retrieval_node(state: AgentState) -> Command[Literal[\"data_retrieval_leader\"]]:\n",
    "    \"\"\"\n",
    "    거시경제 데이터(GDP, 금리, 인플레이션) 수집\n",
    "    Args:\n",
    "        state (MessagesState): 현재 메시지 상태를 나타내는 객체\n",
    "\n",
    "    Returns:\n",
    "        Command: supervisor node로 이동하기 위한 명령을 반환\n",
    "    \"\"\"\n",
    "    result = economic_data_retrieval_agent.invoke(state)\n",
    "\n",
    "    return Command(\n",
    "        update={'messages': [HumanMessage(content=result['messages'][-1].content, name='economic_data_retrieval')]},\n",
    "        goto='data_retrieval_leader'\n",
    "    )"
   ]
  },
  {
   "cell_type": "code",
   "execution_count": 8,
   "metadata": {},
   "outputs": [],
   "source": [
    "def financial_statement_retrieval_node(state: AgentState) -> Command[Literal[\"data_retrieval_leader\"]]:\n",
    "    \"\"\"\n",
    "    회사 재무 보고서와 주요 사건 관련 자료를 조사하는 노드.\n",
    "    손익계산서 데이터와 재무 및 주요 사건 관련 SEC 보고서를 처리합니다.\n",
    "\n",
    "    Args:\n",
    "        state (MessagesState): 현재 메시지 상태를 나타내는 객체\n",
    "\n",
    "    Returns:\n",
    "        Command: supervisor 노드로 이동하기 위한 명령을 반환\n",
    "    \"\"\"\n",
    "    result = financial_statement_retrieval_agent.invoke(state)\n",
    "    return Command(\n",
    "        update={'messages': [HumanMessage(content=result['messages'][-1].content, name='financial_statement_retrieval')]},\n",
    "        goto='data_retrieval_leader'\n",
    "    )\n"
   ]
  },
  {
   "cell_type": "code",
   "execution_count": 9,
   "metadata": {},
   "outputs": [],
   "source": [
    "def insider_tracker_research_node(state: AgentState) -> Command[Literal[\"data_retrieval_leader\"]]:\n",
    "    \"\"\"\n",
    "    내부자 거래 내역 조사 node \n",
    "    Args:\n",
    "        state (MessagesState): 현재 메시지 상태를 나타내는 객체\n",
    "\n",
    "    Returns:\n",
    "        Command: supervisor node로 이동하기 위한 명령을 반환\n",
    "    \"\"\"\n",
    "    result = insider_tracker_research_agent.invoke(state)\n",
    "\n",
    "    return Command(\n",
    "        update={'messages': [HumanMessage(content=result['messages'][-1].content, name='insider_tracker_research')]},\n",
    "        goto='data_retrieval_leader'\n",
    "    )"
   ]
  },
  {
   "cell_type": "code",
   "execution_count": 10,
   "metadata": {},
   "outputs": [],
   "source": [
    "data_retrieval_team_members = [\n",
    "    \"news_and_sentiment_retrieval\", \"market_data_retrieval\", \n",
    "    \"financial_statement_retrieval\",\"insider_tracker_research\",\n",
    "    \"economic_data_retrieval\"\n",
    "    ]\n",
    "data_retrieval_options_for_next = data_retrieval_team_members + [\"FINISH\"]\n",
    "data_retrieval_leader_system_prompt = agent_configs['data_retrieval_leader_agent']['prompt']\n",
    "\n",
    "\n",
    "# ChatPromptTemplate 생성\n",
    "data_retrieval_leader_prompt = ChatPromptTemplate.from_messages(\n",
    "    [\n",
    "        (\"system\", data_retrieval_leader_system_prompt),\n",
    "        MessagesPlaceholder(variable_name=\"messages\"),\n",
    "        (\n",
    "            \"system\",\n",
    "            \"Given the conversation above, who should act next? \"\n",
    "            \"Or should we FINISH? Select one of: {options}. \"\n",
    "            \"Return a JSON with 'next', 'is_vague', and optionally 'response' if vague. \"\n",
    "            \"If not vague and no clarification is needed, leave 'response' empty.\"\n",
    "        ),\n",
    "    ]\n",
    ").partial(options=str(data_retrieval_options_for_next), members=\", \".join(data_retrieval_team_members))\n",
    "\n",
    "class DataTeamRouter(TypedDict):\n",
    "    \"\"\"Worker to route to next. If no workers needed or question is vague, route to FINISH.\"\"\"\n",
    "    next: Literal[*data_retrieval_options_for_next]\n",
    "    is_vague: bool  # 질문이 모호한지 여부\n",
    "    response: Optional[str]\n",
    "\n",
    "def data_retrieval_leader_node(state: AgentState) -> Command[Literal[*data_retrieval_team_members, \"data_cleansing\"]]:\n",
    "    \"\"\"\n",
    "    supervisor node \n",
    "    주어진 State를 기반으로 각 worker의 결과를 종합하고,\n",
    "    다음에 수행할 worker를 결정\n",
    "    모든 작업이 완료되면 data_cleansing node로 이동\n",
    "\n",
    "    Args:\n",
    "        state (AgentState): 현재 메시지 상태를 나타내는 객체\n",
    "\n",
    "    Returns:\n",
    "        Command: 다음에 수행할 worker 또는 data_cleansing node로 이동하기 위한 명령 반환 \n",
    "    \"\"\"\n",
    "\n",
    "    data_retrieval_team_chain = data_retrieval_leader_prompt | llm.with_structured_output(DataTeamRouter)\n",
    "    response= data_retrieval_team_chain.invoke(state)\n",
    "\n",
    "\n",
    "    goto = response[\"next\"]\n",
    "    if response[\"is_vague\"]:\n",
    "        # 모호한 경우 reporter로 이동, response가 있으면 메시지 추가\n",
    "        return Command(\n",
    "            update={'messages': [HumanMessage(content=response[\"response\"], name='data_retrieval_leader')] if response[\"response\"] else None},\n",
    "            goto='reporter'\n",
    "        )\n",
    "    elif goto == \"FINISH\":\n",
    "        goto = \"data_cleansing\"  # 정상 종료 시\n",
    "\n",
    "    return Command(goto=goto)\n"
   ]
  },
  {
   "cell_type": "code",
   "execution_count": 11,
   "metadata": {},
   "outputs": [],
   "source": [
    "data_cleansing_system_prompt = agent_configs['data_cleansing_agent']['prompt']\n",
    "\n",
    "# ChatPromptTemplate 생성\n",
    "data_cleansing_prompt = ChatPromptTemplate.from_messages(\n",
    "    [\n",
    "        (\"system\", data_cleansing_system_prompt),\n",
    "        MessagesPlaceholder(variable_name=\"messages\"),\n",
    "        (\n",
    "            \"system\",\n",
    "            \"Given the conversation above, \"\n",
    "            \"Refine and process this data to align with the user's original question : {query}\"\n",
    "        )\n",
    "    ]\n",
    ")\n",
    "\n",
    "\n",
    "def data_cleansing_node(state: AgentState) -> Command[Literal[\"supervisor\"]]:\n",
    "    \"\"\"\n",
    "    데이터 클렌징 노드. 수집된 데이터를 정제하여 supervisor로 전달\n",
    "\n",
    "    Args:\n",
    "        state (MessagesState): 현재 메시지 상태를 나타내는 객체\n",
    "\n",
    "    Returns:\n",
    "        dict: 분석 결과 메시지를 포함하는 딕셔너리를 반환\n",
    "    \"\"\"\n",
    "\n",
    "    class CleanedData(BaseModel):\n",
    "        relevant_data: str = Field(\n",
    "            ..., description=\"사용자의 질문과 직접 연관이 있고, 중복 및 불필요한 정보가 제거된 정제된 데이터\"\n",
    "        )\n",
    "\n",
    "    query = state['query']\n",
    "    cleaning_chain = data_cleansing_prompt | llm.with_structured_output(CleanedData)\n",
    "    result = cleaning_chain.invoke({\"messages\" : state['messages'], \"query\" : query})\n",
    "\n",
    "    return Command(\n",
    "        update={'messages': [HumanMessage(content=result.relevant_data, name='data_cleansing')]},\n",
    "        goto='supervisor'\n",
    "    )"
   ]
  },
  {
   "cell_type": "code",
   "execution_count": 12,
   "metadata": {},
   "outputs": [],
   "source": [
    "supervisor_members = [\"data_retrieval_leader\", \"general_team_leader\"]\n",
    "supervisor_options_for_next = supervisor_members + [\"FINISH\"]\n",
    "\n",
    "supervisor_system_prompt = agent_configs['supervisor']['prompt']\n",
    "\n",
    "\n",
    "# ChatPromptTemplate 생성\n",
    "supervisor_prompt = ChatPromptTemplate.from_messages(\n",
    "    [\n",
    "        (\"system\", supervisor_system_prompt),\n",
    "        MessagesPlaceholder(variable_name=\"messages\"),\n",
    "        (\n",
    "            \"system\",\n",
    "            \"Given the conversation above, who should act next? \"\n",
    "            \"Or should we FINISH? Select one of: {options}\",\n",
    "        ),\n",
    "    ]\n",
    ").partial(options=str(supervisor_options_for_next), members=\", \".join(supervisor_members))\n",
    "\n",
    "\n",
    "class Router(TypedDict):\n",
    "    next: Literal[*supervisor_options_for_next]\n",
    "    \n",
    "\n",
    "def supervisor_node(state: AgentState) -> Command[Literal[*supervisor_members, \"reporter\"]]:\n",
    "    \"\"\"\n",
    "    supervisor node \n",
    "    주어진 State를 기반으로 각 worker의 결과를 종합하고,\n",
    "    다음에 수행할 worker를 결정\n",
    "    모든 작업이 완료되면 analyst node로 이동\n",
    "\n",
    "    Args:\n",
    "        state (MessagesState): 현재 메시지 상태를 나타내는 객체\n",
    "\n",
    "    Returns:\n",
    "        Command: 다음에 수행할 worker 또는 analyst node로 이동하기 위한 명령 반환 \n",
    "    \"\"\"\n",
    "\n",
    "    supervisor_chain = supervisor_prompt | llm.with_structured_output(Router)\n",
    "    response= supervisor_chain.invoke(state)\n",
    "\n",
    "    goto = response[\"next\"]\n",
    "    if goto == \"FINISH\":\n",
    "        goto = \"reporter\"\n",
    "\n",
    "    return Command(goto=goto)"
   ]
  },
  {
   "cell_type": "code",
   "execution_count": 13,
   "metadata": {},
   "outputs": [],
   "source": [
    "graph_builder = StateGraph(AgentState)\n",
    "\n",
    "graph_builder.add_node(\"supervisor\", supervisor_node)\n",
    "graph_builder.add_node(\"news_and_sentiment_retrieval\", news_and_sentiment_retrieval_node)\n",
    "graph_builder.add_node(\"market_data_retrieval\", market_data_retrieval_node)\n",
    "graph_builder.add_node(\"financial_statement_retrieval\", financial_statement_retrieval_node)\n",
    "graph_builder.add_node(\"insider_tracker_research\", insider_tracker_research_node)\n",
    "graph_builder.add_node(\"data_retrieval_leader\", data_retrieval_leader_node)\n",
    "graph_builder.add_node(\"data_cleansing\", data_cleansing_node)\n",
    "graph_builder.add_node(\"economic_data_retrieval\", economic_data_retrieval_node)\n",
    "graph_builder.add_node(\"reporter\", report_graph)\n",
    "graph_builder.add_node(\"general_team_leader\", general_graph)\n",
    "\n",
    "graph_builder.add_edge(START, \"supervisor\")\n",
    "graph_builder.add_edge(\"reporter\", END)\n",
    "graph_builder.add_edge(\"general_team_leader\", END)\n",
    "\n",
    "graph = graph_builder.compile()\n",
    "\n"
   ]
  },
  {
   "cell_type": "code",
   "execution_count": 14,
   "metadata": {},
   "outputs": [
    {
     "data": {
      "image/png": "[encoded data removed]",
      "text/plain": [
       "<langgraph.graph.state.CompiledStateGraph object at 0x00000203CFDB3290>"
      ]
     },
     "execution_count": 14,
     "metadata": {},
     "output_type": "execute_result"
    }
   ],
   "source": [
    "graph"
   ]
  },
  {
   "cell_type": "code",
   "execution_count": 15,
   "metadata": {},
   "outputs": [
    {
     "name": "stdout",
     "output_type": "stream",
     "text": [
      "================================\u001b[1m Human Message \u001b[0m=================================\n",
      "\n",
      "김치찌개 만드는법\n",
      "================================\u001b[1m Human Message \u001b[0m=================================\n",
      "\n",
      "김치찌개는 한국의 대표적인 찌개로, 다음과 같은 방법으로 만들 수 있습니다.\n",
      "\n",
      "### 재료\n",
      "- 김치 2컵 (숙성된 김치)\n",
      "- 돼지고기 150g (삼겹살 또는 목살)\n",
      "- 두부 1/2모\n",
      "- 양파 1개\n",
      "- 대파 1대\n",
      "- 마늘 2-3쪽\n",
      "- 고춧가루 1-2큰술\n",
      "- 국간장 또는 소금 (간 맞추기용)\n",
      "- 물 3컵\n",
      "\n",
      "### 만드는 법\n",
      "1. **재료 준비**: 김치는 적당한 크기로 자르고, 돼지고기는 한입 크기로 썬다. 양파와 대파도 썰고, 마늘은 다진다. 두부는 큐브 모양으로 자른다.\n",
      "2. **고기 볶기**: 냄비에 돼지고기를 넣고 중불에서 볶아 기름이 나오게 한다.\n",
      "3. **김치 넣기**: 돼지고기가 익으면 김치를 넣고 볶아준다. 김치가 익으면서 국물이 나올 때까지 계속 볶는다.\n",
      "4. **물 붓기**: 물 3컵을 부은 후, 고춧가루와 다진 마늘을 넣고 끓인다.\n",
      "5. **재료 추가**: 끓기 시작하면 양파와 두부를 넣고, 중불로 15-20분 정도 끓인다.\n",
      "6. **마무리**: 대파를 넣고, 국간장 또는 소금으로 간을 맞춘 후, 한 번 더 끓여서 완성한다.\n",
      "\n",
      "### 팁\n",
      "- 김치의 숙성 정도에 따라 맛이 달라질 수 있으니, 개인의 취향에 맞게 조절하세요.\n",
      "- 더 매운 맛을 원하면 고춧가루를 추가하거나 청양고추를 넣어도 좋습니다.\n",
      "\n",
      "금융 외 질문에 대한 답변은 정확도가 떨어질 수 있다는 점을 인지해주세요.\n"
     ]
    }
   ],
   "source": [
    "query =  \"김치찌개 만드는법\"\n",
    "for chunk in graph.stream(\n",
    "    {\"messages\": [(\"user\",query)], \"query\" :query}, stream_mode=\"values\"\n",
    "):\n",
    "    chunk['messages'][-1].pretty_print()"
   ]
  },
  {
   "cell_type": "code",
   "execution_count": 24,
   "metadata": {},
   "outputs": [
    {
     "name": "stdout",
     "output_type": "stream",
     "text": [
      "================================\u001b[1m Human Message \u001b[0m=================================\n",
      "\n",
      "최근 내부자가 가장 많은 지분을 매수한 상장사는 어디야\n",
      "200\n",
      "================================\u001b[1m Human Message \u001b[0m=================================\n",
      "Name: insider_tracker_research\n",
      "\n",
      "가장 최근에 내부자가 가장 많은 지분을 매수한 상장사는 다음과 같습니다:\n",
      "\n",
      "1. **RENN Fund, Inc. (RCG)**\n",
      "   - 내부자: **Murray Stahl** (회장 겸 CEO)\n",
      "   - 매수 날짜: 2025-03-25\n",
      "   - 매수한 주식 수: 1,084주 (여러 거래 포함)\n",
      "   - 평균 가격: $2.61\n",
      "   - 매수 후 소유 주식: 총 276,740주\n",
      "\n",
      "2. **Community West Bancshares (CWBC)**\n",
      "   - 내부자: **Dorothea D. Silva** (이사)\n",
      "   - 매수 날짜: 2025-03-19\n",
      "   - 매수한 주식 수: 56.7443주\n",
      "   - 매수 가격: $18.26\n",
      "   - 매수 후 소유 주식: 총 10,224.7443주\n",
      "\n",
      "이 데이터는 최근 내부자 거래를 기준으로 하며, RCG에서 가장 많은 주식을 매수한 것으로 확인됩니다.\n",
      "================================\u001b[1m Human Message \u001b[0m=================================\n",
      "Name: data_cleansing\n",
      "\n",
      "가장 최근에 내부자가 가장 많은 지분을 매수한 상장사는 **RENN Fund, Inc. (RCG)**입니다. 내부자 **Murray Stahl**이 2025-03-25에 1,084주를 평균 $2.61에 매수했습니다.\n",
      "==================================\u001b[1m Ai Message \u001b[0m==================================\n",
      "\n",
      "가장 최근에 내부자가 가장 많은 지분을 매수한 상장사는 **RENN Fund, Inc. (RCG)**입니다. 내부자 **Murray Stahl**이 2025-03-25에 1,084주를 평균 $2.61에 매수했습니다.\n"
     ]
    }
   ],
   "source": [
    "query =  \"최근 내부자가 가장 많은 지분을 매수한 상장사는 어디야\"\n",
    "for chunk in graph.stream(\n",
    "    {\"messages\": [(\"user\",query)], \"query\" :query}, stream_mode=\"values\"\n",
    "):\n",
    "    chunk['messages'][-1].pretty_print()"
   ]
  },
  {
   "cell_type": "code",
   "execution_count": 26,
   "metadata": {},
   "outputs": [
    {
     "name": "stdout",
     "output_type": "stream",
     "text": [
      "================================\u001b[1m Human Message \u001b[0m=================================\n",
      "\n",
      "하이\n",
      "{'messages': [HumanMessage(content='하이', additional_kwargs={}, response_metadata={}, id='3a1590bc-d1c7-483c-a836-a0d1209a8978')], 'query': '하이'}\n",
      "================================\u001b[1m Human Message \u001b[0m=================================\n",
      "\n",
      "안녕하세요! 무엇을 도와드릴까요? 궁금한 점이 있다면 말씀해 주세요. \n",
      "\n",
      "금융 외 질문에 대한 답변은 정확도가 떨어질 수 있다는 점을 인지해주세요.\n"
     ]
    }
   ],
   "source": [
    "query =  \"하이\"\n",
    "for chunk in graph.stream(\n",
    "    {\"messages\": [(\"human\",query)], \"query\" :query}, stream_mode=\"values\"\n",
    "):\n",
    "    chunk['messages'][-1].pretty_print()"
   ]
  },
  {
   "cell_type": "code",
   "execution_count": 17,
   "metadata": {},
   "outputs": [
    {
     "name": "stdout",
     "output_type": "stream",
     "text": [
      "================================\u001b[1m Human Message \u001b[0m=================================\n",
      "\n",
      "너는 미국주식에 특화되어있냐\n",
      "================================\u001b[1m Human Message \u001b[0m=================================\n",
      "\n",
      "네, finbrain은 미국 주식에 특화되어 있으며, 주가 정보, SEC Filing 데이터, 뉴스 및 경제 지표를 활용해 투자 결정을 지원합니다.\n"
     ]
    }
   ],
   "source": [
    "query =  \"너는 미국주식에 특화되어있냐\"\n",
    "for chunk in graph.stream(\n",
    "    {\"messages\": [(\"user\",query)], \"query\" :query}, stream_mode=\"values\"\n",
    "):\n",
    "    chunk['messages'][-1].pretty_print()"
   ]
  },
  {
   "cell_type": "code",
   "execution_count": 18,
   "metadata": {},
   "outputs": [
    {
     "name": "stdout",
     "output_type": "stream",
     "text": [
      "================================\u001b[1m Human Message \u001b[0m=================================\n",
      "\n",
      "무슨 질문에 대답할수있냐\n",
      "================================\u001b[1m Human Message \u001b[0m=================================\n",
      "\n",
      "저는 미국 주식에 관한 다양한 질문에 답할 수 있습니다. 예를 들어, 특정 주식의 성과, SEC Filing 데이터, 경제 지표, 최근 뉴스 등과 관련된 정보를 제공하며, 투자 결정을 도울 수 있습니다.\n"
     ]
    }
   ],
   "source": [
    "query =  \"무슨 질문에 대답할수있냐\"\n",
    "for chunk in graph.stream(\n",
    "    {\"messages\": [(\"user\",query)], \"query\" :query}, stream_mode=\"values\"\n",
    "):\n",
    "    chunk['messages'][-1].pretty_print()"
   ]
  },
  {
   "cell_type": "code",
   "execution_count": 19,
   "metadata": {},
   "outputs": [
    {
     "name": "stdout",
     "output_type": "stream",
     "text": [
      "================================\u001b[1m Human Message \u001b[0m=================================\n",
      "\n",
      "너는 바보냐\n",
      "{'messages': [HumanMessage(content='너는 바보냐', additional_kwargs={}, response_metadata={}, id='fc239924-39ce-48c0-96f4-9ddd12de8485')], 'query': '너는 바보냐'}\n",
      "================================\u001b[1m Human Message \u001b[0m=================================\n",
      "\n",
      "저는 바보가 아닙니다. 질문이나 도움이 필요한 부분이 있다면 말씀해 주세요. 최선을 다해 도와드리겠습니다. 금융 외 질문에 대한 답변은 정확도가 떨어질 수 있다는 점을 인지해주세요.\n"
     ]
    }
   ],
   "source": [
    "query =  \"너는 바보냐\"\n",
    "for chunk in graph.stream(\n",
    "    {\"messages\": [(\"user\",query)], \"query\" :query}, stream_mode=\"values\"\n",
    "):\n",
    "    chunk['messages'][-1].pretty_print()"
   ]
  },
  {
   "cell_type": "code",
   "execution_count": 16,
   "metadata": {},
   "outputs": [
    {
     "name": "stdout",
     "output_type": "stream",
     "text": [
      "================================\u001b[1m Human Message \u001b[0m=================================\n",
      "\n",
      "최근 한달간 테슬라 내부자 거래가 있었는지 확인해줘\n"
     ]
    },
    {
     "name": "stderr",
     "output_type": "stream",
     "text": [
      "\n",
      "KeyboardInterrupt\n",
      "\n"
     ]
    }
   ],
   "source": [
    "for chunk in graph.stream(\n",
    "    {\"messages\": [(\"user\", \"최근 한달간 테슬라 내부자 거래가 있었는지 확인해줘\")]}, stream_mode=\"values\"\n",
    "):\n",
    "    chunk['messages'][-1].pretty_print()"
   ]
  },
  {
   "cell_type": "code",
   "execution_count": 16,
   "metadata": {},
   "outputs": [
    {
     "name": "stdout",
     "output_type": "stream",
     "text": [
      "================================\u001b[1m Human Message \u001b[0m=================================\n",
      "\n",
      "오늘 테슬라 주가가 얼마냐\n",
      "YF.download() has changed argument auto_adjust default to True\n"
     ]
    },
    {
     "name": "stderr",
     "output_type": "stream",
     "text": [
      "[*********************100%***********************]  1 of 1 completed\n"
     ]
    },
    {
     "name": "stdout",
     "output_type": "stream",
     "text": [
      "================================\u001b[1m Human Message \u001b[0m=================================\n",
      "Name: market_data_retrieval\n",
      "\n",
      "오늘 테슬라(TSLA)의 주가는 다음과 같습니다:\n",
      "\n",
      "- 종가: $275.53\n",
      "- 최고가: $276.10\n",
      "- 최저가: $268.84\n",
      "- 시가: $275.50\n",
      "- 거래량: 18,126,775 주\n",
      "================================\u001b[1m Human Message \u001b[0m=================================\n",
      "Name: data_cleansing\n",
      "\n",
      "오늘 테슬라(TSLA) 주가는 $275.53입니다.\n",
      "==================================\u001b[1m Ai Message \u001b[0m==================================\n",
      "\n",
      "오늘 테슬라(TSLA)의 주가는 $275.53입니다.\n"
     ]
    }
   ],
   "source": [
    "query= \"오늘 테슬라 주가가 얼마냐\"\n",
    "for chunk in graph.stream(\n",
    "    {\"messages\": [(\"user\", query)], \"query\" : query}, stream_mode=\"values\"\n",
    "    ):\n",
    "    chunk['messages'][-1].pretty_print()"
   ]
  },
  {
   "cell_type": "code",
   "execution_count": 20,
   "metadata": {},
   "outputs": [
    {
     "name": "stdout",
     "output_type": "stream",
     "text": [
      "================================\u001b[1m Human Message \u001b[0m=================================\n",
      "\n",
      "최근 테슬라 주가 흐름과 테슬라 주가에 영향을 주고있는 이슈를 찾아봐\n",
      "================================\u001b[1m Human Message \u001b[0m=================================\n",
      "Name: news_and_sentiment_retrieval\n",
      "\n",
      "### Recent Tesla Stock News\n",
      "\n",
      "1. **Elon Musk is creating a PR headache for Tesla**\n",
      "   - **Summary**: Elon Musk's involvement with DOGE and the Trump administration has led to backlash against Tesla.\n",
      "   - **Published**: March 26, 2025\n",
      "   - **URL**: [Read more](https://finance.yahoo.com/video/elon-musk-creating-pr-headache-142707481.html)\n",
      "\n",
      "2. **Car critic explains why he bought a Tesla**\n",
      "   - **Summary**: Despite backlash due to Musk's political involvement, a Wall Street Journal auto columnist shares his positive experience with a used Tesla Model 3.\n",
      "   - **Published**: March 25, 2025\n",
      "   - **URL**: [Read more](https://finance.yahoo.com/video/car-critic-explains-why-bought-213201994.html)\n",
      "\n",
      "3. **Tesla's US dominance at risk amid global competition**\n",
      "   - **Summary**: Tesla faces increasing competition, especially in China and Europe, but analysts believe its US market position remains strong.\n",
      "   - **Published**: March 25, 2025\n",
      "   - **URL**: [Read more](https://finance.yahoo.com/video/teslas-us-dominance-risk-amid-161500547.html)\n",
      "\n",
      "4. **Tumbling Tesla sales in Europe are a concern, but RBC's Narayan still remains bullish**\n",
      "   - **Summary**: Heightened competition and political implications are affecting Tesla's sales in Europe.\n",
      "   - **Published**: March 25, 2025\n",
      "   - **URL**: [Read more](https://finance.yahoo.com/news/tumbling-tesla-sales-in-europe-are-a-concern-but-rbcs-narayan-still-remains-bullish-153002551.html)\n",
      "\n",
      "5. **Tesla Re-Launches in Saudi Arabia with EVs, Cybercab, and AI Innovations**\n",
      "   - **Summary**: Tesla is set to launch its services in Saudi Arabia, ending a long-standing standoff.\n",
      "   - **Published**: March 26, 2025\n",
      "   - **URL**: [Read more](https://finance.yahoo.com/news/tesla-launches-saudi-arabia-evs-150408923.html)\n",
      "\n",
      "6. **Magnificent Seven Stocks: Nvidia, Tesla Tumble**\n",
      "   - **Summary**: Despite strong gains in 2024, Tesla, along with other major stocks, has seen a decline in early 2025.\n",
      "   - **Published**: March 26, 2025\n",
      "   - **URL**: [Read more](https://www.investors.com/research/magnificent-seven-stocks-march-2025/?src=A00220&yptr=yahoo)\n",
      "\n",
      "7. **Tesla Climbs 25% in Five Days as \"Big-Picture Bulls\" Ignore Short-Term Struggles**\n",
      "   - **Summary**: Tesla shares have surged despite weak sales figures in Europe.\n",
      "   - **Published**: March 26, 2025\n",
      "   - **URL**: [Read more](https://finance.yahoo.com/news/tesla-climbs-25-five-days-143856063.html)\n",
      "\n",
      "8. **Stocks to Watch Wednesday: Dollar Tree, GameStop, Tesla**\n",
      "   - **Summary**: Tesla is among stocks being monitored closely amid market activities.\n",
      "   - **Published**: March 26, 2025\n",
      "   - **URL**: [Read more](https://www.wsj.com/livecoverage/stock-market-today-dow-nasdaq-sp500-03-26-2025/card/stocks-to-watch-wednesday-dollar-tree-gamestop-tesla-n31C8wlCvs6XzoWSB0Jv?siteid=yhoof2&yptr=yahoo)\n",
      "\n",
      "9. **Tesla Stock Is Falling. Why Its Five-Day Winning Streak May Be Ending.**\n",
      "   - **Summary**: Upcoming deliveries report and potential new tariffs may impact Tesla's stock.\n",
      "   - **Published**: March 26, 2025\n",
      "   - **URL**: [Read more](https://www.barrons.com/articles/tesla-stock-price-trump-tariffs-deliveries-b3879d4f?siteid=yhoof2&yptr=yahoo)\n",
      "\n",
      "10. **Why Cathie Wood Is Still Super Bullish on TSLA’s Long-Term Outlook**\n",
      "    - **Summary**: Analyst Cathie Wood remains optimistic about Tesla's future performance.\n",
      "    - **Published**: March 26, 2025\n",
      "    - **URL**: [Read more](https://finance.yahoo.com/news/why-cathie-wood-still-super-140727006.html)\n",
      "\n",
      "### Additional Context\n",
      "As of March 26, 2025, Tesla's stock has experienced a rally, closing higher for five consecutive days, regaining a portion of its previous losses. There are concerns about sales declines in Europe and increasing competition in international markets, while Tesla is also making moves to expand its presence in Saudi Arabia. Influences from Elon Musk's personal controversies and upcoming corporate announcements may further impact stock performance in the near future.\n",
      "================================\u001b[1m Human Message \u001b[0m=================================\n",
      "Name: data_cleansing\n",
      "\n",
      "As of March 26, 2025, Tesla's stock has recently rallied, closing higher for five consecutive days, despite a backdrop of weak sales figures in Europe and increasing global competition, particularly from markets in China and Europe. Recent key issues influencing Tesla's stock include:\n",
      "\n",
      "1. **Elon Musk's Controversies**: Musk's political involvement has caused backlash which may affect public perception of Tesla.\n",
      "2. **Sales Concerns in Europe**: There is a notable decline in Tesla's sales in Europe due to heightened competition, although analysts remain bullish on its US market position.\n",
      "3. **International Expansion**: Tesla is relaunching its services in Saudi Arabia, which could present new growth opportunities.\n",
      "4. **Market Dynamics**: The stock market's general fluctuation has also impacted Tesla’s stock, with indications that upcoming delivery reports and potential new tariffs may affect its stock performance. \n",
      "\n",
      "Additional analysts, like Cathie Wood, continue to maintain an optimistic view of Tesla's long-term outlook.\n",
      "==================================\u001b[1m Ai Message \u001b[0m==================================\n",
      "\n",
      "최근 테슬라 주가는 2025년 3월 26일 기준으로 다섯 일 연속 상승하며 일부 이전 손실을 회복했습니다. 그러나 유럽 판매 감소와 세계적인 경쟁 증가가 우려되고 있습니다. 테슬라 주가에 영향을 주고 있는 주요 이슈는 다음과 같습니다:\n",
      "\n",
      "1. **엘론 머스크의 논란**: 머스크의 정치적 참여가 반발을 일으키며 테슬라의 공적 이미지에 영향을 미칠 수 있습니다.\n",
      "2. **유럽 판매 우려**: 경쟁 심화로 인해 유럽에서 테슬라의 판매가 감소하고 있지만, 분석가들은 미국 시장에서의 위치는 여전히 긍정적이라고 평가하고 있습니다.\n",
      "3. **국제 확장**: 테슬라는 사우디 아라비아에서 서비스를 재개할 예정이며, 이는 새로운 성장 기회를 제공할 수 있습니다.\n",
      "4. **시장 동향**: 주식 시장의 일반적인 변동성도 테슬라 주가에 영향을 미치고 있으며, 다가오는 배송 보고서와 새로운 관세의 가능성이 주가에 미칠 수 있습니다.\n",
      "\n",
      "카시 우드와 같은 일부 분석가는 테슬라의 장기 전망에 여전히 낙관적인 시각을 유지하고 있습니다.\n"
     ]
    }
   ],
   "source": [
    "query = \"최근 테슬라 주가 흐름과 테슬라 주가에 영향을 주고있는 이슈를 찾아봐\"\n",
    "for chunk in graph.stream(\n",
    "    {\"messages\": [(\"user\", query)], \"query\" : query}, stream_mode=\"values\"\n",
    "    ):\n",
    "    chunk['messages'][-1].pretty_print()"
   ]
  },
  {
   "cell_type": "code",
   "execution_count": null,
   "metadata": {},
   "outputs": [],
   "source": []
  }
 ],
 "metadata": {
  "kernelspec": {
   "display_name": "VENV",
   "language": "python",
   "name": "python3"
  },
  "language_info": {
   "codemirror_mode": {
    "name": "ipython",
    "version": 3
   },
   "file_extension": ".py",
   "mimetype": "text/x-python",
   "name": "python",
   "nbconvert_exporter": "python",
   "pygments_lexer": "ipython3",
   "version": "3.11.8"
  }
 },
 "nbformat": 4,
 "nbformat_minor": 2
}
