{
 "cells": [
  {
   "cell_type": "code",
   "execution_count": 1,
   "metadata": {},
   "outputs": [],
   "source": [
    "# 표준 라이브러리\n",
    "import os\n",
    "import requests\n",
    "from IPython.display import Image, display\n",
    "# 서드파티 라이브러리\n",
    "import streamlit as st\n",
    "import openai\n",
    "from dotenv import load_dotenv\n",
    "import json\n",
    "from typing import List, Annotated, Literal, Dict, Callable, TypeVar, Tuple, Type, Generic, Optional, Union, Any\n",
    "from typing_extensions import TypedDict  # TypedDict를 typing_extensions에서 import\n",
    "\n",
    "\n",
    "\n",
    "# LangChain 및 LangGraph 관련 라이브러리\n",
    "from langchain_openai import OpenAI\n",
    "from langchain_groq import ChatGroq\n",
    "from langchain.prompts import PromptTemplate\n",
    "from langchain.prompts.chat import ChatPromptTemplate, MessagesPlaceholder\n",
    "from langchain.chains import LLMChain\n",
    "from langchain_core.output_parsers import StrOutputParser\n",
    "from langchain_core.messages import HumanMessage, AIMessage\n",
    "from langchain_core.language_models.chat_models import BaseChatModel\n",
    "from langchain.agents import AgentExecutor\n",
    "from langchain_community.agent_toolkits.polygon.toolkit import PolygonToolkit\n",
    "from langchain_community.utilities.polygon import PolygonAPIWrapper\n",
    "from langchain.tools import tool\n",
    "\n",
    "from langgraph.types import Command\n",
    "from langgraph.graph.message import add_messages\n",
    "from langgraph.graph import StateGraph, MessagesState, START, END\n",
    "from langgraph.prebuilt import create_react_agent\n",
    "from langchain_community.tools.tavily_search import TavilySearchResults\n",
    "from langsmith import utils \n",
    "from agents.agent_library import agent_configs, AgentConfig\n",
    "from datetime import datetime, timedelta\n",
    "from dateutil.parser import parse\n",
    "import yfinance as yf\n",
    "import pandas as pd\n",
    "from langchain_openai import ChatOpenAI\n",
    "from langchain_core.prompts import PromptTemplate\n",
    "\n",
    "from typing_extensions import TypedDict\n",
    "\n",
    "from langgraph.graph import MessagesState, END\n",
    "from langgraph.types import Command\n",
    "from sec_tool.sec_insider_trade_field_definitions import SEC_Insider_Trade_NecessaryFields\n",
    "from sec_tool.sec_financial_fiedls_definitions import FinancialNecessaryFields\n",
    "from sec_tool.insider_trade_tool import SECInsiderTradeAPI\n",
    "from sec_tool.market_data_tool import MarketDataTools, FinancialDataTools\n"
   ]
  },
  {
   "cell_type": "code",
   "execution_count": 2,
   "metadata": {},
   "outputs": [
    {
     "name": "stdout",
     "output_type": "stream",
     "text": [
      "True\n"
     ]
    }
   ],
   "source": [
    "# 환경 변수 로드\n",
    "load_dotenv()\n",
    "print(utils.tracing_is_enabled())\n",
    "\n",
    "MODEL_NAME = \"gemma2-9b-it\""
   ]
  },
  {
   "cell_type": "code",
   "execution_count": 3,
   "metadata": {},
   "outputs": [],
   "source": [
    "class AgentState(MessagesState):\n",
    "    query: str\n",
    "    context: list\n",
    "    answer: str"
   ]
  },
  {
   "cell_type": "code",
   "execution_count": 4,
   "metadata": {},
   "outputs": [],
   "source": [
    "SEC_API_KEY = os.getenv(\"SEC_API_KEY\")\n",
    "\n",
    "small_llm = ChatGroq(\n",
    "    model=MODEL_NAME,\n",
    "    temperature=0,\n",
    "    max_tokens=None,\n",
    "    timeout=None,\n",
    "    max_retries=2,\n",
    ")\n",
    "\n",
    "llm = ChatOpenAI(model=\"gpt-4o-mini-2024-07-18\")"
   ]
  },
  {
   "cell_type": "code",
   "execution_count": 7,
   "metadata": {},
   "outputs": [],
   "source": []
  },
  {
   "cell_type": "code",
   "execution_count": 5,
   "metadata": {},
   "outputs": [],
   "source": [
    "\n",
    "# 시장 조사 에이전트\n",
    "market_research_agent = create_react_agent(\n",
    "    llm, \n",
    "    tools=MarketDataTools.get_polygon_tools(), \n",
    "    state_modifier='You are a market researcher. Provide fact only not opinions'\n",
    ")\n",
    "\n",
    "def market_research_node(state: MessagesState) -> Command[Literal[\"supervisor\"]]:\n",
    "    \"\"\"\n",
    "    시장 조사 node. 주어진 state를 기반으로 시장 조사 에이전트를 호출하고,\n",
    "    결과를 supervisor node로 전달\n",
    "\n",
    "    Args:\n",
    "        state (MessagesState): 현재 메시지 상태를 나타내는 객체\n",
    "\n",
    "    Returns:\n",
    "        Command: supervisor node로 이동하기 위한 명령을 반환\n",
    "    \"\"\"\n",
    "    # 시장 조사 에이전트를 호출하여 결과를 얻습니다.\n",
    "    result = market_research_agent.invoke(state)\n",
    "    \n",
    "    # 결과 메시지를 업데이트하고 supervisor node로 이동합니다.\n",
    "    return Command(\n",
    "        update={'messages': [HumanMessage(content=result['messages'][-1].content, name='market_research')]},\n",
    "        goto='supervisor'\n",
    "    )\n",
    "\n"
   ]
  },
  {
   "cell_type": "code",
   "execution_count": 6,
   "metadata": {},
   "outputs": [],
   "source": [
    "stock_research_tools = [MarketDataTools.get_stock_price]\n",
    "stock_research_agent = create_react_agent(\n",
    "    llm, tools=stock_research_tools, state_modifier='You are a stock researcher. Provide facts only not opinions'\n",
    ")\n",
    "\n",
    "\n",
    "def stock_research_node(state: MessagesState) -> Command[Literal[\"supervisor\"]]:\n",
    "    \"\"\"\n",
    "    주식 조사 node\n",
    "    Args:\n",
    "        state (MessagesState): 현재 메시지 상태를 나타내는 객체\n",
    "\n",
    "    Returns:\n",
    "        Command: supervisor node로 이동하기 위한 명령을 반환\n",
    "    \"\"\"\n",
    "    result = stock_research_agent.invoke(state)\n",
    "\n",
    "    return Command(\n",
    "        update={'messages': [HumanMessage(content=result['messages'][-1].content, name='stock_research')]},\n",
    "        goto='supervisor'\n",
    "    )\n",
    "\n",
    "\n"
   ]
  },
  {
   "cell_type": "code",
   "execution_count": 7,
   "metadata": {},
   "outputs": [],
   "source": [
    "# 도구 리스트\n",
    "company_research_tools = [FinancialDataTools.get_income_statement, FinancialDataTools.get_financial_event_filings]\n",
    "\n",
    "# 단일 에이전트 정의\n",
    "company_research_agent = create_react_agent(\n",
    "    llm,\n",
    "    tools=company_research_tools,\n",
    "    state_modifier='You are a company researcher. Provide facts only, no opinions. Use get_income_statement for income statement data and get_financial_event_filings for key financial and event-related SEC filings.'\n",
    ")\n",
    "\n",
    "def financial_reports_and_events_node(state: MessagesState) -> Command[Literal[\"supervisor\"]]:\n",
    "    \"\"\"\n",
    "    회사 재무 보고서와 주요 사건 관련 자료를 조사하는 노드.\n",
    "    손익계산서 데이터와 재무 및 주요 사건 관련 SEC 보고서를 처리합니다.\n",
    "\n",
    "    Args:\n",
    "        state (MessagesState): 현재 메시지 상태를 나타내는 객체\n",
    "\n",
    "    Returns:\n",
    "        Command: supervisor 노드로 이동하기 위한 명령을 반환\n",
    "    \"\"\"\n",
    "    result = company_research_agent.invoke(state)\n",
    "    return Command(\n",
    "        update={'messages': [HumanMessage(content=result['messages'][-1].content, name='financial_reports_and_events')]},\n",
    "        goto='supervisor'\n",
    "    )\n"
   ]
  },
  {
   "cell_type": "code",
   "execution_count": 8,
   "metadata": {},
   "outputs": [],
   "source": [
    "analyst_prompt = PromptTemplate.from_template(\n",
    "    \"\"\"You are a stock market analyst. Given the following information, \n",
    "Please decide wheter to buy, sell, or hold the stock.\n",
    "\n",
    "Information:\n",
    "{messages}\"\"\"\n",
    ")\n",
    "\n",
    "analyst_chain = analyst_prompt | llm\n",
    "\n",
    "def analyst_node(state: MessagesState):\n",
    "    \"\"\"\n",
    "    분석가 node\n",
    "\n",
    "    Args:\n",
    "        state (MessagesState): 현재 메시지 상태를 나타내는 객체\n",
    "\n",
    "    Returns:\n",
    "        dict: 분석 결과 메시지를 포함하는 딕셔너리를 반환\n",
    "    \"\"\"\n",
    "    result = analyst_chain.invoke({'messages': state['messages'][1:]})\n",
    "\n",
    "    return {'messages': [result]}"
   ]
  },
  {
   "cell_type": "code",
   "execution_count": 9,
   "metadata": {},
   "outputs": [],
   "source": [
    "\n",
    "current_time = datetime.now().strftime(\"%Y-%m-%d %H:%M:%S\")\n",
    "\n",
    "insider_tracker_system_prompt = f\"\"\"You are an insider trading analyst.\n",
    "You must provide factual data only, without any personal opinions or speculations.\n",
    "The current time is {current_time}. Use this time when invoking tools that require the current time as an argument.\"\"\"\n",
    "\n",
    "\n",
    "insider_tracker_research_tools = [SECInsiderTradeAPI.fetch_filings]\n",
    "insider_tracker_research_agent = create_react_agent(\n",
    "    llm, tools=insider_tracker_research_tools, prompt=insider_tracker_system_prompt\n",
    ")\n",
    "\n",
    "\n",
    "\n",
    "def insider_tracker_research_node(state: MessagesState) -> Command[Literal[\"supervisor\"]]:\n",
    "    \"\"\"\n",
    "    내부자 거래 내역 조사 node \n",
    "    Args:\n",
    "        state (MessagesState): 현재 메시지 상태를 나타내는 객체\n",
    "\n",
    "    Returns:\n",
    "        Command: supervisor node로 이동하기 위한 명령을 반환\n",
    "    \"\"\"\n",
    "    result = insider_tracker_research_agent.invoke(state)\n",
    "\n",
    "    return Command(\n",
    "        update={'messages': [HumanMessage(content=result['messages'][-1].content, name='insider_tracker_research')]},\n",
    "        goto='supervisor'\n",
    "    )\n",
    "\n"
   ]
  },
  {
   "cell_type": "code",
   "execution_count": 10,
   "metadata": {},
   "outputs": [
    {
     "data": {
      "image/png": "[encoded data removed]",
      "text/plain": [
       "<langgraph.graph.state.CompiledStateGraph object at 0x000001EB9634AA50>"
      ]
     },
     "execution_count": 10,
     "metadata": {},
     "output_type": "execute_result"
    }
   ],
   "source": [
    "insider_tracker_research_agent"
   ]
  },
  {
   "cell_type": "code",
   "execution_count": 11,
   "metadata": {},
   "outputs": [],
   "source": [
    "members = [\"market_research\", \"stock_research\", \"financial_reports_and_events\",\"insider_tracker_research\"]\n",
    "options_for_next = members + [\"FINISH\"]\n",
    "\n",
    "\n",
    "# system_prompt = (\n",
    "#     \"You are a supervisor tasked with managing a conversation between the following workers: \"\n",
    "#     f\"{members}. Given the following user request, respond with the worker to act next. \"\n",
    "#     \"Each worker will perform a task and respond with their results and status. \"\n",
    "#     \"When finished, respond with FINISH.\"\n",
    "# )\n",
    "system_prompt = (\n",
    "    \"You are a supervisor tasked with managing a conversation between the\"\n",
    "    \" following workers:  {members}. Given the following user request,\"\n",
    "    \" respond with the worker to act next. Each worker will perform a\"\n",
    "    \" task and respond with their results and status. When finished,\"\n",
    "    \" respond with FINISH.\"\n",
    ")\n",
    "\n",
    "# ChatPromptTemplate 생성\n",
    "supervisor_prompt = ChatPromptTemplate.from_messages(\n",
    "    [\n",
    "        (\"system\", system_prompt),\n",
    "        MessagesPlaceholder(variable_name=\"messages\"),\n",
    "        (\n",
    "            \"system\",\n",
    "            \"Given the conversation above, who should act next? \"\n",
    "            \"Or should we FINISH? Select one of: {options}\",\n",
    "        ),\n",
    "    ]\n",
    ").partial(options=str(options_for_next), members=\", \".join(members))\n",
    "\n",
    "\n",
    "class Router(TypedDict):\n",
    "    \"\"\"Worker to route to next. If no workers needed, route to FINISH.\"\"\"\n",
    "\n",
    "    next: Literal[*options_for_next]\n",
    "\n",
    "\n",
    "\n",
    "def supervisor_node(state: MessagesState) -> Command[Literal[*members, \"analyst\"]]:\n",
    "    \"\"\"\n",
    "    supervisor node \n",
    "    주어진 State를 기반으로 각 worker의 결과를 종합하고,\n",
    "    다음에 수행할 worker를 결정\n",
    "    모든 작업이 완료되면 analyst node로 이동\n",
    "\n",
    "    Args:\n",
    "        state (MessagesState): 현재 메시지 상태를 나타내는 객체\n",
    "\n",
    "    Returns:\n",
    "        Command: 다음에 수행할 worker 또는 analyst node로 이동하기 위한 명령 반환 \n",
    "    \"\"\"\n",
    "\n",
    "    supervisor_chain = supervisor_prompt | llm.with_structured_output(Router)\n",
    "    response= supervisor_chain.invoke(state)\n",
    "\n",
    "    goto = response[\"next\"]\n",
    "    if goto == \"FINISH\":\n",
    "        goto = \"analyst\"\n",
    "\n",
    "    return Command(goto=goto)"
   ]
  },
  {
   "cell_type": "code",
   "execution_count": 12,
   "metadata": {},
   "outputs": [],
   "source": [
    "graph_builder = StateGraph(MessagesState)\n",
    "\n",
    "graph_builder.add_node(\"supervisor\", supervisor_node)\n",
    "graph_builder.add_node(\"market_research\", market_research_node)\n",
    "graph_builder.add_node(\"stock_research\", stock_research_node)\n",
    "graph_builder.add_node(\"financial_reports_and_events\", financial_reports_and_events_node)\n",
    "graph_builder.add_node(\"insider_tracker_research\", insider_tracker_research_node)\n",
    "graph_builder.add_node(\"analyst\", analyst_node)\n",
    "\n",
    "graph_builder.add_edge(START, \"supervisor\")\n",
    "graph_builder.add_edge(\"analyst\", END)\n",
    "graph = graph_builder.compile()\n",
    "\n"
   ]
  },
  {
   "cell_type": "code",
   "execution_count": 13,
   "metadata": {},
   "outputs": [
    {
     "data": {
      "image/png": "[encoded data removed]",
      "text/plain": [
       "<langgraph.graph.state.CompiledStateGraph object at 0x000001EB96336590>"
      ]
     },
     "execution_count": 13,
     "metadata": {},
     "output_type": "execute_result"
    }
   ],
   "source": [
    "graph"
   ]
  },
  {
   "cell_type": "code",
   "execution_count": 14,
   "metadata": {},
   "outputs": [
    {
     "name": "stdout",
     "output_type": "stream",
     "text": [
      "================================\u001b[1m Human Message \u001b[0m=================================\n",
      "\n",
      "최근 한달간 테슬라 내부자 거래가 있었는지 확인해줘\n",
      "200\n",
      "================================\u001b[1m Human Message \u001b[0m=================================\n",
      "Name: insider_tracker_research\n",
      "\n",
      "최근 한 달간(2025년 2월 18일부터 2025년 3월 18일까지) 테슬라(TSLA) 내부자 거래 내역은 다음과 같습니다:\n",
      "\n",
      "1. **James R. Murdoch (이사)**\n",
      "   - **거래 일자:** 2025-03-10\n",
      "     - **매수:** 180,000주, 주당 가격 $23.85\n",
      "     - **매수:** 351,787주, 주당 가격 $24.73\n",
      "     - **매도:** 54,776주, 주당 가격 범위 $240.650 - $241.050(가중 평균 가격 $240.788)\n",
      "     - **팔로온 후 소유주식:** 477,011주\n",
      "   - **파생상품 거래:**\n",
      "     - **비죄 같은 옵션:** 180,000주, 행사가격 $23.85 (만료일: 2025-06-14)\n",
      "     - **비죄 같은 옵션:** 351,787주, 행사가격 $24.73 (만료일: 2025-06-18)\n",
      "\n",
      "2. **Vaibhav Taneja (CFO)**\n",
      "   - **거래 일자:** 2025-03-05\n",
      "     - **매수:** 6,538주 (가격 미제공)\n",
      "     - **매도:** 2,672.25주, 주당 가격 $268.729\n",
      "   - **파생상품 거래:**\n",
      "     - **제한 주식 단위:** 6,538주\n",
      "\n",
      "3. **Vaibhav Taneja (CFO)**\n",
      "   - **거래 일자:** 2025-03-03\n",
      "     - **매수:** 6,000주, 주당 가격 $18.22\n",
      "     - **매도:** 다양한 주식의 판매 (총 6,000주 이상 거래)\n",
      "   - **パ라데미 상품 거래:**\n",
      "     - **비죄 같은 옵션:** 6,000주, 행사가격 $18.22 (만료일: 2029-04-19)\n",
      "\n",
      "4. **Robyn M. Denholm (이사)**\n",
      "   - **거래 일자:** 2025-03-03\n",
      "     - **매수:** 112,390주, 주당 가격 $24.73\n",
      "     - **매도:** 다양한 주식의 판매 (총 112,390주 이상 거래)\n",
      "\n",
      "이 데이터는 SEC에 제출된 공식 보고서에 기반합니다.\n",
      "==================================\u001b[1m Ai Message \u001b[0m==================================\n",
      "\n",
      "Based on the insider trading activity for Tesla (TSLA) from February 18, 2025, to March 18, 2025, there are some key insights to consider:\n",
      "\n",
      "### Summary of Insider Transactions:\n",
      "1. **James R. Murdoch (Director)**:\n",
      "   - Purchased a significant amount of shares (180,000 shares at $23.85 and 351,787 shares at $24.73).\n",
      "   - Sold a portion of shares (54,776 shares at prices around $240.65 to $241.05).\n",
      "   - Retains a large ownership position (477,011 shares).\n",
      "   - Options purchased at significantly lower prices ($23.85 and $24.73), which indicates a bullish outlook.\n",
      "\n",
      "2. **Vaibhav Taneja (CFO)**:\n",
      "   - Multiple buy and sell transactions.\n",
      "   - Buying shares at $18.22 and selling some at $268.729 shows varied engagements but also participation in the market.\n",
      "\n",
      "3. **Robyn M. Denholm (Director)**:\n",
      "   - Purchased 112,390 shares at $24.73 and sold a high volume of various shares, which again indicates active trading and possibly confidence in the stock.\n",
      "\n",
      "### Analysis:\n",
      "- **High Volume Purchases**: Both directors have made substantial purchases at relatively low prices compared to their previous sales, indicating they believe in the long-term growth potential of Tesla's stock.\n",
      "- **Options Trading**: The buying of options at lower prices suggests that insiders are positioned for upside movement in the stock, raising expectations about future stock price increases.\n",
      "- **Recent Selling Pressure**: The multiple sales by insiders could indicate profit-taking, but the scale of their purchases in comparison is more telling of positive sentiment.\n",
      "\n",
      "### Conclusion:\n",
      "Given the combination of significant insider purchases, options activity with bullish implications, and the context of strong sales while maintaining high ownership, the overall signal is positive.\n",
      "\n",
      "### Recommendation: **Buy**\n",
      "The insider buying activity, particularly at significantly lower prices, suggests confidence in Tesla's future performance, making it a potentially strong buy at this time.\n"
     ]
    }
   ],
   "source": [
    "for chunk in graph.stream(\n",
    "    {\"messages\": [(\"user\", \"최근 한달간 테슬라 내부자 거래가 있었는지 확인해줘\")]}, stream_mode=\"values\"\n",
    "):\n",
    "    chunk['messages'][-1].pretty_print()"
   ]
  },
  {
   "cell_type": "code",
   "execution_count": 13,
   "metadata": {},
   "outputs": [
    {
     "name": "stdout",
     "output_type": "stream",
     "text": [
      "================================\u001b[1m Human Message \u001b[0m=================================\n",
      "\n",
      "24년 1월에 테슬라를 매도한 내부자가 있나?\n",
      "200\n",
      "================================\u001b[1m Human Message \u001b[0m=================================\n",
      "Name: insider_tracker_research\n",
      "\n",
      "2024년 1월에 테슬라(TSLA)를 매도한 내부자는 없었습니다. SEC 제출 기록에 따르면 해당 기간 동안 TSLA에 대한 내부자 거래가 없습니다.\n",
      "==================================\u001b[1m Ai Message \u001b[0m==================================\n",
      "\n",
      "Based on the provided information that there were no insider sales of Tesla (TSLA) in January 2024 and that SEC filings indicate no insider trading during that period, it suggests that insiders are not selling their shares. This can be interpreted as a positive signal, indicating that those with inside knowledge of the company’s operations and future prospects are confident enough to hold onto their shares, rather than cashing out.\n",
      "\n",
      "Given this information, the recommendation would be to **hold** the stock for now. Holding might be the appropriate strategy since there are currently no negative signals from insiders while also considering other market conditions and personal investment goals. If you see additional positive indicators or if the stock price becomes attractive, reassessing the buy situation may be fruitful.\n"
     ]
    }
   ],
   "source": [
    "for chunk in graph.stream(\n",
    "    {\"messages\": [(\"user\", \"24년 1월에 테슬라를 매도한 내부자가 있나?\")]}, stream_mode=\"values\"\n",
    "):\n",
    "    chunk['messages'][-1].pretty_print()"
   ]
  },
  {
   "cell_type": "code",
   "execution_count": 14,
   "metadata": {},
   "outputs": [
    {
     "name": "stdout",
     "output_type": "stream",
     "text": [
      "================================\u001b[1m Human Message \u001b[0m=================================\n",
      "\n",
      "오늘 테슬라 주가가 얼마냐\n",
      "YF.download() has changed argument auto_adjust default to True\n"
     ]
    },
    {
     "name": "stderr",
     "output_type": "stream",
     "text": [
      "[*********************100%***********************]  1 of 1 completed\n"
     ]
    },
    {
     "name": "stdout",
     "output_type": "stream",
     "text": [
      "================================\u001b[1m Human Message \u001b[0m=================================\n",
      "Name: stock_research\n",
      "\n",
      "오늘 테슬라(TSLA)의 주가는 다음과 같습니다:\n",
      "\n",
      "- 종가: $238.01\n",
      "- 최고가: $245.40\n",
      "- 최저가: $232.80\n",
      "- 시가: $245.06\n",
      "- 거래량: 111,379,700 주\n",
      "==================================\u001b[1m Ai Message \u001b[0m==================================\n",
      "\n",
      "Based on the information provided about Tesla's (TSLA) stock for today:\n",
      "\n",
      "- **Closing Price**: $238.01\n",
      "- **Day's High**: $245.40\n",
      "- **Day's Low**: $232.80\n",
      "- **Opening Price**: $245.06\n",
      "- **Trading Volume**: 111,379,700 shares\n",
      "\n",
      "### Analysis:\n",
      "\n",
      "1. **Price Movement**: The stock opened at $245.06 and closed at $238.01, indicating a price decline throughout the day. The drop from the opening price to the closing price suggests weakness in demand.\n",
      "\n",
      "2. **Range of Trading**: The stock's high for the day was $245.40 and the low was $232.80. This range shows that there was some volatility, but ultimately, the stock closed significantly lower than it opened.\n",
      "\n",
      "3. **Volume**: The trading volume is quite high at 111,379,700 shares. High volume in a downward movement could suggest that many investors are selling out of the stock.\n",
      "\n",
      "### Conclusion:\n",
      "\n",
      "Given the decline in price from the opening to the closing, the weakness in demand reflected in the day's trading range, and the high volume of selling, it might be prudent to **sell** the stock if you currently hold it. If you are considering entering a position, it might be wise to **hold** off until there is further indication of a reversal or stabilization at lower price levels. \n",
      "\n",
      "**Recommendation**: Sell (if currently holding) and wait for better entry opportunities.\n"
     ]
    }
   ],
   "source": [
    "for chunk in graph.stream(\n",
    "    {\"messages\": [(\"user\", \"오늘 테슬라 주가가 얼마냐\")]}, stream_mode=\"values\"\n",
    "):\n",
    "    chunk['messages'][-1].pretty_print()"
   ]
  },
  {
   "cell_type": "code",
   "execution_count": 15,
   "metadata": {},
   "outputs": [
    {
     "name": "stdout",
     "output_type": "stream",
     "text": [
      "================================\u001b[1m Human Message \u001b[0m=================================\n",
      "\n",
      "최근 한달간 테슬라 평균 종가 가격은 얼마냐?\n"
     ]
    },
    {
     "name": "stderr",
     "output_type": "stream",
     "text": [
      "[*********************100%***********************]  1 of 1 completed\n"
     ]
    },
    {
     "name": "stdout",
     "output_type": "stream",
     "text": [
      "================================\u001b[1m Human Message \u001b[0m=================================\n",
      "Name: stock_research\n",
      "\n",
      "최근 한 달간 테슬라(TSLA)의 종가 데이터는 다음과 같습니다:\n",
      "\n",
      "- 2025-02-18: 354.11\n",
      "- 2025-02-19: 360.56\n",
      "- 2025-02-20: 354.40\n",
      "- 2025-02-21: 337.80\n",
      "- 2025-02-24: 330.53\n",
      "- 2025-02-25: 302.80\n",
      "- 2025-02-26: 290.80\n",
      "- 2025-02-27: 281.95\n",
      "- 2025-02-28: 292.98\n",
      "- 2025-03-03: 284.65\n",
      "- 2025-03-04: 272.04\n",
      "- 2025-03-05: 279.10\n",
      "- 2025-03-06: 263.45\n",
      "- 2025-03-07: 262.67\n",
      "- 2025-03-10: 222.15\n",
      "- 2025-03-11: 230.58\n",
      "- 2025-03-12: 248.09\n",
      "- 2025-03-13: 240.68\n",
      "- 2025-03-14: 249.98\n",
      "- 2025-03-17: 238.01\n",
      "\n",
      "이 데이터를 바탕으로, 지난 한 달간의 평균 종가는 약 270.34입니다.\n",
      "==================================\u001b[1m Ai Message \u001b[0m==================================\n",
      "\n",
      "Based on the provided data for Tesla (TSLA) over the past month, we observe a downward trend in the stock price. Here are some key points from the data:\n",
      "\n",
      "1. **Price Decline**: The stock has decreased significantly from a high of around $360.56 on February 19 to a low of $222.15 on March 10, indicating a consistent downward trajectory over the month.\n",
      "\n",
      "2. **Recent Performance**: The most recent closing prices are around $240, which is substantially lower than earlier prices in the month.\n",
      "\n",
      "3. **Average Price**: The average closing price over the last month is approximately $270.34, but this average is dragged down by recent low prices, suggesting overall weakness in performance.\n",
      "\n",
      "Given these observations, the trend indicates that the stock is not performing well, and there are no immediate signs of recovery based on the one-month outlook.\n",
      "\n",
      "### Recommendation:\n",
      "**Sell** the stock or **hold** if you're already invested, waiting for potential recovery signals before making any further purchasing decisions. If you believe in the long-term potential of the company and can tolerate volatility, holding could be a viable option until more favorable conditions arise. However, based on the current downturn, selling or reducing exposure may be prudent for more risk-averse investors.\n"
     ]
    }
   ],
   "source": [
    "for chunk in graph.stream(\n",
    "    {\"messages\": [(\"user\", \"최근 한달간 테슬라 평균 종가 가격은 얼마냐?\")]}, stream_mode=\"values\"\n",
    "):\n",
    "    chunk['messages'][-1].pretty_print()"
   ]
  },
  {
   "cell_type": "code",
   "execution_count": null,
   "metadata": {},
   "outputs": [],
   "source": []
  }
 ],
 "metadata": {
  "kernelspec": {
   "display_name": "VENV",
   "language": "python",
   "name": "python3"
  },
  "language_info": {
   "codemirror_mode": {
    "name": "ipython",
    "version": 3
   },
   "file_extension": ".py",
   "mimetype": "text/x-python",
   "name": "python",
   "nbconvert_exporter": "python",
   "pygments_lexer": "ipython3",
   "version": "3.11.8"
  }
 },
 "nbformat": 4,
 "nbformat_minor": 2
}
