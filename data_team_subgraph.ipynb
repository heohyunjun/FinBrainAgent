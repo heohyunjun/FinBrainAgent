{
 "cells": [
  {
   "cell_type": "code",
   "execution_count": 1,
   "metadata": {},
   "outputs": [
    {
     "name": "stdout",
     "output_type": "stream",
     "text": [
      "True\n"
     ]
    }
   ],
   "source": [
    "\n",
    "from dotenv import load_dotenv\n",
    "from typing import Literal\n",
    "from typing_extensions import TypedDict \n",
    "\n",
    "# LangChain 및 LangGraph 관련 라이브러리\n",
    "from langchain.prompts.chat import ChatPromptTemplate, MessagesPlaceholder\n",
    "from langchain_core.output_parsers import StrOutputParser\n",
    "from langchain_core.messages import HumanMessage, AIMessage\n",
    "\n",
    "from langgraph.types import Command\n",
    "from langgraph.graph.message import add_messages\n",
    "from langgraph.graph import StateGraph, MessagesState, START, END\n",
    "from langgraph.prebuilt import create_react_agent\n",
    "\n",
    "from langsmith import utils \n",
    "from langchain_openai import ChatOpenAI\n",
    "\n",
    "from agents.agent_library import agent_configs\n",
    "from team_graph.report_team_subgraph import report_graph\n",
    "from team_graph.general_chat_subgraph import general_graph\n",
    "from team_graph.insider_team_graph import insider_graph \n",
    "from team_graph.analyst_team_graph import analyst_graph\n",
    "# 환경 변수 로드\n",
    "load_dotenv()\n",
    "print(utils.tracing_is_enabled())"
   ]
  },
  {
   "cell_type": "code",
   "execution_count": 2,
   "metadata": {},
   "outputs": [],
   "source": [
    "class AgentState(MessagesState):\n",
    "    query: str\n"
   ]
  },
  {
   "cell_type": "code",
   "execution_count": 3,
   "metadata": {},
   "outputs": [],
   "source": [
    "llm = ChatOpenAI(model=\"gpt-4o-mini-2024-07-18\")\n",
    "data_team_leader_llm  = ChatOpenAI(model=\"gpt-4o-mini-2024-07-18\")"
   ]
  },
  {
   "cell_type": "code",
   "execution_count": 4,
   "metadata": {},
   "outputs": [],
   "source": [
    "# 시장 조사 에이전트\n",
    "news_and_sentiment_retrieval_agent = create_react_agent(\n",
    "    llm, \n",
    "    tools=agent_configs['news_and_sentiment_retrieval_agent']['tools'],\n",
    "    prompt=agent_configs['news_and_sentiment_retrieval_agent']['prompt']\n",
    ")\n",
    "\n",
    "market_data_retrieval_agent = create_react_agent(\n",
    "    llm, \n",
    "    tools=agent_configs['market_data_retrieval_agent']['tools'], \n",
    "    prompt = agent_configs['market_data_retrieval_agent']['prompt']\n",
    ")\n",
    "\n",
    "\n",
    "economic_data_retrieval_agent = create_react_agent(\n",
    "    llm, \n",
    "    tools=agent_configs['economic_data_retrieval_agent']['tools'], \n",
    "    prompt=agent_configs['economic_data_retrieval_agent']['prompt']\n",
    ")\n",
    "\n",
    "\n",
    "financial_statement_retrieval_agent = create_react_agent(\n",
    "    llm,\n",
    "    tools=agent_configs['financial_statement_retrieval_agent']['tools'],\n",
    "    prompt = agent_configs['financial_statement_retrieval_agent']['prompt']\n",
    ")\n",
    "\n",
    "\n",
    "data_retrieval_team_members=agent_configs['data_retrieval_leader_agent']['members']\n",
    "data_retrieval_options_for_next = data_retrieval_team_members + [\"FINISH\"]\n",
    "data_retrieval_leader_system_prompt = agent_configs['data_retrieval_leader_agent']['prompt']\n",
    "data_retrieval_leader_prompt = ChatPromptTemplate.from_messages(\n",
    "    [\n",
    "        (\"system\", data_retrieval_leader_system_prompt),\n",
    "        MessagesPlaceholder(variable_name=\"messages\"),\n",
    "        (\n",
    "            \"system\",\n",
    "            \"Given the conversation above, who should act next? \"\n",
    "            \"Or should we FINISH? Select one of: {options}. \"\n",
    "        ),\n",
    "    ]\n",
    ").partial(options=str(data_retrieval_options_for_next), members=\", \".join(data_retrieval_team_members))\n",
    "\n",
    "\n",
    "supervisor_members = agent_configs['supervisor']['members']\n",
    "supervisor_options_for_next = supervisor_members + [\"FINISH\"]\n",
    "supervisor_system_prompt = agent_configs['supervisor']['prompt']\n",
    "supervisor_prompt = ChatPromptTemplate.from_messages(\n",
    "    [\n",
    "        (\"system\", supervisor_system_prompt),\n",
    "        MessagesPlaceholder(variable_name=\"messages\"),\n",
    "        (\n",
    "            \"system\",\n",
    "            \"Given the conversation above, who should act next? \"\n",
    "            \"Or should we FINISH? Select one of: {options}\",\n",
    "        ),\n",
    "    ]\n",
    ").partial(options=str(supervisor_options_for_next), members=\", \".join(supervisor_members))\n"
   ]
  },
  {
   "cell_type": "code",
   "execution_count": 5,
   "metadata": {},
   "outputs": [],
   "source": [
    "def news_and_sentiment_retrieval_node(state: AgentState) -> Command[Literal[\"data_team_leader\"]]:\n",
    "    \"\"\"\n",
    "    금융 뉴스 및 애널리스트 의견 수집\n",
    "\n",
    "    Args:\n",
    "        state (MessagesState): 현재 메시지 상태를 나타내는 객체\n",
    "\n",
    "    Returns:\n",
    "        Command: supervisor node로 이동하기 위한 명령을 반환\n",
    "    \"\"\"\n",
    "    # 시장 조사 에이전트를 호출하여 결과를 얻습니다.\n",
    "    result = news_and_sentiment_retrieval_agent.invoke(state)\n",
    "    \n",
    "    # 결과 메시지를 업데이트하고 supervisor node로 이동합니다.\n",
    "    return Command(\n",
    "        update={'messages': [HumanMessage(content=result['messages'][-1].content, name='news_and_sentiment_retrieval')]},\n",
    "        goto='data_team_leader'\n",
    "    )\n",
    "\n"
   ]
  },
  {
   "cell_type": "code",
   "execution_count": 6,
   "metadata": {},
   "outputs": [],
   "source": [
    "def market_data_retrieval_node(state: AgentState) -> Command[Literal[\"data_team_leader\"]]:\n",
    "    \"\"\"\n",
    "    실시간 주가 및 거래량 수집\n",
    "    Args:\n",
    "        state (MessagesState): 현재 메시지 상태를 나타내는 객체\n",
    "\n",
    "    Returns:\n",
    "        Command: supervisor node로 이동하기 위한 명령을 반환\n",
    "    \"\"\"\n",
    "    result = market_data_retrieval_agent.invoke(state)\n",
    "\n",
    "    return Command(\n",
    "        update={'messages': [HumanMessage(content=result['messages'][-1].content, name='market_data_retrieval')]},\n",
    "        goto='data_team_leader'\n",
    "    )"
   ]
  },
  {
   "cell_type": "code",
   "execution_count": 7,
   "metadata": {},
   "outputs": [],
   "source": [
    "def economic_data_retrieval_node(state: AgentState) -> Command[Literal[\"data_team_leader\"]]:\n",
    "    \"\"\"\n",
    "    거시경제 데이터(GDP, 금리, 인플레이션) 수집\n",
    "    Args:\n",
    "        state (MessagesState): 현재 메시지 상태를 나타내는 객체\n",
    "\n",
    "    Returns:\n",
    "        Command: supervisor node로 이동하기 위한 명령을 반환\n",
    "    \"\"\"\n",
    "    result = economic_data_retrieval_agent.invoke(state)\n",
    "\n",
    "    return Command(\n",
    "        update={'messages': [HumanMessage(content=result['messages'][-1].content, name='economic_data_retrieval')]},\n",
    "        goto='data_team_leader'\n",
    "    )"
   ]
  },
  {
   "cell_type": "code",
   "execution_count": 8,
   "metadata": {},
   "outputs": [],
   "source": [
    "def financial_statement_retrieval_node(state: AgentState) -> Command[Literal[\"data_team_leader\"]]:\n",
    "    \"\"\"\n",
    "    회사 재무 보고서와 주요 사건 관련 자료를 조사하는 노드.\n",
    "    손익계산서 데이터와 재무 및 주요 사건 관련 SEC 보고서를 처리합니다.\n",
    "\n",
    "    Args:\n",
    "        state (MessagesState): 현재 메시지 상태를 나타내는 객체\n",
    "\n",
    "    Returns:\n",
    "        Command: supervisor 노드로 이동하기 위한 명령을 반환\n",
    "    \"\"\"\n",
    "    result = financial_statement_retrieval_agent.invoke(state)\n",
    "    return Command(\n",
    "        update={'messages': [HumanMessage(content=result['messages'][-1].content, name='financial_statement_retrieval')]},\n",
    "        goto='data_team_leader'\n",
    "    )\n"
   ]
  },
  {
   "cell_type": "code",
   "execution_count": 9,
   "metadata": {},
   "outputs": [],
   "source": [
    "class DataTeamRouter(TypedDict):\n",
    "    \"\"\"Worker to route to next. If no workers needed or question is vague, route to FINISH.\"\"\"\n",
    "    next: Literal[*data_retrieval_options_for_next]\n",
    "\n",
    "\n",
    "def data_team_leader_node(state: AgentState) -> Command[Literal[*data_retrieval_team_members, \"reporter\"]]:\n",
    "\n",
    "    query = state['query']\n",
    "    data_retrieval_team_chain = data_retrieval_leader_prompt | data_team_leader_llm.with_structured_output(DataTeamRouter)\n",
    "    response= data_retrieval_team_chain.invoke({\"messages\" : state[\"messages\"], \"query\" : query})\n",
    "\n",
    "\n",
    "    goto = response[\"next\"]\n",
    "\n",
    "    if goto == \"FINISH\":\n",
    "        goto = \"reporter\"  # 정상 종료 시\n",
    "\n",
    "    \n",
    "    return Command(goto=goto)\n"
   ]
  },
  {
   "cell_type": "code",
   "execution_count": 10,
   "metadata": {},
   "outputs": [],
   "source": [
    "class Router(TypedDict):\n",
    "    next: Literal[*supervisor_options_for_next]\n",
    "    \n",
    "\n",
    "def supervisor_node(state: AgentState) -> Command[Literal[*supervisor_members, END]]:\n",
    "    \"\"\"\n",
    "    supervisor node \n",
    "    주어진 State를 기반으로 각 worker의 결과를 종합하고,\n",
    "    다음에 수행할 worker를 결정\n",
    "    모든 작업이 완료되면 analyst node로 이동\n",
    "\n",
    "    Args:\n",
    "        state (MessagesState): 현재 메시지 상태를 나타내는 객체\n",
    "\n",
    "    Returns:\n",
    "        Command: 다음에 수행할 worker 또는 analyst node로 이동하기 위한 명령 반환 \n",
    "    \"\"\"\n",
    "\n",
    "    supervisor_chain = supervisor_prompt | llm.with_structured_output(Router)\n",
    "    response= supervisor_chain.invoke(state)\n",
    "\n",
    "    goto = response[\"next\"]\n",
    "    if goto == \"FINISH\":\n",
    "        goto = END\n",
    "\n",
    "    return Command(goto=goto)"
   ]
  },
  {
   "cell_type": "code",
   "execution_count": 11,
   "metadata": {},
   "outputs": [],
   "source": [
    "graph_builder = StateGraph(AgentState)\n",
    "\n",
    "graph_builder.add_node(\"supervisor\", supervisor_node)\n",
    "graph_builder.add_node(\"news_and_sentiment_retrieval\", news_and_sentiment_retrieval_node)\n",
    "graph_builder.add_node(\"market_data_retrieval\", market_data_retrieval_node)\n",
    "graph_builder.add_node(\"financial_statement_retrieval\", financial_statement_retrieval_node)\n",
    "graph_builder.add_node(\"data_team_leader\", data_team_leader_node)\n",
    "graph_builder.add_node(\"economic_data_retrieval\", economic_data_retrieval_node)\n",
    "graph_builder.add_node(\"insider_team_leader\", insider_graph)\n",
    "graph_builder.add_node(\"reporter\", report_graph)\n",
    "graph_builder.add_node(\"general_team_leader\", general_graph)\n",
    "graph_builder.add_node(\"analyst_team_leader\", analyst_graph)\n",
    "\n",
    "graph_builder.add_edge(START, \"supervisor\")\n",
    "graph_builder.add_edge(\"insider_team_leader\", \"data_team_leader\")\n",
    "graph_builder.add_edge(\"analyst_team_leader\", \"reporter\")\n",
    "graph_builder.add_edge(\"reporter\", END)\n",
    "graph_builder.add_edge(\"general_team_leader\", END)\n",
    "\n",
    "graph = graph_builder.compile()\n"
   ]
  },
  {
   "cell_type": "code",
   "execution_count": 12,
   "metadata": {},
   "outputs": [
    {
     "data": {
      "image/png": "[encoded data removed]",
      "text/plain": [
       "<langgraph.graph.state.CompiledStateGraph object at 0x00000248EF475610>"
      ]
     },
     "execution_count": 12,
     "metadata": {},
     "output_type": "execute_result"
    }
   ],
   "source": [
    "graph"
   ]
  },
  {
   "cell_type": "code",
   "execution_count": null,
   "metadata": {},
   "outputs": [],
   "source": [
    "query =  \"김치찌개 만드는법\"\n",
    "for chunk in graph.stream(\n",
    "    {\"messages\": [(\"user\",query)], \"query\" :query}, stream_mode=\"values\"\n",
    "):\n",
    "    chunk['messages'][-1].pretty_print()"
   ]
  },
  {
   "cell_type": "code",
   "execution_count": 13,
   "metadata": {},
   "outputs": [
    {
     "name": "stdout",
     "output_type": "stream",
     "text": [
      "================================\u001b[1m Human Message \u001b[0m=================================\n",
      "\n",
      "최근 주식가격이 제일 많이 떨어진 종목은 뭐냐\n",
      "================================\u001b[1m Human Message \u001b[0m=================================\n",
      "Name: market_data_retrieval\n",
      "\n",
      "최근 주식 가격이 많이 떨어진 특정 종목에 대한 정보를 제공하려면, 특정 기간 또는 특정 종목에 대한 데이터가 필요합니다. 특정 종목을 제공해 주시면 그 종목의 최근 주식 가격 데이터를 검색하겠습니다. 또는 관심 있는 주식 티커를 알려주시면 해당 주식의 가격 변동을 확인하겠습니다.\n",
      "================================\u001b[1m Human Message \u001b[0m=================================\n",
      "Name: news_and_sentiment_retrieval\n",
      "\n",
      "최근 주식 시장에서 많은 주식들이 하락세를 보였습니다. 특히 **2025년 4월 7일**에는 다음과 같은 뉴스들이 주요하게 보도되었습니다:\n",
      "\n",
      "1. **S&P 500**과 **Dow Jones**가 각각 350포인트 이상 하락하였으며, 이는 주간 기준으로 팬데믹 이후 최악의 성적이었습니다. \n",
      "   - [자세한 내용](https://finance.yahoo.com/news/live/stock-market-today-dow-sinks-350-points-sp-500-falls-for-third-day-as-tariffs-send-stocks-on-roller-coaster-200044633.html) (2025-04-07)\n",
      "\n",
      "2. **SPY**와 **VOO**는 시장에서 약세장 영역에 진입하였습니다.\n",
      "   - [자세한 내용](http://www.etf.com/sections/news/stock-bond-etfs-react-tariff-news-voo-hits-bear-market?utm_source=yahoo-finance&utm_medium=rss&utm_campaign=yahoo-finance-rss) (2025-04-07)\n",
      "\n",
      "3. **도널드 트럼프** 전 대통령의 관세 계획이 발표되면서 미국 주식 시장에 대한 불안이 커졌습니다. \n",
      "   - [관련 기사](https://finance.yahoo.com/news/wall-street-experts-warn-stocks-have-ample-space-to-continue-cratering-as-trump-team-digs-in-on-tariffs-225515352.html) (2025-04-06)\n",
      "\n",
      "4. **중국**이 미국 상품에 대한 보복 관세를 발표하였고, 이는 시장에 추가적인 하락 압력을 가했습니다.\n",
      "   - [자세한 내용](https://finance.yahoo.com/news/china-announces-retaliatory-tariffs-u-161032836.html) (2025-04-05)\n",
      "\n",
      "이와 같이 최근 주식 시장에서는 관세와 경제 지표 악화 등으로 인해 많은 주식들이 큰 폭으로 하락하고 있습니다. 유망 종목을 찾는 데에는 각 산업별 동향과 금리 정책도 중요한 요소로 작용할 것입니다.\n",
      "==================================\u001b[1m Ai Message \u001b[0m==================================\n",
      "\n",
      "제공된 정보에 따르면, 특정 종목의 주식 가격 데이터는 포함되어 있지 않습니다. 대신, 최근 주식 시장에서 많은 주식들이 하락세를 보였고, 특히 S&P 500과 Dow Jones가 각각 350포인트 이상 하락하였던 점이 강조됩니다. \n",
      "\n",
      "정확한 종목을 찾으려면 구체적인 응답을 위해 특정 종목이나 티커를 제공해야 합니다. 말씀해주시면 그에 대한 정보를 더 확인하겠습니다.\n"
     ]
    }
   ],
   "source": [
    "query =  \"최근 주식가격이 제일 많이 떨어진 종목은 뭐냐\"\n",
    "for chunk in graph.stream(\n",
    "    {\"messages\": [(\"user\",query)], \"query\" :query}, stream_mode=\"values\"\n",
    "):\n",
    "    chunk['messages'][-1].pretty_print()"
   ]
  },
  {
   "cell_type": "code",
   "execution_count": 13,
   "metadata": {},
   "outputs": [
    {
     "name": "stdout",
     "output_type": "stream",
     "text": [
      "================================\u001b[1m Human Message \u001b[0m=================================\n",
      "\n",
      "최근 내부자가 가장 많은 지분을 매수한 상장사는 어디야\n",
      "================================\u001b[1m Human Message \u001b[0m=================================\n",
      "Name: domestic_insider_researcher\n",
      "\n",
      "상장사의 내부자 주식 매수 활동을 확인하기 위해서는 구체적인 날짜 범위를 지정할 필요가 있습니다. 최근 1개월, 3개월, 6개월 중 어떤 기간을 원하시는지 알려주시면, 해당 기간 동안 내부자 지분 매수 활동이 가장 활발했던 상장사를 확인해 드릴 수 있습니다.\n",
      "==================================\u001b[1m Ai Message \u001b[0m==================================\n",
      "\n",
      "제공된 정보로는 최근 상장사의 내부자 지분 매수 활동에 대한 구체적인 데이터를 확인할 수 없습니다. 내부자 주식 매수 활동을 파악하기 위해서는 특정한 날짜 범위가 필요합니다. 제일 최근 1개월, 3개월, 6개월 중 어떤 기간을 원하시나요? 해당 기간을 알려주시면, 내부자가 가장 활발하게 매수한 상장사를 확인하는 데 도움이 될 수 있습니다.\n"
     ]
    }
   ],
   "source": [
    "query =  \"최근 내부자가 가장 많은 지분을 매수한 상장사는 어디야\"\n",
    "for chunk in graph.stream(\n",
    "    {\"messages\": [(\"user\",query)], \"query\" :query}, stream_mode=\"values\"\n",
    "):\n",
    "    chunk['messages'][-1].pretty_print()"
   ]
  },
  {
   "cell_type": "code",
   "execution_count": 14,
   "metadata": {},
   "outputs": [
    {
     "name": "stdout",
     "output_type": "stream",
     "text": [
      "================================\u001b[1m Human Message \u001b[0m=================================\n",
      "\n",
      "하이\n",
      "================================\u001b[1m Human Message \u001b[0m=================================\n",
      "\n",
      "안녕하세요! 무엇을 도와드릴까요? 금융 외 질문에 대한 답변은 정확도가 떨어질 수 있다는 점을 인지해주세요.\n"
     ]
    }
   ],
   "source": [
    "query =  \"하이\"\n",
    "for chunk in graph.stream(\n",
    "    {\"messages\": [(\"human\",query)], \"query\" :query}, stream_mode=\"values\"\n",
    "):\n",
    "    chunk['messages'][-1].pretty_print()"
   ]
  },
  {
   "cell_type": "code",
   "execution_count": 15,
   "metadata": {},
   "outputs": [
    {
     "name": "stdout",
     "output_type": "stream",
     "text": [
      "================================\u001b[1m Human Message \u001b[0m=================================\n",
      "\n",
      "너는 미국주식에 특화되어있냐\n",
      "================================\u001b[1m Human Message \u001b[0m=================================\n",
      "\n",
      "네, finbrain은 미국 주식에 특화되어 있으며, SEC Filing 데이터, 주가 정보, 뉴스 및 경제 지표를 활용하여 투자 결정을 지원합니다.\n"
     ]
    }
   ],
   "source": [
    "query =  \"너는 미국주식에 특화되어있냐\"\n",
    "for chunk in graph.stream(\n",
    "    {\"messages\": [(\"user\",query)], \"query\" :query}, stream_mode=\"values\"\n",
    "):\n",
    "    chunk['messages'][-1].pretty_print()"
   ]
  },
  {
   "cell_type": "code",
   "execution_count": 16,
   "metadata": {},
   "outputs": [
    {
     "name": "stdout",
     "output_type": "stream",
     "text": [
      "================================\u001b[1m Human Message \u001b[0m=================================\n",
      "\n",
      "무슨 질문에 대답할수있냐\n",
      "================================\u001b[1m Human Message \u001b[0m=================================\n",
      "\n",
      "finbrain은 미국 주식에 관한 다양한 질문에 답변할 수 있습니다. 예를 들어, 특정 주식의 분석, 시장 동향, 기업의 재무 상태, SEC Filing 데이터, 뉴스 영향 등을 포함한 정보 제공이 가능합니다. 투자 결정을 위한 유용한 통찰을 얻는 데 도움을 줄 수 있습니다.\n"
     ]
    }
   ],
   "source": [
    "query =  \"무슨 질문에 대답할수있냐\"\n",
    "for chunk in graph.stream(\n",
    "    {\"messages\": [(\"user\",query)], \"query\" :query}, stream_mode=\"values\"\n",
    "):\n",
    "    chunk['messages'][-1].pretty_print()"
   ]
  },
  {
   "cell_type": "code",
   "execution_count": 34,
   "metadata": {},
   "outputs": [
    {
     "name": "stdout",
     "output_type": "stream",
     "text": [
      "================================\u001b[1m Human Message \u001b[0m=================================\n",
      "\n",
      "너는 바보냐\n",
      "==================================\u001b[1m Ai Message \u001b[0m==================================\n",
      "\n",
      "제공된 정보는 특정한 질문에 대한 내용이 아니라 일반적인 질문입니다. 따라서 이에 대한 답변을 드릴 수 있는 데이터가 부족하다는 점을 알려드리겠습니다. 추가적인 질문이나 투자 관련 정보가 필요하시면 말씀해 주세요.\n"
     ]
    }
   ],
   "source": [
    "query =  \"너는 바보냐\"\n",
    "for chunk in graph.stream(\n",
    "    {\"messages\": [(\"user\",query)], \"query\" :query}, stream_mode=\"values\"\n",
    "):\n",
    "    chunk['messages'][-1].pretty_print()"
   ]
  },
  {
   "cell_type": "code",
   "execution_count": 16,
   "metadata": {},
   "outputs": [
    {
     "name": "stdout",
     "output_type": "stream",
     "text": [
      "================================\u001b[1m Human Message \u001b[0m=================================\n",
      "\n",
      "최근 한달간 테슬라 내부자 거래가 있었는지 확인해줘\n"
     ]
    },
    {
     "name": "stderr",
     "output_type": "stream",
     "text": [
      "\n",
      "KeyboardInterrupt\n",
      "\n"
     ]
    }
   ],
   "source": [
    "for chunk in graph.stream(\n",
    "    {\"messages\": [(\"user\", \"최근 한달간 테슬라 내부자 거래가 있었는지 확인해줘\")]}, stream_mode=\"values\"\n",
    "):\n",
    "    chunk['messages'][-1].pretty_print()"
   ]
  },
  {
   "cell_type": "code",
   "execution_count": 17,
   "metadata": {},
   "outputs": [
    {
     "name": "stdout",
     "output_type": "stream",
     "text": [
      "================================\u001b[1m Human Message \u001b[0m=================================\n",
      "\n",
      "오늘 테슬라 주가가 얼마냐\n",
      "YF.download() has changed argument auto_adjust default to True\n"
     ]
    },
    {
     "name": "stderr",
     "output_type": "stream",
     "text": [
      "[*********************100%***********************]  1 of 1 completed\n"
     ]
    },
    {
     "name": "stdout",
     "output_type": "stream",
     "text": [
      "================================\u001b[1m Human Message \u001b[0m=================================\n",
      "Name: market_data_retrieval\n",
      "\n",
      "오늘 테슬라(TSLA)의 주가는 다음과 같습니다:\n",
      "\n",
      "- 종가: 245.38\n",
      "- 고가: 248.86\n",
      "- 저가: 241.70\n",
      "- 시가: 245.05\n",
      "- 거래량: 19,082,144\n",
      "==================================\u001b[1m Ai Message \u001b[0m==================================\n",
      "\n",
      "오늘 테슬라(TSLA)의 주가는 다음과 같습니다:\n",
      "\n",
      "- 종가: 245.38\n",
      "- 고가: 248.86\n",
      "- 저가: 241.70\n",
      "- 시가: 245.05\n",
      "- 거래량: 19,082,144\n"
     ]
    }
   ],
   "source": [
    "query= \"오늘 테슬라 주가가 얼마냐\"\n",
    "for chunk in graph.stream(\n",
    "    {\"messages\": [(\"user\", query)], \"query\" : query}, stream_mode=\"values\"\n",
    "    ):\n",
    "    chunk['messages'][-1].pretty_print()"
   ]
  },
  {
   "cell_type": "code",
   "execution_count": 18,
   "metadata": {},
   "outputs": [
    {
     "name": "stdout",
     "output_type": "stream",
     "text": [
      "================================\u001b[1m Human Message \u001b[0m=================================\n",
      "\n",
      "지금 테슬라 주가 흐름이 어떻고 흐름에 영향을 끼치는 이슈가 뭔지 알려줘라\n"
     ]
    },
    {
     "name": "stderr",
     "output_type": "stream",
     "text": [
      "[*********************100%***********************]  1 of 1 completed\n",
      "\n"
     ]
    },
    {
     "name": "stdout",
     "output_type": "stream",
     "text": [
      "================================\u001b[1m Human Message \u001b[0m=================================\n",
      "Name: market_data_retrieval\n",
      "\n",
      "현재 테슬라(TSLA)의 주가는 다음과 같습니다:\n",
      "\n",
      "### 1일 주가 정보 (2025년 4월 8일)\n",
      "- **종가 (Close)**: 244.95\n",
      "- **고가 (High)**: 248.86\n",
      "- **저가 (Low)**: 241.70\n",
      "- **시가 (Open)**: 245.05\n",
      "- **거래량 (Volume)**: 20,266,219\n",
      "\n",
      "### 5일 주가 정보 (2025년 4월 8일)\n",
      "- **종가 (Close)**: 244.95\n",
      "- **고가 (High)**: 248.86\n",
      "- **저가 (Low)**: 241.70\n",
      "- **시가 (Open)**: 245.05\n",
      "- **거래량 (Volume)**: 20,266,219\n",
      "\n",
      "주가는 최근 5일간 큰 변동이 없으며, 현재 주가는 244.95입니다. \n",
      "\n",
      "주가에 영향을 미치는 특정 이슈에 대한 정보는 포함되어 있지 않으며, 전체적인 시장 동향, 생산 및 판매 수치, 신제품 발표, 경쟁사의 동향 등이 테슬라 주가에 영향을 미칠 수 있습니다.\n",
      "================================\u001b[1m Human Message \u001b[0m=================================\n",
      "Name: news_and_sentiment_retrieval\n",
      "\n",
      "현재 테슬라(TSLA)의 주가는 $244.95로 안정세를 보이고 있으며, 최근 1일 및 5일 동안 큰 변동이 없었습니다. 다음은 주가에 영향을 미치고 있는 주요 뉴스와 이슈들입니다:\n",
      "\n",
      "1. **테슬라 주가 하락과 분석가 의견**  \n",
      "   - **기사 제목**: [Tesla stock tumbles as bullish analyst throws in the towel, blaming tariffs and Elon Musk](https://finance.yahoo.com/news/tesla-stock-tumbles-as-bullish-analyst-throws-in-the-towel-blaming-tariffs-and-elon-musk-144402589.html)  \n",
      "   - **날짜**: 2025년 4월 7일  \n",
      "   - 테슬라의 긍정적 분석가가 예상치를 하향 조정하며 트럼프의 자동차 관세와 일론 머스크의 행동을 원인으로 지목했습니다.\n",
      "\n",
      "2. **판매 실적 부진**  \n",
      "   - **기사 제목**: [Tesla Sales Numbers 'Suck,' Says Ross Gerber. He Claims The Tesla Brand Is Broken Because Of The Board That Should Be Removed For Negligence](https://finance.yahoo.com/news/tesla-sales-numbers-suck-says-134542626.html)  \n",
      "   - **날짜**: 2025년 4월 8일  \n",
      "   - 고급 전기차의 판매가 작년 대비 25% 감소해 경영진에 대한 비판이 이어지고 있습니다. \n",
      "\n",
      "3. **관세 이슈**  \n",
      "   - **기사 제목**: [Auto stocks continue slide as tariff impact threatens to decimate sales](https://finance.yahoo.com/news/auto-stocks-continue-slide-as-tariff-impact-threatens-to-decimate-sales-185757899.html)  \n",
      "   - **날짜**: 2025년 4월 7일  \n",
      "   - 자동차 산업 전반에서 관세의 영향으로 주가가 하락하고 있습니다.\n",
      "\n",
      "4. **머스크의 관세 관련 협상**  \n",
      "   - **기사 제목**: [Is a Tariff Reversal Coming? Musk's Direct Appeal to Trump Raises Hopes](https://finance.yahoo.com/news/tariff-reversal-coming-musks-direct-122909464.html)  \n",
      "   - **날짜**: 2025년 4월 8일  \n",
      "   - 일론 머스크가 트럼프에게 관세 철회를 요청하며 기대감을 조성하고 있습니다.\n",
      "\n",
      "5. **경쟁업체의 성장**  \n",
      "   - **기사 제목**: [BYD Stock Is Soaring. It’s Catching Up to Tesla in Yet Another Way.](https://www.barrons.com/articles/tesla-stock-ev-byd-c8242e4f?siteid=yhoof2&yptr=yahoo)  \n",
      "   - **날짜**: 2025년 4월 8일  \n",
      "   - 중국 전기차 제조업체인 BYD가 더욱 기대 이상의 실적 지침을 발표하며 경쟁이 치열해지고 있습니다.\n",
      "\n",
      "이러한 뉴스들은 테슬라의 주가 흐름에 중대한 영향을 미치고 있으며, 향후 시장 동향에도 주목할 필요가 있습니다.\n",
      "==================================\u001b[1m Ai Message \u001b[0m==================================\n",
      "\n",
      "현재 테슬라(TSLA)의 주가는 $244.95로, 최근 1일 및 5일 동안 큰 변동이 없으며 안정세를 보이고 있습니다.\n",
      "\n",
      "주가에 영향을 미치는 주요 이슈는 다음과 같습니다:\n",
      "\n",
      "1. **테슬라 주가 하락과 분석가 의견**  \n",
      "   - 긍정적 분석가가 예상치를 하향 조정하며, 트럼프의 자동차 관세와 일론 머스크의 행동을 원인으로 지목했습니다.\n",
      "\n",
      "2. **판매 실적 부진**  \n",
      "   - 고급 전기차의 판매가 작년 대비 25% 감소해 경영진에 대한 비판이 이어지고 있습니다.\n",
      "\n",
      "3. **관세 이슈**  \n",
      "   - 자동차 산업 전반에서 관세의 영향으로 주가가 하락하고 있습니다.\n",
      "\n",
      "4. **머스크의 관세 관련 협상**  \n",
      "   - 일론 머스크가 트럼프에게 관세 철회를 요청하며 기대감을 조성하고 있습니다.\n",
      "\n",
      "5. **경쟁업체의 성장**  \n",
      "   - 중국 전기차 제조업체인 BYD가 예상 이상의 실적 지침을 발표하며 경쟁이 치열해지고 있습니다.\n",
      "\n",
      "이러한 뉴스들이 테슬라의 주가 흐름에 중대한 영향을 미치고 있으며, 향후 시장 동향에 주목할 필요가 있습니다.\n"
     ]
    }
   ],
   "source": [
    "query = \"지금 테슬라 주가 흐름이 어떻고 흐름에 영향을 끼치는 이슈가 뭔지 알려줘라\"\n",
    "for chunk in graph.stream(\n",
    "    {\"messages\": [(\"user\", query)], \"query\" : query}, stream_mode=\"values\"\n",
    "    ):\n",
    "    chunk['messages'][-1].pretty_print()  "
   ]
  },
  {
   "cell_type": "code",
   "execution_count": 14,
   "metadata": {},
   "outputs": [
    {
     "name": "stdout",
     "output_type": "stream",
     "text": [
      "================================\u001b[1m Human Message \u001b[0m=================================\n",
      "\n",
      "최근 테슬라 내부자 매도가 있었나?\n",
      "200\n",
      "200\n",
      "200\n",
      "================================\u001b[1m Human Message \u001b[0m=================================\n",
      "Name: international_insider_researcher\n",
      "\n",
      "최근 테슬라(차량 티커: TSLA)의 내부자 매도 내역은 다음과 같습니다:\n",
      "\n",
      "1. **James R. Murdoch (Director)**\n",
      "   - **거래일:** 2025-03-10\n",
      "   - **매도 주식 수:** 54,776주\n",
      "   - **주당 가격:** $240.788 (여러 가격에서 매도됨)\n",
      "   - **매도 후 보유 주식 수:** 477,011주\n",
      "\n",
      "2. **Vaibhav Taneja (CFO)**\n",
      "   - **거래일:** 2025-03-06\n",
      "   - **매도 주식 수:** 2,672.25주\n",
      "   - **주당 가격:** $268.729\n",
      "   - **매도 후 보유 주식 수:** 26,949.5주\n",
      "\n",
      "3. **Vaibhav Taneja (CFO)**\n",
      "   - **거래일:** 2025-03-03\n",
      "   - **매도 주식 수:** \n",
      "     - 6,000주 (가중 평균가: $18.22)\n",
      "     - 100주 (가중 평균가: $279.53)\n",
      "     - 200주 (가중 평균가: $281.185)\n",
      "     - 100주 (가중 평균가: $282.39)\n",
      "     - 397주 (가중 평균가: $285.139)\n",
      "     - 200주 (가중 평균가: $287.74)\n",
      "     - 300주 (가중 평균가: $288.713)\n",
      "     - 100주 (가중 평균가: $290.06)\n",
      "     - 100주 (가중 평균가: $293.73)\n",
      "     - 400주 (가중 평균가: $295.52)\n",
      "     - 403주 (가중 평균가: $297.087)\n",
      "     - 600주 (가중 평균가: $298.105)\n",
      "     - 2,500주 (가중 평균가: $300.166)\n",
      "     - 300주 (가중 평균가: $300.707)\n",
      "     - 300주 (가중 평균가: $301.727)\n",
      "   - **총 매도 주식 수:** 6,000주 (여러 거래로 나뉘어 매도)\n",
      "   - **매도 후 보유 주식 수:** 23,683.75주\n",
      "\n",
      "4. **Robyn M. Denholm (Director)**\n",
      "   - **거래일:** 2025-03-03\n",
      "   - **매도 주식 수:** \n",
      "     - 112,390주 (여러 가격에서 매도됨)\n",
      "   - **주당 가격:** $24.73 - $303.588 (여러 가격에서 매도됨)\n",
      "   - **매도 후 보유 주식 수:** 192,353주\n",
      "\n",
      "5. **Kimbal Musk**\n",
      "   - **거래일:** 2025-02-06\n",
      "   - **매도 주식 수:** \n",
      "     - 74,077주\n",
      "     - 923주\n",
      "   - **주당 가격:** $367.868 - $368.430 (여러 가격에서 매도됨)\n",
      "   - **매도 후 보유 주식 수:** 1,463,220주\n",
      "\n",
      "이 거래들은 대개 세금 유예 및 옵션 행사 등의 이유로 발생하였습니다.\n",
      "==================================\u001b[1m Ai Message \u001b[0m==================================\n",
      "\n",
      "최근 테슬라(차량 티커: TSLA)의 내부자 매도 내역은 다음과 같습니다:\n",
      "\n",
      "1. **James R. Murdoch (Director)**\n",
      "   - **거래일:** 2025-03-10\n",
      "   - **매도 주식 수:** 54,776주\n",
      "   - **주당 가격:** $240.788\n",
      "   - **매도 후 보유 주식 수:** 477,011주\n",
      "\n",
      "2. **Vaibhav Taneja (CFO)**\n",
      "   - **거래일:** 2025-03-06\n",
      "   - **매도 주식 수:** 2,672.25주\n",
      "   - **주당 가격:** $268.729\n",
      "   - **매도 후 보유 주식 수:** 26,949.5주\n",
      "\n",
      "3. **Vaibhav Taneja (CFO)**\n",
      "   - **거래일:** 2025-03-03\n",
      "   - **매도 주식 수:** 6,000주 (여러 거래로 나뉘어 매도)\n",
      "   - **주당 가격:** $18.22 - $301.727 (여러 가격에서 매도됨)\n",
      "   - **매도 후 보유 주식 수:** 23,683.75주\n",
      "\n",
      "4. **Robyn M. Denholm (Director)**\n",
      "   - **거래일:** 2025-03-03\n",
      "   - **매도 주식 수:** 112,390주 (여러 거래로 나뉘어 매도)\n",
      "   - **주당 가격:** $24.73 - $303.588 (여러 가격에서 매도됨)\n",
      "   - **매도 후 보유 주식 수:** 192,353주\n",
      "\n",
      "5. **Kimbal Musk**\n",
      "   - **거래일:** 2025-02-06\n",
      "   - **매도 주식 수:** 74,077 + 923주\n",
      "   - **주당 가격:** $367.868 - $368.430 (여러 가격에서 매도됨)\n",
      "   - **매도 후 보유 주식 수:** 1,463,220주\n",
      "\n",
      "이 거래들은 대개 내부자의 세금 유예 및 옵션 행사와 관련이 있습니다.\n"
     ]
    }
   ],
   "source": [
    "query = \"최근 테슬라 내부자 매도가 있었나?\"\n",
    "for chunk in graph.stream(\n",
    "    {\"messages\": [(\"user\", query)], \"query\" : query}, stream_mode=\"values\"\n",
    "    ):\n",
    "    chunk['messages'][-1].pretty_print()"
   ]
  },
  {
   "cell_type": "code",
   "execution_count": 15,
   "metadata": {},
   "outputs": [
    {
     "name": "stdout",
     "output_type": "stream",
     "text": [
      "================================\u001b[1m Human Message \u001b[0m=================================\n",
      "\n",
      "테슬라에 대한 기관 투자자들의 보유 비중이 최근에 어떻게 변했는지 보고 싶어.\n",
      "200\n",
      "================================\u001b[1m Human Message \u001b[0m=================================\n",
      "Name: international_insider_researcher\n",
      "\n",
      "최근 기관 투자자들의 테슬라(Tesla, Inc.)에 대한 보유 비중 변화를 정리한 내용은 다음과 같습니다:\n",
      "\n",
      "1. **Elon R. Musk**\n",
      "   - **보고서 유형**: SC 13G/A\n",
      "   - **보고서 제출일**: 2024-02-14\n",
      "   - **상장 주식 수**: 715,022,706 주\n",
      "   - **소유 형태**: 모든 주식을 소유 및 투표권을 단독으로 보유\n",
      "\n",
      "2. **Vanguard Group Inc**\n",
      "   - **보고서 유형**: SC 13G/A\n",
      "   - **보고서 제출일**: 2024-02-13\n",
      "   - **상장 주식 비율**: 7.23%\n",
      "   - **총 소유 주식 수**: 229,805,491 주\n",
      "   - **소유 형태**: 일부 주식을 공유 소유, 일부 단독 보유\n",
      "\n",
      "3. **BlackRock, Inc.**\n",
      "   - **보고서 유형**: SC 13G/A\n",
      "   - **보고서 제출일**: 2024-01-29\n",
      "   - **상장 주식 비율**: 5.9%\n",
      "   - **총 소유 주식 수**: 188,797,465 주\n",
      "   - **소유 형태**: 단독으로 모든 주식 보유\n",
      "\n",
      "이 데이터는 2023년 12월 기준으로 보유 비중이 보고되었으며, 기관 투자자들의 테슬라 주식 보유 현황에 대한 정보를 제공합니다.\n",
      "==================================\u001b[1m Ai Message \u001b[0m==================================\n",
      "\n",
      "최근 기관 투자자들의 테슬라(Tesla, Inc.)에 대한 보유 비중 변화를 다음과 같이 정리할 수 있습니다:\n",
      "\n",
      "1. **Elon R. Musk**\n",
      "   - **보고서 유형**: SC 13G/A\n",
      "   - **보고서 제출일**: 2024-02-14\n",
      "   - **상장 주식 수**: 715,022,706 주\n",
      "   - **소유 형태**: 모든 주식을 소유 및 투표권을 단독으로 보유\n",
      "\n",
      "2. **Vanguard Group Inc**\n",
      "   - **보고서 유형**: SC 13G/A\n",
      "   - **보고서 제출일**: 2024-02-13\n",
      "   - **상장 주식 비율**: 7.23%\n",
      "   - **총 소유 주식 수**: 229,805,491 주\n",
      "   - **소유 형태**: 일부 주식을 공유 소유, 일부 단독 보유\n",
      "\n",
      "3. **BlackRock, Inc.**\n",
      "   - **보고서 유형**: SC 13G/A\n",
      "   - **보고서 제출일**: 2024-01-29\n",
      "   - **상장 주식 비율**: 5.9%\n",
      "   - **총 소유 주식 수**: 188,797,465 주\n",
      "   - **소유 형태**: 단독으로 모든 주식 보유\n",
      "\n",
      "이 데이터는 2023년 12월 기준으로 보고되었습니다.\n"
     ]
    }
   ],
   "source": [
    "query = \"테슬라에 대한 기관 투자자들의 보유 비중이 최근에 어떻게 변했는지 보고 싶어.\"\n",
    "for chunk in graph.stream(\n",
    "    {\"messages\": [(\"user\", query)], \"query\" : query}, stream_mode=\"values\"\n",
    "    ):\n",
    "    chunk['messages'][-1].pretty_print()"
   ]
  },
  {
   "cell_type": "code",
   "execution_count": 17,
   "metadata": {},
   "outputs": [
    {
     "name": "stdout",
     "output_type": "stream",
     "text": [
      "================================\u001b[1m Human Message \u001b[0m=================================\n",
      "\n",
      "최근에 테슬라 대규모 지분을 확보하면서 경영 참여를 선언한 투자자가 있는지 알려줘.\n",
      "200\n",
      "================================\u001b[1m Human Message \u001b[0m=================================\n",
      "Name: international_insider_researcher\n",
      "\n",
      "최근 테슬라의 대규모 지분 확보와 관련하여 다음과 같은 주요 투자자의 보고서가 있습니다:\n",
      "\n",
      "1. **The Vanguard Group, Inc.**\n",
      "   - **보고서 유형**: SC 13G/A\n",
      "   - **보고 날짜**: 2024-02-13\n",
      "   - **이벤트 날짜**: 2023-12-29\n",
      "   - **지분 비율**: 7.23%\n",
      "   - **총 보유 주식 수**: 229,805,491 주\n",
      "   - **독립 의결권**: 없음\n",
      "   - **공동 의결권**: 3,719,744 주\n",
      "   - **독립 결의권**: 217,847,966 주\n",
      "   - **공동 결의권**: 11,957,525 주\n",
      "\n",
      "2. **BlackRock, Inc.**\n",
      "   - **보고서 유형**: SC 13G/A\n",
      "   - **보고 날짜**: 2024-01-29\n",
      "   - **이벤트 날짜**: 2023-12-31\n",
      "   - **지분 비율**: 5.9%\n",
      "   - **총 보유 주식 수**: 188,797,465 주\n",
      "   - **독립 의결권**: 169,527,462 주\n",
      "   - **공동 의결권**: 없음\n",
      "   - **독립 결의권**: 188,797,465 주\n",
      "   - **공동 결의권**: 없음\n",
      "\n",
      "이 두 투자자는 최근 테슬라의 지분을 대규모로 확보하며 경영 참여 가능성을 시사하고 있습니다.\n"
     ]
    }
   ],
   "source": [
    "query = \"최근에 테슬라 대규모 지분을 확보하면서 경영 참여를 선언한 투자자가 있는지 알려줘.\"\n",
    "for chunk in graph.stream(\n",
    "    {\"messages\": [(\"user\", query)], \"query\" : query}, stream_mode=\"values\"\n",
    "    ):\n",
    "    chunk['messages'][-1].pretty_print()"
   ]
  },
  {
   "cell_type": "code",
   "execution_count": 17,
   "metadata": {},
   "outputs": [
    {
     "name": "stdout",
     "output_type": "stream",
     "text": [
      "================================\u001b[1m Human Message \u001b[0m=================================\n",
      "\n",
      "종목 추천해줘\n",
      "================================\u001b[1m Human Message \u001b[0m=================================\n",
      "Name: news_and_sentiment_retrieval\n",
      "\n",
      "Based on recent expert recommendations, here are some stocks that are considered strong picks for 2025:\n",
      "\n",
      "1. **Nvidia (NASDAQ: NVDA)**: With 37 \"Buy\" recommendations from analysts, Nvidia is a standout in the tech industry. The stock has an average price target of $177.08, representing a 31.86% upside from its current price of $134.29.\n",
      "\n",
      "2. **Microsoft**: Frequently cited as a solid long-term investment, Microsoft continues to be a favorite among analysts.\n",
      "\n",
      "3. **Apple**: Analysts have positive predictions for Apple, especially regarding its performance in the upcoming years.\n",
      "\n",
      "These selections are based on expectations that these companies will perform well as the market evolves. If you would like more specific information about any of these companies or others, please let me know.\n",
      "==================================\u001b[1m Ai Message \u001b[0m==================================\n",
      "\n",
      "제공된 정보에 따르면, 2025년에 강력한 추천을 받는 종목은 다음과 같습니다:\n",
      "\n",
      "1. **Nvidia (NASDAQ: NVDA)**: 애널리스트들로부터 37개의 \"매수\" 추천을 받고 있으며, 평균 목표 주가는 $177.08로 현재 가격 $134.29에서 31.86%의 상승 여력이 있습니다.\n",
      "   \n",
      "2. **Microsoft**: 장기 투자에 대한 신뢰가 높아 자주 추천되는 종목입니다.\n",
      "   \n",
      "3. **Apple**: 애널리스트들은 향후 몇 년간 좋은 성과를 낼 것으로 긍정적인 예측을 하고 있습니다.\n",
      "\n",
      "이 추천은 이러한 기업들이 시장 변화에 잘 적응할 것이라는 기대를 바탕으로 이루어진 것입니다. 추가로 더 알고 싶은 정보가 있다면 말씀해 주세요.\n"
     ]
    }
   ],
   "source": [
    "query = \"종목 추천해줘\"\n",
    "for chunk in graph.stream(\n",
    "    {\"messages\": [(\"user\", query)], \"query\" : query}, stream_mode=\"values\"\n",
    "    ):\n",
    "    chunk['messages'][-1].pretty_print()"
   ]
  },
  {
   "cell_type": "code",
   "execution_count": 14,
   "metadata": {},
   "outputs": [
    {
     "name": "stdout",
     "output_type": "stream",
     "text": [
      "================================\u001b[1m Human Message \u001b[0m=================================\n",
      "\n",
      "미국 주식 추천해봐라\n",
      "================================\u001b[1m Human Message \u001b[0m=================================\n",
      "Name: news_and_sentiment_retrieval\n",
      "\n",
      "2025년에 주목해야 할 미국 주식 몇 가지를 소개합니다:\n",
      "\n",
      "1. **테슬라 (Tesla, Inc.)** - 전기차 시장에서의 성장 가능성.\n",
      "2. **엔비디아 (NVIDIA, NVDA)** - AI 반도체 시장의 선두주자로 데이터센터 및 자율주행 관련 기술력 보유.\n",
      "3. **반도체 산업** - 지속적인 성장 가능성이 있는 분야로, 여러 관련 기업이 포함될 수 있음.\n",
      "4. **바이오헬스** - 혁신적인 의료 기술 및 치료법 개발을 통해 성장할 가능성이 높은 산업.\n",
      "5. **친환경 에너지** - 지속 가능성과 관련된 산업으로, 성장 잠재력이 큼.\n",
      "6. **방위산업** - 안정적인 수요와 기술 개발이 계속될 것으로 예상.\n",
      "\n",
      "이 리스트는 2025년의 시장 흐름과 투자 트렌드를 반영하여 선택된 주식들입니다.\n",
      "================================\u001b[1m Human Message \u001b[0m=================================\n",
      "Name: data_cleansing\n",
      "\n",
      "The provided data is a list of US stocks to watch in 2025, which aligns with the user's request for recommendations. Here is the cleaned dataset without any irrelevant content, duplicates, or inconsistencies:\n",
      "\n",
      "1. **테슬라 (Tesla, Inc.)** - 전기차 시장에서의 성장 가능성.\n",
      "2. **엔비디아 (NVIDIA, NVDA)** - AI 반도체 시장의 선두주자로 데이터센터 및 자율주행 관련 기술력 보유.\n",
      "3. **반도체 산업** - 지속적인 성장 가능성이 있는 분야로, 여러 관련 기업이 포함될 수 있음.\n",
      "4. **바이오헬스** - 혁신적인 의료 기술 및 치료법 개발을 통해 성장할 가능성이 높은 산업.\n",
      "5. **친환경 에너지** - 지속 가능성과 관련된 산업으로, 성장 잠재력이 큼.\n",
      "6. **방위산업** - 안정적인 수요와 기술 개발이 계속될 것으로 예상. \n",
      "\n",
      "This dataset is now clean, consistent, and ready for analysis.\n",
      "==================================\u001b[1m Ai Message \u001b[0m==================================\n",
      "\n",
      "2025년에 주목해야 할 미국 주식 몇 가지를 소개합니다:\n",
      "\n",
      "1. **테슬라 (Tesla, Inc.)** - 전기차 시장에서의 성장 가능성.\n",
      "2. **엔비디아 (NVIDIA, NVDA)** - AI 반도체 시장의 선두주자로 데이터센터 및 자율주행 관련 기술력 보유.\n",
      "3. **반도체 산업** - 지속적인 성장 가능성이 있는 분야로, 여러 관련 기업이 포함될 수 있음.\n",
      "4. **바이오헬스** - 혁신적인 의료 기술 및 치료법 개발을 통해 성장할 가능성이 높은 산업.\n",
      "5. **친환경 에너지** - 지속 가능성과 관련된 산업으로, 성장 잠재력이 큼.\n",
      "6. **방위산업** - 안정적인 수요와 기술 개발이 계속될 것으로 예상.\n",
      "\n",
      "이 리스트는 2025년의 시장 흐름과 투자 트렌드를 반영하여 선택된 주식들입니다.\n"
     ]
    }
   ],
   "source": [
    "query = \"미국 주식 추천해봐라\"\n",
    "for chunk in graph.stream(\n",
    "    {\"messages\": [(\"user\", query)], \"query\" : query}, stream_mode=\"values\"\n",
    "    ):\n",
    "    chunk['messages'][-1].pretty_print()"
   ]
  },
  {
   "cell_type": "code",
   "execution_count": 2,
   "metadata": {},
   "outputs": [
    {
     "ename": "NameError",
     "evalue": "name 'graph' is not defined",
     "output_type": "error",
     "traceback": [
      "\u001b[1;31m---------------------------------------------------------------------------\u001b[0m",
      "\u001b[1;31mNameError\u001b[0m                                 Traceback (most recent call last)",
      "Cell \u001b[1;32mIn[2], line 2\u001b[0m\n\u001b[0;32m      1\u001b[0m query \u001b[38;5;241m=\u001b[39m \u001b[38;5;124m\"\u001b[39m\u001b[38;5;124m근 1년간 삼성전자 내부자 거래 흐름 분석해라\u001b[39m\u001b[38;5;124m\"\u001b[39m\n\u001b[1;32m----> 2\u001b[0m \u001b[38;5;28;01mfor\u001b[39;00m chunk \u001b[38;5;129;01min\u001b[39;00m \u001b[43mgraph\u001b[49m\u001b[38;5;241m.\u001b[39mstream(\n\u001b[0;32m      3\u001b[0m     {\u001b[38;5;124m\"\u001b[39m\u001b[38;5;124mmessages\u001b[39m\u001b[38;5;124m\"\u001b[39m: [(\u001b[38;5;124m\"\u001b[39m\u001b[38;5;124muser\u001b[39m\u001b[38;5;124m\"\u001b[39m, query)], \u001b[38;5;124m\"\u001b[39m\u001b[38;5;124mquery\u001b[39m\u001b[38;5;124m\"\u001b[39m : query}, stream_mode\u001b[38;5;241m=\u001b[39m\u001b[38;5;124m\"\u001b[39m\u001b[38;5;124mvalues\u001b[39m\u001b[38;5;124m\"\u001b[39m\n\u001b[0;32m      4\u001b[0m     ):\n\u001b[0;32m      5\u001b[0m     chunk[\u001b[38;5;124m'\u001b[39m\u001b[38;5;124mmessages\u001b[39m\u001b[38;5;124m'\u001b[39m][\u001b[38;5;241m-\u001b[39m\u001b[38;5;241m1\u001b[39m]\u001b[38;5;241m.\u001b[39mpretty_print()\n",
      "\u001b[1;31mNameError\u001b[0m: name 'graph' is not defined"
     ]
    }
   ],
   "source": [
    "query = \"근 1년간 삼성전자 내부자 거래 흐름 분석해라\"\n",
    "for chunk in graph.stream(\n",
    "    {\"messages\": [(\"user\", query)], \"query\" : query}, stream_mode=\"values\"\n",
    "    ):\n",
    "    chunk['messages'][-1].pretty_print()"
   ]
  },
  {
   "cell_type": "code",
   "execution_count": 14,
   "metadata": {},
   "outputs": [
    {
     "name": "stdout",
     "output_type": "stream",
     "text": [
      "================================\u001b[1m Human Message \u001b[0m=================================\n",
      "\n",
      "최근에 투자자 신뢰를 회복하려는 움직임이 있었떤 기업 알려줘\n",
      "================================\u001b[1m Human Message \u001b[0m=================================\n",
      "Name: news_and_sentiment_retrieval\n",
      "\n",
      "최근 투자자 신뢰를 회복하려는 움직임이 있던 기업으로 **컬리**가 있습니다. 컬리는 2024년 1분기부터 금융감독원에 분기별 재무 및 비재무 항목을 공시하며, 상장 준비를 위해 주주가 500명을 초과하자 공시 의무가 생겼습니다. 임종룡 회장은 올해 경영전략 중 하나로 내부통제 혁신과 신뢰 회복을 강조하고 있습니다. 이는 지난해 금융사고로 인한 신뢰도 저하를 극복하기 위한 노력의 일환으로 보입니다.\n",
      "\n",
      "금융당국 또한 투자자 신뢰 회복을 위해 다양한 조치를 취하고 있으며, IPO 제도의 개선을 통해 시장의 신뢰도를 높이기 위한 방안들을 추진하고 있습니다.U\n",
      "==================================\u001b[1m Ai Message \u001b[0m==================================\n",
      "\n",
      "최근에 투자자 신뢰를 회복하려는 움직임이 있던 기업으로 **컬리**가 있습니다. \n",
      "\n",
      "컬리는 2024년 1분기부터 금융감독원에 분기별 재무 및 비재무 항목을 공시하며, 상장 준비를 위해 주주가 500명을 초과하자 공시 의무가 생겼습니다. 임종룡 회장은 올해 경영전략 중 하나로 내부통제 혁신과 신뢰 회복을 강조하고 있으며, 이는 지난해 금융사고로 인한 신뢰도 저하를 극복하기 위한 노력의 일환으로 보입니다.\n",
      "\n",
      "또한, 금융당국 역시 투자자 신뢰 회복을 위해 다양한 조치를 취하고 있으며, IPO 제도의 개선을 통해 시장의 신뢰도를 높이기 위한 방안들을 추진하고 있습니다.\n"
     ]
    }
   ],
   "source": [
    "query = \"최근에 투자자 신뢰를 회복하려는 움직임이 있었떤 기업 알려줘\"\n",
    "for chunk in graph.stream(\n",
    "    {\"messages\": [(\"user\", query)], \"query\" : query}, stream_mode=\"values\"\n",
    "    ):\n",
    "    chunk['messages'][-1].pretty_print()"
   ]
  },
  {
   "cell_type": "code",
   "execution_count": 15,
   "metadata": {},
   "outputs": [
    {
     "name": "stdout",
     "output_type": "stream",
     "text": [
      "================================\u001b[1m Human Message \u001b[0m=================================\n",
      "\n",
      "최근에 경영진이 주주친화적ㅇ니 결정을 내린 회사가 있는지 찾아줘\n",
      "================================\u001b[1m Human Message \u001b[0m=================================\n",
      "Name: news_and_sentiment_retrieval\n",
      "\n",
      "최근에 주주 친화적인 결정을 내린 몇 가지 회사와 관련된 사실을 아래에 제공합니다:\n",
      "\n",
      "1. **Walt Disney Company (DIS)**\n",
      "   - CEO Bob Iger는 2025년 주주총회에서 회사의 기술과 창의력을 결합한 전략에 대해 발표하였습니다.\n",
      "   - 디즈니는 Fox의 부지에서 퇴거할 계획이 있으며, 2025년 연말까지 해당 부지를 비울 예정입니다. (출처: [Yahoo Finance](https://finance.yahoo.com/news/disney-plans-vacate-storied-fox-225415138.html), 2025-04-01)\n",
      "\n",
      "2. **Paramount Global**\n",
      "   - Deutsche Bank는 Paramount Global의 주식을 \"Buy\"에서 \"Hold\"로 하향 조정하였으며, 이는 낮은 수익 기대치와 광고 전망의 위험 증가 때문입니다. (출처: [Yahoo Finance](https://finance.yahoo.com/news/deutsche-bank-downgrades-paramount-global-150011775.html), 2025-04-02)\n",
      "\n",
      "이 외에도 여러 기업들이 주주 친화적인 결정이나 변화를 모색하고 있으나, 구체적인 결정 내용은 다소 한정적입니다. 추가 정보를 원하신다면 특정 회사 혹은 주제에 대해 알려주시면 더 찾아보겠습니다.\n",
      "================================\u001b[1m Human Message \u001b[0m=================================\n",
      "Name: data_cleansing\n",
      "\n",
      "최근에 주주 친화적인 결정을 내린 회사에 대한 정보는 다음과 같습니다:\n",
      "\n",
      "1. **Walt Disney Company (DIS)**\n",
      "   - CEO Bob Iger는 2025년 주주총회에서 회사의 기술과 창의력을 결합한 전략에 대해 발표할 예정입니다.\n",
      "   - 디즈니는 Fox의 부지에서 퇴거할 계획이며, 2025년 연말까지 해당 부지를 비울 예정입니다. (출처: [Yahoo Finance](https://finance.yahoo.com/news/disney-plans-vacate-storied-fox-225415138.html), 2025-04-01)\n",
      "\n",
      "이 정보는 주주 친화적인 결정에 관한 내용을 포함하고 있습니다. 다른 기업에 대한 추가 정보가 필요하시면 알려주십시오.\n",
      "==================================\u001b[1m Ai Message \u001b[0m==================================\n",
      "\n",
      "최근 주주 친화적인 결정을 내린 회사로는 **Walt Disney Company (DIS)**가 있습니다. CEO Bob Iger는 2025년 주주총회에서 회사의 기술과 창의력을 결합한 전략에 대해 발표할 예정이며, 디즈니는 Fox의 부지에서 퇴거할 계획을 세우고 2025년 연말까지 해당 부지를 비울 예정입니다. \n",
      "\n",
      "추가적인 기업에 대한 정보가 필요하시면 알려주시면 더 찾아보겠습니다.\n"
     ]
    }
   ],
   "source": [
    "query = \"최근에 경영진이 주주친화적ㅇ니 결정을 내린 회사가 있는지 찾아줘\"\n",
    "for chunk in graph.stream(\n",
    "    {\"messages\": [(\"user\", query)], \"query\" : query}, stream_mode=\"values\"\n",
    "    ):\n",
    "    chunk['messages'][-1].pretty_print()"
   ]
  },
  {
   "cell_type": "code",
   "execution_count": 14,
   "metadata": {},
   "outputs": [
    {
     "name": "stdout",
     "output_type": "stream",
     "text": [
      "================================\u001b[1m Human Message \u001b[0m=================================\n",
      "\n",
      "삼성전자 근 1년간 내부자 매도가 있었는지 확인해봐\n",
      "================================\u001b[1m Human Message \u001b[0m=================================\n",
      "Name: domestic_insider_researcher\n",
      "\n",
      "삼성전자에서 최근 1년간의 내부자 매도 활동은 다음과 같습니다:\n",
      "\n",
      "1. **2025-03-21**\n",
      "   - **보고자**: 이혁재 (사외이사)\n",
      "   - **매도주식 수**: 200주\n",
      "\n",
      "2. **2025-03-19**\n",
      "   - **보고자**: 송상철 (상무)\n",
      "   - **매도주식 수**: 1,500주\n",
      "\n",
      "3. **2025-03-14**\n",
      "   - **보고자**: 송상철 (상무)\n",
      "   - **매도주식 수**: 2,500주\n",
      "\n",
      "4. **2025-03-11**\n",
      "   - **보고자**: 임전식 (상무)\n",
      "   - **매도주식 수**: 280주\n",
      "\n",
      "5. **2025-02-26**\n",
      "   - **보고자**: 윤성호 (상무)\n",
      "   - **매도주식 수**: 200주\n",
      "\n",
      "6. **2025-02-06**\n",
      "   - **보고자**: 최철환 (상무)\n",
      "   - **매도주식 수**: 821주\n",
      "   - **보고자**: 조미선 (상무)\n",
      "   - **매도주식 수**: 2,772주\n",
      "\n",
      "7. **2025-01-06**\n",
      "   - **보고자**: 권혁우 (상무)\n",
      "   - **매도주식 수**: 300주\n",
      "\n",
      "이 외에도 여러 명의 내부자가 주식을 매도했으며, 각 매도 건수는 상기 목록에서 확인할 수 있습니다. 추가 정보가 필요하시면 말씀해 주세요.\n",
      "================================\u001b[1m Human Message \u001b[0m=================================\n",
      "Name: data_cleansing\n",
      "\n",
      "삼성전자에서 최근 1년간의 내부자 매도 활동은 다음과 같습니다:\n",
      "\n",
      "1. **2025-03-21**\n",
      "   - **보고자**: 이혁재 (사외이사)\n",
      "   - **매도주식 수**: 200주\n",
      "\n",
      "2. **2025-03-19**\n",
      "   - **보고자**: 송상철 (상무)\n",
      "   - **매도주식 수**: 1,500주\n",
      "\n",
      "3. **2025-03-14**\n",
      "   - **보고자**: 송상철 (상무)\n",
      "   - **매도주식 수**: 2,500주\n",
      "\n",
      "4. **2025-03-11**\n",
      "   - **보고자**: 임전식 (상무)\n",
      "   - **매도주식 수**: 280주\n",
      "\n",
      "5. **2025-02-26**\n",
      "   - **보고자**: 윤성호 (상무)\n",
      "   - **매도주식 수**: 200주\n",
      "\n",
      "6. **2025-02-06**\n",
      "   - **보고자**: 최철환 (상무)\n",
      "   - **매도주식 수**: 821주\n",
      "   - **보고자**: 조미선 (상무)\n",
      "   - **매도주식 수**: 2,772주\n",
      "\n",
      "7. **2025-01-06**\n",
      "   - **보고자**: 권혁우 (상무)\n",
      "   - **매도주식 수**: 300주\n",
      "\n",
      "위의 내용에 따르면, 삼성전자에서는 최근 1년간 여러 차례 내부자 매도 활동이 있었습니다.\n",
      "==================================\u001b[1m Ai Message \u001b[0m==================================\n",
      "\n",
      "삼성전자에서 최근 1년간의 내부자 매도 활동은 다음과 같습니다:\n",
      "\n",
      "1. **2025-03-21**\n",
      "   - **보고자**: 이혁재 (사외이사)\n",
      "   - **매도주식 수**: 200주\n",
      "\n",
      "2. **2025-03-19**\n",
      "   - **보고자**: 송상철 (상무)\n",
      "   - **매도주식 수**: 1,500주\n",
      "\n",
      "3. **2025-03-14**\n",
      "   - **보고자**: 송상철 (상무)\n",
      "   - **매도주식 수**: 2,500주\n",
      "\n",
      "4. **2025-03-11**\n",
      "   - **보고자**: 임전식 (상무)\n",
      "   - **매도주식 수**: 280주\n",
      "\n",
      "5. **2025-02-26**\n",
      "   - **보고자**: 윤성호 (상무)\n",
      "   - **매도주식 수**: 200주\n",
      "\n",
      "6. **2025-02-06**\n",
      "   - **보고자**: 최철환 (상무)\n",
      "   - **매도주식 수**: 821주\n",
      "   - **보고자**: 조미선 (상무)\n",
      "   - **매도주식 수**: 2,772주\n",
      "\n",
      "7. **2025-01-06**\n",
      "   - **보고자**: 권혁우 (상무)\n",
      "   - **매도주식 수**: 300주\n",
      "\n",
      "위의 내용에 따르면, 삼성전자에서는 최근 1년간 여러 차례 내부자 매도 활동이 있었습니다. 추가 정보가 필요하시면 말씀해 주세요.\n"
     ]
    }
   ],
   "source": [
    "query = \"삼성전자 근 1년간 내부자 매도가 있었는지 확인해봐\"\n",
    "for chunk in graph.stream(\n",
    "    {\"messages\": [(\"user\", query)], \"query\" : query}, stream_mode=\"values\"\n",
    "    ):\n",
    "    chunk['messages'][-1].pretty_print()"
   ]
  },
  {
   "cell_type": "code",
   "execution_count": 18,
   "metadata": {},
   "outputs": [
    {
     "name": "stdout",
     "output_type": "stream",
     "text": [
      "================================\u001b[1m Human Message \u001b[0m=================================\n",
      "\n",
      "테슬라 향후 주가가 어떻게 될까\n",
      "================================\u001b[1m Human Message \u001b[0m=================================\n",
      "Name: market_data_retrieval\n",
      "\n",
      "미안하지만, 주가의 향후 변동에 대한 예측이나 의견을 제공할 수 없습니다. 대신, 테슬라의 현재 주가 정보를 원하시면 알려주세요.\n"
     ]
    },
    {
     "name": "stderr",
     "output_type": "stream",
     "text": [
      "[*********************100%***********************]  1 of 1 completed\n"
     ]
    },
    {
     "name": "stdout",
     "output_type": "stream",
     "text": [
      "================================\u001b[1m Human Message \u001b[0m=================================\n",
      "Name: market_data_retrieval\n",
      "\n",
      "현재 테슬라(TSLA)의 주가 정보는 다음과 같습니다:\n",
      "\n",
      "- 종가: 282.76 USD\n",
      "- 고가: 284.99 USD\n",
      "- 저가: 251.27 USD\n",
      "- 시가: 254.60 USD\n",
      "- 거래량: 209,746,300 주\n",
      "\n",
      "이 정보는 2025년 4월 2일 기준입니다.\n",
      "==================================\u001b[1m Ai Message \u001b[0m==================================\n",
      "\n",
      "죄송하지만, 테슬라의 향후 주가 변동에 대한 예측이나 의견을 제공할 수 없습니다. 대신, 현재 테슬라(TSLA)의 주가 정보는 다음과 같습니다:\n",
      "\n",
      "- 종가: 282.76 USD\n",
      "- 고가: 284.99 USD\n",
      "- 저가: 251.27 USD\n",
      "- 시가: 254.60 USD\n",
      "- 거래량: 209,746,300 주\n",
      "\n",
      "이 정보는 2025년 4월 2일 기준입니다. 추가적인 정보가 필요하시면 말씀해 주세요.\n"
     ]
    }
   ],
   "source": [
    "query = \"테슬라 향후 주가가 어떻게 될까\"\n",
    "for chunk in graph.stream(\n",
    "    {\"messages\": [(\"user\", query)], \"query\" : query}, stream_mode=\"values\"\n",
    "    ):\n",
    "    chunk['messages'][-1].pretty_print()  "
   ]
  },
  {
   "cell_type": "code",
   "execution_count": 14,
   "metadata": {},
   "outputs": [
    {
     "name": "stdout",
     "output_type": "stream",
     "text": [
      "================================\u001b[1m Human Message \u001b[0m=================================\n",
      "\n",
      "삼성전자의 실적 발표 이후 시장 반응이 어떤가요? 투자해도 괜찮을까요?\n",
      "================================\u001b[1m Human Message \u001b[0m=================================\n",
      "Name: news_and_sentiment_retrieval\n",
      "\n",
      "삼성전자는 2025년 1분기 잠정 실적 발표를 앞두고 있으며, 시장에서는 다음과 같은 반응과 기대가 나타나고 있습니다.\n",
      "\n",
      "1. **AI 반도체 수요 증가**: AI 반도체와 관련한 수요가 급증하고 있어, 삼성전자의 반도체 부문 적자 폭이 줄어들 것이라는 기대가 커지고 있습니다. 이는 AI 서버용 고부가가치 메모리 수요 증가에 기인하고 있습니다.\n",
      "\n",
      "2. **스마트폰 및 가전 부문**: 이러한 부문에서는 안정적인 실적 유지를 예상하고 있습니다. 특히 삼성전자는 HBM3 고성능 메모리의 확대 생산을 통해 경쟁력을 갖추고 있습니다.\n",
      "\n",
      "3. **글로벌 데이터센터 투자**: 낸드플래시 가격이 반등하고 있으며, 이는 글로벌 데이터센터 투자 증가와 관련이 있습니다. 그러나 AI와 클라우드 수요가 전체 시장에 미치는 영향에서도 변동성이 존재하고 있습니다.\n",
      "\n",
      "4. **실적 전망**: 2025년 삼성전자의 영업이익은 기존 예상보다 하향 조정되어 35.1조 원으로 예상되고 있으며, 이는 DRAM과 NAND 가격 하락 압력 때문입니다.\n",
      "\n",
      "5. **장기적인 주가 회복 기대**: 삼성전자의 주가는 2025년에 긍정적인 실적 발표가 예상되며, 기술 혁신과 시장 리더십을 유지함으로써 상승할 가능성이 제기되고 있습니다. 주식 분석가들은 2025년 4월부터 5월까지 삼성전자가 주도하는 상승장이 펼쳐질 수 있다고 보고 있습니다.\n",
      "\n",
      "결론적으로, 삼성전자가 반도체 시장에서 큰 점유율을 유지하고 있으며, 향후 AI 반도체 시장에서도 중요하게 작용할 것으로 기대되므로, 현재 시장 반응과 함께 투자 관점에서도 긍정적인 흐름이 보일 가능성이 있습니다.\n",
      "==================================\u001b[1m Ai Message \u001b[0m==================================\n",
      "\n",
      "삼성전자의 실적 발표 이후 시장 반응은 다음과 같습니다.\n",
      "\n",
      "1. **AI 반도체 수요 증가**: AI 반도체와 관련한 수요 급증으로 인해 삼성전자의 반도체 부문 적자가 줄어들 것이라는 기대가 커지고 있습니다.\n",
      "\n",
      "2. **스마트폰 및 가전 부문**: 이 부문에서는 안정적인 실적 유지를 예상하고 있으며, HBM3 고성능 메모리의 확대 생산으로 경쟁력을 높이고 있습니다.\n",
      "\n",
      "3. **글로벌 데이터센터 투자**: 낸드플래시 가격이 반등하고 있으며, 이는 글로벌 데이터센터 투자 증가와 관련이 있습니다. 하지만 AI와 클라우드 수요의 변동성도 존재합니다.\n",
      "\n",
      "4. **실적 전망**: 2025년 삼성전자의 영업이익 전망은 35.1조 원으로 하향 조정되었습니다. 이는 DRAM과 NAND 가격 하락 압력이 주요 원인입니다.\n",
      "\n",
      "5. **장기적인 주가 회복 기대**: 2025년에 긍정적인 실적 발표와 기술 혁신으로 주가 상승 가능성이 있으며, 주식 분석가들은 2025년 4월부터 5월 사이에 상승장이 펼쳐질 수 있다고 보고 있습니다.\n",
      "\n",
      "결론적으로, 삼성전자는 반도체 시장에서 큰 점유율을 유지하고 있으며, AI 반도체 시장에서도 중요한 역할을 할 것으로 기대됩니다. 따라서, 시장 반응과 함께 투자 관점에서도 긍정적인 흐름이 보일 가능성이 있습니다.\n"
     ]
    }
   ],
   "source": [
    "query = \"삼성전자의 실적 발표 이후 시장 반응이 어떤가요? 투자해도 괜찮을까요?\"\n",
    "for chunk in graph.stream(\n",
    "    {\"messages\": [(\"user\", query)], \"query\" : query}, stream_mode=\"values\"\n",
    "    ):\n",
    "    chunk['messages'][-1].pretty_print()  "
   ]
  },
  {
   "cell_type": "code",
   "execution_count": 14,
   "metadata": {},
   "outputs": [
    {
     "name": "stdout",
     "output_type": "stream",
     "text": [
      "================================\u001b[1m Human Message \u001b[0m=================================\n",
      "\n",
      "최근 미국 금리 변화가 국내 증시에 어떤 영향을 줄 수 있을까요?\n",
      "================================\u001b[1m Human Message \u001b[0m=================================\n",
      "Name: economic_data_retrieval\n",
      "\n",
      "죄송하지만, 저는 데이터 제공자로서 공적인 정보만을 제공할 수 있습니다. 최근 미국 금리 변화에 대한 데이터나 지표를 제공할 수 있으니, 필요한 특정 지표(예: 금리, CPI, 실업률 등)를 말씀해 주시면 해당 데이터를 가져오겠습니다.\n",
      "================================\u001b[1m Human Message \u001b[0m=================================\n",
      "Name: economic_data_retrieval\n",
      "\n",
      "다음은 최근의 Core CPI (소비자물가지수) 데이터입니다:\n",
      "\n",
      "1. **2025년 2월**\n",
      "   - Core CPI: 325.475\n",
      "   - 전년 대비 변화율 (YoY): 3.14%\n",
      "   - 전월 대비 변화율 (MoM): 0.23%\n",
      "   - 발표일: 2025년 3월 12일\n",
      "\n",
      "2. **2025년 1월**\n",
      "   - Core CPI: 324.739\n",
      "   - 전년 대비 변화율 (YoY): 3.29%\n",
      "   - 전월 대비 변화율 (MoM): 0.45%\n",
      "   - 발표일: 2025년 2월 12일\n",
      "\n",
      "3. **2024년 12월**\n",
      "   - Core CPI: 323.296\n",
      "   - 전년 대비 변화율 (YoY): 3.21%\n",
      "   - 전월 대비 변화율 (MoM): 0.21%\n",
      "   - 발표일: 2025년 1월 15일\n",
      "\n",
      "4. **2024년 11월**\n",
      "   - Core CPI: 322.619\n",
      "   - 전년 대비 변화율 (YoY): 3.28%\n",
      "   - 전월 대비 변화율 (MoM): 0.29%\n",
      "   - 발표일: 2024년 12월 11일\n",
      "\n",
      "5. **2024년 10월**\n",
      "   - Core CPI: 321.688\n",
      "   - 전년 대비 변화율 (YoY): 3.29%\n",
      "   - 전월 대비 변화율 (MoM): 0.27%\n",
      "   - 발표일: 2024년 11월 13일\n",
      "\n",
      "이 외에도 다른 특정 지표가 필요하시면 말씀해 주시기 바랍니다.\n",
      "================================\u001b[1m Human Message \u001b[0m=================================\n",
      "Name: analyst_team_leader\n",
      "\n",
      "최근의 Core CPI 데이터와 미국 금리 변화를 조합하여 분석해보면, 몇 가지 주요 통찰력을 얻을 수 있습니다.\n",
      "\n",
      "1. **미국의 금리 변화**:\n",
      "   - 최근 미국 연방준비제도(Fed)는 2025년 금리를 4.25%에서 4.5%로 유지하고 있으며, 중앙은행 위원들에 따르면 중기적으로 추가적으로 금리 인하가 예상되고 있습니다. 이는 경제 활동을 촉진하고 인플레이션 압력을 줄이기 위한 전략으로 볼 수 있습니다.\n",
      "\n",
      "2. **Core CPI 분석**:\n",
      "   - 2025년 2월의 Core CPI는 3.14%로, 전년 대비 약간의 감소(1월의 3.29%)를 보였습니다. 이는 물가 상승률이 다소 안정세에 접어들고 있음을 나타내며, 소비자 물가 상승이 둔화되고 있는 추세입니다.\n",
      "\n",
      "3. **국내 증시의 영향**:\n",
      "   - 미국 금리가 낮아질 것으로 예상되면, 다음과 같은 방식으로 국내 증시에 긍정적인 영향을 미칠 가능성이 있습니다:\n",
      "     - **자금 유입**: 금리가 낮아짐에 따라 대출이 용이해지고 투자자들이 더 많은 자금을 주식시장에 투입할 가능성이 커집니다. 이는 주가 상승으로 이어질 수 있습니다.\n",
      "     - **환율 안정성**: 낮은 금리는 원화가치에 긍정적인 영향을 줄 수 있으며, 이는 외국인 투자가들로부터의 추가 유입을 촉진할 수 있습니다.\n",
      "     - **소비 증가**: 낮은 금리는 소비자의 대출 부담을 줄이고 소비가 증가할 가능성이 있으므로, 기업의 매출 증가로 이어질 수 있습니다.\n",
      "\n",
      "4. **리스크 요인**:\n",
      "   - 그러나 주의해야 할 점은 금리가 계속해서 낮아지는 동안 만약 인플레이션이 갑작스럽게 상승하면 Fed는 정책을 다시 바꿀 수 있습니다. 따라서 금리와 인플레이션 간의 균형을 지속적으로 관찰할 필요가 있습니다.\n",
      "\n",
      "결론적으로, 미국 금리 변화와 안정된 Core CPI는 국내 증시에 긍정적 영향을 미칠 가능성이 높으며, 이는 주식시장의 투자 심리를 개선할 수 있습니다. 그러나 지속적인 모니터링을 통해 외부 충격이나 인플레이션 변화에 대비하는 것이 중요합니다. \n",
      "\n",
      "FINISH\n",
      "==================================\u001b[1m Ai Message \u001b[0m==================================\n",
      "\n",
      "제공된 정보에 따르면, 최근 미국 금리 변화는 국내 증시에 긍정적인 영향을 미칠 수 있는 여러 요인을 보여주고 있습니다:\n",
      "\n",
      "1. **미국 금리 유지**: 미국 연방준비제도가 2025년 금리를 4.25%에서 4.5%로 유지하고 있으며, 중기적으로 추가 금리 인하가 예상되고 있습니다.\n",
      "\n",
      "2. **Core CPI 안정세**: 2025년 2월의 Core CPI는 3.14%로 전년 대비 약간 감소했으며, 이는 소비자 물가 상승이 둔화되고 있음을 시사합니다.\n",
      "\n",
      "3. **자금 유입**: 낮은 금리는 대출을 용이하게 하여 투자자들이 더 많은 자금을 주식시장에 투입할 가능성을 높이고, 이는 주가 상승으로 이어질 수 있습니다.\n",
      "\n",
      "4. **환율 안정성**: 낮은 금리는 원화 가치를 긍정적으로 영향을 주어 외국인 투자자들의 추가 유입을 촉진할 수 있습니다.\n",
      "\n",
      "5. **소비 증가**: 낮은 금리는 소비자의 대출 부담을 줄여 소비를 증가시키고, 이는 기업의 매출 증가로 이어질 수 있습니다.\n",
      "\n",
      "하지만, 인플레이션이 갑작스럽게 상승할 경우 금리 정책이 변경될 위험이 있으므로 지속적인 모니터링이 필요합니다. \n",
      "\n",
      "결론적으로, 미국 금리 변화와 안정된 Core CPI는 국내 증시에 긍정적인 영향을 미칠 가능성이 높지만, 외부 요인이나 인플레이션 변동에 대한 주의가 필요합니다.\n"
     ]
    }
   ],
   "source": [
    "query = \"최근 미국 금리 변화가 국내 증시에 어떤 영향을 줄 수 있을까요?\"\n",
    "for chunk in graph.stream(\n",
    "    {\"messages\": [(\"user\", query)], \"query\" : query}, stream_mode=\"values\"\n",
    "    ):\n",
    "    chunk['messages'][-1].pretty_print()  "
   ]
  },
  {
   "cell_type": "code",
   "execution_count": null,
   "metadata": {},
   "outputs": [],
   "source": []
  }
 ],
 "metadata": {
  "kernelspec": {
   "display_name": "VENV",
   "language": "python",
   "name": "python3"
  },
  "language_info": {
   "codemirror_mode": {
    "name": "ipython",
    "version": 3
   },
   "file_extension": ".py",
   "mimetype": "text/x-python",
   "name": "python",
   "nbconvert_exporter": "python",
   "pygments_lexer": "ipython3",
   "version": "3.11.8"
  }
 },
 "nbformat": 4,
 "nbformat_minor": 2
}
