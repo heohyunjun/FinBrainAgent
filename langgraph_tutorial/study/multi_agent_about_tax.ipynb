{
 "cells": [
  {
   "cell_type": "code",
   "execution_count": 1,
   "metadata": {},
   "outputs": [
    {
     "data": {
      "text/plain": [
       "True"
      ]
     },
     "execution_count": 1,
     "metadata": {},
     "output_type": "execute_result"
    }
   ],
   "source": [
    "from typing import Literal\n",
    "from typing_extensions import TypedDict, List\n",
    "import os \n",
    "\n",
    "# 서드파티 라이브러리\n",
    "from dotenv import load_dotenv\n",
    "from langchain_chroma import Chroma\n",
    "from langgraph.graph import StateGraph, START, END\n",
    "from pyzerox import zerox\n",
    "\n",
    "# LangChain 관련 라이브러리\n",
    "from langchain_core.documents import Document\n",
    "from langchain_core.output_parsers import StrOutputParser\n",
    "from langchain_core.prompts import PromptTemplate,ChatPromptTemplate\n",
    "from langchain_text_splitters import RecursiveCharacterTextSplitter\n",
    "from langchain_community.document_loaders import (\n",
    "    PyPDFLoader,\n",
    "    UnstructuredMarkdownLoader,\n",
    "    TextLoader,\n",
    ")\n",
    "from langchain_community.embeddings import HuggingFaceEmbeddings\n",
    "from langchain_community.tools import TavilySearchResults\n",
    "from langchain_groq import ChatGroq\n",
    "from langchain import hub\n",
    "from langchain_core.runnables import RunnablePassthrough\n",
    "import markdown\n",
    "from bs4 import BeautifulSoup\n",
    "from datetime import date\n",
    "from pydantic import BaseModel, Field\n",
    "\n",
    "load_dotenv()"
   ]
  },
  {
   "cell_type": "code",
   "execution_count": 17,
   "metadata": {},
   "outputs": [],
   "source": [
    "MODEL_NAME = \"gemma2-9b-it\"\n",
    "\n",
    "llm = ChatGroq(model_name=MODEL_NAME)\n",
    "small_llm = ChatGroq(model_name=MODEL_NAME)\n",
    "router_llm = ChatGroq(model_name=MODEL_NAME)\n",
    "\n",
    "class AgentState(TypedDict):\n",
    "    query: str\n",
    "    context: list\n",
    "    answer: str"
   ]
  },
  {
   "cell_type": "code",
   "execution_count": 18,
   "metadata": {},
   "outputs": [],
   "source": [
    "class Route(BaseModel):\n",
    "    target: Literal['income_tax', 'llm', 'real_estate_tax'] = Field(\n",
    "        description=\"The target for the query to answer\"\n",
    "    )\n",
    "\n",
    "router_system_prompt = \"\"\"\n",
    "You are an expert at routing a user's question to 'income_tax', 'llm', or 'real_estate_tax'.\n",
    "'income_tax' contains information about income tax up to December 2024.\n",
    "'real_estate_tax' contains information about real estate tax up to December 2024.\n",
    "if you think the question is not related to either 'income_tax' or 'real_estate_tax';\n",
    "you can route it to 'llm'.\"\"\"\n",
    "\n",
    "\n",
    "# 간단한 테스크 -> 저렴한 모델 사용해도 무방 \n",
    "\n",
    "structured_router_llm = router_llm.with_structured_output(Route)\n",
    "\n",
    "\n",
    "router_prompt = ChatPromptTemplate.from_messages([\n",
    "    (\"system\", router_system_prompt),\n",
    "    (\"user\", \"{query}\"),\n",
    "])\n",
    "def router(state: AgentState) -> Literal['income_tax', 'real_estate_tax', 'llm']:\n",
    "    query = state[\"query\"]\n",
    "    router_chain = router_prompt | structured_router_llm \n",
    "    route = router_chain.invoke({\"query\": query})\n",
    "    print(f\"route == {route}\")\n",
    "    print(f\"route.target == {route.target}\")\n",
    "    return route.target"
   ]
  },
  {
   "cell_type": "code",
   "execution_count": 25,
   "metadata": {},
   "outputs": [],
   "source": [
    "def call_llm(state: AgentState) -> AgentState:\n",
    "    query = state[\"query\"]\n",
    "    llm_chain = small_llm | StrOutputParser()\n",
    "    llm_answer = llm_chain.invoke(query)\n",
    "\n",
    "    return {\"answer\" : llm_answer}\n",
    "\n"
   ]
  },
  {
   "cell_type": "code",
   "execution_count": 20,
   "metadata": {},
   "outputs": [],
   "source": [
    "from income_tax_graph import graph as income_tax_agent\n",
    "from real_estate_graph import graph as real_estate_tax_agent\n"
   ]
  },
  {
   "cell_type": "code",
   "execution_count": 26,
   "metadata": {},
   "outputs": [],
   "source": [
    "graph_builder = StateGraph(AgentState)\n",
    "\n",
    "\n",
    "\n",
    "graph_builder.add_node('income_tax', income_tax_agent)\n",
    "graph_builder.add_node('real_estate_tax', real_estate_tax_agent)\n",
    "graph_builder.add_node('llm', call_llm)\n",
    "\n",
    "graph_builder.add_conditional_edges(\n",
    "    START,\n",
    "    router,\n",
    "    {\n",
    "        \"income_tax\" : \"income_tax\",\n",
    "        \"real_estate_tax\" : \"real_estate_tax\",\n",
    "        \"llm\" : \"llm\"\n",
    "        \n",
    "    })\n",
    "\n",
    "graph_builder.add_edge('income_tax', END)\n",
    "graph_builder.add_edge('real_estate_tax', END)\n",
    "graph_builder.add_edge('llm', END)\n",
    "\n",
    "graph = graph_builder.compile()\n",
    "\n"
   ]
  },
  {
   "cell_type": "code",
   "execution_count": 27,
   "metadata": {},
   "outputs": [
    {
     "data": {
      "image/png": "[encoded data removed]",
      "text/plain": [
       "<IPython.core.display.Image object>"
      ]
     },
     "metadata": {},
     "output_type": "display_data"
    }
   ],
   "source": [
    "from IPython.display import Image, display\n",
    "\n",
    "display(\n",
    "    Image(\n",
    "        graph.get_graph().draw_mermaid_png()\n",
    "    )\n",
    ")\n"
   ]
  },
  {
   "cell_type": "code",
   "execution_count": 28,
   "metadata": {},
   "outputs": [
    {
     "name": "stdout",
     "output_type": "stream",
     "text": [
      "route == target='llm'\n",
      "route.target == llm\n"
     ]
    },
    {
     "data": {
      "text/plain": [
       "{'query': '떡볶이는 어디가 맛있나요?',\n",
       " 'answer': '떡볶이 맛집은 너무나 많아서 딱 하나를 추천하기는 어렵네요! \\n\\n어떤 떡볶이 스타일을 좋아하시나요? \\n\\n* **진짜 떡볶이 맛:** 쫄깃한 떡과 매콤달콤한 양념, 그리고 어묵! 순수한 떡볶이 맛을 원한다면, **매운 맛이 강한 골목 떡볶이**를 추천해요. \\n* **개성 넘치는 떡볶이:** 퓨전 떡볶이, 떡볶이 라면, 치즈 떡볶이 등 다양한 변형을 즐기고 싶다면, ** trendy 트렌디 떡볶이집**을 찾아보세요! \\n\\n혹시 지역이나 특별히 원하는 떡볶이 종류를 말씀해주시면 더 자세히 추천해드릴 수 있어요! 😊\\n'}"
      ]
     },
     "execution_count": 28,
     "metadata": {},
     "output_type": "execute_result"
    }
   ],
   "source": [
    "initial_state = {'query': '떡볶이는 어디가 맛있나요?'}\n",
    "graph.invoke(initial_state)"
   ]
  },
  {
   "cell_type": "code",
   "execution_count": 30,
   "metadata": {},
   "outputs": [
    {
     "name": "stdout",
     "output_type": "stream",
     "text": [
      "route == target='real_estate_tax'\n",
      "route.target == real_estate_tax\n"
     ]
    },
    {
     "data": {
      "text/plain": [
       "{'query': '집 25억은 세금 얼마냐',\n",
       " 'answer': '죄송합니다만, 제가 제공하는 정보만으로는 사용자 주택의 세금을 계산해 드릴 수 없습니다. \\n\\n주택 세금 계산에는 주택 종류, 면적, 소재지, 공시가격, 공정시장가액비율, 공제 가능 금액 등 다양한 정보가 필요합니다. \\n\\n특히, 2025년 공시가격에 적용될 공정시장가액비율은 현재 확정되지 않았습니다. 관련 기관의 공식 발표를 기다려야 합니다. \\n\\n위 정보가 확정되면 주택 종류, 면적, 소재지 등을 알려주시면 주택 세금을 계산해드릴 수 있습니다. \\n\\n\\n'}"
      ]
     },
     "execution_count": 30,
     "metadata": {},
     "output_type": "execute_result"
    }
   ],
   "source": [
    "initial_state = {'query': '집 25억은 세금 얼마냐'}\n",
    "graph.invoke(initial_state)"
   ]
  },
  {
   "cell_type": "code",
   "execution_count": 31,
   "metadata": {},
   "outputs": [
    {
     "name": "stdout",
     "output_type": "stream",
     "text": [
      "route == target='real_estate_tax'\n",
      "route.target == real_estate_tax\n"
     ]
    },
    {
     "data": {
      "text/plain": [
       "{'query': '집 1억은 세금 얼마냐',\n",
       " 'answer': '주택의 공시가격이 1억 원이라고 하셨고, 2025년 3월 11일 기준으로 공정시장가액비율을 60%로 가정했을 때 과세표준은 6,000만 원입니다. \\n\\n**다만, 정확한 과세표준을 계산하기 위해서는 2025년 3월 11일 기준의 공정시장가액비율을 확인해야 합니다.** \\n\\n\\n공정시장가액비율은 변동될 수 있으며, 제공된 정보만으로는 정확하게 알 수 없습니다.  \\n\\n**종합부동산세는 과세표준에 따라 계산되며, 아래와 같은 세율을 적용합니다.** \\n\\n* **1억 원 초과** 5,206만원 + (1억5천만원 초과액 × 48%) \\n\\n따라서 공정시장가액비율 및 2025년 세율을 기반으로 계산하면 정확한 종합부동산세를 알 수 있습니다. \\n\\n\\n\\n'}"
      ]
     },
     "execution_count": 31,
     "metadata": {},
     "output_type": "execute_result"
    }
   ],
   "source": [
    "initial_state = {'query': '집 1억은 세금 얼마냐'}\n",
    "graph.invoke(initial_state)"
   ]
  },
  {
   "cell_type": "code",
   "execution_count": null,
   "metadata": {},
   "outputs": [],
   "source": []
  },
  {
   "cell_type": "code",
   "execution_count": null,
   "metadata": {},
   "outputs": [],
   "source": []
  },
  {
   "cell_type": "code",
   "execution_count": null,
   "metadata": {},
   "outputs": [],
   "source": []
  },
  {
   "cell_type": "code",
   "execution_count": null,
   "metadata": {},
   "outputs": [],
   "source": []
  },
  {
   "cell_type": "code",
   "execution_count": null,
   "metadata": {},
   "outputs": [],
   "source": []
  }
 ],
 "metadata": {
  "kernelspec": {
   "display_name": "VENV",
   "language": "python",
   "name": "python3"
  },
  "language_info": {
   "codemirror_mode": {
    "name": "ipython",
    "version": 3
   },
   "file_extension": ".py",
   "mimetype": "text/x-python",
   "name": "python",
   "nbconvert_exporter": "python",
   "pygments_lexer": "ipython3",
   "version": "3.11.8"
  }
 },
 "nbformat": 4,
 "nbformat_minor": 2
}
