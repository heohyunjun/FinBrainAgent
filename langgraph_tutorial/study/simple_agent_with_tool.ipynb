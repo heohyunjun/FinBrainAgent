{
 "cells": [
  {
   "cell_type": "code",
   "execution_count": 66,
   "metadata": {},
   "outputs": [
    {
     "data": {
      "text/plain": [
       "True"
      ]
     },
     "execution_count": 66,
     "metadata": {},
     "output_type": "execute_result"
    }
   ],
   "source": [
    "from typing import Literal\n",
    "from typing_extensions import TypedDict, List\n",
    "import os \n",
    "\n",
    "# 서드파티 라이브러리\n",
    "from dotenv import load_dotenv\n",
    "from langchain_chroma import Chroma\n",
    "from langgraph.graph import StateGraph, START, END, MessagesState\n",
    "from pyzerox import zerox\n",
    "\n",
    "# LangChain 관련 라이브러리\n",
    "from langchain_core.documents import Document\n",
    "from langchain_core.output_parsers import StrOutputParser\n",
    "from langchain_core.prompts import PromptTemplate,ChatPromptTemplate\n",
    "from langchain_text_splitters import RecursiveCharacterTextSplitter\n",
    "from langchain_community.document_loaders import (\n",
    "    PyPDFLoader,\n",
    "    UnstructuredMarkdownLoader,\n",
    "    TextLoader,\n",
    ")\n",
    "from langchain_community.embeddings import HuggingFaceEmbeddings\n",
    "from langchain_community.tools import TavilySearchResults\n",
    "from langchain_groq import ChatGroq\n",
    "from langchain import hub\n",
    "from langchain_core.runnables import RunnablePassthrough\n",
    "import markdown\n",
    "from bs4 import BeautifulSoup\n",
    "from datetime import date\n",
    "from pydantic import BaseModel, Field\n",
    "from langgraph.prebuilt import tools_condition\n",
    "from langchain_core.messages import RemoveMessage, HumanMessage, SystemMessage\n",
    "load_dotenv()"
   ]
  },
  {
   "cell_type": "code",
   "execution_count": 2,
   "metadata": {},
   "outputs": [],
   "source": [
    "MODEL_NAME = \"gemma2-9b-it\"\n",
    "\n",
    "llm = ChatGroq(model_name=MODEL_NAME)\n",
    "small_llm = ChatGroq(model_name=MODEL_NAME)\n",
    "router_llm = ChatGroq(model_name=MODEL_NAME)\n"
   ]
  },
  {
   "cell_type": "code",
   "execution_count": 3,
   "metadata": {},
   "outputs": [],
   "source": [
    "from langchain_community.tools import DuckDuckGoSearchRun\n",
    "\n",
    "search_tool = DuckDuckGoSearchRun()"
   ]
  },
  {
   "cell_type": "code",
   "execution_count": 5,
   "metadata": {},
   "outputs": [],
   "source": [
    "from langchain.agents import load_tools\n",
    "\n",
    "loaded_tool_list = load_tools(\n",
    "    [\"arxiv\"],\n",
    ")"
   ]
  },
  {
   "cell_type": "code",
   "execution_count": 6,
   "metadata": {},
   "outputs": [],
   "source": [
    "from langchain_core.tools.retriever import create_retriever_tool"
   ]
  },
  {
   "cell_type": "code",
   "execution_count": 7,
   "metadata": {},
   "outputs": [
    {
     "name": "stderr",
     "output_type": "stream",
     "text": [
      "C:\\Users\\user\\AppData\\Local\\Temp\\ipykernel_21476\\730275842.py:1: LangChainDeprecationWarning: The class `HuggingFaceEmbeddings` was deprecated in LangChain 0.2.2 and will be removed in 1.0. An updated version of the class exists in the :class:`~langchain-huggingface package and should be used instead. To use it run `pip install -U :class:`~langchain-huggingface` and import as `from :class:`~langchain_huggingface import HuggingFaceEmbeddings``.\n",
      "  embeddings_model = HuggingFaceEmbeddings(\n",
      "c:\\USERS\\USER\\DESKTOP\\FINBRAINAGENT\\VENV\\Lib\\site-packages\\tqdm\\auto.py:21: TqdmWarning: IProgress not found. Please update jupyter and ipywidgets. See https://ipywidgets.readthedocs.io/en/stable/user_install.html\n",
      "  from .autonotebook import tqdm as notebook_tqdm\n"
     ]
    }
   ],
   "source": [
    "embeddings_model = HuggingFaceEmbeddings(\n",
    "    model_name='jhgan/ko-sroberta-nli',\n",
    "    model_kwargs={'device':'cpu'},\n",
    "    encode_kwargs={'normalize_embeddings':True},\n",
    ")\n",
    "\n",
    "\n",
    "\n",
    "#이미 생성된 크로마 db 가져오기\n",
    "vector_store = Chroma(\n",
    "    embedding_function=embeddings_model,\n",
    "    collection_name = \"income_tax_collection\",\n",
    "    persist_directory = \"./income_tax_collection\"\n",
    ")\n",
    "\n",
    "retriever = vector_store.as_retriever(search_kwargs = {\"k\":3})\n",
    "\n",
    "retriever_tool = create_retriever_tool(\n",
    "    retriever=retriever,\n",
    "    name='real_estate_tax_retriever',\n",
    "    description='Contains information about real estate tax up to December 2024',\n",
    ")"
   ]
  },
  {
   "cell_type": "code",
   "execution_count": 8,
   "metadata": {},
   "outputs": [],
   "source": [
    "from langgraph.prebuilt import ToolNode\n",
    "\n",
    "tool_list = [ search_tool, retriever_tool]  + loaded_tool_list\n",
    "llm_with_tools = small_llm.bind_tools(tool_list)\n",
    "tool_node = ToolNode(tool_list)"
   ]
  },
  {
   "cell_type": "code",
   "execution_count": 11,
   "metadata": {},
   "outputs": [],
   "source": [
    "def agent(state: MessagesState) -> MessagesState:\n",
    "    messages = state['messages']\n",
    "    response = llm_with_tools.invoke(messages)\n",
    "    return {'messages': [response]}"
   ]
  },
  {
   "cell_type": "code",
   "execution_count": 12,
   "metadata": {},
   "outputs": [],
   "source": [
    "graph_builder = StateGraph(MessagesState)\n",
    "\n",
    "graph_builder.add_node('agent', agent)\n",
    "graph_builder.add_node('tools', tool_node)\n",
    "\n",
    "graph_builder.add_edge(START, 'agent')\n",
    "graph_builder.add_conditional_edges(\n",
    "    'agent',\n",
    "    tools_condition\n",
    ")\n",
    "graph_builder.add_edge('tools', 'agent')\n",
    "\n",
    "graph= graph_builder.compile()"
   ]
  },
  {
   "cell_type": "code",
   "execution_count": 14,
   "metadata": {},
   "outputs": [
    {
     "data": {
      "image/png": "[encoded data removed]",
      "text/plain": [
       "<IPython.core.display.Image object>"
      ]
     },
     "metadata": {},
     "output_type": "display_data"
    }
   ],
   "source": [
    "from IPython.display import Image, display\n",
    "\n",
    "display(Image(graph.get_graph(xray=True).draw_mermaid_png()))"
   ]
  },
  {
   "cell_type": "code",
   "execution_count": 20,
   "metadata": {},
   "outputs": [
    {
     "data": {
      "text/plain": [
       "{'messages': [HumanMessage(content='집이 1000만원일때 종합부동산세 계산해줄수있냐', additional_kwargs={}, response_metadata={}, id='16c9dcc2-ed41-49ae-a80d-a11142206cb9'),\n",
       "  AIMessage(content='', additional_kwargs={'tool_calls': [{'id': 'call_c28z', 'function': {'arguments': '{\"query\":\"종합부동산세 계산 1000만원\"}', 'name': 'real_estate_tax_retriever'}, 'type': 'function'}]}, response_metadata={'token_usage': {'completion_tokens': 101, 'prompt_tokens': 1282, 'total_tokens': 1383, 'completion_time': 0.183636364, 'prompt_time': 0.04467853, 'queue_time': 0.022475627000000005, 'total_time': 0.228314894}, 'model_name': 'gemma2-9b-it', 'system_fingerprint': 'fp_10c08bf97d', 'finish_reason': 'tool_calls', 'logprobs': None}, id='run-049e0a38-a3be-4a90-9db6-fbf22f0ff542-0', tool_calls=[{'name': 'real_estate_tax_retriever', 'args': {'query': '종합부동산세 계산 1000만원'}, 'id': 'call_c28z', 'type': 'tool_call'}], usage_metadata={'input_tokens': 1282, 'output_tokens': 101, 'total_tokens': 1383}),\n",
       "  ToolMessage(content='제94조제1항제3호 및 목록에 따른 자산 중 제104조의3에 따른 비사업용 토지의 보유 현황을 고려하여 대통령령으로 정하는 자산\\n\\n소득세법\\n양도소득 과세표준\\n|       구간        |      세율       |\\n|:------------------:|:---------------:|\\n| 1,400만원 이하     |        16%      |\\n| 2,400만원 초과    | 22,204,000원 + (1,400만원 초과액 × 25% 세율) |\\n| 5,000만원 이하     | 1,124,000원 + (5,000만원 초과액 × 34% 세율) |\\n| 8,800만원 이하     | 5,206,000원 + (8,800만원 초과액 × 38% 세율) |\\n| 14,500만원 이하    | 5,206,000원 + (1,500만원 초과액 × 40% 세율) |\\n| 3,000만원 초과     | 12,406,000원 + (3,000만원 초과액 × 50% 세율) |\\n| 5,000만원 초과     | 12,406,000원 + (5,000만원 초과액 × 52% 세율) |\\n| 10,000만원 초과    | 48,406,000원 + (10억원 초과액 × 55% 세율) |\\n10. 미등기 양도자산\\n양도소득 과세표준의 100분의 70\\n11. 제4조 제1항 제3호 및 나목에 따른 자산\\n가. 소유주의 비율·시가총액 등을 고려하여 대통령령으로 정하는 대주주(이하 이 장에서 “대주주”라 한다)가 양도하는 주식\\n1) 1년 미만 보유한 주식 등으로서 중소기업 외의 법인의 주식; 양도소득 과세표준의 100분의 30\\n2) 1)에 해당하지 아니하는 주식\\n양도소득 과세표준\\n|       구간        |      세율       |\\n|:------------------:|:---------------:|\\n| 3,000만원 이하     |        20%      |\\n| 3,000만원 초과     | 6,000만원 + (3,000일 초과액 × 25% 세율) |\\n나. 대주주가 아닌 자가 양도하는 주식\\n1) 중소기업의 주식; 양도소득 과세표준의 100분의 10\\n2) 1)에 해당하지 아니하는 주식; 양도소득 과세표준의 100분의 20\\n12. 제4조 제1항 제6호에 따른 기타 자산\\n양도소득 과세표준의 100분의 10\\n나. 그 밖의 주식\\n양도소득 과세표준의 100분의 20\\n13. 제4조 제1항 제5호에 따른 파생상품 등\\n양도소득 과세표준의 100분의 20\\n14. 제94조 제1항 제6호에 따른 신탁 수익권\\n양도소득과세표준\\n3억원 이하\\n3억원 초과\\n6천만원 + (3억원 초과액 × 25%)\\n\\n7. 삭제<2014. 1. 1.>  \\n8. 제104조의3에 따른 비사업용 토지    \\n법제처  92    국가법령정보센터\\n소득세법\\n양도소득세표준\\n|  구분           |  세율                              |\\n|-----------------|------------------------------------|\\n| 1,400만원 이하  | 16% 세트                           |\\n| 1,400만원 초과  | 22만원 + (1,400만원 초과액 × 25%) 세트 |\\n| 5,000만원 이하  | 1,124만원 + (5,000만원 초과액 × 34%) 세트 |\\n| 5,000만원 초과  | 2,416만원 + (8,800만원 초과액 × 45%) 세트 |\\n| 1억 원 초과     | 5,206만원 + (1억5천만원 초과액 × 48%) 세트 |\\n| 3억 원 이하     | 1,942,406만원 + (3억 원 초과액 × 50%) 세트 |\\n| 5억 원 이하     | 2,942,406만원 + (5억 원 초과액 × 52%) 세트 |\\n| 10억 원 이하    | 4,942,406만원 + (10억 원 초과액 × 55%) 세트 |\\n9. 제94조제1항제1호 및 다목에 따른 자산 중 자산의 비사입용 토지의 보유 현황을 고려하여 대통령령으로 정하는 자산\\n양도소득세 자산\\n|  구분           |  세율                             |\\n|-----------------|-----------------------------------|\\n| 1,400만원 이하  | 16% 세트                          |\\n| 1,400만원 초과  | 22만원 + (1,400만원 초과액 × 25%) 세트 |\\n| 5,000만원 이하  | 1,124만원 + (5,000만원 초과액 × 34%) 세트 |\\n| 5,000만원 초과  | 2,416만원 + (8,800만원 초과액 × 45%) 세트 |\\n| 1억 원 초과     | 5,206만원 + (1억5천만원 초과액 × 48%) 세트 |\\n| 3억 원 이하     | 1,942,406만원 + (3억 원 초과액 × 50%) 세트 |\\n| 5억 원 이하     | 2,942,406만원 + (5억 원 초과액 × 52%) 세트 |\\n| 10억 원 이하    | 4,942,406만원 + (10억 원 초과액 × 55%) 세트 |\\n10. 미등기양도자산\\n\\n제104조제1항제1호에 따른 세율 적용대상 자산의 경우: 다음의 계산식에 따른 금액\\n\\n예정신고 산출세액 = [(A + B - C) × D] - E\\nA: 이미 신고한 자산의 양도소득금액\\nB: 2회 이상 신고하는 자산의 양도소득금액\\nC: 양도소득 기본공제\\nD: 제104조제1항에 따른 세율\\nE: 이미 신고한 예정신고 산출세액\\n\\n제104조제1항제8호 또는 제10호에 따른 세율 적용대상 자산의 경우: 다음의 계산식에 따른 금액\\n\\n예정신고 산출세액 = [(A - B - C) × D] - E\\nA: 이미 신고한 자산의 양도소득금액\\nB: 2회 이상 신고하는 자산의 양도소득금액\\nC: 양도소득 기본공제\\nD: 제104조 제1항제8호 또는 제10호에 따른 세율\\nE: 이미 신고한 예정신고 산출세액\\n\\n\\n삭제<2020. 12. 29.>\\n\\n\\n제104조제1항제14호에 따른 세율 적용대상 자산의 경우: 다음의 계산식에 따른 금액', name='real_estate_tax_retriever', id='1dc52046-ca16-42cb-a1a0-7a314788ed9a', tool_call_id='call_c28z'),\n",
       "  AIMessage(content='', additional_kwargs={'tool_calls': [{'id': 'call_z053', 'function': {'arguments': '{\"query\":\"\\\\uc885\\\\ud569\\\\ubd80\\\\ub3d9\\\\uc0b0\\\\uc138 \\\\uacc4\\\\uc0b0 1000\\\\ub9cc\\\\uc6d0\"}', 'name': 'real_estate_tax_retriever'}, 'type': 'function'}]}, response_metadata={'token_usage': {'completion_tokens': 101, 'prompt_tokens': 3424, 'total_tokens': 3525, 'completion_time': 0.183636364, 'prompt_time': 0.145792456, 'queue_time': 0.020244330000000005, 'total_time': 0.32942882}, 'model_name': 'gemma2-9b-it', 'system_fingerprint': 'fp_10c08bf97d', 'finish_reason': 'tool_calls', 'logprobs': None}, id='run-9c582d69-c23e-4e33-8304-2d8e79afb4fa-0', tool_calls=[{'name': 'real_estate_tax_retriever', 'args': {'query': '종합부동산세 계산 1000만원'}, 'id': 'call_z053', 'type': 'tool_call'}], usage_metadata={'input_tokens': 3424, 'output_tokens': 101, 'total_tokens': 3525}),\n",
       "  ToolMessage(content='제94조제1항제3호 및 목록에 따른 자산 중 제104조의3에 따른 비사업용 토지의 보유 현황을 고려하여 대통령령으로 정하는 자산\\n\\n소득세법\\n양도소득 과세표준\\n|       구간        |      세율       |\\n|:------------------:|:---------------:|\\n| 1,400만원 이하     |        16%      |\\n| 2,400만원 초과    | 22,204,000원 + (1,400만원 초과액 × 25% 세율) |\\n| 5,000만원 이하     | 1,124,000원 + (5,000만원 초과액 × 34% 세율) |\\n| 8,800만원 이하     | 5,206,000원 + (8,800만원 초과액 × 38% 세율) |\\n| 14,500만원 이하    | 5,206,000원 + (1,500만원 초과액 × 40% 세율) |\\n| 3,000만원 초과     | 12,406,000원 + (3,000만원 초과액 × 50% 세율) |\\n| 5,000만원 초과     | 12,406,000원 + (5,000만원 초과액 × 52% 세율) |\\n| 10,000만원 초과    | 48,406,000원 + (10억원 초과액 × 55% 세율) |\\n10. 미등기 양도자산\\n양도소득 과세표준의 100분의 70\\n11. 제4조 제1항 제3호 및 나목에 따른 자산\\n가. 소유주의 비율·시가총액 등을 고려하여 대통령령으로 정하는 대주주(이하 이 장에서 “대주주”라 한다)가 양도하는 주식\\n1) 1년 미만 보유한 주식 등으로서 중소기업 외의 법인의 주식; 양도소득 과세표준의 100분의 30\\n2) 1)에 해당하지 아니하는 주식\\n양도소득 과세표준\\n|       구간        |      세율       |\\n|:------------------:|:---------------:|\\n| 3,000만원 이하     |        20%      |\\n| 3,000만원 초과     | 6,000만원 + (3,000일 초과액 × 25% 세율) |\\n나. 대주주가 아닌 자가 양도하는 주식\\n1) 중소기업의 주식; 양도소득 과세표준의 100분의 10\\n2) 1)에 해당하지 아니하는 주식; 양도소득 과세표준의 100분의 20\\n12. 제4조 제1항 제6호에 따른 기타 자산\\n양도소득 과세표준의 100분의 10\\n나. 그 밖의 주식\\n양도소득 과세표준의 100분의 20\\n13. 제4조 제1항 제5호에 따른 파생상품 등\\n양도소득 과세표준의 100분의 20\\n14. 제94조 제1항 제6호에 따른 신탁 수익권\\n양도소득과세표준\\n3억원 이하\\n3억원 초과\\n6천만원 + (3억원 초과액 × 25%)\\n\\n7. 삭제<2014. 1. 1.>  \\n8. 제104조의3에 따른 비사업용 토지    \\n법제처  92    국가법령정보센터\\n소득세법\\n양도소득세표준\\n|  구분           |  세율                              |\\n|-----------------|------------------------------------|\\n| 1,400만원 이하  | 16% 세트                           |\\n| 1,400만원 초과  | 22만원 + (1,400만원 초과액 × 25%) 세트 |\\n| 5,000만원 이하  | 1,124만원 + (5,000만원 초과액 × 34%) 세트 |\\n| 5,000만원 초과  | 2,416만원 + (8,800만원 초과액 × 45%) 세트 |\\n| 1억 원 초과     | 5,206만원 + (1억5천만원 초과액 × 48%) 세트 |\\n| 3억 원 이하     | 1,942,406만원 + (3억 원 초과액 × 50%) 세트 |\\n| 5억 원 이하     | 2,942,406만원 + (5억 원 초과액 × 52%) 세트 |\\n| 10억 원 이하    | 4,942,406만원 + (10억 원 초과액 × 55%) 세트 |\\n9. 제94조제1항제1호 및 다목에 따른 자산 중 자산의 비사입용 토지의 보유 현황을 고려하여 대통령령으로 정하는 자산\\n양도소득세 자산\\n|  구분           |  세율                             |\\n|-----------------|-----------------------------------|\\n| 1,400만원 이하  | 16% 세트                          |\\n| 1,400만원 초과  | 22만원 + (1,400만원 초과액 × 25%) 세트 |\\n| 5,000만원 이하  | 1,124만원 + (5,000만원 초과액 × 34%) 세트 |\\n| 5,000만원 초과  | 2,416만원 + (8,800만원 초과액 × 45%) 세트 |\\n| 1억 원 초과     | 5,206만원 + (1억5천만원 초과액 × 48%) 세트 |\\n| 3억 원 이하     | 1,942,406만원 + (3억 원 초과액 × 50%) 세트 |\\n| 5억 원 이하     | 2,942,406만원 + (5억 원 초과액 × 52%) 세트 |\\n| 10억 원 이하    | 4,942,406만원 + (10억 원 초과액 × 55%) 세트 |\\n10. 미등기양도자산\\n\\n제104조제1항제1호에 따른 세율 적용대상 자산의 경우: 다음의 계산식에 따른 금액\\n\\n예정신고 산출세액 = [(A + B - C) × D] - E\\nA: 이미 신고한 자산의 양도소득금액\\nB: 2회 이상 신고하는 자산의 양도소득금액\\nC: 양도소득 기본공제\\nD: 제104조제1항에 따른 세율\\nE: 이미 신고한 예정신고 산출세액\\n\\n제104조제1항제8호 또는 제10호에 따른 세율 적용대상 자산의 경우: 다음의 계산식에 따른 금액\\n\\n예정신고 산출세액 = [(A - B - C) × D] - E\\nA: 이미 신고한 자산의 양도소득금액\\nB: 2회 이상 신고하는 자산의 양도소득금액\\nC: 양도소득 기본공제\\nD: 제104조 제1항제8호 또는 제10호에 따른 세율\\nE: 이미 신고한 예정신고 산출세액\\n\\n\\n삭제<2020. 12. 29.>\\n\\n\\n제104조제1항제14호에 따른 세율 적용대상 자산의 경우: 다음의 계산식에 따른 금액', name='real_estate_tax_retriever', id='56a85289-da99-4983-8380-5ec18cb69daa', tool_call_id='call_z053'),\n",
       "  AIMessage(content='```json\\n{\\n\\t\"tool_call\": {\\n\\t\\t\"id\": \"call_call_call_call_call_call_call_call_call_call_call_call_call_call_call_call_call_call_call_call_call_call_call_call_call_call_call_call_call_call_call_call_call_call_call_call_call_call_call_call_call_call_call_call_call_call_call_call_call_call_call_call_call_call_call_call_call_call_call_call_call_call_call_call_call_call_call_call_call_call_call_call_call_call_call_call_call_call_call_call_call_call_call_call_call_call_call_call_call_call_call_call_call_call_call_call_call_call_call_call_call_call_call_call_call_call_call_call_call_call_call_call_call_call_call_call_call_call_call_call_call_call_call_call_call_call_call_call_call_call_call_call_call_call_call_call_call_call_call_call_call_call_call_call_call_call_call_call_call_call_call_call_call_call_call_call_call_call_call_call_call_call_call_call_call_call_call_call_call_call_call_call_call_call_call_call_call_call_call_call_call_call_call_call_call_call_call_call_call_call_call_call_call_call_call_call_call_call_call_call_call_call_call_call_call_call_call_call_call_call_call_call_call_call_call_call_call_call_call_call_call_call_call_call_call_call_call_call_call_call_call_call_call_call_call_call_call_call_call_call_call_call_call_call_call_call_call_call_call_call_call_call_call_call_call_call_call_call_call_call_call_call_call_call_call_call_call_call_call_call_call_call_call_call_call_call_call_call_call_call_call_<h1>\\n```\\n    \\n```\\n  \\n\\n  \\n```json\\n  \\n```\\n\\n```json\\n  \\n```json\\n    \\n```json\\n  \\n```json\\n  \\n```json\\n  \\n```json\\n  \\n```json\\n  \\n```json\\n  \\n```json\\n  \\n```json\\n  \\n```json\\n  \\n```json\\n  \\n```json\\n  \\n```json\\n  \\n```json\\n  \\n```json\\n  \\n```json\\n  \\n```json\\n  \\n```json\\n  \\n```json\\n  \\n```\\n  \\n```json\\n  \\n```json\\n  \\n```json\\n  \\n```json\\n  \\n```json\\n  \\n```json\\n  \\n```json\\n  \\n```json\\n  \\n```json\\n  \\n```json\\n  \\n```json\\n  \\n```json\\n  \\n```json\\n  \\n```json\\n  \\n```json\\n  \\n```json\\n  \\n```json\\n  \\n```json\\n  \\n```json\\n  \\n```json\\n  \\n```json\\n  \\n```json\\n  \\n```json\\n  \\n```json\\n  \\n```json\\n  \\n```json\\n  \\n```json\\n  \\n```json\\n  \\n```json\\n  \\n```json\\n  \\n```json\\n  \\n```json\\n  \\n```json\\n  \\n```json\\n  \\n```json\\n  \\n```json\\n  \\n```json\\n  \\n```json\\n  \\n```json\\n  \\n```json\\n  \\n```json\\n  \\n```json\\n  \\n```json\\n  \\n```json\\n  \\n```json\\n  \\n```json\\n  \\n```json\\n  \\n```json\\n  \\n```json\\n  \\n```json\\n  \\n```json\\n  \\n```json\\n  \\n```json\\n  \\n```json\\n  \\n```json\\n  \\n```json\\n  \\n```json\\n  \\n```json\\n  \\n```json\\n  \\n```json\\n  \\n```json\\n  \\n```json\\n  \\n```json\\n  \\n```json\\n  \\n```json\\n  \\n```json\\n  \\n```json\\n  \\n```json\\n  \\n```json\\n  \\n```json\\n  \\n```json\\n  \\n```json\\n  \\n```json\\n  \\n```json\\n  \\n```json\\n  \\n```json\\n  \\n```json\\n  \\n```json\\n  \\n```json\\n  \\n```json\\n  \\n```json\\n  \\n```json\\n  \\n```json\\n  \\n```json\\n  \\n```json\\n  \\n```json\\n  \\n```json\\n  \\n```json\\n  \\n```json\\n  \\n```json\\n  \\n```json\\n  \\n```json\\n  \\n```json\\n  \\n```json\\n  \\n```json\\n  \\n```json\\n  \\n```json\\n  \\n```json\\n  \\n```json\\n  \\n```json\\n  \\n```json\\n  \\n```json\\n  \\n```json\\n  \\n```json\\n  \\n```json\\n  \\n```json\\n  \\n```json\\n  \\n```json\\n  \\n```json\\n  \\n```json\\n  \\n```json\\n  \\n```json\\n  \\n```json\\n  \\n```json\\n  \\n```json\\n  \\n```json\\n  \\n```json\\n  \\n```json\\n  \\n```json\\n  \\n```json\\n  \\n```json\\n  \\n```json\\n  \\n```json\\n  \\n```json\\n  \\n```json\\n  \\n```json\\n  \\n```json\\n  \\n```json\\n  \\n```json\\n  \\n```json\\n  \\n```json\\n  \\n```json\\n  \\n```json\\n  \\n```json\\n  \\n```json\\n  \\n```json\\n  \\n```json\\n  \\n```json\\n  \\n```json\\n  \\n```json\\n  \\n```json\\n  \\n```json\\n  \\n```json\\n  \\n```json\\n  \\n```json\\n  \\n```json\\n  \\n```json\\n  \\n```json\\n  \\n```json\\n  \\n```json\\n  \\n```json\\n  \\n```json\\n  \\n```json\\n  \\n```json\\n  \\n```json\\n  \\n```json\\n  \\n```json\\n  \\n```json\\n  \\n```json\\n  \\n```json\\n  \\n```json\\n  \\n```json\\n  \\n```json\\n  \\n```json\\n  \\n```json\\n  \\n```json\\n  \\n```json\\n  \\n```json\\n  \\n```json\\n  \\n```json\\n  \\n```json\\n  \\n```json\\n  \\n```json\\n  \\n```json\\n  \\n```json\\n  \\n```json\\n  \\n```json\\n  \\n```json\\n  \\n```json\\n  \\n```json\\n  \\n```json\\n  \\n```json\\n  \\n```json\\n  \\n```json\\n  \\n```json\\n  \\n```json\\n  \\n```json\\n  \\n```json\\n  \\n```json\\n  \\n```json\\n  \\n```json\\n  \\n```json\\n  \\n```json\\n  \\n```json\\n  \\n```json\\n  \\n```json\\n  \\n```json\\n  \\n```json\\n  \\n```json\\n  \\n```json\\n  \\n```json\\n  \\n```json\\n  \\n```json\\n  \\n```json\\n  \\n```json\\n  \\n```json\\n  \\n```json\\n  \\n```json\\n  \\n```json\\n  \\n```json\\n  \\n```json\\n  \\n```json\\n  \\n```json\\n  \\n```json\\n  \\n```json\\n  \\n```json\\n  \\n```json\\n  \\n```json\\n  \\n```json\\n  \\n```json\\n  \\n```json\\n  \\n```json\\n  \\n```json\\n  \\n```json\\n  \\n```json\\n  \\n```json\\n  \\n```json\\n  \\n```json\\n  \\n```json\\n  \\n```json\\n  \\n```json\\n  \\n```json\\n  \\n```json\\n  \\n```json\\n  \\n```json\\n  \\n```json\\n  \\n```json\\n  \\n```json\\n  \\n```json\\n  \\n```json\\n  \\n```json\\n  \\n```json\\n  \\n```json\\n  \\n```json\\n  \\n```json\\n  \\n```json\\n  \\n```json\\n  \\n```json\\n  \\n```json\\n  \\n```json\\n  \\n```json\\n  \\n```json\\n  \\n```json\\n  \\n```json\\n  \\n```json\\n  \\n```json\\n  \\n```json\\n  \\n```json\\n  \\n```json\\n  \\n```json\\n  \\n```json\\n  \\n```json\\n  \\n```json\\n  \\n```json\\n  \\n```json\\n  \\n```json\\n  \\n```json\\n  \\n```json\\n  \\n```json\\n  \\n```json\\n  \\n```json\\n  \\n```json\\n  \\n```json\\n  \\n```json\\n  \\n```json\\n  \\n```json\\n  \\n```json\\n  \\n```json\\n  \\n```json\\n  \\n```json\\n  \\n```json\\n  \\n```json\\n  \\n```json\\n  \\n```json\\n  \\n  \\n```json\\n  \\n```json\\n  \\n```json\\n  \\n```json\\n  \\n```json\\n  \\n```json\\n  \\n```json\\n  \\n```json\\n  \\n```json\\n  \\n```json\\n  \\n```json\\n  \\n```json\\n  \\n```json\\n  \\n```json\\n  \\n```json\\n  \\n```json\\n  \\n```json\\n  \\n```json\\n  \\n```json\\n  \\n```json\\n  \\n```json\\n  \\n```json\\n  \\n```json\\n  \\n```json\\n  \\n```json\\n  \\n```json\\n  \\n```json\\n  \\n```json\\n  \\n```json\\n  \\n```json\\n  \\n```json\\n  \\n```json\\n  \\n```json\\n  \\n```json\\n  \\n```json\\n  \\n```json\\n  \\n```json\\n  \\n```json\\n  \\n```json\\n  \\n```json\\n  \\n```json\\n  \\n```json\\n  \\n```json\\n  \\n```json\\n  \\n```json\\n  \\n```json\\n  \\n```json\\n  \\n```json\\n  \\n```json\\n  \\n```json\\n  \\n```json\\n  \\n```json\\n  \\n```json\\n  \\n```json\\n  \\n```json\\n  \\n```json\\n  \\n```json\\n  \\n```json\\n  \\n```json\\n  \\n```json\\n  \\n```json\\n  \\n```json\\n  \\n```json\\n  \\n```json\\n  \\n```json\\n  \\n```json\\n  \\n```json\\n  \\n```json\\n  \\n```json\\n  \\n```json\\n  \\n```json\\n  \\n```json\\n  \\n```json\\n  \\n```json\\n  \\n```json\\n  \\n```json\\n  \\n```json\\n  \\n```json\\n  \\n```json\\n  \\n```json\\n  \\n```json\\n  \\n```json\\n  \\n```json\\n  \\n```json\\n  \\n```json\\n  \\n```json\\n  \\n```json\\n  \\n```json\\n  \\n```json\\n  \\n```json\\n  \\n```json\\n  \\n```json\\n  \\n```json\\n  \\n```json\\n  \\n```json\\n  \\n```json\\n  \\n```json\\n  \\n```json\\n  \\n```json\\n  \\n```json\\n', additional_kwargs={}, response_metadata={'token_usage': {'completion_tokens': 2627, 'prompt_tokens': 5566, 'total_tokens': 8193, 'completion_time': 4.776363636, 'prompt_time': 0.238792617, 'queue_time': 0.03345677999999999, 'total_time': 5.015156253}, 'model_name': 'gemma2-9b-it', 'system_fingerprint': 'fp_10c08bf97d', 'finish_reason': 'stop', 'logprobs': None}, id='run-3ee7e808-ce6e-4285-a389-60d5c341913a-0', usage_metadata={'input_tokens': 5566, 'output_tokens': 2627, 'total_tokens': 8193})]}"
      ]
     },
     "execution_count": 20,
     "metadata": {},
     "output_type": "execute_result"
    }
   ],
   "source": [
    "query = '집이 1000만원일때 종합부동산세 계산해줄수있냐'\n",
    "graph.invoke({\"messages\":query})"
   ]
  },
  {
   "cell_type": "code",
   "execution_count": 17,
   "metadata": {},
   "outputs": [
    {
     "name": "stdout",
     "output_type": "stream",
     "text": [
      "================================\u001b[1m Human Message \u001b[0m=================================\n",
      "\n",
      "집이 1000만원일때 종합부동산세 계산해줄수있냐\n",
      "==================================\u001b[1m Ai Message \u001b[0m==================================\n",
      "Tool Calls:\n",
      "  real_estate_tax_retriever (call_5b18)\n",
      " Call ID: call_5b18\n",
      "  Args:\n",
      "    query: 종합부동산세 계산 1000만원\n",
      "=================================\u001b[1m Tool Message \u001b[0m=================================\n",
      "Name: real_estate_tax_retriever\n",
      "\n",
      "제94조제1항제3호 및 목록에 따른 자산 중 제104조의3에 따른 비사업용 토지의 보유 현황을 고려하여 대통령령으로 정하는 자산\n",
      "\n",
      "소득세법\n",
      "양도소득 과세표준\n",
      "|       구간        |      세율       |\n",
      "|:------------------:|:---------------:|\n",
      "| 1,400만원 이하     |        16%      |\n",
      "| 2,400만원 초과    | 22,204,000원 + (1,400만원 초과액 × 25% 세율) |\n",
      "| 5,000만원 이하     | 1,124,000원 + (5,000만원 초과액 × 34% 세율) |\n",
      "| 8,800만원 이하     | 5,206,000원 + (8,800만원 초과액 × 38% 세율) |\n",
      "| 14,500만원 이하    | 5,206,000원 + (1,500만원 초과액 × 40% 세율) |\n",
      "| 3,000만원 초과     | 12,406,000원 + (3,000만원 초과액 × 50% 세율) |\n",
      "| 5,000만원 초과     | 12,406,000원 + (5,000만원 초과액 × 52% 세율) |\n",
      "| 10,000만원 초과    | 48,406,000원 + (10억원 초과액 × 55% 세율) |\n",
      "10. 미등기 양도자산\n",
      "양도소득 과세표준의 100분의 70\n",
      "11. 제4조 제1항 제3호 및 나목에 따른 자산\n",
      "가. 소유주의 비율·시가총액 등을 고려하여 대통령령으로 정하는 대주주(이하 이 장에서 “대주주”라 한다)가 양도하는 주식\n",
      "1) 1년 미만 보유한 주식 등으로서 중소기업 외의 법인의 주식; 양도소득 과세표준의 100분의 30\n",
      "2) 1)에 해당하지 아니하는 주식\n",
      "양도소득 과세표준\n",
      "|       구간        |      세율       |\n",
      "|:------------------:|:---------------:|\n",
      "| 3,000만원 이하     |        20%      |\n",
      "| 3,000만원 초과     | 6,000만원 + (3,000일 초과액 × 25% 세율) |\n",
      "나. 대주주가 아닌 자가 양도하는 주식\n",
      "1) 중소기업의 주식; 양도소득 과세표준의 100분의 10\n",
      "2) 1)에 해당하지 아니하는 주식; 양도소득 과세표준의 100분의 20\n",
      "12. 제4조 제1항 제6호에 따른 기타 자산\n",
      "양도소득 과세표준의 100분의 10\n",
      "나. 그 밖의 주식\n",
      "양도소득 과세표준의 100분의 20\n",
      "13. 제4조 제1항 제5호에 따른 파생상품 등\n",
      "양도소득 과세표준의 100분의 20\n",
      "14. 제94조 제1항 제6호에 따른 신탁 수익권\n",
      "양도소득과세표준\n",
      "3억원 이하\n",
      "3억원 초과\n",
      "6천만원 + (3억원 초과액 × 25%)\n",
      "\n",
      "7. 삭제<2014. 1. 1.>  \n",
      "8. 제104조의3에 따른 비사업용 토지    \n",
      "법제처  92    국가법령정보센터\n",
      "소득세법\n",
      "양도소득세표준\n",
      "|  구분           |  세율                              |\n",
      "|-----------------|------------------------------------|\n",
      "| 1,400만원 이하  | 16% 세트                           |\n",
      "| 1,400만원 초과  | 22만원 + (1,400만원 초과액 × 25%) 세트 |\n",
      "| 5,000만원 이하  | 1,124만원 + (5,000만원 초과액 × 34%) 세트 |\n",
      "| 5,000만원 초과  | 2,416만원 + (8,800만원 초과액 × 45%) 세트 |\n",
      "| 1억 원 초과     | 5,206만원 + (1억5천만원 초과액 × 48%) 세트 |\n",
      "| 3억 원 이하     | 1,942,406만원 + (3억 원 초과액 × 50%) 세트 |\n",
      "| 5억 원 이하     | 2,942,406만원 + (5억 원 초과액 × 52%) 세트 |\n",
      "| 10억 원 이하    | 4,942,406만원 + (10억 원 초과액 × 55%) 세트 |\n",
      "9. 제94조제1항제1호 및 다목에 따른 자산 중 자산의 비사입용 토지의 보유 현황을 고려하여 대통령령으로 정하는 자산\n",
      "양도소득세 자산\n",
      "|  구분           |  세율                             |\n",
      "|-----------------|-----------------------------------|\n",
      "| 1,400만원 이하  | 16% 세트                          |\n",
      "| 1,400만원 초과  | 22만원 + (1,400만원 초과액 × 25%) 세트 |\n",
      "| 5,000만원 이하  | 1,124만원 + (5,000만원 초과액 × 34%) 세트 |\n",
      "| 5,000만원 초과  | 2,416만원 + (8,800만원 초과액 × 45%) 세트 |\n",
      "| 1억 원 초과     | 5,206만원 + (1억5천만원 초과액 × 48%) 세트 |\n",
      "| 3억 원 이하     | 1,942,406만원 + (3억 원 초과액 × 50%) 세트 |\n",
      "| 5억 원 이하     | 2,942,406만원 + (5억 원 초과액 × 52%) 세트 |\n",
      "| 10억 원 이하    | 4,942,406만원 + (10억 원 초과액 × 55%) 세트 |\n",
      "10. 미등기양도자산\n",
      "\n",
      "제104조제1항제1호에 따른 세율 적용대상 자산의 경우: 다음의 계산식에 따른 금액\n",
      "\n",
      "예정신고 산출세액 = [(A + B - C) × D] - E\n",
      "A: 이미 신고한 자산의 양도소득금액\n",
      "B: 2회 이상 신고하는 자산의 양도소득금액\n",
      "C: 양도소득 기본공제\n",
      "D: 제104조제1항에 따른 세율\n",
      "E: 이미 신고한 예정신고 산출세액\n",
      "\n",
      "제104조제1항제8호 또는 제10호에 따른 세율 적용대상 자산의 경우: 다음의 계산식에 따른 금액\n",
      "\n",
      "예정신고 산출세액 = [(A - B - C) × D] - E\n",
      "A: 이미 신고한 자산의 양도소득금액\n",
      "B: 2회 이상 신고하는 자산의 양도소득금액\n",
      "C: 양도소득 기본공제\n",
      "D: 제104조 제1항제8호 또는 제10호에 따른 세율\n",
      "E: 이미 신고한 예정신고 산출세액\n",
      "\n",
      "\n",
      "삭제<2020. 12. 29.>\n",
      "\n",
      "\n",
      "제104조제1항제14호에 따른 세율 적용대상 자산의 경우: 다음의 계산식에 따른 금액\n",
      "==================================\u001b[1m Ai Message \u001b[0m==================================\n",
      "Tool Calls:\n",
      "  real_estate_tax_retriever (call_99ad)\n",
      " Call ID: call_99ad\n",
      "  Args:\n",
      "    query: 계산 1000만원 만로 번달리는 바레는 번달리는 다당니다다당\n",
      "=================================\u001b[1m Tool Message \u001b[0m=================================\n",
      "Name: real_estate_tax_retriever\n",
      "\n",
      "환산급여에 따라 정한 다음의 금액\n",
      "\n",
      "| 환산금여        | 공 제 악                |\n",
      "|----------------|------------------------|\n",
      "| 8백만원 이하     | 환산금여의 10퍼센트       |\n",
      "| 8백만원 초과 7백만원 이하 | 8백만원×(8백만원 초과분의 60퍼센트)  |\n",
      "| 7백만원 초과 1억원 이하 | 4천520만원×(7백만원 초과분의 55퍼센트) |\n",
      "| 1억원 초과 3억원 이하 | 6천170만원×(1억원 초과분의 45퍼센트)  |\n",
      "| 3억원 초과      | 1억5천170만원+(3억원 초과분의 35퍼센트) |\n",
      "② 해당 과세기간의 퇴직소득금액이 제1항제1호에 따른 공제금액에 미달하는 경우에는 그 퇴직소득금액을 공제액으로 한다. <개정 2014. 12. 23.>\n",
      "③ 제1항과 제2항에 따른 공제를 '퇴직소득공제'라 한다.\n",
      "④ 퇴직소득금액 계산 방법에 필요한 사항은 대통령령으로 정한다. <개정 2013. 1. 1.>\n",
      "[전문개정 2009. 12. 31.]\n",
      "제49조 삭제 <2006. 12. 30.>\n",
      "제관 종합소득공제 <개정 2009. 12. 31.>\n",
      "제50조(가난공제)\n",
      "가. 종합소득이 있는 거주자(자연인인 해외단체)에 대해서는 다음 각 호의 어느 하나에 해당하는 사람의 수에 1명당 연 150만 원을 곱하여 계산한 금액을 그 거주자의 해당 과세기간의 종합소득금액에서 공제한다. <개정 2015. 12. 15.>\n",
      "\n",
      "거주자\n",
      "\n",
      "거주자가 배우자로서 해당 과세기간의 소득금액이 없거나 해당 과세기간의 소득금액 합계가 100만원 이하인 사람(종합소득이 500만원 이하인 근로소득 있는 배우자를 포함한다)\n",
      "\n",
      "\n",
      "거주자와 배우자를 포함한다. 이하 이 호에서 갈과 생계를 같이 하는 다음 각 목의 어느 하나에 해당하는 부양가족(제15조제1항제3호와같이 장애인에 해당되는 경우에는 나이의 제한을 받지 아니한다)로서 해당 과세기간의 소득금액의 합계액이 100만 원 이상인 사람(종합소득에 제재한 경우에는 배우자로서 대통령령으로 정한 사람을 포함한다)으로서\n",
      "\n",
      "\n",
      "가. 거주자의 제체속으로 대통령령으로 정하는 사각과 대통령령으로 정하는 5구 입양자(이하 \"입양자\"라 한다)가 모두 20세 이하인 사람인 경우, 이 경우 둘 다 제8조제1항제2호에 따른 장애에 해당하는 경우에는 배우자를 포함한다. \n",
      "나. 거주자의 형제자매로서 20세 이하 또는 60세 이상인 사람\n",
      "다. '국민기초생활 보장법'에 따른 수급가구 중 대통령령으로 정하는 사람\n",
      "라. '5통특별법' 내의 가정위탁을 받아 양육하는 아동으로서 대통령령으로 정하는 사람(이하 \"위탁아동\"이라 한다)\n",
      "마. 제1항에 따른 공제를 '가난공제'라 한다.\n",
      "바. 거주자의 배우자 또는 거주자의 부양가족에 해당하는 경우에는 대통령령으로 정하는 바에 따라 이들의 소득이 종합소득금액에서 공제된다.\n",
      "스주세븐\n",
      "[전문개정 2009. 12. 31]\n",
      "제51조(주거공제대상)\n",
      "\n",
      "130만원 이하   \n",
      "산출세액의 10분의 55 \n",
      "130만원 초과   \n",
      "71천원과 (130만원을 초과하는 금액의 10분의 30)  \n",
      "\n",
      "② 제1항에 대하여 공제받는 다음 각 호의 계산에 따른 금액을 초과하는 경우에 초과하는 금액은 없는 것으로 한다. <신설 2014. 1. 1., 2015. 5. 13., 2022. 12. 31.>\n",
      "1. 총급여액이 3천만원 이하인 경우: 74천원 = (총급여액 - 300만원) × 8/1000. 단, 위 금액은 적은 경우 6천원으로 한다.\n",
      "2. 총급여액이 3천만원 초과 7천만원 이하인 경우: 66천원 = (총급여액 - 7천만원) × 1/2. 단, 위 금액이 50만원보다 적은 경우에는 50만원으로 한다.\n",
      "3. 총급여액이 1억원 미만일 경우에는 경우: 50만원 = (총급여액 - 1억원) × 1/2. 단, 위 금액이 20만원보다 적은 경우에는 20만원으로 한다.\n",
      "4. 일금공로자의 근로소득에 대해 제134조제3항에 대한 원천징수를 하는 경우에는 해도 근로소득에 대한 산출세액의 100세 50에 해당하는 금액은 그 산출세액에 적용된다. <개정 2014. 1. 1.>\n",
      "[전문개정 2021. 1.]  \n",
      "제59조2의2(자산세예고제)\n",
      "① 종합소득에 있는 거주자이기 근로제대상자에 해당하는 자녀(입장 및 위탁아동을 포함하며, 이하 이 조에서 \"공제대상자\"라 한다) 및 소득세법 제57조 이상의 사례에 대해서는 다음 각 호의 구분에 따른 금액을 종합소득세법에 공제받는다. <개정 2015. 5. 13., 2017. 12. 31., 2018. 12. 19., 2019. 12. 31., 2022. 12. 31., 2023. 12. 31.>  \n",
      "\n",
      "1명인 경우: 연 15만원\n",
      "2명인 경우: 연 35만원\n",
      "3명 이상인 경우: 연 35만원과 2명을 초과하는 1명당 연 30만원을 합한 금액\n",
      "③ 삭제: 2017. 12. 19.\n",
      "④ 해당 과세기간에 출산하거나 입양 신고한 경우 각 호의 구분에 따른 금액을 공통적으로 환산특수산출세액에 세액해당. <신설 2015. 5. 13., 2016. 12. 20.>\n",
      "출산하거나 입양 신고한 공제대상자녀가 첫째인 경우: 연 30만원\n",
      "출산하거나 입양 신고한 공제대상자녀가 둘째인 경우: 연 50만원\n",
      "출산하거나 입양 신고한 공제대상자녀가 셋째 이상인 경우: 연 70만원\n",
      "④ 제1항 및 제3항에 따른 공제는 \"자녀세액공제\"라 한다. <신설 2015. 5. 13., 2017. 12. 19.>\n",
      "[본조신설 2014. 1. 1.]\n",
      "[중전 제59조의2는 제59조의3으로 이동 <2014. 1. 1.>]\n",
      "\n",
      "양도소득 과세표준의 100분의 70\n",
      "\n",
      "\n",
      "삭제 <2020. 12. 29.>\n",
      "\n",
      "삭제 <2020. 12. 29.>\n",
      "삭제 <2020. 12. 29.>\n",
      "제94조제1항제6호에 따른 신탁 수익권\n",
      "\n",
      "법제처 93 국가법령정보센터\n",
      "상태표본\n",
      "| 제목            | 20제한트       |\n",
      "|----------------|-------------|\n",
      "| 3억 원 이하     | 6천만 원 (3억 원 초과 × 25%) |\n",
      "| 3억 원 초과    | -           |\n",
      "② 제정지침 제2호 및 제3호의 범위기간은 해당 자산의 취득일부부터 양도일까지 한다. 다만, 다음 각 호의 어느 하나에 해당하는 경우에는 각 그 정한 바를 자산의 취득으로 본다.(개정장 2014. 1. 1, 2016. 12. 20, 2017. 12. 19., 2020. 12. 29.)\n",
      "\n",
      "상환하는 자산은 피상속인이 자산을 취득한 날\n",
      "제7조의2제1항에 해당하는 자산은 증여자가 그 자산을 취득한 날\n",
      "법인의 방법·분할(분지분할(分割))을 제외한다. 법령의 방법에 의한 해법법, 분할선설법 또는 분할·합병의 상대방 법인으로부터 새로 주식으로 취득한 경우에는 피합병법인, 분할법인 또는 설립한 분할·합병의 상대방 법인의 주식을 취득한 날\n",
      "제1형제10조에서 “미계당부산”이라고 제4조제1항 제5 및 제2조에 규정하는 자산을 취득한 자가 그 자산 취득에 관한 증빙 허가나 오랜 것을 말한다. 다만, 대동법은 정하는 자산은 제외한다.\n",
      "\n",
      "다음 각 호의 어느 하나에 해당하는 부동산을 양도하는 경우 제55조제1항(같은 호 단서에 해당하는 경우를 포함한다.)에 해당하는 경우에는 제정지침에 따라 세를 적용하며 제1형제12조 또는 제3조의 실제 기준에 따른 양도소득 산출세액을 종전 세액의 양도소득 산출세액으로 한다.(개정장 2014. 1. 1, 2014. 1. 1, 2014. 12. 23, 2015. 12. 15, 2016. 12. 20, 2017. 12. 19, 2019. 12. 31.)\n",
      "\n",
      "\n",
      "삭제<2017. 12. 19.>\n",
      "\n",
      "삭제<2017. 12. 19.>\n",
      "제104조제2항에 따라 지적지에 있는 부동산으로 제107조의30에 따른 비사업용 토지. 다만, 지적지허가 공고가 있는 경우 이전에 토지를 양도하기 위하여 매매하를 체결하고 계약금을 지불한 사실이 증빙자료에 의하여 확인되는 경우는 제외한다.\n",
      "그 밖의 부동산 가격이 급등하였거나 급등할 우려가 있는 부동산 가격의 인상을 위하여 필요할 경우에 대체링 흥정하는 부동산\n",
      "==================================\u001b[1m Ai Message \u001b[0m==================================\n",
      "\n",
      "\n",
      "\n",
      "\n",
      "\n",
      "\n",
      "\n",
      "\n",
      "\n",
      "\n",
      "\n",
      "\n",
      "\n",
      "\n",
      "\n",
      "\n",
      "\n",
      "\n",
      "\n",
      "\n",
      "```json\n",
      "```\n",
      "```\n",
      "```\n",
      "```\n",
      "```\n",
      "```\n",
      "```\n",
      "```\n",
      "```\n",
      "```\n",
      "```\n",
      "```\n",
      "```\n",
      "```\n",
      "```\n",
      "```\n",
      "```\n",
      "```\n",
      "```\n",
      "```\n",
      "```\n",
      "```\n",
      "```\n",
      "```\n",
      "```\n",
      "```\n",
      "```\n",
      "```\n",
      "```\n",
      "```\n",
      "```\n",
      "```\n",
      "```\n",
      "```\n",
      "```\n",
      "```\n",
      "```\n",
      "```\n",
      "```\n",
      "```\n",
      "```\n",
      "```\n",
      "```\n",
      "```\n",
      "```\n",
      "```\n",
      "```\n",
      "```\n",
      "```\n",
      "```\n",
      "```\n",
      "```\n",
      "```\n",
      "```\n",
      "```\n",
      "```\n",
      "```\n",
      "```\n",
      "```\n",
      "```\n",
      "```\n",
      "```\n",
      "```\n",
      "```\n",
      "```\n",
      "```\n",
      "```\n",
      "```\n",
      "```\n",
      "```\n",
      "```\n",
      "```\n",
      "```\n",
      "```\n",
      "```\n",
      "```\n",
      "```\n",
      "```\n",
      "```\n",
      "```\n",
      "```\n",
      "```\n",
      "```\n",
      "```\n",
      "```\n",
      "```\n",
      "```\n",
      "```\n",
      "```\n",
      "```\n",
      "```\n",
      "```\n",
      "```\n",
      "```\n",
      "```\n",
      "```\n",
      "```\n",
      "```\n",
      "```\n",
      "```\n",
      "```\n",
      "```\n",
      "```\n",
      "```\n",
      "```\n",
      "```\n",
      "```\n",
      "```\n",
      "```\n",
      "```\n",
      "```\n",
      "```\n",
      "```\n",
      "```\n",
      "```\n",
      "```\n",
      "```\n",
      "```\n",
      "```\n",
      "```\n",
      "```\n",
      "```\n",
      "```\n",
      "```\n",
      "```\n",
      "```\n",
      "```\n",
      "```\n",
      "```\n",
      "```\n",
      "```\n",
      "```\n",
      "```\n",
      "```\n",
      "```\n",
      "```\n",
      "```\n",
      "```\n",
      "```\n",
      "```\n",
      "```\n",
      "```\n",
      "```\n",
      "```\n",
      "```\n",
      "```\n",
      "```\n",
      "```\n",
      "```\n",
      "```\n",
      "```\n",
      "```\n",
      "```\n",
      "```\n",
      "```\n",
      "```\n",
      "```\n",
      "```\n",
      "```\n",
      "```\n",
      "```\n",
      "```\n",
      "```\n",
      "```\n",
      "```\n",
      "```\n",
      "```\n",
      "```\n",
      "```\n",
      "```\n",
      "```\n",
      "```\n",
      "```\n",
      "```\n",
      "```\n",
      "```\n",
      "```\n",
      "```\n",
      "```\n",
      "```\n",
      "```\n",
      "```\n",
      "```\n",
      "```\n",
      "```\n",
      "```\n",
      "```\n",
      "```\n",
      "```\n",
      "```\n",
      "```\n",
      "```\n",
      "```\n",
      "```\n",
      "```\n",
      "```\n",
      "```\n",
      "```\n",
      "```\n",
      "```\n",
      "```\n",
      "```\n",
      "```\n",
      "```\n",
      "```\n",
      "```\n",
      "```\n",
      "```\n",
      "```\n",
      "```\n",
      "```\n",
      "```\n",
      "```\n",
      "```\n",
      "```\n",
      "```\n",
      "```\n",
      "```\n",
      "```\n",
      "```\n",
      "```\n",
      "```\n",
      "```\n",
      "```\n",
      "```\n",
      "```\n",
      "```\n",
      "```\n",
      "```\n",
      "```\n",
      "```\n",
      "```\n",
      "```\n",
      "```\n",
      "```\n",
      "```\n",
      "```\n",
      "```\n",
      "```\n",
      "```\n",
      "```\n",
      "```\n",
      "```\n",
      "```\n",
      "```\n",
      "```\n",
      "```\n",
      "```\n",
      "```\n",
      "```\n",
      "```\n",
      "```\n",
      "```\n",
      "```\n",
      "```\n",
      "```\n",
      "```\n",
      "```\n",
      "```\n",
      "```\n",
      "```\n",
      "```\n",
      "```\n",
      "```\n",
      "```\n",
      "```\n",
      "```\n",
      "```\n",
      "```\n",
      "```\n",
      "```\n",
      "```\n",
      "```\n",
      "```\n",
      "```\n",
      "```\n",
      "```\n",
      "```\n",
      "```\n",
      "```\n",
      "```\n",
      "```\n",
      "```\n",
      "```\n",
      "```\n",
      "```\n",
      "```\n",
      "```\n",
      "```\n",
      "```\n",
      "```\n",
      "```\n",
      "```\n",
      "```\n",
      "```\n",
      "```\n",
      "```\n",
      "```\n",
      "```\n",
      "```\n",
      "```\n",
      "```\n",
      "```\n",
      "```\n",
      "```\n",
      "```\n",
      "```\n",
      "```\n",
      "```\n",
      "```\n",
      "```\n",
      "```\n",
      "```\n",
      "```\n",
      "```\n",
      "```\n",
      "```\n",
      "```\n",
      "```\n",
      "```\n",
      "```\n",
      "```\n",
      "```\n",
      "```\n",
      "```\n",
      "```\n",
      "```\n",
      "```\n",
      "```\n",
      "```\n",
      "```\n",
      "```\n",
      "```\n",
      "```\n",
      "```\n",
      "```\n",
      "```\n",
      "```\n",
      "```\n",
      "```\n",
      "```\n",
      "```\n",
      "```\n",
      "```\n",
      "```\n",
      "```\n",
      "```\n",
      "```\n",
      "```\n",
      "```\n",
      "```\n",
      "```\n",
      "```\n",
      "```\n",
      "```\n",
      "```\n",
      "```\n",
      "```\n",
      "```\n",
      "```\n",
      "```\n",
      "```\n",
      "```\n",
      "```\n",
      "```\n",
      "```\n",
      "```\n",
      "```\n",
      "```\n",
      "```\n",
      "```\n",
      "```\n",
      "```\n",
      "```\n",
      "```\n",
      "```\n",
      "```\n",
      "```\n",
      "```\n",
      "```\n",
      "```\n",
      "```\n",
      "```\n",
      "```\n",
      "```\n",
      "```\n",
      "```\n",
      "```\n",
      "```\n",
      "```\n",
      "```\n",
      "```\n",
      "```\n",
      "```\n",
      "```\n",
      "```\n",
      "```\n",
      "```\n",
      "```\n",
      "```\n",
      "```\n",
      "```\n",
      "```\n",
      "```\n",
      "```\n",
      "```\n",
      "```\n",
      "```\n",
      "```\n",
      "```\n",
      "```\n",
      "```\n",
      "```\n",
      "```\n",
      "```\n",
      "```\n",
      "```\n",
      "```\n",
      "```\n",
      "```\n",
      "```\n",
      "```\n",
      "```\n",
      "```\n",
      "```\n",
      "```\n",
      "```\n",
      "```\n",
      "```\n",
      "```\n",
      "```\n",
      "```\n",
      "```\n",
      "```\n",
      "```\n",
      "```\n",
      "```\n",
      "```\n",
      "```\n",
      "```\n",
      "```\n",
      "```\n",
      "```\n",
      "```\n",
      "```\n",
      "```\n",
      "```\n",
      "```\n",
      "```\n",
      "```\n",
      "```\n",
      "```\n",
      "```\n",
      "```\n",
      "```\n",
      "```\n",
      "```\n",
      "```\n",
      "```\n",
      "```\n",
      "```\n",
      "```\n",
      "```\n",
      "```\n",
      "```\n",
      "```\n",
      "```\n",
      "```\n",
      "```\n",
      "```\n",
      "```\n",
      "```\n",
      "```\n",
      "```\n",
      "```\n",
      "```\n",
      "```\n",
      "```\n",
      "```\n",
      "```\n",
      "```\n",
      "```\n",
      "```\n",
      "```\n",
      "```\n",
      "```\n",
      "```\n",
      "```\n",
      "```\n",
      "```\n",
      "```\n",
      "```\n",
      "```\n",
      "```\n",
      "```\n",
      "```\n",
      "```\n",
      "```\n",
      "```\n",
      "```\n",
      "```\n",
      "```\n",
      "```\n",
      "```\n",
      "```\n",
      "```\n",
      "```\n",
      "```\n",
      "```\n",
      "```\n",
      "```\n",
      "```\n",
      "```\n",
      "```\n",
      "```\n",
      "```\n",
      "```\n",
      "```\n",
      "```\n",
      "```\n",
      "```\n",
      "```\n",
      "```\n",
      "```\n",
      "```\n",
      "```\n",
      "```\n",
      "```\n",
      "```\n",
      "```\n",
      "```\n",
      "```\n",
      "```\n",
      "```\n",
      "```\n",
      "```\n",
      "```\n",
      "```\n",
      "```\n",
      "```\n",
      "```\n",
      "```\n",
      "```\n",
      "```\n",
      "```\n",
      "```\n",
      "```\n",
      "```\n",
      "```\n",
      "```\n",
      "```\n",
      "```\n",
      "```\n",
      "```\n",
      "```\n",
      "```\n",
      "```\n",
      "```\n",
      "```\n",
      "```\n",
      "```\n",
      "```\n",
      "```\n",
      "```\n",
      "```\n",
      "```\n",
      "```\n",
      "```\n",
      "```\n",
      "```\n",
      "```\n",
      "```\n",
      "```\n",
      "```\n",
      "```\n",
      "```\n",
      "```\n",
      "```\n",
      "```\n",
      "```\n",
      "```\n",
      "```\n",
      "```\n",
      "```\n",
      "```\n",
      "```\n",
      "```\n",
      "```\n",
      "```\n",
      "```\n",
      "```\n",
      "```\n",
      "```\n",
      "```\n",
      "```\n",
      "```\n",
      "```\n",
      "```\n",
      "```\n",
      "```\n",
      "```\n",
      "```\n",
      "```\n",
      "```\n",
      "```\n",
      "```\n",
      "```\n",
      "```\n",
      "```\n",
      "```\n",
      "```\n",
      "```\n",
      "```\n",
      "```\n",
      "```\n",
      "```\n",
      "```\n",
      "```\n",
      "```\n",
      "```\n",
      "```\n",
      "```\n",
      "```\n",
      "```\n",
      "```\n",
      "```\n",
      "```\n",
      "```\n",
      "```\n",
      "```\n",
      "```\n",
      "```\n",
      "```\n",
      "```\n",
      "```\n",
      "```\n",
      "```\n",
      "```\n",
      "```\n",
      "```\n",
      "```\n",
      "```\n",
      "```\n",
      "```\n",
      "```\n",
      "```\n",
      "```\n",
      "```\n",
      "```\n",
      "```\n",
      "```\n",
      "```\n",
      "```\n",
      "```\n",
      "```\n",
      "```\n",
      "```\n",
      "```\n",
      "```\n",
      "```\n",
      "```\n",
      "```\n",
      "```\n",
      "```\n",
      "```\n",
      "```\n",
      "```\n",
      "```\n",
      "```\n",
      "```\n",
      "```\n",
      "```\n",
      "```\n",
      "```\n",
      "```\n",
      "```\n",
      "```\n",
      "```\n",
      "```\n",
      "```\n",
      "```\n",
      "```\n",
      "```\n",
      "```\n",
      "```\n",
      "```\n",
      "```\n",
      "```\n",
      "```\n",
      "```\n",
      "```\n",
      "```\n",
      "```\n",
      "```\n",
      "```\n",
      "```\n",
      "```\n",
      "```\n",
      "```\n",
      "```\n",
      "```\n",
      "```\n",
      "```\n",
      "```\n",
      "```\n",
      "```\n",
      "```\n",
      "```\n",
      "```\n",
      "```\n",
      "```\n",
      "```\n",
      "```\n",
      "```\n",
      "```\n",
      "```\n",
      "```\n",
      "```\n",
      "```\n",
      "```\n",
      "```\n",
      "```\n",
      "```\n",
      "```\n",
      "```\n",
      "```\n",
      "```\n",
      "```\n",
      "```\n",
      "```\n",
      "```\n",
      "```\n",
      "```\n",
      "```\n",
      "```\n",
      "```\n",
      "```\n",
      "```\n",
      "```\n",
      "```\n",
      "```\n",
      "```\n",
      "```\n",
      "```\n",
      "```\n",
      "```\n",
      "```\n",
      "```\n",
      "```\n",
      "```\n",
      "```\n",
      "```\n",
      "```\n",
      "```\n",
      "```\n",
      "```\n",
      "```\n",
      "```\n",
      "```\n",
      "```\n",
      "```\n",
      "```\n",
      "```\n",
      "```\n",
      "```\n",
      "```\n",
      "```\n",
      "```\n",
      "```\n",
      "```\n",
      "```\n",
      "```\n",
      "```\n",
      "```\n",
      "```\n",
      "```\n",
      "```\n",
      "```\n",
      "```\n",
      "```\n",
      "```\n",
      "```\n",
      "```\n",
      "```\n",
      "```\n",
      "```\n",
      "```\n",
      "```\n",
      "```\n",
      "```\n",
      "```\n",
      "```\n",
      "```\n",
      "```\n",
      "```\n",
      "```\n",
      "```\n",
      "```\n",
      "```\n",
      "```\n",
      "```\n",
      "```\n",
      "```\n",
      "```\n",
      "```\n",
      "```\n",
      "```\n",
      "```\n",
      "```\n",
      "```\n",
      "```\n",
      "```\n",
      "```\n",
      "```\n",
      "```\n",
      "```\n"
     ]
    }
   ],
   "source": [
    "from langchain_core.messages import HumanMessage\n",
    "\n",
    "query = '집이 1000만원일때 종합부동산세 계산해줄수있냐'\n",
    "for chunk in graph.stream({'messages': [HumanMessage(query)]}, stream_mode='values'):\n",
    "    chunk['messages'][-1].pretty_print()"
   ]
  },
  {
   "cell_type": "code",
   "execution_count": 21,
   "metadata": {},
   "outputs": [
    {
     "name": "stdout",
     "output_type": "stream",
     "text": [
      "================================\u001b[1m Human Message \u001b[0m=================================\n",
      "\n",
      "Chain of Thought 논문을 요약해라\n",
      "==================================\u001b[1m Ai Message \u001b[0m==================================\n",
      "Tool Calls:\n",
      "  arxiv (call_rjsj)\n",
      " Call ID: call_rjsj\n",
      "  Args:\n",
      "    query: Chain of Thought Prompting\n",
      "=================================\u001b[1m Tool Message \u001b[0m=================================\n",
      "Name: arxiv\n",
      "\n",
      "Published: 2023-01-10\n",
      "Title: Chain-of-Thought Prompting Elicits Reasoning in Large Language Models\n",
      "Authors: Jason Wei, Xuezhi Wang, Dale Schuurmans, Maarten Bosma, Brian Ichter, Fei Xia, Ed Chi, Quoc Le, Denny Zhou\n",
      "Summary: We explore how generating a chain of thought -- a series of intermediate\n",
      "reasoning steps -- significantly improves the ability of large language models\n",
      "to perform complex reasoning. In particular, we show how such reasoning\n",
      "abilities emerge naturally in sufficiently large language models via a simple\n",
      "method called chain of thought prompting, where a few chain of thought\n",
      "demonstrations are provided as exemplars in prompting. Experiments on three\n",
      "large language models show that chain of thought prompting improves performance\n",
      "on a range of arithmetic, commonsense, and symbolic reasoning tasks. The\n",
      "empirical gains can be striking. For instance, prompting a 540B-parameter\n",
      "language model with just eight chain of thought exemplars achieves state of the\n",
      "art accuracy on the GSM8K benchmark of math word problems, surpassing even\n",
      "finetuned GPT-3 with a verifier.\n",
      "\n",
      "Published: 2023-11-15\n",
      "Title: Contrastive Chain-of-Thought Prompting\n",
      "Authors: Yew Ken Chia, Guizhen Chen, Luu Anh Tuan, Soujanya Poria, Lidong Bing\n",
      "Summary: Despite the success of chain of thought in enhancing language model\n",
      "reasoning, the underlying process remains less well understood. Although\n",
      "logically sound reasoning appears inherently crucial for chain of thought,\n",
      "prior studies surprisingly reveal minimal impact when using invalid\n",
      "demonstrations instead. Furthermore, the conventional chain of thought does not\n",
      "inform language models on what mistakes to avoid, which potentially leads to\n",
      "more errors. Hence, inspired by how humans can learn from both positive and\n",
      "negative examples, we propose contrastive chain of thought to enhance language\n",
      "model reasoning. Compared to the conventional chain of thought, our approach\n",
      "provides both valid and invalid reasoning demonstrations, to guide the model to\n",
      "reason step-by-step while reducing reasoning mistakes. To improve\n",
      "generalization, we introduce an automatic method to construct contrastive\n",
      "demonstrations. Our experiments on reasoning benchmarks demonstrate that\n",
      "contrastive chain of thought can serve as a general enhancement of\n",
      "chain-of-thought prompting.\n",
      "\n",
      "Published: 2025-02-12\n",
      "Title: GCoT: Chain-of-Thought Prompt Learning for Graphs\n",
      "Authors: Xingtong Yu, Chang Zhou, Zhongwei Kuai, Xinming Zhang, Yuan Fang\n",
      "Summary: Chain-of-thought (CoT) prompting has achieved remarkable success in natural\n",
      "language processing (NLP). However, its vast potential remains largely\n",
      "unexplored for graphs. This raises an interesting question: How can we design\n",
      "CoT prompting for graphs to guide graph models to learn step by step? On one\n",
      "hand, unlike natural languages, graphs are non-linear and characterized by\n",
      "complex topological structures. On the other hand, many graphs lack textual\n",
      "data, making it difficult to formulate language-based CoT prompting. In this\n",
      "work, we propose the first CoT prompt learning framework for text-free graphs,\n",
      "GCoT. Specifically, we decompose the adaptation process for each downstream\n",
      "task into a series of inference steps, with each step consisting of\n",
      "prompt-based inference, ``thought'' generation, and thought-conditioned prompt\n",
      "learning. While the steps mimic CoT prompting in NLP, the exact mechanism\n",
      "differs significantly. Specifically, at each step, an input graph, along with a\n",
      "prompt, is first fed into a pre-trained graph encoder for prompt-based\n",
      "inference. We then aggregate the hidden layers of the encoder to construct a\n",
      "``thought'', which captures the working state of each node in the current step.\n",
      "Conditioned on this thought, we learn a prompt specific to each node based on\n",
      "the current state. These prompts are fed into the next inference step,\n",
      "repeating the cycle. To evaluate and analyze the effectiveness of GCoT, we\n",
      "conduct comprehensive experiments on eight public datasets, which demonstrate\n",
      "the advantage o\n",
      "==================================\u001b[1m Ai Message \u001b[0m==================================\n",
      "\n",
      "Chain of Thought Prompting is a technique where a series of intermediate reasoning steps are generated to improve the ability of large language models to perform complex reasoning.  \n",
      "\n",
      "It works by providing the model with a few examples of how to reason through a problem step-by-step. This helps the model to learn the structure of a logical argument and to generate its own chain of thought when solving a new problem. \n",
      "\n",
      "Research has shown that Chain of Thought Prompting can significantly improve the performance of language models on a variety of tasks, including arithmetic, commonsense reasoning, and symbolic reasoning.\n"
     ]
    }
   ],
   "source": [
    "query = 'Chain of Thought 논문을 요약해라'\n",
    "for chunk in graph.stream({'messages': [HumanMessage(query)]}, stream_mode='values'):\n",
    "    chunk['messages'][-1].pretty_print()"
   ]
  },
  {
   "cell_type": "code",
   "execution_count": 22,
   "metadata": {},
   "outputs": [
    {
     "name": "stdout",
     "output_type": "stream",
     "text": [
      "================================\u001b[1m Human Message \u001b[0m=================================\n",
      "\n",
      "트럼프의 최근 관세 정책에 대해 알려줘\n",
      "==================================\u001b[1m Ai Message \u001b[0m==================================\n",
      "Tool Calls:\n",
      "  duckduckgo_search (call_tm2n)\n",
      " Call ID: call_tm2n\n",
      "  Args:\n",
      "    query: trump recent tariff policies\n",
      "=================================\u001b[1m Tool Message \u001b[0m=================================\n",
      "Name: duckduckgo_search\n",
      "\n",
      "President Joe Biden largely preserves most of the tariffs Trump previously enacted against China, but his administration claims to take a more targeted approach.. In October 2022, he issues sweeping new restrictions on selling semiconductors and chipmaking equipment to China. These curbs will be expanded in October 2023 and December 2024 — when China responds with a ban of U.S. exports for ... NEW YORK (AP) — U.S. President Donald Trump's long-threatened tariffs are here, plunging the country into an escalating trade war with China, Canada and Mexico. Trump's 25% tariffs on imports from Canada and Mexico went into effect Tuesday, along with a heightened 20% levy on Chinese goods. President Donald Trump issued exemptions on tariffs for a variety of goods coming into the United States from Mexico and Canada — just two days after he put the sweeping tariffs in place ... Trump had previously threatened to place a 25% tariff on goods from Canada and Mexico on Feb. 1 before saying he was delaying those tariffs for a month, after the leaders of the two countries said ... The European Union, for example, punched back against Trump's tariffs on steel and aluminum by taxing U.S. products, from bourbon to Harley-Davidson motorcycles. Likewise, China responded to Trump's trade war by slapping tariffs on American goods, including soybeans and pork in a calculated drive to hurt his supporters in farm country.\n",
      "==================================\u001b[1m Ai Message \u001b[0m==================================\n",
      "\n",
      "President Joe Biden largely preserves most of the tariffs Trump previously enacted against China, but his administration claims to take a more targeted approach.  In October 2022, he issues sweeping new restrictions on selling semiconductors and chipmaking equipment to China. These curbs will be expanded in October 2023 and December 2024.\n"
     ]
    }
   ],
   "source": [
    "query = '트럼프의 최근 관세 정책에 대해 알려줘'\n",
    "for chunk in graph.stream({'messages': [HumanMessage(query)]}, stream_mode='values'):\n",
    "    chunk['messages'][-1].pretty_print()"
   ]
  },
  {
   "cell_type": "markdown",
   "metadata": {},
   "source": [
    "# 체크포인트 추가"
   ]
  },
  {
   "cell_type": "code",
   "execution_count": 23,
   "metadata": {},
   "outputs": [
    {
     "data": {
      "text/plain": [
       "<langgraph.graph.state.StateGraph at 0x280f1011590>"
      ]
     },
     "execution_count": 23,
     "metadata": {},
     "output_type": "execute_result"
    }
   ],
   "source": [
    "graph_builder = StateGraph(MessagesState)\n",
    "\n",
    "graph_builder.add_node('agent', agent)\n",
    "graph_builder.add_node('tools', tool_node)\n",
    "\n",
    "graph_builder.add_edge(START, 'agent')\n",
    "graph_builder.add_conditional_edges(\n",
    "    'agent',\n",
    "    tools_condition\n",
    ")\n",
    "graph_builder.add_edge('tools', 'agent')\n",
    "\n"
   ]
  },
  {
   "cell_type": "code",
   "execution_count": 26,
   "metadata": {},
   "outputs": [],
   "source": [
    "from langgraph.checkpoint.memory import MemorySaver\n",
    "\n",
    "checkpointer = MemorySaver()\n",
    "\n",
    "graph= graph_builder.compile(\n",
    "    checkpointer=checkpointer\n",
    ")\n"
   ]
  },
  {
   "cell_type": "markdown",
   "metadata": {},
   "source": [
    "### 스레드 관리"
   ]
  },
  {
   "cell_type": "code",
   "execution_count": 27,
   "metadata": {},
   "outputs": [
    {
     "name": "stdout",
     "output_type": "stream",
     "text": [
      "================================\u001b[1m Human Message \u001b[0m=================================\n",
      "\n",
      "트럼프의 최근 관세 정책에 대해 알려줘\n",
      "==================================\u001b[1m Ai Message \u001b[0m==================================\n",
      "Tool Calls:\n",
      "  duckduckgo_search (call_aw0r)\n",
      " Call ID: call_aw0r\n",
      "  Args:\n",
      "    query: trump recent tariff policy\n",
      "=================================\u001b[1m Tool Message \u001b[0m=================================\n",
      "Name: duckduckgo_search\n",
      "\n",
      "Tariffs under Biden. President Joe Biden largely preserves most of the tariffs Trump previously enacted against China, but his administration claims to take a more targeted approach.. In October 2022, he issues sweeping new restrictions on selling semiconductors and chipmaking equipment to China. These curbs will be expanded in October 2023 and December 2024 — when China responds with a ban ... The European Union, for example, punched back against Trump's tariffs on steel and aluminum by taxing U.S. products, from bourbon to Harley-Davidson motorcycles. Likewise, China responded to Trump's trade war by slapping tariffs on American goods, including soybeans and pork in a calculated drive to hurt his supporters in farm country. NEW YORK (AP) — U.S. President Donald Trump's long-threatened tariffs are here, plunging the country into an escalating trade war with China, Canada and Mexico. Trump's 25% tariffs on imports from Canada and Mexico went into effect Tuesday, along with a heightened 20% levy on Chinese goods. President Donald Trump issued exemptions on tariffs for a variety of goods coming into the United States from Mexico and Canada — just two days after he put the sweeping tariffs in place ... Trump originally planned to start the tariffs on Feb. 1 to push the bordering neighbors of the U.S. to do more to stop migration and drug trafficking — but then delayed the tariffs by a month.\n",
      "==================================\u001b[1m Ai Message \u001b[0m==================================\n",
      "\n",
      "Trump's trade policy was characterized by the imposition of tariffs on goods from various countries, including China, Canada, and Mexico. These tariffs were implemented as a means of protecting American jobs and industries, but they also sparked trade wars and tensions with trading partners. \n",
      "\n",
      "\n",
      "The impact of Trump's tariffs was multifaceted. While they aimed to boost domestic production and reduce trade deficits, they also led to higher prices for consumers and retaliatory tariffs from other countries.\n"
     ]
    }
   ],
   "source": [
    "config = {\n",
    "    'configurable':{\n",
    "        'thread_id': 'paper_summary'\n",
    "    }\n",
    "}\n",
    "\n",
    "query = '트럼프의 최근 관세 정책에 대해 알려줘'\n",
    "for chunk in graph.stream({'messages': [HumanMessage(query)]}, config=config, stream_mode='values'):\n",
    "    chunk['messages'][-1].pretty_print()"
   ]
  },
  {
   "cell_type": "code",
   "execution_count": 28,
   "metadata": {},
   "outputs": [
    {
     "name": "stdout",
     "output_type": "stream",
     "text": [
      "================================\u001b[1m Human Message \u001b[0m=================================\n",
      "\n",
      "정책 출처 url을 첨부해라라\n",
      "==================================\u001b[1m Ai Message \u001b[0m==================================\n",
      "Tool Calls:\n",
      "  duckduckgo_search (call_28dq)\n",
      " Call ID: call_28dq\n",
      "  Args:\n",
      "    query: sources for trump tariff policy\n",
      "=================================\u001b[1m Tool Message \u001b[0m=================================\n",
      "Name: duckduckgo_search\n",
      "\n",
      "WASHINGTON (AP) — To President Donald Trump, \"tariff\" is more than \"the most beautiful word in the dictionary,\" something he says often.. Tariffs, in Trump's view, are also a cure for a number of the nation's ills and the tool to reach new heights.. Most economists see taxes paid on imports as capable of addressing unfair trade practices, but they're skeptical of the quasi ... Here's a full list of dates, products and levies proposed by the president: Feb. 4. President Trump imposed a 10 percent tariff on all imports from China including medicine, metals and machinery. NEW YORK (AP) — U.S. President Donald Trump's long-threatened tariffs are here, plunging the country into an escalating trade war with China, Canada and Mexico. Trump's 25% tariffs on imports from Canada and Mexico went into effect Tuesday, along with a heightened 20% levy on Chinese goods. In March 2018, President Trump invoked authority under Section 232 of the Trade Expansion Act of 1962 (19 U.S.C. § 1862) to impose 25% tariffs on steel imports and 10% tariffs on aluminum. Feb. 10: Trump says he will impose 25% tariffs on steel imports from all countries, and he raises aluminum tariffs from 10% to 25%. Feb. 13: Trump signs a memorandum that sets the stage for ...\n",
      "==================================\u001b[1m Ai Message \u001b[0m==================================\n",
      "\n",
      "While the text provides information about Trump's tariff policy, it doesn't list specific sources for the information.  To find reliable sources on Trump's tariff policy, I recommend searching for:\n",
      "\n",
      "* **Scholarly articles:** Utilize academic databases like JSTOR or Google Scholar to find in-depth analyses of Trump's trade policies.\n",
      "* **Government documents:** The U.S. Trade Representative (USTR) website offers official information on trade agreements and tariffs. \n",
      "* **Reputable news sources:** Look for reporting from established news organizations known for accuracy and fact-checking, such as The New York Times, The Wall Street Journal, or Reuters.\n"
     ]
    }
   ],
   "source": [
    "update_query = '정책 출처 url을 첨부해라'\n",
    "for chunk in graph.stream({'messages': [HumanMessage(update_query)]}, config=config, stream_mode='values'):\n",
    "    chunk['messages'][-1].pretty_print()"
   ]
  },
  {
   "cell_type": "code",
   "execution_count": 29,
   "metadata": {},
   "outputs": [
    {
     "name": "stdout",
     "output_type": "stream",
     "text": [
      "================================\u001b[1m Human Message \u001b[0m=================================\n",
      "\n",
      "내용이 좋네 핵심을 요약해라\n",
      "==================================\u001b[1m Ai Message \u001b[0m==================================\n",
      "\n",
      "The text describes Trump's tariff policy, highlighting his belief in tariffs as a solution to trade imbalances and his implementation of tariffs on goods from China, Canada, and Mexico.  \n",
      "\n",
      "It also mentions the economic debates surrounding tariffs and Trump's use of Section 232 of the Trade Expansion Act of 1962 to impose tariffs on steel and aluminum imports.  \n",
      "\n",
      "However, the text itself doesn't provide specific source citations for the information presented.\n"
     ]
    }
   ],
   "source": [
    "update_query = '내용이 좋네 핵심을 요약해라'\n",
    "for chunk in graph.stream({'messages': [HumanMessage(update_query)]}, config=config, stream_mode='values'):\n",
    "    chunk['messages'][-1].pretty_print()"
   ]
  },
  {
   "cell_type": "markdown",
   "metadata": {},
   "source": [
    "### 메시지 히스토리 관리 방법\n",
    "1. 초반 메시지 삭제 (removemessage / node 사용해서 삭제)\n",
    "2. 초반 메시지 삭제 말고 요약"
   ]
  },
  {
   "cell_type": "markdown",
   "metadata": {},
   "source": [
    "##### removeMessage"
   ]
  },
  {
   "cell_type": "code",
   "execution_count": 33,
   "metadata": {},
   "outputs": [
    {
     "data": {
      "text/plain": [
       "[HumanMessage(content='트럼프의 최근 관세 정책에 대해 알려줘', additional_kwargs={}, response_metadata={}, id='45a08885-911e-4d2b-bb9e-82a2772c1d10'),\n",
       " AIMessage(content='', additional_kwargs={'tool_calls': [{'id': 'call_aw0r', 'function': {'arguments': '{\"query\":\"trump recent tariff policy\"}', 'name': 'duckduckgo_search'}, 'type': 'function'}]}, response_metadata={'token_usage': {'completion_tokens': 87, 'prompt_tokens': 1273, 'total_tokens': 1360, 'completion_time': 0.158181818, 'prompt_time': 0.05511921, 'queue_time': 0.022372604000000004, 'total_time': 0.213301028}, 'model_name': 'gemma2-9b-it', 'system_fingerprint': 'fp_10c08bf97d', 'finish_reason': 'tool_calls', 'logprobs': None}, id='run-0e8ea330-7c61-4105-9e87-426ca5908721-0', tool_calls=[{'name': 'duckduckgo_search', 'args': {'query': 'trump recent tariff policy'}, 'id': 'call_aw0r', 'type': 'tool_call'}], usage_metadata={'input_tokens': 1273, 'output_tokens': 87, 'total_tokens': 1360}),\n",
       " ToolMessage(content=\"Tariffs under Biden. President Joe Biden largely preserves most of the tariffs Trump previously enacted against China, but his administration claims to take a more targeted approach.. In October 2022, he issues sweeping new restrictions on selling semiconductors and chipmaking equipment to China. These curbs will be expanded in October 2023 and December 2024 — when China responds with a ban ... The European Union, for example, punched back against Trump's tariffs on steel and aluminum by taxing U.S. products, from bourbon to Harley-Davidson motorcycles. Likewise, China responded to Trump's trade war by slapping tariffs on American goods, including soybeans and pork in a calculated drive to hurt his supporters in farm country. NEW YORK (AP) — U.S. President Donald Trump's long-threatened tariffs are here, plunging the country into an escalating trade war with China, Canada and Mexico. Trump's 25% tariffs on imports from Canada and Mexico went into effect Tuesday, along with a heightened 20% levy on Chinese goods. President Donald Trump issued exemptions on tariffs for a variety of goods coming into the United States from Mexico and Canada — just two days after he put the sweeping tariffs in place ... Trump originally planned to start the tariffs on Feb. 1 to push the bordering neighbors of the U.S. to do more to stop migration and drug trafficking — but then delayed the tariffs by a month.\", name='duckduckgo_search', id='b92e7ac1-9054-4c37-8681-25d4431b7813', tool_call_id='call_aw0r'),\n",
       " AIMessage(content=\"Trump's trade policy was characterized by the imposition of tariffs on goods from various countries, including China, Canada, and Mexico. These tariffs were implemented as a means of protecting American jobs and industries, but they also sparked trade wars and tensions with trading partners. \\n\\n\\nThe impact of Trump's tariffs was multifaceted. While they aimed to boost domestic production and reduce trade deficits, they also led to higher prices for consumers and retaliatory tariffs from other countries. \\n\", additional_kwargs={}, response_metadata={'token_usage': {'completion_tokens': 96, 'prompt_tokens': 1642, 'total_tokens': 1738, 'completion_time': 0.174545455, 'prompt_time': 0.071469527, 'queue_time': 0.01979774499999999, 'total_time': 0.246014982}, 'model_name': 'gemma2-9b-it', 'system_fingerprint': 'fp_10c08bf97d', 'finish_reason': 'stop', 'logprobs': None}, id='run-dfad8fa6-217d-4d7c-9d99-f426c5697d83-0', usage_metadata={'input_tokens': 1642, 'output_tokens': 96, 'total_tokens': 1738}),\n",
       " HumanMessage(content='정책 출처 url을 첨부해라라', additional_kwargs={}, response_metadata={}, id='c3ad433c-276a-4de0-a8ee-8d01e3501b07'),\n",
       " AIMessage(content='', additional_kwargs={'tool_calls': [{'id': 'call_28dq', 'function': {'arguments': '{\"query\":\"sources for trump tariff policy\"}', 'name': 'duckduckgo_search'}, 'type': 'function'}]}, response_metadata={'token_usage': {'completion_tokens': 52, 'prompt_tokens': 1758, 'total_tokens': 1810, 'completion_time': 0.094545455, 'prompt_time': 0.060955078, 'queue_time': 0.021456765999999995, 'total_time': 0.155500533}, 'model_name': 'gemma2-9b-it', 'system_fingerprint': 'fp_10c08bf97d', 'finish_reason': 'tool_calls', 'logprobs': None}, id='run-2765959e-82e6-4052-ac71-6384f287ceb4-0', tool_calls=[{'name': 'duckduckgo_search', 'args': {'query': 'sources for trump tariff policy'}, 'id': 'call_28dq', 'type': 'tool_call'}], usage_metadata={'input_tokens': 1758, 'output_tokens': 52, 'total_tokens': 1810}),\n",
       " ToolMessage(content='WASHINGTON (AP) — To President Donald Trump, \"tariff\" is more than \"the most beautiful word in the dictionary,\" something he says often.. Tariffs, in Trump\\'s view, are also a cure for a number of the nation\\'s ills and the tool to reach new heights.. Most economists see taxes paid on imports as capable of addressing unfair trade practices, but they\\'re skeptical of the quasi ... Here\\'s a full list of dates, products and levies proposed by the president: Feb. 4. President Trump imposed a 10 percent tariff on all imports from China including medicine, metals and machinery. NEW YORK (AP) — U.S. President Donald Trump\\'s long-threatened tariffs are here, plunging the country into an escalating trade war with China, Canada and Mexico. Trump\\'s 25% tariffs on imports from Canada and Mexico went into effect Tuesday, along with a heightened 20% levy on Chinese goods. In March 2018, President Trump invoked authority under Section 232 of the Trade Expansion Act of 1962 (19 U.S.C. § 1862) to impose 25% tariffs on steel imports and 10% tariffs on aluminum. Feb. 10: Trump says he will impose 25% tariffs on steel imports from all countries, and he raises aluminum tariffs from 10% to 25%. Feb. 13: Trump signs a memorandum that sets the stage for ...', name='duckduckgo_search', id='a8a174ba-c340-412d-8794-83d12c7499fa', tool_call_id='call_28dq'),\n",
       " AIMessage(content=\"While the text provides information about Trump's tariff policy, it doesn't list specific sources for the information.  To find reliable sources on Trump's tariff policy, I recommend searching for:\\n\\n* **Scholarly articles:** Utilize academic databases like JSTOR or Google Scholar to find in-depth analyses of Trump's trade policies.\\n* **Government documents:** The U.S. Trade Representative (USTR) website offers official information on trade agreements and tariffs. \\n* **Reputable news sources:** Look for reporting from established news organizations known for accuracy and fact-checking, such as The New York Times, The Wall Street Journal, or Reuters. \\n\\n\\n\\n\\n\", additional_kwargs={}, response_metadata={'token_usage': {'completion_tokens': 138, 'prompt_tokens': 2150, 'total_tokens': 2288, 'completion_time': 0.250909091, 'prompt_time': 0.073973932, 'queue_time': 0.021969322, 'total_time': 0.324883023}, 'model_name': 'gemma2-9b-it', 'system_fingerprint': 'fp_10c08bf97d', 'finish_reason': 'stop', 'logprobs': None}, id='run-7ad0c20c-8db3-4258-8296-ab69d42b8ed0-0', usage_metadata={'input_tokens': 2150, 'output_tokens': 138, 'total_tokens': 2288}),\n",
       " HumanMessage(content='내용이 좋네 핵심을 요약해라', additional_kwargs={}, response_metadata={}, id='8cddfdc7-1fc9-4bd3-a052-508c523e906a'),\n",
       " AIMessage(content=\"The text describes Trump's tariff policy, highlighting his belief in tariffs as a solution to trade imbalances and his implementation of tariffs on goods from China, Canada, and Mexico.  \\n\\nIt also mentions the economic debates surrounding tariffs and Trump's use of Section 232 of the Trade Expansion Act of 1962 to impose tariffs on steel and aluminum imports.  \\n\\nHowever, the text itself doesn't provide specific source citations for the information presented.  \\n\\n\", additional_kwargs={}, response_metadata={'token_usage': {'completion_tokens': 100, 'prompt_tokens': 2308, 'total_tokens': 2408, 'completion_time': 0.181818182, 'prompt_time': 0.105815217, 'queue_time': 0.022213522, 'total_time': 0.287633399}, 'model_name': 'gemma2-9b-it', 'system_fingerprint': 'fp_10c08bf97d', 'finish_reason': 'stop', 'logprobs': None}, id='run-9a5ebd35-b21f-4ab1-8603-e6931c692d0f-0', usage_metadata={'input_tokens': 2308, 'output_tokens': 100, 'total_tokens': 2408})]"
      ]
     },
     "execution_count": 33,
     "metadata": {},
     "output_type": "execute_result"
    }
   ],
   "source": [
    "current_message_list = graph.get_state(config).values['messages']\n",
    "current_message_list"
   ]
  },
  {
   "cell_type": "code",
   "execution_count": 34,
   "metadata": {},
   "outputs": [],
   "source": [
    "from langchain_core.messages import RemoveMessage\n",
    "\n",
    "for index, message in enumerate(current_message_list):\n",
    "    if index < len(current_message_list)-1:\n",
    "        graph.update_state(config, {'messages' : RemoveMessage(id=message.id)})"
   ]
  },
  {
   "cell_type": "code",
   "execution_count": 35,
   "metadata": {},
   "outputs": [
    {
     "data": {
      "text/plain": [
       "[AIMessage(content=\"The text describes Trump's tariff policy, highlighting his belief in tariffs as a solution to trade imbalances and his implementation of tariffs on goods from China, Canada, and Mexico.  \\n\\nIt also mentions the economic debates surrounding tariffs and Trump's use of Section 232 of the Trade Expansion Act of 1962 to impose tariffs on steel and aluminum imports.  \\n\\nHowever, the text itself doesn't provide specific source citations for the information presented.  \\n\\n\", additional_kwargs={}, response_metadata={'token_usage': {'completion_tokens': 100, 'prompt_tokens': 2308, 'total_tokens': 2408, 'completion_time': 0.181818182, 'prompt_time': 0.105815217, 'queue_time': 0.022213522, 'total_time': 0.287633399}, 'model_name': 'gemma2-9b-it', 'system_fingerprint': 'fp_10c08bf97d', 'finish_reason': 'stop', 'logprobs': None}, id='run-9a5ebd35-b21f-4ab1-8603-e6931c692d0f-0', usage_metadata={'input_tokens': 2308, 'output_tokens': 100, 'total_tokens': 2408})]"
      ]
     },
     "execution_count": 35,
     "metadata": {},
     "output_type": "execute_result"
    }
   ],
   "source": [
    "current_message_list = graph.get_state(config).values['messages']\n",
    "current_message_list"
   ]
  },
  {
   "cell_type": "markdown",
   "metadata": {},
   "source": [
    "remove Node"
   ]
  },
  {
   "cell_type": "code",
   "execution_count": 41,
   "metadata": {},
   "outputs": [],
   "source": [
    "def delete_messages(state:MessagesState):\n",
    "    messages = state['messages']\n",
    "    delete_messages = [RemoveMessage(id=message.id) for message in messages[:-3]]\n",
    "    return {'messages' : delete_messages}\n",
    "\n",
    "def shoud_continue(state:MessagesState):\n",
    "    messages = state['messages']\n",
    "    last_ai_message = messages[-1]\n",
    "    if last_ai_message.tool_calls:\n",
    "        return 'tools'\n",
    "    return 'delete_messages'\n",
    "\n"
   ]
  },
  {
   "cell_type": "code",
   "execution_count": 42,
   "metadata": {},
   "outputs": [],
   "source": [
    "graph_builder = StateGraph(MessagesState)\n",
    "\n",
    "graph_builder.add_node('agent', agent)\n",
    "graph_builder.add_node('tools', tool_node)\n",
    "graph_builder.add_node(delete_messages)\n",
    "\n",
    "graph_builder.add_edge(START, 'agent')\n",
    "graph_builder.add_conditional_edges(\n",
    "    'agent',\n",
    "    shoud_continue,\n",
    "    ['tools', 'delete_messages']\n",
    ")\n",
    "graph_builder.add_edge('tools', 'agent')\n",
    "graph_builder.add_edge('delete_messages', END)\n",
    "\n",
    "\n",
    "checkpointer = MemorySaver()\n",
    "\n",
    "graph= graph_builder.compile(\n",
    "    checkpointer=checkpointer\n",
    ")\n"
   ]
  },
  {
   "cell_type": "code",
   "execution_count": 43,
   "metadata": {},
   "outputs": [
    {
     "data": {
      "image/png": "[encoded data removed]",
      "text/plain": [
       "<IPython.core.display.Image object>"
      ]
     },
     "metadata": {},
     "output_type": "display_data"
    }
   ],
   "source": [
    "from IPython.display import Image, display\n",
    "\n",
    "display(Image(graph.get_graph(xray=True).draw_mermaid_png()))"
   ]
  },
  {
   "cell_type": "code",
   "execution_count": 44,
   "metadata": {},
   "outputs": [
    {
     "name": "stdout",
     "output_type": "stream",
     "text": [
      "================================\u001b[1m Human Message \u001b[0m=================================\n",
      "\n",
      "트럼프의 최근 관세 정책에 대해 알려줘\n",
      "==================================\u001b[1m Ai Message \u001b[0m==================================\n",
      "Tool Calls:\n",
      "  duckduckgo_search (call_9sc4)\n",
      " Call ID: call_9sc4\n",
      "  Args:\n",
      "    query: trump recent tariff policy\n",
      "=================================\u001b[1m Tool Message \u001b[0m=================================\n",
      "Name: duckduckgo_search\n",
      "\n",
      "Tariffs under Biden. President Joe Biden largely preserves most of the tariffs Trump previously enacted against China, but his administration claims to take a more targeted approach.. In October 2022, he issues sweeping new restrictions on selling semiconductors and chipmaking equipment to China. These curbs will be expanded in October 2023 and December 2024 — when China responds with a ban ... In March 2018, President Trump invoked authority under Section 232 of the Trade Expansion Act of 1962 (19 U.S.C. § 1862) to impose 25% tariffs on steel imports and 10% tariffs on aluminum. Trump, however, is granting a one-month exemption on his stiff new tariffs on imports from Mexico and Canada for U.S. automakers, as worries persist that the newly launched trade war could crush domestic manufacturing. The pause comes after Trump spoke with leaders of the Big 3 automakers, Ford, General Motors and Stellantis, on Wednesday, the ... NEW YORK (AP) — U.S. President Donald Trump's long-threatened tariffs are here, plunging the country into an escalating trade war with China, Canada and Mexico. Trump's 25% tariffs on imports from Canada and Mexico went into effect Tuesday, along with a heightened 20% levy on Chinese goods. President Donald Trump issued exemptions on tariffs for a variety of goods coming into the United States from Mexico and Canada — just two days after he put the sweeping tariffs in place ...\n",
      "==================================\u001b[1m Ai Message \u001b[0m==================================\n",
      "\n",
      "President Joe Biden largely preserves most of the tariffs Trump previously enacted against China, but his administration claims to take a more targeted approach.  In October 2022, he issues sweeping new restrictions on selling semiconductors and chipmaking equipment to China. These curbs will be expanded in October 2023 and December 2024 — when China responds with a ban.   In March 2018, President Trump invoked authority under Section 232 of the Trade Expansion Act of 1962 (19 U.S.C. § 1862) to impose 25% tariffs on steel imports and 10% tariffs on aluminum.\n",
      "==================================\u001b[1m Ai Message \u001b[0m==================================\n",
      "\n",
      "President Joe Biden largely preserves most of the tariffs Trump previously enacted against China, but his administration claims to take a more targeted approach.  In October 2022, he issues sweeping new restrictions on selling semiconductors and chipmaking equipment to China. These curbs will be expanded in October 2023 and December 2024 — when China responds with a ban.   In March 2018, President Trump invoked authority under Section 232 of the Trade Expansion Act of 1962 (19 U.S.C. § 1862) to impose 25% tariffs on steel imports and 10% tariffs on aluminum.\n"
     ]
    }
   ],
   "source": [
    "config = {\n",
    "    'configurable':{\n",
    "        'thread_id': 'paper_summary2'\n",
    "    }\n",
    "}\n",
    "\n",
    "query = '트럼프의 최근 관세 정책에 대해 알려줘'\n",
    "for chunk in graph.stream({'messages': [HumanMessage(query)]}, config=config, stream_mode='values'):\n",
    "    chunk['messages'][-1].pretty_print()"
   ]
  },
  {
   "cell_type": "code",
   "execution_count": 45,
   "metadata": {},
   "outputs": [
    {
     "data": {
      "text/plain": [
       "[AIMessage(content='', additional_kwargs={'tool_calls': [{'id': 'call_9sc4', 'function': {'arguments': '{\"query\":\"trump recent tariff policy\"}', 'name': 'duckduckgo_search'}, 'type': 'function'}]}, response_metadata={'token_usage': {'completion_tokens': 87, 'prompt_tokens': 1273, 'total_tokens': 1360, 'completion_time': 0.158181818, 'prompt_time': 0.061163784, 'queue_time': 0.020386479, 'total_time': 0.219345602}, 'model_name': 'gemma2-9b-it', 'system_fingerprint': 'fp_10c08bf97d', 'finish_reason': 'tool_calls', 'logprobs': None}, id='run-9b2b71fe-c84b-44d3-b45f-6d84aeff03ad-0', tool_calls=[{'name': 'duckduckgo_search', 'args': {'query': 'trump recent tariff policy'}, 'id': 'call_9sc4', 'type': 'tool_call'}], usage_metadata={'input_tokens': 1273, 'output_tokens': 87, 'total_tokens': 1360}),\n",
       " ToolMessage(content=\"Tariffs under Biden. President Joe Biden largely preserves most of the tariffs Trump previously enacted against China, but his administration claims to take a more targeted approach.. In October 2022, he issues sweeping new restrictions on selling semiconductors and chipmaking equipment to China. These curbs will be expanded in October 2023 and December 2024 — when China responds with a ban ... In March 2018, President Trump invoked authority under Section 232 of the Trade Expansion Act of 1962 (19 U.S.C. § 1862) to impose 25% tariffs on steel imports and 10% tariffs on aluminum. Trump, however, is granting a one-month exemption on his stiff new tariffs on imports from Mexico and Canada for U.S. automakers, as worries persist that the newly launched trade war could crush domestic manufacturing. The pause comes after Trump spoke with leaders of the Big 3 automakers, Ford, General Motors and Stellantis, on Wednesday, the ... NEW YORK (AP) — U.S. President Donald Trump's long-threatened tariffs are here, plunging the country into an escalating trade war with China, Canada and Mexico. Trump's 25% tariffs on imports from Canada and Mexico went into effect Tuesday, along with a heightened 20% levy on Chinese goods. President Donald Trump issued exemptions on tariffs for a variety of goods coming into the United States from Mexico and Canada — just two days after he put the sweeping tariffs in place ...\", name='duckduckgo_search', id='1b248c83-dc90-4b81-96e2-88a22a391720', tool_call_id='call_9sc4'),\n",
       " AIMessage(content='President Joe Biden largely preserves most of the tariffs Trump previously enacted against China, but his administration claims to take a more targeted approach.  In October 2022, he issues sweeping new restrictions on selling semiconductors and chipmaking equipment to China. These curbs will be expanded in October 2023 and December 2024 — when China responds with a ban.   In March 2018, President Trump invoked authority under Section 232 of the Trade Expansion Act of 1962 (19 U.S.C. § 1862) to impose 25% tariffs on steel imports and 10% tariffs on aluminum. \\n', additional_kwargs={}, response_metadata={'token_usage': {'completion_tokens': 146, 'prompt_tokens': 1670, 'total_tokens': 1816, 'completion_time': 0.265454545, 'prompt_time': 0.05794864, 'queue_time': 0.022454312999999997, 'total_time': 0.323403185}, 'model_name': 'gemma2-9b-it', 'system_fingerprint': 'fp_10c08bf97d', 'finish_reason': 'stop', 'logprobs': None}, id='run-d566c006-be13-4538-b737-dec163f26e6e-0', usage_metadata={'input_tokens': 1670, 'output_tokens': 146, 'total_tokens': 1816})]"
      ]
     },
     "execution_count": 45,
     "metadata": {},
     "output_type": "execute_result"
    }
   ],
   "source": [
    "current_message_list = graph.get_state(config).values['messages']\n",
    "current_message_list"
   ]
  },
  {
   "cell_type": "code",
   "execution_count": 46,
   "metadata": {},
   "outputs": [
    {
     "name": "stdout",
     "output_type": "stream",
     "text": [
      "================================\u001b[1m Human Message \u001b[0m=================================\n",
      "\n",
      "내용이 좋네 핵심을 요약해라\n",
      "==================================\u001b[1m Ai Message \u001b[0m==================================\n",
      "\n",
      "Biden 크게 트럼프 시대 중국의 관세를 유지하며, 집중적인 접근 방식을 채택하고 있습니다.  2022년 10월부터 반도체 및 제조 장비를 중국에 판매하는 데 대한 규제를 시행하며, 2023년 10월과 2024년 12월에 더욱 확대될 예정입니다. 2018년 3월, 트럼프 대통령은 철강 수입에 대해 25%, 알루미늄 수입에 대해 10%의 관세를 부과했습니다.\n",
      "==================================\u001b[1m Ai Message \u001b[0m==================================\n",
      "\n",
      "Biden 크게 트럼프 시대 중국의 관세를 유지하며, 집중적인 접근 방식을 채택하고 있습니다.  2022년 10월부터 반도체 및 제조 장비를 중국에 판매하는 데 대한 규제를 시행하며, 2023년 10월과 2024년 12월에 더욱 확대될 예정입니다. 2018년 3월, 트럼프 대통령은 철강 수입에 대해 25%, 알루미늄 수입에 대해 10%의 관세를 부과했습니다.\n"
     ]
    },
    {
     "data": {
      "text/plain": [
       "[AIMessage(content='President Joe Biden largely preserves most of the tariffs Trump previously enacted against China, but his administration claims to take a more targeted approach.  In October 2022, he issues sweeping new restrictions on selling semiconductors and chipmaking equipment to China. These curbs will be expanded in October 2023 and December 2024 — when China responds with a ban.   In March 2018, President Trump invoked authority under Section 232 of the Trade Expansion Act of 1962 (19 U.S.C. § 1862) to impose 25% tariffs on steel imports and 10% tariffs on aluminum. \\n', additional_kwargs={}, response_metadata={'token_usage': {'completion_tokens': 146, 'prompt_tokens': 1670, 'total_tokens': 1816, 'completion_time': 0.265454545, 'prompt_time': 0.05794864, 'queue_time': 0.022454312999999997, 'total_time': 0.323403185}, 'model_name': 'gemma2-9b-it', 'system_fingerprint': 'fp_10c08bf97d', 'finish_reason': 'stop', 'logprobs': None}, id='run-d566c006-be13-4538-b737-dec163f26e6e-0', usage_metadata={'input_tokens': 1670, 'output_tokens': 146, 'total_tokens': 1816}),\n",
       " HumanMessage(content='내용이 좋네 핵심을 요약해라', additional_kwargs={}, response_metadata={}, id='f06f4565-8d3b-4388-9f69-7aefe44056f5'),\n",
       " AIMessage(content='Biden 크게 트럼프 시대 중국의 관세를 유지하며, 집중적인 접근 방식을 채택하고 있습니다.  2022년 10월부터 반도체 및 제조 장비를 중국에 판매하는 데 대한 규제를 시행하며, 2023년 10월과 2024년 12월에 더욱 확대될 예정입니다. 2018년 3월, 트럼프 대통령은 철강 수입에 대해 25%, 알루미늄 수입에 대해 10%의 관세를 부과했습니다. \\n\\n\\n', additional_kwargs={}, response_metadata={'token_usage': {'completion_tokens': 148, 'prompt_tokens': 1822, 'total_tokens': 1970, 'completion_time': 0.269090909, 'prompt_time': 0.078259019, 'queue_time': 0.021270424999999996, 'total_time': 0.347349928}, 'model_name': 'gemma2-9b-it', 'system_fingerprint': 'fp_10c08bf97d', 'finish_reason': 'stop', 'logprobs': None}, id='run-ba884e10-37e2-43d2-ad20-ef03043c3435-0', usage_metadata={'input_tokens': 1822, 'output_tokens': 148, 'total_tokens': 1970})]"
      ]
     },
     "execution_count": 46,
     "metadata": {},
     "output_type": "execute_result"
    }
   ],
   "source": [
    "update_query = '내용이 좋네 핵심을 요약해라'\n",
    "for chunk in graph.stream({'messages': [HumanMessage(update_query)]}, config=config, stream_mode='values'):\n",
    "    chunk['messages'][-1].pretty_print()\n",
    "\n",
    "current_message_list = graph.get_state(config).values['messages']\n",
    "current_message_list"
   ]
  },
  {
   "cell_type": "markdown",
   "metadata": {},
   "source": [
    "### 삭제 말고 요약하기 - > 요약해서 토큰 아끼기"
   ]
  },
  {
   "cell_type": "code",
   "execution_count": 71,
   "metadata": {},
   "outputs": [],
   "source": [
    "# summary 담을 State \n",
    "\n",
    "class AgentSate(MessagesState):\n",
    "    summary: str\n",
    "\n",
    "\n",
    "# 요약 노드 \n",
    "def summarize_messages(state:AgentSate):\n",
    "    messages= state['messages']\n",
    "    summary = state['summary']\n",
    "    summary_prompt = f\"sumamrize this chat history bleow : \\n\\nchat_history:{messages}\"\n",
    "\n",
    "    if summary != \"\":\n",
    "        summary_prompt =f\"\"\"summarize this chat history below while looking at the summary of earlier conversations\n",
    "        chat_history:{messages}\n",
    "        summary:{summary}\"\"\"\n",
    "\n",
    "    \n",
    "    groq_summary_prompt = ChatPromptTemplate.from_messages([\n",
    "        ('system', \"Write a concise summary of the below context\"),\n",
    "        ('human', \"{context}\")\n",
    "    ])\n",
    "\n",
    "    groq_summary_chain = groq_summary_prompt | small_llm | StrOutputParser()\n",
    "    summary = small_llm.invoke(summary_prompt)\n",
    "\n",
    "    response = groq_summary_chain.invoke(messages)\n",
    "    return {'summary' : response}\n",
    "\n",
    "\n",
    "def shoud_continue(state:MessagesState):\n",
    "    messages = state['messages']\n",
    "    last_ai_message = messages[-1]\n",
    "    if last_ai_message.tool_calls:\n",
    "        return 'tools'\n",
    "    return 'summarize_messages'\n",
    "\n",
    "\n",
    "# summary 내용 추가 \n",
    "def agent(state: AgentSate):\n",
    "    messages = state['messages']\n",
    "    summary = state['summary']\n",
    "    if summary != \"\":\n",
    "        messages = [SystemMessage(content=f\"Here is the summary of the earlier conversations: {summary}\")] + messages\n",
    "    response = llm_with_tools.invoke(messages)\n",
    "    return {'messages': [response]}"
   ]
  },
  {
   "cell_type": "code",
   "execution_count": 72,
   "metadata": {},
   "outputs": [],
   "source": [
    "graph_builder = StateGraph(AgentSate)\n",
    "\n",
    "graph_builder.add_node('agent', agent)\n",
    "graph_builder.add_node('tools', tool_node)\n",
    "graph_builder.add_node(delete_messages)\n",
    "graph_builder.add_node(summarize_messages)\n",
    "\n",
    "graph_builder.add_edge(START, 'agent')\n",
    "graph_builder.add_conditional_edges(\n",
    "    'agent',\n",
    "    shoud_continue,\n",
    "    ['tools', 'summarize_messages']\n",
    ")\n",
    "graph_builder.add_edge('tools', 'agent')\n",
    "graph_builder.add_edge('delete_messages', END)\n",
    "graph_builder.add_edge('summarize_messages', 'delete_messages')\n",
    "\n",
    "checkpointer = MemorySaver()\n",
    "\n",
    "graph= graph_builder.compile(\n",
    "    checkpointer=checkpointer\n",
    ")\n"
   ]
  },
  {
   "cell_type": "code",
   "execution_count": 73,
   "metadata": {},
   "outputs": [
    {
     "data": {
      "image/png": "[encoded data removed]",
      "text/plain": [
       "<IPython.core.display.Image object>"
      ]
     },
     "metadata": {},
     "output_type": "display_data"
    }
   ],
   "source": [
    "from IPython.display import Image, display\n",
    "\n",
    "display(Image(graph.get_graph(xray=True).draw_mermaid_png()))"
   ]
  },
  {
   "cell_type": "code",
   "execution_count": 74,
   "metadata": {},
   "outputs": [
    {
     "name": "stdout",
     "output_type": "stream",
     "text": [
      "================================\u001b[1m Human Message \u001b[0m=================================\n",
      "\n",
      "트럼프의 최근 관세 정책에 대해 알려줘\n",
      "==================================\u001b[1m Ai Message \u001b[0m==================================\n",
      "Tool Calls:\n",
      "  duckduckgo_search (call_brpk)\n",
      " Call ID: call_brpk\n",
      "  Args:\n",
      "    query: trump recent tariffs\n",
      "=================================\u001b[1m Tool Message \u001b[0m=================================\n",
      "Name: duckduckgo_search\n",
      "\n",
      "President Joe Biden largely preserves most of the tariffs Trump previously enacted against China, but his administration claims to take a more targeted approach.. In October 2022, he issues sweeping new restrictions on selling semiconductors and chipmaking equipment to China. These curbs will be expanded in October 2023 and December 2024 — when China responds with a ban of U.S. exports for ... A day after offering Canada a one-month reprieve on punishing nearly across-the-board 25% tariffs, President Donald Trump has threatened new tariffs as soon as Friday on Canadian lumber and dairy ... Thursday, Trump announced that a subset of goods covered in the United States-Mexico-Canada Agreement would not face new tariffs for at least another month. That exemption applies to about 38% of ... Trump had previously threatened to place a 25% tariff on goods from Canada and Mexico on Feb. 1 before saying he was delaying those tariffs for a month, after the leaders of the two countries said ... NEW YORK (AP) — U.S. President Donald Trump's long-threatened tariffs are here, plunging the country into an escalating trade war with China, Canada and Mexico.. Trump's 25% tariffs on imports from Canada and Mexico went into effect Tuesday, along with a heightened 20% levy on Chinese goods.\n",
      "==================================\u001b[1m Ai Message \u001b[0m==================================\n",
      "\n",
      "President Joe Biden largely preserves most of the tariffs Trump previously enacted against China.  However, Biden's administration claims to take a more targeted approach.\n",
      "==================================\u001b[1m Ai Message \u001b[0m==================================\n",
      "\n",
      "President Joe Biden largely preserves most of the tariffs Trump previously enacted against China.  However, Biden's administration claims to take a more targeted approach.\n",
      "==================================\u001b[1m Ai Message \u001b[0m==================================\n",
      "\n",
      "President Joe Biden largely preserves most of the tariffs Trump previously enacted against China.  However, Biden's administration claims to take a more targeted approach.\n"
     ]
    }
   ],
   "source": [
    "config = {\n",
    "    'configurable':{\n",
    "        'thread_id': 'paper_summary2'\n",
    "    }\n",
    "}\n",
    "\n",
    "query = '트럼프의 최근 관세 정책에 대해 알려줘'\n",
    "for chunk in graph.stream({'messages': [HumanMessage(query)], 'summary' : ''}, config=config, stream_mode='values'):\n",
    "    chunk['messages'][-1].pretty_print()"
   ]
  },
  {
   "cell_type": "code",
   "execution_count": 75,
   "metadata": {},
   "outputs": [
    {
     "data": {
      "text/plain": [
       "[AIMessage(content='', additional_kwargs={'tool_calls': [{'id': 'call_brpk', 'function': {'arguments': '{\"query\":\"trump recent tariffs\"}', 'name': 'duckduckgo_search'}, 'type': 'function'}]}, response_metadata={'token_usage': {'completion_tokens': 86, 'prompt_tokens': 1273, 'total_tokens': 1359, 'completion_time': 0.156363636, 'prompt_time': 0.04439614, 'queue_time': 0.021592736, 'total_time': 0.200759776}, 'model_name': 'gemma2-9b-it', 'system_fingerprint': 'fp_10c08bf97d', 'finish_reason': 'tool_calls', 'logprobs': None}, id='run-bf14fe6d-4380-4490-b600-de202ce25536-0', tool_calls=[{'name': 'duckduckgo_search', 'args': {'query': 'trump recent tariffs'}, 'id': 'call_brpk', 'type': 'tool_call'}], usage_metadata={'input_tokens': 1273, 'output_tokens': 86, 'total_tokens': 1359}),\n",
       " ToolMessage(content=\"President Joe Biden largely preserves most of the tariffs Trump previously enacted against China, but his administration claims to take a more targeted approach.. In October 2022, he issues sweeping new restrictions on selling semiconductors and chipmaking equipment to China. These curbs will be expanded in October 2023 and December 2024 — when China responds with a ban of U.S. exports for ... A day after offering Canada a one-month reprieve on punishing nearly across-the-board 25% tariffs, President Donald Trump has threatened new tariffs as soon as Friday on Canadian lumber and dairy ... Thursday, Trump announced that a subset of goods covered in the United States-Mexico-Canada Agreement would not face new tariffs for at least another month. That exemption applies to about 38% of ... Trump had previously threatened to place a 25% tariff on goods from Canada and Mexico on Feb. 1 before saying he was delaying those tariffs for a month, after the leaders of the two countries said ... NEW YORK (AP) — U.S. President Donald Trump's long-threatened tariffs are here, plunging the country into an escalating trade war with China, Canada and Mexico.. Trump's 25% tariffs on imports from Canada and Mexico went into effect Tuesday, along with a heightened 20% levy on Chinese goods.\", name='duckduckgo_search', id='e0fc78df-4e90-4267-8ab2-ad4c12fe42ca', tool_call_id='call_brpk'),\n",
       " AIMessage(content=\"President Joe Biden largely preserves most of the tariffs Trump previously enacted against China.  However, Biden's administration claims to take a more targeted approach. \\n\", additional_kwargs={}, response_metadata={'token_usage': {'completion_tokens': 34, 'prompt_tokens': 1624, 'total_tokens': 1658, 'completion_time': 0.061818182, 'prompt_time': 0.056165018, 'queue_time': 0.022209686000000006, 'total_time': 0.1179832}, 'model_name': 'gemma2-9b-it', 'system_fingerprint': 'fp_10c08bf97d', 'finish_reason': 'stop', 'logprobs': None}, id='run-6e3c9f29-f86f-45e2-bdf2-ab63424320aa-0', usage_metadata={'input_tokens': 1624, 'output_tokens': 34, 'total_tokens': 1658})]"
      ]
     },
     "execution_count": 75,
     "metadata": {},
     "output_type": "execute_result"
    }
   ],
   "source": [
    "current_message_list = graph.get_state(config).values['messages']\n",
    "current_message_list"
   ]
  },
  {
   "cell_type": "code",
   "execution_count": 76,
   "metadata": {},
   "outputs": [
    {
     "data": {
      "text/plain": [
       "'This conversation revolves around Donald Trump\\'s recent tariff policies.\\n\\nA user asks about Trump\\'s recent tariff policies, prompting the AI to use a tool called \"duckduckgo_search\" to find relevant information. The tool returns news articles detailing Trump\\'s imposition of tariffs on goods from China, Canada, and Mexico, as well as his administration\\'s justifications and the resulting trade war.\\n\\nThe AI then summarizes the key points, noting that President Joe Biden largely maintains Trump\\'s tariffs on China but adopts a more targeted approach. \\n\\n\\n'"
      ]
     },
     "execution_count": 76,
     "metadata": {},
     "output_type": "execute_result"
    }
   ],
   "source": [
    "current_message_list = graph.get_state(config).values['summary']\n",
    "current_message_list"
   ]
  },
  {
   "cell_type": "code",
   "execution_count": 77,
   "metadata": {},
   "outputs": [
    {
     "name": "stdout",
     "output_type": "stream",
     "text": [
      "================================\u001b[1m Human Message \u001b[0m=================================\n",
      "\n",
      "트럼프의 최근 관세 정책에서 핵심 키워드 하나만 뽑아봐\n",
      "==================================\u001b[1m Ai Message \u001b[0m==================================\n",
      "Tool Calls:\n",
      "  duckduckgo_search (call_zqrs)\n",
      " Call ID: call_zqrs\n",
      "  Args:\n",
      "    query: trump recent tariffs\n",
      "=================================\u001b[1m Tool Message \u001b[0m=================================\n",
      "Name: duckduckgo_search\n",
      "\n",
      "A day after offering Canada a one-month reprieve on punishing nearly across-the-board 25% tariffs, President Donald Trump has threatened new tariffs as soon as Friday on Canadian lumber and dairy ... Trump's Republican administration has insisted that its new tariffs would equalize the ability of U.S. and foreign manufacturers to compete, though under current law these new taxes would likely be paid by American consumers and businesses either directly or in the form of higher prices. The rates to be charged would be studied over the weeks ... Trump had previously threatened to place a 25% tariff on goods from Canada and Mexico on Feb. 1 before saying he was delaying those tariffs for a month, after the leaders of the two countries said ... Two days after putting 25% tariffs on goods from Mexico and Canada, President Trump said on Thursday that he will largely lift them — the latest twist in his on-again, off-again approach to an ... US President Donald Trump has imposed new tariffs on imports from Mexico and Canada, and has doubled the levy recently put on Chinese goods. But the day after these began, Trump announced a month ...\n",
      "==================================\u001b[1m Ai Message \u001b[0m==================================\n",
      "\n",
      "China\n",
      "==================================\u001b[1m Ai Message \u001b[0m==================================\n",
      "\n",
      "China\n",
      "==================================\u001b[1m Ai Message \u001b[0m==================================\n",
      "\n",
      "China\n"
     ]
    }
   ],
   "source": [
    "config = {\n",
    "    'configurable':{\n",
    "        'thread_id': 'paper_summary2'\n",
    "    }\n",
    "}\n",
    "\n",
    "query = '트럼프의 최근 관세 정책에서 핵심 키워드 하나만 뽑아봐'\n",
    "for chunk in graph.stream({'messages': [HumanMessage(query)], 'summary' : ''}, config=config, stream_mode='values'):\n",
    "    chunk['messages'][-1].pretty_print()"
   ]
  },
  {
   "cell_type": "code",
   "execution_count": 78,
   "metadata": {},
   "outputs": [
    {
     "data": {
      "text/plain": [
       "'This conversation explores Trump\\'s recent tariff policies. \\n\\nIt starts with a query about Trump\\'s recent tariffs, triggering a tool call to DuckDuckGo Search. The response summarizes Biden\\'s continuation of most of Trump\\'s tariffs on China, while emphasizing a more targeted approach. \\n\\nFurther interactions focus on identifying key keywords related to Trump\\'s tariffs, again utilizing DuckDuckGo Search. The keyword \"China\" emerges as a central theme. \\n\\n\\nThe conversation highlights the ongoing impact of Trump\\'s trade policies and the subsequent actions taken by the Biden administration. \\n'"
      ]
     },
     "execution_count": 78,
     "metadata": {},
     "output_type": "execute_result"
    }
   ],
   "source": [
    "current_message_list = graph.get_state(config).values['summary']\n",
    "current_message_list"
   ]
  },
  {
   "cell_type": "code",
   "execution_count": 79,
   "metadata": {},
   "outputs": [
    {
     "name": "stdout",
     "output_type": "stream",
     "text": [
      "================================\u001b[1m Human Message \u001b[0m=================================\n",
      "\n",
      "트럼프 관세 정책이 주식시장에 끼치는 영향은 뭐야\n",
      "==================================\u001b[1m Ai Message \u001b[0m==================================\n",
      "Tool Calls:\n",
      "  arxiv (call_0exj)\n",
      " Call ID: call_0exj\n",
      "  Args:\n",
      "    query: impact of tariffs on stock market\n",
      "=================================\u001b[1m Tool Message \u001b[0m=================================\n",
      "Name: arxiv\n",
      "\n",
      "Published: 2017-01-09\n",
      "Title: Political elections and uncertainty -Are BRICS markets equally exposed to Trump's agenda?\n",
      "Authors: Jamal Bouoiyour, Refk Selmi\n",
      "Summary: There certainly is little or no doubt that politicians, sometimes consciously\n",
      "and sometimes not, exert a significant impact on stock markets. The evolving\n",
      "volatility over the Republican Donald Trump's surprise victory in the US\n",
      "presidential election is a perfect example when politicians, through announced\n",
      "policies, send signals to financial markets. The present paper seeks to address\n",
      "whether BRICS (Brazil, Russia, India, China and South Africa) stock markets\n",
      "equally vulnerable to Trump's plans. For this purpose, two methods were\n",
      "adopted. The first presents an event-study methodology based on regression\n",
      "estimation of abnormal returns. The second is based on vote intentions by\n",
      "integrating data from social media (Twitter), search queries (Google Trends)\n",
      "and public opinion polls. Our results robustly reveal that although some\n",
      "markets emerged losers, others took the opposite route. China took the biggest\n",
      "hit with Brazil, while the damage was much more limited for India and South\n",
      "Africa. These adverse responses can be explained by the Trump's\n",
      "neo-mercantilist attitude revolving around tearing up trade deals, instituting\n",
      "tariffs, and labeling China a \"currency manipulator\". However, Russia looks to\n",
      "be benefiting due to Trump's sympathetic attitude towards Vladimir Putin and\n",
      "expectations about the scaling down of sanctions imposed on Russia over its\n",
      "role in the conflict in Ukraine.\n",
      "\n",
      "Published: 2016-03-28\n",
      "Title: Geography and distance effect on financial dynamics in the Chinese stock market\n",
      "Authors: Xing Li, Tian Qiu, Guang Chen, Li-Xin Zhong, Xiong-Fei Jiang\n",
      "Summary: Geography effect is investigated for the Chinese stock market including the\n",
      "Shanghai and Shenzhen stock markets, based on the daily data of individual\n",
      "stocks. The Shanghai city and the Guangdong province can be identified in the\n",
      "stock geographical sector. By investigating a geographical correlation on a\n",
      "geographical parameter, the stock location is found to have an impact on the\n",
      "financial dynamics, except for the financial crisis time of the Shenzhen\n",
      "market. Stock distance effect is further studied, with a crossover behavior\n",
      "observed for the stock distance distribution. The probability of the short\n",
      "distance is much greater than that of the long distance. The average stock\n",
      "correlation is found to weakly decay with the stock distance for the Shanghai\n",
      "stock market, but stays nearly stable for different stock distance for the\n",
      "Shenzhen stock market.\n",
      "\n",
      "Published: 2018-11-09\n",
      "Title: How does stock market volatility react to oil shocks?\n",
      "Authors: Andrea Bastianin, Matteo Manera\n",
      "Summary: We study the impact of oil price shocks on the U.S. stock market volatility.\n",
      "We jointly analyze three different structural oil market shocks (i.e.,\n",
      "aggregate demand, oil supply, and oil-specific demand shocks) and stock market\n",
      "volatility using a structural vector autoregressive model. Identification is\n",
      "achieved by assuming that the price of crude oil reacts to stock market\n",
      "volatility only with delay. This implies that innovations to the price of crude\n",
      "oil are not strictly exogenous, but predetermined with respect to the stock\n",
      "market. We show that volatility responds significantly to oil price shocks\n",
      "caused by unexpected changes in aggregate and oil-specific demand, whereas the\n",
      "impact of supply-side shocks is negligible.\n",
      "==================================\u001b[1m Ai Message \u001b[0m==================================\n",
      "\n",
      "The provided text from the Arxiv tool indicates that the impact of tariffs on the stock market is complex and depends on various factors. \n",
      "\n",
      "Specifically, the text highlights:\n",
      "\n",
      "* **Uncertainty:** Political elections, like Trump's victory, create uncertainty that can affect stock markets. \n",
      "* **Trade Policies:** Trump's protectionist policies, including tariffs, can have both positive and negative impacts on different markets. \n",
      "* **Market-Specific Effects:**  The impact varies across markets. For example, China was negatively affected due to trade tensions, while Russia potentially benefited from Trump's stance on sanctions.\n",
      "* **Oil Shocks:** Oil price shocks can also influence stock market volatility, with demand shocks having a more significant impact.\n",
      "\n",
      "\n",
      "Overall, the text suggests that analyzing the impact of tariffs on the stock market requires considering a multitude of factors and their interplay.\n",
      "==================================\u001b[1m Ai Message \u001b[0m==================================\n",
      "\n",
      "The provided text from the Arxiv tool indicates that the impact of tariffs on the stock market is complex and depends on various factors. \n",
      "\n",
      "Specifically, the text highlights:\n",
      "\n",
      "* **Uncertainty:** Political elections, like Trump's victory, create uncertainty that can affect stock markets. \n",
      "* **Trade Policies:** Trump's protectionist policies, including tariffs, can have both positive and negative impacts on different markets. \n",
      "* **Market-Specific Effects:**  The impact varies across markets. For example, China was negatively affected due to trade tensions, while Russia potentially benefited from Trump's stance on sanctions.\n",
      "* **Oil Shocks:** Oil price shocks can also influence stock market volatility, with demand shocks having a more significant impact.\n",
      "\n",
      "\n",
      "Overall, the text suggests that analyzing the impact of tariffs on the stock market requires considering a multitude of factors and their interplay.\n",
      "==================================\u001b[1m Ai Message \u001b[0m==================================\n",
      "\n",
      "The provided text from the Arxiv tool indicates that the impact of tariffs on the stock market is complex and depends on various factors. \n",
      "\n",
      "Specifically, the text highlights:\n",
      "\n",
      "* **Uncertainty:** Political elections, like Trump's victory, create uncertainty that can affect stock markets. \n",
      "* **Trade Policies:** Trump's protectionist policies, including tariffs, can have both positive and negative impacts on different markets. \n",
      "* **Market-Specific Effects:**  The impact varies across markets. For example, China was negatively affected due to trade tensions, while Russia potentially benefited from Trump's stance on sanctions.\n",
      "* **Oil Shocks:** Oil price shocks can also influence stock market volatility, with demand shocks having a more significant impact.\n",
      "\n",
      "\n",
      "Overall, the text suggests that analyzing the impact of tariffs on the stock market requires considering a multitude of factors and their interplay.\n"
     ]
    }
   ],
   "source": [
    "config = {\n",
    "    'configurable':{\n",
    "        'thread_id': 'paper_summary2'\n",
    "    }\n",
    "}\n",
    "\n",
    "query = '트럼프 관세 정책이 주식시장에 끼치는 영향은 뭐야'\n",
    "for chunk in graph.stream({'messages': [HumanMessage(query)], 'summary' : ''}, config=config, stream_mode='values'):\n",
    "    chunk['messages'][-1].pretty_print()"
   ]
  },
  {
   "cell_type": "code",
   "execution_count": 80,
   "metadata": {},
   "outputs": [
    {
     "data": {
      "text/plain": [
       "\"This conversation explores the impact of US President Donald Trump's tariffs on the stock market. \\n\\nIt starts with a query about recent tariffs imposed by Trump on Canada. It then shifts to a broader discussion about the influence of Trump's trade policies on stock markets, using search results and academic papers from Arxiv. \\n\\nThe analysis highlights that the impact of tariffs is complex and multifaceted:\\n\\n* **Uncertainty:** Political events and policy changes create uncertainty that can affect market sentiment.\\n* **Market Specificity:** Different markets react differently to tariffs depending on their economic relationships with the US and the specific industries affected.\\n* **Oil Shocks:** Oil price fluctuations can also influence stock market volatility, adding another layer of complexity.\\n\\n\\nThe overall conclusion is that understanding the impact of tariffs on the stock market requires considering a wide range of factors and their interconnectedness. \\n\""
      ]
     },
     "execution_count": 80,
     "metadata": {},
     "output_type": "execute_result"
    }
   ],
   "source": [
    "current_message_list = graph.get_state(config).values['summary']\n",
    "current_message_list"
   ]
  },
  {
   "cell_type": "markdown",
   "metadata": {},
   "source": [
    "## Human in the loop"
   ]
  },
  {
   "cell_type": "code",
   "execution_count": 109,
   "metadata": {},
   "outputs": [],
   "source": [
    "from langgraph.types import interrupt, Command\n",
    "\n",
    "def human_review(state:AgentSate) -> Command[Literal['tools', 'agent']]:\n",
    "    messages = state['messages']\n",
    "    last_message = messages[-1]\n",
    "    tool_call = last_message.tool_calls[-1]\n",
    "    human_review = interrupt({\n",
    "        \"question\":\"이렇게 진행하면 될까요?\",\n",
    "        'tool_call':tool_call\n",
    "    })\n",
    "\n",
    "    # 인터럽트 할 떄 사람이 하는 Action \n",
    "    # 1. llm이 결정 잘해서 그대로 진행\n",
    "    # 2. 도구 잘골랐는데 도구 실행할 args 이상할 때\n",
    "    # 3. 도구 잘못 고른 경우 \n",
    "    review_action = human_review['action'] # 위 액션들을 여기 담음 \n",
    "    review_data = human_review.get('data', None) # args에 넣어줄 data \n",
    "\n",
    "    if review_action == 'continue':\n",
    "        return Command(goto='tools')\n",
    "\n",
    "    if review_action == \"update_args\":\n",
    "        updated_ai_message = {\n",
    "            'id' : last_message.id, # 기존 메시지들은 고윳값을 가짐, 꼭 Id를 업데이트해주어야함 \n",
    "            'role' : \"ai\",\n",
    "            'content' : last_message.content,\n",
    "            'tool_calls' :[{\n",
    "                'id': tool_call['id'],\n",
    "                'name': tool_call['name'],\n",
    "                'args': review_data\n",
    "            }],\n",
    "        }\n",
    "        return Command(goto='tools', update={'messages':[updated_ai_message]})\n",
    "\n",
    "    # tool message를 실행한 것처럼 처리\n",
    "    # 인터럽트는 Ai message에서 tool call이 들고있는 상태 -> toolmessaeg 시작 전\n",
    "    # 이때 그 tool calls 정보를 가지고 toolmessage를 만들어서 agent로 보내줌 \n",
    "    if review_action == \"update_tool\":\n",
    "        updated_tool_message = {\n",
    "            'tool_call_id' : tool_call['id'],\n",
    "            \"name\" : tool_call['name'],\n",
    "            \"role\" : 'tool',\n",
    "            'content' : review_data\n",
    "        }\n",
    "        return Command(goto='agent', update={'messages':[updated_tool_message]})\n"
   ]
  },
  {
   "cell_type": "code",
   "execution_count": 110,
   "metadata": {},
   "outputs": [],
   "source": [
    "def shoud_continue(state:MessagesState):\n",
    "    messages = state['messages']\n",
    "    last_ai_message = messages[-1]\n",
    "    if last_ai_message.tool_calls:\n",
    "        return 'human_review'\n",
    "    return 'summarize_messages'\n"
   ]
  },
  {
   "cell_type": "code",
   "execution_count": 116,
   "metadata": {},
   "outputs": [],
   "source": [
    "graph_builder = StateGraph(AgentSate)\n",
    "\n",
    "graph_builder.add_node('agent', agent)\n",
    "graph_builder.add_node('tools', tool_node)\n",
    "graph_builder.add_node(delete_messages)\n",
    "graph_builder.add_node(summarize_messages)\n",
    "graph_builder.add_node(human_review)\n",
    "\n",
    "\n",
    "graph_builder.add_edge(START, 'agent')\n",
    "graph_builder.add_conditional_edges(\n",
    "    'agent',\n",
    "    shoud_continue,\n",
    "    ['human_review', 'summarize_messages']\n",
    ")\n",
    "graph_builder.add_edge('tools', 'agent')\n",
    "graph_builder.add_edge('delete_messages', END)\n",
    "graph_builder.add_edge('summarize_messages', 'delete_messages')\n",
    "\n",
    "checkpointer = MemorySaver()\n",
    "\n",
    "graph= graph_builder.compile(\n",
    "    checkpointer=checkpointer\n",
    ")\n"
   ]
  },
  {
   "cell_type": "code",
   "execution_count": 112,
   "metadata": {},
   "outputs": [
    {
     "data": {
      "image/png": "[encoded data removed]",
      "text/plain": [
       "<IPython.core.display.Image object>"
      ]
     },
     "metadata": {},
     "output_type": "display_data"
    }
   ],
   "source": [
    "from IPython.display import Image, display\n",
    "\n",
    "display(Image(graph.get_graph(xray=True).draw_mermaid_png()))"
   ]
  },
  {
   "cell_type": "markdown",
   "metadata": {},
   "source": [
    "#### continue test"
   ]
  },
  {
   "cell_type": "code",
   "execution_count": 97,
   "metadata": {},
   "outputs": [
    {
     "name": "stdout",
     "output_type": "stream",
     "text": [
      "================================\u001b[1m Human Message \u001b[0m=================================\n",
      "\n",
      "트럼프의 최근 관세 정책에 대해 알려줘\n",
      "==================================\u001b[1m Ai Message \u001b[0m==================================\n",
      "Tool Calls:\n",
      "  duckduckgo_search (call_qy0a)\n",
      " Call ID: call_qy0a\n",
      "  Args:\n",
      "    query: trump recent tariff policy\n"
     ]
    }
   ],
   "source": [
    "config = {\n",
    "    'configurable':{\n",
    "        'thread_id': 'paper_summary2'\n",
    "    }\n",
    "}\n",
    "\n",
    "query = '트럼프의 최근 관세 정책에 대해 알려줘'\n",
    "for chunk in graph.stream({'messages': [HumanMessage(query)], 'summary' : ''}, config=config, stream_mode='values'):\n",
    "    chunk['messages'][-1].pretty_print()"
   ]
  },
  {
   "cell_type": "code",
   "execution_count": 98,
   "metadata": {},
   "outputs": [
    {
     "data": {
      "text/plain": [
       "('human_review',)"
      ]
     },
     "execution_count": 98,
     "metadata": {},
     "output_type": "execute_result"
    }
   ],
   "source": [
    "graph.get_state(config).next\n"
   ]
  },
  {
   "cell_type": "code",
   "execution_count": 99,
   "metadata": {},
   "outputs": [
    {
     "name": "stdout",
     "output_type": "stream",
     "text": [
      "{'human_review': None}\n",
      "{'tools': {'messages': [ToolMessage(content=\"The European Union, for example, punched back against Trump's tariffs on steel and aluminum by taxing U.S. products, from bourbon to Harley-Davidson motorcycles. Likewise, China responded to Trump's trade war by slapping tariffs on American goods, including soybeans and pork in a calculated drive to hurt his supporters in farm country. President Joe Biden largely preserves most of the tariffs Trump previously enacted against China, but his administration claims to take a more targeted approach.. In October 2022, he issues sweeping new restrictions on selling semiconductors and chipmaking equipment to China. These curbs will be expanded in October 2023 and December 2024 — when China responds with a ban of U.S. exports for ... NEW YORK (AP) — U.S. President Donald Trump's long-threatened tariffs are here, plunging the country into an escalating trade war with China, Canada and Mexico. Trump's 25% tariffs on imports from Canada and Mexico went into effect Tuesday, along with a heightened 20% levy on Chinese goods. President Donald Trump issued exemptions on tariffs for a variety of goods coming into the United States from Mexico and Canada — just two days after he put the sweeping tariffs in place ... Trump originally planned to start the tariffs on Feb. 1 to push the bordering neighbors of the U.S. to do more to stop migration and drug trafficking — but then delayed the tariffs by a month.\", name='duckduckgo_search', id='bfca387c-fe6a-4ba9-bff4-140cc0e2a12e', tool_call_id='call_qy0a')]}}\n",
      "{'agent': {'messages': [AIMessage(content=\"Trump's trade policy involved imposing tariffs on goods from countries like China, Canada, and Mexico. \\n\\nHis administration claimed these tariffs aimed to protect American jobs and industries.  \\n\\nFor example, tariffs were placed on steel and aluminum imports, prompting retaliatory measures from countries like the European Union. \\n\\nChina responded to tariffs on its goods with tariffs on American products like soybeans and pork. \\n\\nWhile President Biden largely maintained most of these tariffs, his administration has adopted a more targeted approach. \\n\\n\\n\", additional_kwargs={}, response_metadata={'token_usage': {'completion_tokens': 104, 'prompt_tokens': 1644, 'total_tokens': 1748, 'completion_time': 0.189090909, 'prompt_time': 0.070317201, 'queue_time': 0.022319251, 'total_time': 0.25940811}, 'model_name': 'gemma2-9b-it', 'system_fingerprint': 'fp_10c08bf97d', 'finish_reason': 'stop', 'logprobs': None}, id='run-daa61deb-447d-415e-ba5f-a7e3a85cc8cd-0', usage_metadata={'input_tokens': 1644, 'output_tokens': 104, 'total_tokens': 1748})]}}\n",
      "{'summarize_messages': {'summary': \"This conversation discusses Donald Trump's trade policies, specifically his imposition of tariffs on goods from countries like China, Canada, and Mexico. \\n\\nThe initial query asks for information on Trump's recent tariff policies. The AI responds by providing a summary of Trump's trade war with China and other countries, highlighting the retaliatory measures taken by nations like the European Union and China.  \\n\\nThe AI further explains that while President Biden mostly kept these tariffs in place, his administration is adopting a more targeted approach. \\n\\n\\nThe conversation also notes  that Trump's tariffs were intended to protect American jobs and industries. \\n\"}}\n",
      "{'delete_messages': {'messages': [RemoveMessage(content='', additional_kwargs={}, response_metadata={}, id='47d1f80b-8f59-4396-b873-b1e5d8f608fd')]}}\n"
     ]
    }
   ],
   "source": [
    "# 대기 상태에서 진행시키기\n",
    "\n",
    "for chunk in graph.stream(\n",
    "    Command(resume={'action':'continue'}),\n",
    "    config=config,\n",
    "    stream_mode='updates' # values 아니고 updates\n",
    "):\n",
    "    print(chunk)\n"
   ]
  },
  {
   "cell_type": "markdown",
   "metadata": {},
   "source": [
    "#### update args 테스트"
   ]
  },
  {
   "cell_type": "code",
   "execution_count": 104,
   "metadata": {},
   "outputs": [
    {
     "name": "stdout",
     "output_type": "stream",
     "text": [
      "================================\u001b[1m Human Message \u001b[0m=================================\n",
      "\n",
      "llm survey 논문 내용 검색해서 요약해라\n",
      "==================================\u001b[1m Ai Message \u001b[0m==================================\n",
      "Tool Calls:\n",
      "  arxiv (call_bv53)\n",
      " Call ID: call_bv53\n",
      "  Args:\n",
      "    query: llm survey\n"
     ]
    }
   ],
   "source": [
    "config = {\n",
    "    'configurable':{\n",
    "        'thread_id': 'paper_summary2'\n",
    "    }\n",
    "}\n",
    "\n",
    "query = 'llm survey 논문 내용 검색해서 요약해라'\n",
    "for chunk in graph.stream({'messages': [HumanMessage(query)], 'summary' : ''}, config=config, stream_mode='values'):\n",
    "    chunk['messages'][-1].pretty_print()"
   ]
  },
  {
   "cell_type": "code",
   "execution_count": 105,
   "metadata": {},
   "outputs": [
    {
     "data": {
      "text/plain": [
       "('human_review',)"
      ]
     },
     "execution_count": 105,
     "metadata": {},
     "output_type": "execute_result"
    }
   ],
   "source": [
    "graph.get_state(config).next\n"
   ]
  },
  {
   "cell_type": "code",
   "execution_count": 106,
   "metadata": {},
   "outputs": [
    {
     "name": "stdout",
     "output_type": "stream",
     "text": [
      "{'human_review': {'messages': [{'id': 'run-2dc6acb2-12a7-40a1-9df9-2f9fb26b0636-0', 'role': 'ai', 'content': '', 'tool_calls': [{'id': 'call_bv53', 'name': 'arxiv', 'args': {'query': 'Large Language Model: A Survey'}}]}]}}\n",
      "{'tools': {'messages': [ToolMessage(content='Published: 2024-12-09\\nTitle: Questioning the Survey Responses of Large Language Models\\nAuthors: Ricardo Dominguez-Olmedo, Moritz Hardt, Celestine Mendler-Dünner\\nSummary: Surveys have recently gained popularity as a tool to study large language\\nmodels. By comparing survey responses of models to those of human reference\\npopulations, researchers aim to infer the demographics, political opinions, or\\nvalues best represented by current language models. In this work, we critically\\nexamine this methodology on the basis of the well-established American\\nCommunity Survey by the U.S. Census Bureau. Evaluating 43 different language\\nmodels using de-facto standard prompting methodologies, we establish two\\ndominant patterns. First, models\\' responses are governed by ordering and\\nlabeling biases, for example, towards survey responses labeled with the letter\\n\"A\". Second, when adjusting for these systematic biases through randomized\\nanswer ordering, models across the board trend towards uniformly random survey\\nresponses, irrespective of model size or pre-training data. As a result, in\\ncontrast to conjectures from prior work, survey-derived alignment measures\\noften permit a simple explanation: models consistently appear to better\\nrepresent subgroups whose aggregate statistics are closest to uniform for any\\nsurvey under consideration.\\n\\nPublished: 2024-10-08\\nTitle: Large Language Model Enhanced Text-to-SQL Generation: A Survey\\nAuthors: Xiaohu Zhu, Qian Li, Lizhen Cui, Yongkang Liu\\nSummary: Text-to-SQL translates natural language queries into Structured Query\\nLanguage (SQL) commands, enabling users to interact with databases using\\nnatural language. Essentially, the text-to-SQL task is a text generation task,\\nand its development is primarily dependent on changes in language models.\\nEspecially with the rapid development of Large Language Models (LLMs), the\\npattern of text-to-SQL has undergone significant changes. Existing survey work\\nmainly focuses on rule-based and neural-based approaches, but it still lacks a\\nsurvey of Text-to-SQL with LLMs. In this paper, we survey the large language\\nmodel enhanced text-to-SQL generations, classifying them into prompt\\nengineering, fine-tuning, pre-trained, and Agent groups according to training\\nstrategies. We also summarize datasets and evaluation metrics comprehensively.\\nThis survey could help people better understand the pattern, research status,\\nand challenges of LLM-based text-to-SQL generations.\\n\\nPublished: 2024-08-28\\nTitle: A Survey of Large Language Models for European Languages\\nAuthors: Wazir Ali, Sampo Pyysalo\\nSummary: Large Language Models (LLMs) have gained significant attention due to their\\nhigh performance on a wide range of natural language tasks since the release of\\nChatGPT. The LLMs learn to understand and generate language by training\\nbillions of model parameters on vast volumes of text data. Despite being a\\nrelatively new field, LLM research is rapidly advancing in various directions.\\nIn this paper, we present an overview of LLM families, including LLaMA, PaLM,\\nGPT, and MoE, and the methods developed to create and enhance LLMs for official\\nEuropean Union (EU) languages. We provide a comprehensive summary of common\\nmonolingual and multilingual datasets used for pretraining large language\\nmodels.', name='arxiv', id='c535786c-2ef1-478f-b90f-241adba7e55d', tool_call_id='call_bv53')]}}\n",
      "{'agent': {'messages': [AIMessage(content='', additional_kwargs={'tool_calls': [{'id': 'call_5bqs', 'function': {'arguments': '{\"query\":\"Large Language Model Survey Papers\"}', 'name': 'duckduckgo_search'}, 'type': 'function'}]}, response_metadata={'token_usage': {'completion_tokens': 48, 'prompt_tokens': 2045, 'total_tokens': 2093, 'completion_time': 0.087272727, 'prompt_time': 0.116562596, 'queue_time': 0.030149424999999994, 'total_time': 0.203835323}, 'model_name': 'gemma2-9b-it', 'system_fingerprint': 'fp_10c08bf97d', 'finish_reason': 'tool_calls', 'logprobs': None}, id='run-33fc0711-44b3-4eef-9dc8-af86d8ac0e90-0', tool_calls=[{'name': 'duckduckgo_search', 'args': {'query': 'Large Language Model Survey Papers'}, 'id': 'call_5bqs', 'type': 'tool_call'}], usage_metadata={'input_tokens': 2045, 'output_tokens': 48, 'total_tokens': 2093})]}}\n",
      "{'__interrupt__': (Interrupt(value={'question': '이렇게 진행하면 될까요?', 'tool_call': {'name': 'duckduckgo_search', 'args': {'query': 'Large Language Model Survey Papers'}, 'id': 'call_5bqs', 'type': 'tool_call'}}, resumable=True, ns=['human_review:97b70871-9a3b-975d-8b9c-7d125f20ec8f'], when='during'),)}\n"
     ]
    }
   ],
   "source": [
    "# 대기 상태에서 진행시키기\n",
    "\n",
    "for chunk in graph.stream(\n",
    "    Command(resume={'action':'update_args', 'data':{'query':'Large Language Model: A Survey'}}),\n",
    "    config=config,\n",
    "    stream_mode='updates' # values 아니고 updates\n",
    "):\n",
    "    print(chunk)\n"
   ]
  },
  {
   "cell_type": "code",
   "execution_count": 107,
   "metadata": {},
   "outputs": [
    {
     "data": {
      "text/plain": [
       "('human_review',)"
      ]
     },
     "execution_count": 107,
     "metadata": {},
     "output_type": "execute_result"
    }
   ],
   "source": [
    "graph.get_state(config).next\n"
   ]
  },
  {
   "cell_type": "code",
   "execution_count": 108,
   "metadata": {},
   "outputs": [
    {
     "name": "stdout",
     "output_type": "stream",
     "text": [
      "{'human_review': None}\n",
      "{'tools': {'messages': [ToolMessage(content='This paper provides a comprehensive survey of the latest research on multilingual large language models (MLLMs). MLLMs not only are able to understand and generate language across linguistic boundaries, but also represent an important advancement in artificial intelligence. We first discuss the architecture and pre-training objectives of MLLMs, highlighting the key components and methodologies ... The rapid advancement of artificial intelligence, particularly with the development of Large Language Models (LLMs) built on the transformer architecture, has redefined the capabilities of natural language processing. These models now exhibit remarkable performance across various language-related tasks, such as text generation, question answering, translation, and summarization, often rivaling ... In recent years, the rapid advancement of Large Language Models (LLMs) has transformed the landscape of scientific research, offering unprecedented support across various stages of the research cycle. This paper presents the first systematic survey dedicated to exploring how LLMs are revolutionizing the scientific research process. We analyze the unique roles LLMs play across four critical ... Large language models can generate text, respond to queries, and translate between languages, as recent research demonstrates. As a new and essential part of computational linguistics, LLMs can understand complex speech patterns and respond appropriately and rationally in the given context. Research contributions have significantly increased as a result of LLMs growing popularity. Nevertheless ... Artificial intelligence (AI) has significantly impacted various fields. Large language models (LLMs) like GPT-4, BARD, PaLM, Megatron-Turing NLG, Jurassic-1 Jumbo etc., have contributed to our understanding and application of AI in these domains, along with natural language processing (NLP) techniques. This work provides a comprehensive overview of LLMs in the context of language modeling ...', name='duckduckgo_search', id='3fa3bb6f-510e-465a-b155-5d7ed4eadcb6', tool_call_id='call_5bqs')]}}\n",
      "{'agent': {'messages': [AIMessage(content='Large Language Models (LLMs) are revolutionizing many fields, including scientific research. They can help researchers by summarizing research papers, identifying relevant papers, and even generating hypotheses. \\n\\n\\n', additional_kwargs={}, response_metadata={'token_usage': {'completion_tokens': 39, 'prompt_tokens': 2466, 'total_tokens': 2505, 'completion_time': 0.070909091, 'prompt_time': 0.139279425, 'queue_time': 0.02056111499999999, 'total_time': 0.210188516}, 'model_name': 'gemma2-9b-it', 'system_fingerprint': 'fp_10c08bf97d', 'finish_reason': 'stop', 'logprobs': None}, id='run-45ebf180-ee25-4bbf-994d-a3e0b0478676-0', usage_metadata={'input_tokens': 2466, 'output_tokens': 39, 'total_tokens': 2505})]}}\n",
      "{'summarize_messages': {'summary': 'The provided text is a conversation log between a user and an AI, focusing on finding and summarizing papers about Large Language Models (LLMs). \\n\\nHere\\'s a breakdown:\\n\\n1. **User Request:** The user asks the AI to find and summarize papers about \"llm survey\".\\n\\n2. **AI Action:** The AI utilizes a tool called \"arxiv\" to search for relevant papers based on the user\\'s query. It finds two papers:\\n    * **\"Questioning the Survey Responses of Large Language Models\"**: This paper critiques the methodology of using surveys to study LLMs, finding that models tend towards random responses rather than reflecting specific demographics or opinions.\\n    * **\"Large Language Model Enhanced Text-to-SQL Generation: A Survey\"**: This paper surveys the use of LLMs in improving text-to-SQL generation, a task involving translating natural language queries into database commands.\\n\\n3. **AI Expansion:**  The AI then uses another tool called \"duckduckgo_search\" to find additional papers on the topic of LLMs. It provides summaries of several papers, highlighting LLMs\\' applications in scientific research, AI advancements, and various language-related tasks.\\n\\n4. **AI Response:** Finally, the AI summarizes the overall impact of LLMs, emphasizing their role in revolutionizing various fields.\\n\\n\\nEssentially, the conversation demonstrates an AI\\'s ability to understand user requests, utilize tools to gather information, process and summarize research papers, and provide insightful responses.\\n'}}\n",
      "{'delete_messages': {'messages': [RemoveMessage(content='', additional_kwargs={}, response_metadata={}, id='cff57cc9-8ee3-49ec-8991-d66aa3aa6db0'), RemoveMessage(content='', additional_kwargs={}, response_metadata={}, id='run-2dc6acb2-12a7-40a1-9df9-2f9fb26b0636-0'), RemoveMessage(content='', additional_kwargs={}, response_metadata={}, id='c535786c-2ef1-478f-b90f-241adba7e55d')]}}\n"
     ]
    }
   ],
   "source": [
    "# 대기 상태에서 진행시키기\n",
    "\n",
    "for chunk in graph.stream(\n",
    "    Command(resume={'action':'continue'}),\n",
    "    config=config,\n",
    "    stream_mode='updates' # values 아니고 updates\n",
    "):\n",
    "    print(chunk)\n"
   ]
  },
  {
   "cell_type": "markdown",
   "metadata": {},
   "source": [
    "#### update tool 테스트 "
   ]
  },
  {
   "cell_type": "code",
   "execution_count": 128,
   "metadata": {},
   "outputs": [
    {
     "name": "stdout",
     "output_type": "stream",
     "text": [
      "================================\u001b[1m Human Message \u001b[0m=================================\n",
      "\n",
      "llm survey 논문 내용 검색해서 요약해라\n",
      "==================================\u001b[1m Ai Message \u001b[0m==================================\n",
      "Tool Calls:\n",
      "  arxiv (call_rjn6)\n",
      " Call ID: call_rjn6\n",
      "  Args:\n",
      "    query: llm survey 논문\n"
     ]
    }
   ],
   "source": [
    "config = {\n",
    "    'configurable':{\n",
    "        'thread_id': 'paper_summary2'\n",
    "    }\n",
    "}\n",
    "\n",
    "query = 'llm survey 논문 내용 검색해서 요약해라'\n",
    "for chunk in graph.stream({'messages': [HumanMessage(query)], 'summary' : ''}, config=config, stream_mode='values'):\n",
    "    chunk['messages'][-1].pretty_print()"
   ]
  },
  {
   "cell_type": "code",
   "execution_count": 129,
   "metadata": {},
   "outputs": [
    {
     "data": {
      "text/plain": [
       "('human_review',)"
      ]
     },
     "execution_count": 129,
     "metadata": {},
     "output_type": "execute_result"
    }
   ],
   "source": [
    "graph.get_state(config).next\n"
   ]
  },
  {
   "cell_type": "code",
   "execution_count": 130,
   "metadata": {},
   "outputs": [
    {
     "name": "stdout",
     "output_type": "stream",
     "text": [
      "{'human_review': {'messages': [{'tool_call_id': 'call_rjn6', 'name': 'arxiv', 'role': 'tool', 'content': {'query': 'arxiv말고 duckduckgo 검색해라'}}]}}\n",
      "{'agent': {'messages': [AIMessage(content='', additional_kwargs={'tool_calls': [{'id': 'call_7rsv', 'function': {'arguments': '{\"query\":\"llm survey 논문 요약 \"}', 'name': 'duckduckgo_search'}, 'type': 'function'}]}, response_metadata={'token_usage': {'completion_tokens': 54, 'prompt_tokens': 1435, 'total_tokens': 1489, 'completion_time': 0.098181818, 'prompt_time': 0.079765208, 'queue_time': 0.039715293, 'total_time': 0.177947026}, 'model_name': 'gemma2-9b-it', 'system_fingerprint': 'fp_10c08bf97d', 'finish_reason': 'tool_calls', 'logprobs': None}, id='run-b6863a96-e31c-4d58-897d-e3f05f231f55-0', tool_calls=[{'name': 'duckduckgo_search', 'args': {'query': 'llm survey 논문 요약 '}, 'id': 'call_7rsv', 'type': 'tool_call'}], usage_metadata={'input_tokens': 1435, 'output_tokens': 54, 'total_tokens': 1489})]}}\n",
      "{'__interrupt__': (Interrupt(value={'question': '이렇게 진행하면 될까요?', 'tool_call': {'name': 'duckduckgo_search', 'args': {'query': 'llm survey 논문 요약 '}, 'id': 'call_7rsv', 'type': 'tool_call'}}, resumable=True, ns=['human_review:741858ab-41b9-5ca2-98ff-51f2bfb18ac4'], when='during'),)}\n"
     ]
    }
   ],
   "source": [
    "# 대기 상태에서 진행시키기\n",
    "\n",
    "for chunk in graph.stream(\n",
    "    Command(resume={'action':'update_tool', 'data':{'query':'arxiv말고 duckduckgo 검색해라'}}),\n",
    "    config=config,\n",
    "    stream_mode='updates' # values 아니고 updates\n",
    "):\n",
    "    print(chunk)\n"
   ]
  },
  {
   "cell_type": "code",
   "execution_count": 131,
   "metadata": {},
   "outputs": [
    {
     "data": {
      "text/plain": [
       "('human_review',)"
      ]
     },
     "execution_count": 131,
     "metadata": {},
     "output_type": "execute_result"
    }
   ],
   "source": [
    "graph.get_state(config).next\n"
   ]
  },
  {
   "cell_type": "code",
   "execution_count": 132,
   "metadata": {},
   "outputs": [
    {
     "name": "stdout",
     "output_type": "stream",
     "text": [
      "{'human_review': None}\n",
      "{'tools': {'messages': [ToolMessage(content='논문 리뷰/Survey 논문 ... 보고된 LLM 평가 결과를 요약. - Section VII: LLM 연구의 과제와 미래 연구 방향을 요약하며 논문을 마무리. 2 Large Language Models. 이 섹션에서는 LLM의 기반이 되는 초기 사전 학습 신경 언어 모델(Pre-trained Neural Language Models)을 검토하고, 이어서 GPT ... LLM을 위한 긴 컨텍스트 대 RAG: 평가 및 재검토 / Long Context vs. RAG for LLMs: An Evaluation and Revisits 논문 소개. RAG 시스템과 비교하여 긴 문맥(LC) LLM을 종합적으로 평가한 결과, 세 가지 주요 결과는 다음과 같습니다: 1) 질문-답변 벤치마크에서 LC가 일반적으로 RAG보다 성능이 뛰어남, 2) 요약 기반 검색은 LC와 ... 요약 및 의의. LLM 기반 자율 에이전트 연구는 다양한 응용 ... LLM 기반 자율 에이전트의 현재 상태와 트렌드를 포괄적으로 정리한 서베이 논문(Survey Paper)입니다. 논문이 다루는 주요 내용은 다음과 같습니다: 1. 첫 번째 Planning Survey논문이라네요. Task Decomposition은 분할 정복의 아이디어를 채택하여 복잡한 작업을 여러 개의 하위 작업으로 분해, 각 하위 작업에 대해 순차적으로 계획하여 진행합니다.. Task Decomposition . Multi-plan Selection는 LLM이 더 많은 생각을 진행할 수 있도록 진행하고, 작업에 대한 다양한 대안 ... 인공지능/논문 리뷰 or 진행. A survey on LLM-based multi-agent systems: workflow, infrastructure, and challenges - 논문 리뷰 ... 요약. LLM 기반 MAS는 여전히 도전 과제가 존재하지만, 복잡한 문제를 해결하고 인간에게 유용한 도움을 제공할 수 있는 잠재력을 지니고 있습니다. 논문은 ...', name='duckduckgo_search', id='a913f943-f221-4713-b3c0-7bca3827148d', tool_call_id='call_7rsv')]}}\n",
      "{'agent': {'messages': [AIMessage(content='다음은 LLM survey 논문 내용 요약입니다.\\n\\n* **LLM의 기반이 되는 초기 사전 학습 신경 언어 모델(Pre-trained Neural Language Models)을 검토**하고, 이어서 GPT 등의 LLM을 소개합니다.\\n* **질문-답변 벤치마크에서 긴 문맥(LC) LLM이 RAG보다 성능이 뛰어남**을 보고 합니다.\\n* **LLM 기반 자율 에이전트 연구를 다룹니다.**\\n* **LLM 기반 자율 에이전트의 현재 상태와 트렌드를 포괄적으로 정리**한 서베이 논문입니다. \\n\\n\\n\\n', additional_kwargs={}, response_metadata={'token_usage': {'completion_tokens': 157, 'prompt_tokens': 1997, 'total_tokens': 2154, 'completion_time': 0.285454545, 'prompt_time': 0.068588637, 'queue_time': 0.02251462800000001, 'total_time': 0.354043182}, 'model_name': 'gemma2-9b-it', 'system_fingerprint': 'fp_10c08bf97d', 'finish_reason': 'stop', 'logprobs': None}, id='run-da142730-5af8-4441-a0f5-f24a5eb560da-0', usage_metadata={'input_tokens': 1997, 'output_tokens': 157, 'total_tokens': 2154})]}}\n",
      "{'summarize_messages': {'summary': \"The user asked for a summary of a survey paper on Large Language Models (LLMs). The AI initially stated it couldn't access the internet to perform a search. However, it later used a tool called 'duckduckgo_search' to find relevant information. \\n\\nThe AI then provided a concise summary of the LLM survey paper, highlighting key points such as:\\n\\n*  Review of pre-trained neural language models and introduction to LLMs like GPT.\\n*  Performance comparison of Long Context (LC) LLMs with RAG (Retrieval Augmented Generation) systems, showing LC's superiority in question-answering benchmarks.\\n*  Discussion on LLM-based autonomous agents, including their current state and future trends.\\n*  Comprehensive overview of LLM-based autonomous agent research.\\n\\n\\nEssentially, the AI successfully retrieved and summarized information about an LLM survey paper despite its initial limitations. \\n\"}}\n",
      "{'delete_messages': {'messages': [RemoveMessage(content='', additional_kwargs={}, response_metadata={}, id='run-6a13246c-a28a-4fba-a895-80a19499cc14-0'), RemoveMessage(content='', additional_kwargs={}, response_metadata={}, id='dc38f479-07f2-4435-97f0-a61a0f562df2'), RemoveMessage(content='', additional_kwargs={}, response_metadata={}, id='run-7bd5dc23-5b30-44dd-bc4b-9b8f7e1b4af9-0'), RemoveMessage(content='', additional_kwargs={}, response_metadata={}, id='0d956cea-4f8d-4236-b631-21aad8d37ca3'), RemoveMessage(content='', additional_kwargs={}, response_metadata={}, id='run-dd27e6a0-3f98-4b9d-9212-a5c40b616915-0'), RemoveMessage(content='', additional_kwargs={}, response_metadata={}, id='86281da1-cceb-428e-ae84-ee3143f98101')]}}\n"
     ]
    }
   ],
   "source": [
    "# 대기 상태에서 진행시키기\n",
    "\n",
    "for chunk in graph.stream(\n",
    "    Command(resume={'action':'continue'}),\n",
    "    config=config,\n",
    "    stream_mode='updates' # values 아니고 updates\n",
    "):\n",
    "    print(chunk)\n"
   ]
  },
  {
   "cell_type": "code",
   "execution_count": 133,
   "metadata": {},
   "outputs": [
    {
     "name": "stdout",
     "output_type": "stream",
     "text": [
      "==================================\u001b[1m Ai Message \u001b[0m==================================\n",
      "\n",
      "다음은 LLM survey 논문 내용 요약입니다.\n",
      "\n",
      "* **LLM의 기반이 되는 초기 사전 학습 신경 언어 모델(Pre-trained Neural Language Models)을 검토**하고, 이어서 GPT 등의 LLM을 소개합니다.\n",
      "* **질문-답변 벤치마크에서 긴 문맥(LC) LLM이 RAG보다 성능이 뛰어남**을 보고 합니다.\n",
      "* **LLM 기반 자율 에이전트 연구를 다룹니다.**\n",
      "* **LLM 기반 자율 에이전트의 현재 상태와 트렌드를 포괄적으로 정리**한 서베이 논문입니다.\n"
     ]
    }
   ],
   "source": [
    "graph.get_state(config).values['messages'][-1].pretty_print()\n"
   ]
  },
  {
   "cell_type": "code",
   "execution_count": null,
   "metadata": {},
   "outputs": [],
   "source": []
  }
 ],
 "metadata": {
  "kernelspec": {
   "display_name": "VENV",
   "language": "python",
   "name": "python3"
  },
  "language_info": {
   "codemirror_mode": {
    "name": "ipython",
    "version": 3
   },
   "file_extension": ".py",
   "mimetype": "text/x-python",
   "name": "python",
   "nbconvert_exporter": "python",
   "pygments_lexer": "ipython3",
   "version": "3.11.8"
  }
 },
 "nbformat": 4,
 "nbformat_minor": 2
}
