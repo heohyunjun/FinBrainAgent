{
 "cells": [
  {
   "cell_type": "code",
   "execution_count": 1,
   "metadata": {},
   "outputs": [
    {
     "data": {
      "text/plain": [
       "True"
      ]
     },
     "execution_count": 1,
     "metadata": {},
     "output_type": "execute_result"
    }
   ],
   "source": [
    "from langchain_community.document_loaders import PyPDFLoader\n",
    "from dotenv import load_dotenv\n",
    "from pyzerox import zerox\n",
    "load_dotenv()\n"
   ]
  },
  {
   "cell_type": "code",
   "execution_count": 2,
   "metadata": {},
   "outputs": [],
   "source": [
    "pdf_file_path = \"./income_tax.pdf\"\n",
    "MODEL_NAME = \"gemma2-9b-it\"\n",
    "\n",
    "loader = PyPDFLoader(pdf_file_path)\n",
    "\n",
    "pages = []\n",
    "async for page in loader.alazy_load():\n",
    "    pages.append(page)"
   ]
  },
  {
   "cell_type": "code",
   "execution_count": 3,
   "metadata": {},
   "outputs": [
    {
     "data": {
      "text/plain": [
       "Document(metadata={'source': './income_tax.pdf', 'page': 35, 'page_label': '36'}, page_content='법제처                                                            36                                                       국가법령정보센터\\n소득세법\\n② 거주자의 퇴직소득에 대한 소득세는 다음 각 호의 순서에 따라 계산한 금액(이하 “퇴직소득 산출세액”이라 한다\\n)으로 한다.<개정 2013. 1. 1., 2014. 12. 23.>\\n1. 해당 과세기간의 퇴직소득과세표준에 제1항의 세율을 적용하여 계산한 금액\\n2. 제1호의 금액을 12로 나눈 금액에 근속연수를 곱한 금액\\n3. 삭제<2014. 12. 23.>\\n[전문개정 2009. 12. 31.]\\n \\n           제2관 세액공제 <개정 2009. 12. 31.>\\n \\n제56조(배당세액공제) ① 거주자의 종합소득금액에 제17조제3항 각 호 외의 부분 단서가 적용되는 배당소득금액이 합\\n산되어 있는 경우에는 같은 항 각 호 외의 부분 단서에 따라 해당 과세기간의 총수입금액에 더한 금액에 해당하는\\n금액을 종합소득 산출세액에서 공제한다. <개정 2009. 12. 31.>\\n② 제1항에 따른 공제를 “배당세액공제”라 한다.<개정 2009. 12. 31.>\\n③ 삭제<2003. 12. 30.>\\n④ 제1항을 적용할 때 배당세액공제의 대상이 되는 배당소득금액은 제14조제2항의 종합소득과세표준에 포함된 배\\n당소득금액으로서 이자소득등의 종합과세기준금액을 초과하는 것으로 한다.<개정 2009. 12. 31.>\\n⑤ 삭제<2006. 12. 30.>\\n⑥ 배당세액공제액의 계산 등에 필요한 사항은 대통령령으로 정한다.<개정 2009. 12. 31.>\\n[제목개정 2009. 12. 31.]\\n \\n제56조의2(기장세액공제) ① 제160조제3항에 따른 간편장부대상자가 제70조 또는 제74조에 따른 과세표준확정신고를\\n할 때 복식부기에 따라 기장(記帳)하여 소득금액을 계산하고 제70조제4항제3호에 따른 서류를 제출하는 경우에는\\n해당 장부에 의하여 계산한 사업소득금액이 종합소득금액에서 차지하는 비율을 종합소득 산출세액에 곱하여 계산한\\n금액의 100분의 20에 해당하는 금액을 종합소득 산출세액에서 공제한다. 다만, 공제세액이 100만원을 초과하는 경\\n우에는 100만원을 공제한다.\\n② 다음 각 호의 어느 하나에 해당하는 경우에는 제1항에 따른 공제[이하 “기장세액공제”(記帳稅額控除)라 한다]를\\n적용하지 아니한다.\\n1. 비치ㆍ기록한 장부에 의하여 신고하여야 할 소득금액의 100분의 20 이상을 누락하여 신고한 경우\\n2. 기장세액공제와 관련된 장부 및 증명서류를 해당 과세표준확정신고기간 종료일부터 5년간 보관하지 아니한 경\\n우. 다만, 천재지변 등 대통령령으로 정하는 부득이한 사유에 해당하는 경우에는 그러하지 아니하다.\\n③ 기장세액공제에 관하여 필요한 사항은 대통령령으로 정한다.\\n[전문개정 2009. 12. 31.]\\n \\n제56조의3(전자계산서 발급 전송에 대한 세액공제) ① 총수입금액 등을 고려하여 대통령령으로 정하는 사업자가 제\\n163조제1항 후단에 따른 전자계산서를 2027년 12월 31일까지 발급(제163조제8항에 따라 전자계산서 발급명세를\\n국세청장에게 전송하는 경우로 한정한다)하는 경우에는 전자계산서 발급 건수 등을 고려하여 대통령령으로 정하는\\n금액을 해당 과세기간의 사업소득에 대한 종합소득산출세액에서 공제할 수 있다. 이 경우 공제한도는 연간 100만원\\n으로 한다. <개정 2021. 12. 8., 2024. 12. 31.>\\n② 제1항에 따른 세액공제를 적용받으려는 사업자는 제70조 또는 제74조에 따른 과세표준확정신고를 할 때 기획재\\n정부령으로 정하는 전자계산서 발급 세액공제신고서를 납세지 관할 세무서장에게 제출하여야 한다.\\n[본조신설 2014. 12. 23.]\\n \\n제57조(외국납부세액공제) ① 거주자의 종합소득금액 또는 퇴직소득금액에 국외원천소득이 합산되어 있는 경우로서\\n그 국외원천소득에 대하여 외국에서 대통령령으로 정하는 외국소득세액(이하 이 조에서 “외국소득세액”이라 한다)을\\n납부하였거나 납부할 것이 있을 때에는 다음 계산식에 따라 계산한 금액(이하 이 조에서 “공제한도금액”이라 한다)')"
      ]
     },
     "execution_count": 3,
     "metadata": {},
     "output_type": "execute_result"
    }
   ],
   "source": [
    "pages[35]"
   ]
  },
  {
   "cell_type": "code",
   "execution_count": 4,
   "metadata": {},
   "outputs": [],
   "source": [
    "import json\n",
    "import asyncio\n",
    "import nest_asyncio\n",
    "nest_asyncio.apply()"
   ]
  },
  {
   "cell_type": "code",
   "execution_count": null,
   "metadata": {},
   "outputs": [],
   "source": [
    "\n",
    "custom_system_prompt = None\n",
    "kwargs = {}\n",
    "async def main():\n",
    "    pdf_file_path = \"./income_tax.pdf\"\n",
    "\n",
    "    select_pages = None\n",
    "    output_dir = \"./documents\"\n",
    "    model = \"vertex_ai/gemini-1.5-flash-001\"\n",
    "    result = await zerox(file_path=pdf_file_path, model=model, output_dir=output_dir,\n",
    "                        custom_system_prompt=custom_system_prompt, select_pages=select_pages, **kwargs)\n",
    "    \n",
    "    return result\n",
    "\n",
    "\n",
    "result = asyncio.run(main())\n",
    "\n",
    "print(result)"
   ]
  },
  {
   "cell_type": "markdown",
   "metadata": {},
   "source": [
    "# 마크다운 로더"
   ]
  },
  {
   "cell_type": "code",
   "execution_count": 5,
   "metadata": {},
   "outputs": [],
   "source": [
    "from langchain_community.document_loaders import UnstructuredMarkdownLoader\n",
    "from langchain_text_splitters import RecursiveCharacterTextSplitter\n",
    "from langchain_core.documents import Document"
   ]
  },
  {
   "cell_type": "code",
   "execution_count": 6,
   "metadata": {},
   "outputs": [],
   "source": [
    "text_splitter = RecursiveCharacterTextSplitter(\n",
    "    chunk_size = 1500, \n",
    "    chunk_overlap = 100,\n",
    "    separators=['\\n\\n','\\n']\n",
    ")"
   ]
  },
  {
   "cell_type": "code",
   "execution_count": 13,
   "metadata": {},
   "outputs": [],
   "source": [
    "markdown_path =\"./documents/income_tax.md\"\n",
    "loader = UnstructuredMarkdownLoader(markdown_path)\n",
    "document_list = loader.load_and_split(text_splitter)"
   ]
  },
  {
   "cell_type": "code",
   "execution_count": 32,
   "metadata": {},
   "outputs": [
    {
     "data": {
      "text/plain": [
       "Document(metadata={'source': './documents/income_tax.md'}, page_content='제2절 세액의 계산 <개정 2009. 12. 31.> 제1관 세율 <개정 2009. 12. 31.>\\n\\n제55조(세율) 거주자의 종합소득에 대한 소득세는 해당 연도의 종합소득과세표준에 다음의 세율을 적용하여 계산한 금액(이하 \"종합소득과세표준세액\"이라 한다)을 그 세액으로 한다. <개정 2014. 1. 1., 2016. 12. 20., 2017. 12. 19., 2020. 12. 29., 2022. 12. 31.>\\n\\n종합소득 ┌───────────────┐ │ 과세표준의 6개 구간 │ ├───────────────┤ │ 1,400만원 이하 │ 84만원 + (1,400만원을 초과하는 금액의 15%) │ │ 1,400만원 초과 │ 84만원 + (5,000만원을 초과하는 금액의 24%) │ │ 8,800만원 이하 │ 624만원 + (5,000만원을 초과하는 금액의 24%) │ │ 8,800만원 초과 │ 1,536만원 + (8,800만원을 초과하는 금액의 35%) │ │ 1.5억원 초과 │ 4,046만원 + (1,500만원을 초과하는 금액의 38%) │ │ 3억원 초과 │ 6,460만원 + (3억원을 초과하는 금액의 40%) │ │ 5억원 초과 │ 14,760만원 + (5억원을 초과하는 금액의 42%) │ │ 10억원 초과 │ 38,406만원 + (10억원을 초과하는 금액의 45%) │ └───────────────┘\\n\\n② 거주자의 퇴직소득에 대한 소득세는 다음 각 호의 순서에 따라 계산한 금액(이하 ‘퇴직소득 산출세액’이라 한다)으로 한다. <개정 2013. 1. 1., 2014. 12. 23.> 1. 해당 과세기간의 퇴직소득과세표준 제1항의 세율을 적용하여 계산한 금액 2. 제1호의 금액을 12로 나눈 금액에 근속연수를 곱한 금액 3. 삭제<2014. 12. 23.> [전문개정 2009. 12. 31.]\\n\\n제2관 세액공제 <개정 2009. 12. 31.>\\n\\n소 제목\\n\\n제56조(배당세율공제)\\n\\n① 거주자의 종합소득금액에 제17조제3항 각 호 외의 부분 단서가 적용되는 배당소득에 함산되어 있는 경우에는 각 호 외의 부분 단서에 대한 해석계기로서 종합소득금액에 대한 금액에 대하여 배당세율공제를 한다. <개정 2009. 12. 31.> ② 제1항에 따른 공제는 \"배당세율공제\"란다. <개정 2009. 12. 31.> ③ 삭제<2003. 12. 30.> ④ 제1항을 적용할 때 배당세액공제의 대상이 되는 배당소득금액은 제14조제3항의 종합소득과세표준에 포함된 배당소득금액으로 이자소득의 종합과세금액을 초과하는 것으로 한다. <개정 2009. 12. 31.> ⑤ 삭제<2006. 12. 30.> ⑥ 배당세액공제의 계산 등에 필요한 사항은 대통령령으로 정한다. <개정 2009. 12. 31.> [제목개정 2009. 12. 31.]\\n\\n제56조의2(기장세액공제)')"
      ]
     },
     "execution_count": 32,
     "metadata": {},
     "output_type": "execute_result"
    }
   ],
   "source": [
    "document_list[40]\n",
    "# 표가 짤림 \n",
    "# 정확한 컨텍스트 전달하기 위해 -> md -> TXT 변환- > 로드\n"
   ]
  },
  {
   "cell_type": "code",
   "execution_count": 10,
   "metadata": {},
   "outputs": [],
   "source": [
    "import markdown\n",
    "from bs4 import BeautifulSoup\n",
    "\n",
    "text_path = './documents/income_tax.txt'"
   ]
  },
  {
   "cell_type": "code",
   "execution_count": 11,
   "metadata": {},
   "outputs": [
    {
     "name": "stdout",
     "output_type": "stream",
     "text": [
      "Markdown converted to plain text successfully!\n"
     ]
    }
   ],
   "source": [
    "markdown_path =\"./documents/income_tax.md\"\n",
    "\n",
    "# 마크다운 파일\n",
    "with open(markdown_path, 'r', encoding='utf-8') as md_file:\n",
    "    md_content = md_file.read()\n",
    "\n",
    "# 마크다운 콘텐츠를 HTML로 변환\n",
    "html_content = markdown.markdown(md_content)\n",
    "\n",
    "# HTML 콘텐츠를 파싱하여 텍스트만 추출합니다\n",
    "soup = BeautifulSoup(html_content, 'html.parser')\n",
    "text_content = soup.get_text()\n",
    "\n",
    "# 추출한 텍스트를 텍스트 파일로 저장\n",
    "with open(text_path, 'w', encoding='utf-8') as txt_file:\n",
    "    txt_file.write(text_content)\n",
    "\n",
    "print(\"Markdown converted to plain text successfully!\")"
   ]
  },
  {
   "cell_type": "code",
   "execution_count": 14,
   "metadata": {},
   "outputs": [],
   "source": [
    "from langchain_community.document_loaders import TextLoader\n",
    "\n",
    "loader = TextLoader(text_path, encoding='utf-8')\n",
    "document_list = loader.load_and_split(text_splitter)"
   ]
  },
  {
   "cell_type": "code",
   "execution_count": 30,
   "metadata": {},
   "outputs": [
    {
     "data": {
      "text/plain": [
       "Document(metadata={'source': './documents/income_tax.txt'}, page_content='② 제70조제1항, 제70조의2에 따른 제74조에 따라 차례로 할 것이 제70조제1항제2호에 따르며 서류를 제출하여야 한다는 경우에는 기준소득 중 거주자 본인이 된다(분산)과 제70조제2와 제74조에 따른 제료 및 제대법을 포함한다. 단, 차별제표청정인 그 업체를 남겨 제출한 경우로 그에 대하여 아니하다.<개정 2013. 1. 1.>\\n  ③ 제80조에 따른 수익과 관련의 경우에는 기초공제 중 거주자 본인이 된다(분산)과 그에 관한 적지사항을 분명히 한다.\\n[전문개정 2009. 12. 31.]\\n[제목개정 2014. 1. 1.]\\n제54조의2(공동사업에 대한 소득공제 등 특례) 제51조의3 또는 「조세특례제한법」에 따른 소득공제를 적용하거나 제59조의2에 따른 세액감면을 적용하는 경우 제54조제3항에 따라 공동사업자의 소득에 합산과세되는 특별세액거래의 지출․납입․투자 등의 금액이 있을 경우 주된 공동사업자의 소득에 합산과세되는 소득금액에 합산되어 주된 공동사업자의 합산과세세액은 공동사업소득액 또는 공동사업창출세액을 계산할 때 소득공제 또는 세액공제를 받을 수 있다. \\n[개정 2014. 1. 1.]\\n[전문개정 2009. 12. 31.]\\n[제목개정 2014. 1. 1.]\\n제2절 세액의 계산 <개정 2009. 12. 31.>\\n제1관 세율 <개정 2009. 12. 31.>\\n제55조(세율) 거주자의 종합소득에 대한 소득세는 해당 연도의 종합소득과세표준에 다음의 세율을 적용하여 계산한 금액(이하 \"종합소득과세표준세액\"이라 한다)을 그 세액으로 한다. <개정 2014. 1. 1., 2016. 12. 20., 2017. 12. 19., 2020. 12. 29., 2022. 12. 31.>\\n종합소득\\n┌───────────────┐\\n│ 과세표준의 6개 구간 │\\n├───────────────┤\\n│ 1,400만원 이하        │ 84만원 + (1,400만원을 초과하는 금액의 15%)  │\\n│ 1,400만원 초과        │ 84만원 + (5,000만원을 초과하는 금액의 24%)  │\\n│ 8,800만원 이하        │ 624만원 + (5,000만원을 초과하는 금액의 24%)  │\\n│ 8,800만원 초과        │ 1,536만원 + (8,800만원을 초과하는 금액의 35%)  │\\n│ 1.5억원 초과          │ 4,046만원 + (1,500만원을 초과하는 금액의 38%)  │\\n│ 3억원 초과            │ 6,460만원 + (3억원을 초과하는 금액의 40%)  │\\n│ 5억원 초과            │ 14,760만원 + (5억원을 초과하는 금액의 42%)  │\\n│ 10억원 초과           │ 38,406만원 + (10억원을 초과하는 금액의 45%)  │\\n└───────────────┘\\n② 거주자의 퇴직소득에 대한 소득세는 다음 각 호의 순서에 따라 계산한 금액(이하 ‘퇴직소득 산출세액’이라 한다)으로 한다. <개정 2013. 1. 1., 2014. 12. 23.>')"
      ]
     },
     "execution_count": 30,
     "metadata": {},
     "output_type": "execute_result"
    }
   ],
   "source": [
    "# 제 55조 과세표준 6구간 \n",
    "document_list[47]"
   ]
  },
  {
   "cell_type": "markdown",
   "metadata": {},
   "source": [
    "# 엠베딩"
   ]
  },
  {
   "cell_type": "code",
   "execution_count": 33,
   "metadata": {},
   "outputs": [],
   "source": [
    "from langchain_community.embeddings import HuggingFaceEmbeddings\n",
    "from langchain_chroma import Chroma"
   ]
  },
  {
   "cell_type": "code",
   "execution_count": 34,
   "metadata": {},
   "outputs": [
    {
     "name": "stderr",
     "output_type": "stream",
     "text": [
      "c:\\USERS\\USER\\DESKTOP\\FINBRAINAGENT\\VENV\\Lib\\site-packages\\tqdm\\auto.py:21: TqdmWarning: IProgress not found. Please update jupyter and ipywidgets. See https://ipywidgets.readthedocs.io/en/stable/user_install.html\n",
      "  from .autonotebook import tqdm as notebook_tqdm\n",
      "c:\\USERS\\USER\\DESKTOP\\FINBRAINAGENT\\VENV\\Lib\\site-packages\\huggingface_hub\\file_download.py:142: UserWarning: `huggingface_hub` cache-system uses symlinks by default to efficiently store duplicated files but your machine does not support them in C:\\Users\\user\\.cache\\huggingface\\hub\\models--jhgan--ko-sroberta-nli. Caching files will still work but in a degraded version that might require more space on your disk. This warning can be disabled by setting the `HF_HUB_DISABLE_SYMLINKS_WARNING` environment variable. For more details, see https://huggingface.co/docs/huggingface_hub/how-to-cache#limitations.\n",
      "To support symlinks on Windows, you either need to activate Developer Mode or to run Python as an administrator. In order to activate developer mode, see this article: https://docs.microsoft.com/en-us/windows/apps/get-started/enable-your-device-for-development\n",
      "  warnings.warn(message)\n"
     ]
    },
    {
     "data": {
      "text/plain": [
       "HuggingFaceEmbeddings(client=SentenceTransformer(\n",
       "  (0): Transformer({'max_seq_length': 128, 'do_lower_case': False}) with Transformer model: RobertaModel \n",
       "  (1): Pooling({'word_embedding_dimension': 768, 'pooling_mode_cls_token': False, 'pooling_mode_mean_tokens': True, 'pooling_mode_max_tokens': False, 'pooling_mode_mean_sqrt_len_tokens': False, 'pooling_mode_weightedmean_tokens': False, 'pooling_mode_lasttoken': False, 'include_prompt': True})\n",
       "), model_name='jhgan/ko-sroberta-nli', cache_folder=None, model_kwargs={'device': 'cpu'}, encode_kwargs={'normalize_embeddings': True}, multi_process=False, show_progress=False)"
      ]
     },
     "execution_count": 34,
     "metadata": {},
     "output_type": "execute_result"
    }
   ],
   "source": [
    "embeddings_model = HuggingFaceEmbeddings(\n",
    "    model_name='jhgan/ko-sroberta-nli',\n",
    "    model_kwargs={'device':'cpu'},\n",
    "    encode_kwargs={'normalize_embeddings':True},\n",
    ")\n",
    "\n",
    "embeddings_model"
   ]
  },
  {
   "cell_type": "markdown",
   "metadata": {},
   "source": [
    "# 벡터스토어"
   ]
  },
  {
   "cell_type": "code",
   "execution_count": 36,
   "metadata": {},
   "outputs": [],
   "source": [
    "vector_store = Chroma.from_documents(\n",
    "    documents=document_list,\n",
    "    embedding=embeddings_model,\n",
    "    collection_name = \"income_tax_collection\",\n",
    "    persist_directory = \"./income_tax_collection\"\n",
    ")"
   ]
  },
  {
   "cell_type": "markdown",
   "metadata": {},
   "source": [
    "# 리트리버"
   ]
  },
  {
   "cell_type": "code",
   "execution_count": 37,
   "metadata": {},
   "outputs": [],
   "source": [
    "retriever = vector_store.as_retriever(search_kwargs = {\"k\" : 3})"
   ]
  },
  {
   "cell_type": "code",
   "execution_count": 38,
   "metadata": {},
   "outputs": [
    {
     "data": {
      "text/plain": [
       "[Document(id='753a376c-9ab4-4e78-9678-a74c87f1fa94', metadata={'source': './documents/income_tax.txt'}, page_content='법제처 130 국가법령정보센터\\n소속세벤\\n➄ 제1항에도 불구하고 추가 남부세액이 10만 원을 초과하는 경우 원천징수의무자는 해당 과세기간의 다음 연도 2월분부터 4월분까지 근로소득을 지급할 때마다 추가 남부세액을 나누어 원천징수할 수 있다. <신설 2015. 3. 10.> [전문개정 2010. 12. 27.]\\n제137조(2건 이상으로부터 근로소득을 받는 사람에 대한 근로소득세의 연말정산)\\n① 2인 이상으로부터 근로소득을 받는 사람(일용근로자는 제외한다)이 대통령령으로 정하는 바에 따라 주된 근무지와 종된 근무지를 정하여 종된 근무지의 원천징수의무자로부터 제143조제1항에 따른 근로소득의 원천징수의무를 발행받아 해당 과세기간의 다음 연도 2월분에 근로소득을 받기 전에 주된 근무지의 원천징수의무자에게 제출하는 경우 주된 근무지의 근로소득에 대한 금액에 대하여 제137조에 따른 소득세를 원천징수한다.\\n② 제1항에 따라 근로소득 원천징수영수증을 발급하는 주된 근무지의 원천징수의무자는 해당 과세기간의 근로소득금액에 기본세율을 적용하여 계산한 소득세산출세액에 대해 제134조제1항에 따라 원천징수의무를 현출지급한다.\\n③ 제150조제3항에 따라 남의체험에 의하여 소득세 장수제127조제1항제1호 각 목에 따른 근로소득과 다른 근로소득이 함께 있는 사람(일용근로자는 제외한다)에게 근로소득세의 연말정산에 관하여 제1항과 제2항을 준용한다. [본소설 2010. 12. 27.]\\n제138조(자회세자에 대한 근로소득세의 연말정산)\\n➀ 해당 과세기간 중에 퇴직하는 경우 1월부터 과세기간이 끝날 때까지 받은 근로소득을 포함하여 제140조 제1항에 따라 근로소득세 소속ㆍ새의 공제신고서를 제출하는 경우 원천징수의무자는 그 근로소득이 중에서 받은 근로소득과 별도로 근무지에 받은 근로소득에 대해서는 제137조에 따른 소득세를 원천징수한다. <개정 2010. 12. 27. 2014. 1. 1.>\\n➁ 해당 과세기간 중에 퇴직한 근로소득자는 제137조에 따른 소득세를 납부한 후 다시 취직하고 과세기간의 중도에 다시 퇴직한 자에 대한 소득세의 원천징수에 관하여 제131항을 준용한다. [전문개정 2009. 12. 31.]\\n제139조(상조 부족에 의한 정산)\\n➀ 제137조, 제137조의2 또는 제138조에 따른 원천징수를 하는 경우 징수하여야 할 소득세 지급 받는 근로소득의 금액을 초과하거나 다음 달에 지급할 근로소득이 없는 경우 제한한다) 는 초과한 세액은 그 다음 달에 근로소득을 지급할 때에 정산한다. [전문개정 2010. 12. 27.]\\n제140조(근로소득자의 소득공제 등 신고)'),\n",
       " Document(id='cff0738b-e15c-47e3-9366-61e7083d9819', metadata={'source': './documents/income_tax.txt'}, page_content='제59조의3(연금계좌세액공제) ① 종합소득이 있는 거주자가 연금계좌에 납입한 금액 중 다음 각 호에 해당하는 금액을 제외한 금액(이하 \"연금계좌 납입액\"이라 한다) 중 100분의 12에 해당하는 과세기간에 종합소득세표준을 계산할 때 한산하는 종합소득금액이 4천500만원 이하(근로소득이 있는 경우에는 종합소득금액이 5천500만원 이하)에 대해서는 100분의 15에 해당하는 금액을 해당 과세기간의 종합소득세산출세액에서 공제한다. 다만, 연금계좌 중 연금주계좌에 납입한 금액이 연 600만원을 초과하는 경우에는 초과하는 금액은 그 금액으로 하고, 연금주계좌에 납입한 금액 중 600만원 이내의 금액과 기타연금계좌에 납입한 금액을 합한 금액이 연 900만원을 초과하는 경우에는 그 초과하는 금액은 금액으로 하는 것으 로 한다. <개정 2014. 12. 31.>\\n1. 제146조제28항에 따른 소득세 원천징수대상이 아닌 퇴직소득 등 기타 예외 소득\\n2. 연금계좌에 따른 연금계좌세액공제는 납입된 금액\\n③ 제1항에 따른 공제는 \"연금계좌세액공제\"라 한다.\\n④ \"조세특례제한법\", 제59조의18에 따른 기금이행자산관리계약이 만료되고 해당 계좌 잔여의 종류도 일정한 방법으로 정하는 방법으로 연금계좌에 납입한 금액(이하 이 조에서 \"전환금\"이라 한다)을 납입한 법인 또는 실속있는 방법으로 연금계좌의 납입액을 포함한다. <신설 2019. 12. 31.>\\n⑤ 전환금이 있는 경우 제1항 각 호의 부분 구분에서 불가피한 경우 한정 적용 할 전환금의 100분의 10을 초과하는 경우 제2항 각 호에 기한 연금계좌 세액에 발생한 금액에 대하여 차감하는 금액을 총 중간계좌 세액이 제1항 각 호에 해당 연금계좌에 납입한 금액으로 하는 금액을 포함하는 금액은 금액으로 하지 않는다. <신설 2019. 12. 31.>\\n⑥ 제1항부터 제3항까지의 규정에 따라 연금계좌세액공제의 계산방법, 신청 절차 등에 필요한 사항을 대통령령으로 정한다. <개정 2019. 12. 31.>\\n제59조의4(특별세액공제) ① 근로소득이 있는 거주자(일용근로자는 제외한다)가 해당 과세기간에 만기환급금의 납입보호를 초과하지 아니하는 범위의 범죄재판에 따라 지급되는 다음 각 호의 범위로 지칭한 경우 그 금액의 100분의 12(제1호의 경우에는 100분의 15)가 해당 과세기간의 종합소득세에서 공제한다. 다만, 각 호의 범위로 보할 경우 그 금액이 100만원을 초과하는 경우 그 초과하는 금액을 포함한다.\\n1. 기금구세대상자가 지체장애인으로 판별된 경우 장애인연금봉급으로 대통령령으로 정하는 장애인 통합공공서비스법\\n2. 기금구세대상자가 일반 متوسط병역자로 정하는 법률(제1호에 따라 장애인연금봉급으로 제어한다)\\n③ 근로소득이 있는 거주자는 기초공제대상자(나 및 소득의 필한 이와 같다)를 위하여 해당 과세기간에 대해 통합적으로 정하는 의료비를 지급한 경우 각 호의 금액의 100분의 15(제132조의 경우에는 100분의 20)을 초과하는 경우에 대해\\n소특별판'),\n",
       " Document(id='83f406b5-e2fc-4408-bc0f-8b5fc6f7a049', metadata={'source': './documents/income_tax.txt'}, page_content='제 143조의3 삭제 <2009. 12. 31.>\\n제 143조의4(공적연금소득세에 관한 원천징수) ① 공적연금소득에 대한 원천징수의무자가 해당 과세기간의 다음 연도 1월 본인의 공적연금소득을 지급할 때에는 연금소득자에 해당 과세기간에 그 공적연금소득자 제143조의6에 따라 신고한 내용에 따라 일정금액을 적용한 금액을 종합소득세산출세표로 하고, 그 금액에 기계세율을 적용하여 종합소득세산출세를 계산한 후에 사전에 세액공제를 적용한 세액이외에 이미 원천징수하여 남한 소득세를 증명하고 남은액을 원천징수한다. <개정 2013. 1. 1.>\\n② 제1항의 경우 해당 과세기간에 이미 원천징수하여 남한 소득세, 자녀세액공제 및 표준세액공제에 따른 공제액의 합계액이 해당 종합소득세산출세를 초과할 때에는 그 초과액에 해당 연금소득자에게 대정통보를 정하는 바에 따라 환급하여야 한다. <개정 2014. 1. 1.>\\n③ 원천징수의무자는 제143조에 따른 신고를 하지 않은 연금소득자에 대해서 제1항을 적용하여 소득세를 원천징수할 때에는 그 연금소득자 본인이 부담하는 기본공제전과 표준세액공제를 적용받을 수 있다. <개정 2014. 1. 1.>\\n④ 공적연금소득을 받는 사람이 해당 과세기간 중에 원천징수의무자 또는 사용인이 속하는 다음 달의 말일까지 제1항부텀 제3항까지의 규정을 준용하여 그 자신의 공적연금소득에 대한 원천징수를 하여야 한다. <개정 2013. 1. 1.> \\n삭제 <2013. 1. 1.>\\n제 3관 삭제 <2009. 12. 31.>\\n[제목개정 2013. 1. 1.]\\n소제목판\\n제143조의4(정수 부정당의 이의정심)\\n제143조의4에 따른 원천징수를 하는 경우 징수하여야 할 소득세가 지급될 공적 연금소득을 초과할 때에는 그 초과하는 세액은 다음 달의 공적 연금소득을 지급할 때에 징수할 것. <개정 2013. 1. 1.>\\n[전문개정 2009. 12. 31.]\\n제143조의6(연금소득자의 소득 신고)\\n① 공적 연금소득을 지급받는 자는 공적 연금소득을 최소로 신고할 기 전에 기획재정부가 정하는 연금소득자 신고(이하 “연금소득자 소득, 세액 신고서”라 한다)에 원천징수의무자에게 제출하여야 한다. <신설 2010. 12. 27, 2013. 1. 1, 2014. 1. 1.>\\n② 공적연금소득을 받는 사람이 자신의 배우자 또는 봉양가족에 대한 인정공제를 적정방안으로 정하는 경우에는 해당 연금소득자에게 연금소득자 소득, 세액 공제신고서에 대등별령명을 정하는 법에 따라 제출하여야 한다. 다만, 해당 과세기간에 해당 연금소득자 소득, 세액 공제신고서 제출한 경우로서 공적인 배우자 또는 부모가 족이 변동되지 아니한 경우에는 연금소득자 소득, 세액 공제신고서 제출할 필요가 없으며, 연금소득자가 해당 과세기간에 해당 연금소득자 소득, 세액 공제신고서를 제출하여야 한다. <개정 2010. 12. 27, 2013. 1. 1, 2014. 1. 1.>')]"
      ]
     },
     "execution_count": 38,
     "metadata": {},
     "output_type": "execute_result"
    }
   ],
   "source": [
    "query = \"연봉 3000만원 직장인 소득세는?\"\n",
    "\n",
    "retriever.invoke(query)"
   ]
  },
  {
   "cell_type": "code",
   "execution_count": 49,
   "metadata": {},
   "outputs": [],
   "source": [
    "from typing_extensions import TypedDict, List\n",
    "from langgraph.graph import StateGraph, START, END"
   ]
  },
  {
   "cell_type": "code",
   "execution_count": 74,
   "metadata": {},
   "outputs": [],
   "source": [
    "class AgentState(TypedDict):\n",
    "    query: str\n",
    "    context: List[Document]\n",
    "    answer: str"
   ]
  },
  {
   "cell_type": "code",
   "execution_count": 75,
   "metadata": {},
   "outputs": [],
   "source": [
    "graph_builder = StateGraph(AgentState)\n",
    "\n"
   ]
  },
  {
   "cell_type": "code",
   "execution_count": 76,
   "metadata": {},
   "outputs": [],
   "source": [
    "# retrieve Node\n",
    "\n",
    "def retrieve(state : AgentState):\n",
    "    query = state[\"query\"]\n",
    "    docs = retriever.invoke(query)\n",
    "    return {\"context\" : docs}"
   ]
  },
  {
   "cell_type": "code",
   "execution_count": 77,
   "metadata": {},
   "outputs": [],
   "source": [
    "from langchain import hub\n",
    "from langchain_groq import ChatGroq\n",
    "import os \n",
    "\n",
    "groq_api_key = os.getenv(\"GROQ_API_KEY\")\n",
    "MODEL_NAME = \"gemma2-9b-it\"\n",
    "\n",
    "prompt = hub.pull(\"rlm/rag-prompt\")\n",
    "\n",
    "\n",
    "llm = ChatGroq(model_name=MODEL_NAME, api_key=groq_api_key)"
   ]
  },
  {
   "cell_type": "code",
   "execution_count": 78,
   "metadata": {},
   "outputs": [],
   "source": [
    "# generate node\n",
    "\n",
    "def generate(state: AgentState):\n",
    "    context=  state[\"context\"]\n",
    "    query = state[\"query\"]\n",
    "\n",
    "    # rag chain\n",
    "    rag_chain = prompt | llm\n",
    "\n",
    "    response= rag_chain.invoke({\"question\" : query, \"context\" : context})\n",
    "    return {'answer' : response}"
   ]
  },
  {
   "cell_type": "code",
   "execution_count": 79,
   "metadata": {},
   "outputs": [],
   "source": [
    "graph_builder.add_node(\"retrieve\", retrieve)\n",
    "graph_builder.add_node(\"generate\", generate)\n",
    "graph_builder.add_edge(START, \"retrieve\")\n",
    "graph_builder.add_edge(\"retrieve\", \"generate\")\n",
    "graph_builder.add_edge(\"generate\", END)\n",
    "\n",
    "graph = graph_builder.compile()"
   ]
  },
  {
   "cell_type": "code",
   "execution_count": 80,
   "metadata": {},
   "outputs": [
    {
     "data": {
      "image/png": "[encoded data removed]",
      "text/plain": [
       "<IPython.core.display.Image object>"
      ]
     },
     "metadata": {},
     "output_type": "display_data"
    }
   ],
   "source": [
    "from IPython.display import Image, display\n",
    "\n",
    "display(\n",
    "    Image(\n",
    "        graph.get_graph(xray=True).draw_mermaid_png()\n",
    "    )\n",
    ")\n",
    "\n"
   ]
  },
  {
   "cell_type": "code",
   "execution_count": 61,
   "metadata": {},
   "outputs": [
    {
     "data": {
      "image/png": "[encoded data removed]",
      "text/plain": [
       "<IPython.core.display.Image object>"
      ]
     },
     "metadata": {},
     "output_type": "display_data"
    }
   ],
   "source": [
    "# 노드 순서가 일방향이면 add_sequence 써도 똑같음\n",
    "\n",
    "sequence_graph_builder= StateGraph(AgentState).add_sequence([retrieve, generate])\n",
    "\n",
    "# 노드는 함수명으로 똑같이 만들어버림 \n",
    "sequence_graph_builder.add_edge(START, \"retrieve\")\n",
    "sequence_graph_builder.add_edge(\"generate\", END)\n",
    "\n",
    "sequence_graph = sequence_graph_builder.compile()\n",
    "\n",
    "display(\n",
    "    Image(\n",
    "        sequence_graph.get_graph(xray=True).draw_mermaid_png()\n",
    "    )\n",
    ")\n"
   ]
  },
  {
   "cell_type": "markdown",
   "metadata": {},
   "source": []
  },
  {
   "cell_type": "code",
   "execution_count": 81,
   "metadata": {},
   "outputs": [
    {
     "data": {
      "text/plain": [
       "{'query': '연봉 3000만원 직장인 소득세는?',\n",
       " 'context': [Document(id='753a376c-9ab4-4e78-9678-a74c87f1fa94', metadata={'source': './documents/income_tax.txt'}, page_content='법제처 130 국가법령정보센터\\n소속세벤\\n➄ 제1항에도 불구하고 추가 남부세액이 10만 원을 초과하는 경우 원천징수의무자는 해당 과세기간의 다음 연도 2월분부터 4월분까지 근로소득을 지급할 때마다 추가 남부세액을 나누어 원천징수할 수 있다. <신설 2015. 3. 10.> [전문개정 2010. 12. 27.]\\n제137조(2건 이상으로부터 근로소득을 받는 사람에 대한 근로소득세의 연말정산)\\n① 2인 이상으로부터 근로소득을 받는 사람(일용근로자는 제외한다)이 대통령령으로 정하는 바에 따라 주된 근무지와 종된 근무지를 정하여 종된 근무지의 원천징수의무자로부터 제143조제1항에 따른 근로소득의 원천징수의무를 발행받아 해당 과세기간의 다음 연도 2월분에 근로소득을 받기 전에 주된 근무지의 원천징수의무자에게 제출하는 경우 주된 근무지의 근로소득에 대한 금액에 대하여 제137조에 따른 소득세를 원천징수한다.\\n② 제1항에 따라 근로소득 원천징수영수증을 발급하는 주된 근무지의 원천징수의무자는 해당 과세기간의 근로소득금액에 기본세율을 적용하여 계산한 소득세산출세액에 대해 제134조제1항에 따라 원천징수의무를 현출지급한다.\\n③ 제150조제3항에 따라 남의체험에 의하여 소득세 장수제127조제1항제1호 각 목에 따른 근로소득과 다른 근로소득이 함께 있는 사람(일용근로자는 제외한다)에게 근로소득세의 연말정산에 관하여 제1항과 제2항을 준용한다. [본소설 2010. 12. 27.]\\n제138조(자회세자에 대한 근로소득세의 연말정산)\\n➀ 해당 과세기간 중에 퇴직하는 경우 1월부터 과세기간이 끝날 때까지 받은 근로소득을 포함하여 제140조 제1항에 따라 근로소득세 소속ㆍ새의 공제신고서를 제출하는 경우 원천징수의무자는 그 근로소득이 중에서 받은 근로소득과 별도로 근무지에 받은 근로소득에 대해서는 제137조에 따른 소득세를 원천징수한다. <개정 2010. 12. 27. 2014. 1. 1.>\\n➁ 해당 과세기간 중에 퇴직한 근로소득자는 제137조에 따른 소득세를 납부한 후 다시 취직하고 과세기간의 중도에 다시 퇴직한 자에 대한 소득세의 원천징수에 관하여 제131항을 준용한다. [전문개정 2009. 12. 31.]\\n제139조(상조 부족에 의한 정산)\\n➀ 제137조, 제137조의2 또는 제138조에 따른 원천징수를 하는 경우 징수하여야 할 소득세 지급 받는 근로소득의 금액을 초과하거나 다음 달에 지급할 근로소득이 없는 경우 제한한다) 는 초과한 세액은 그 다음 달에 근로소득을 지급할 때에 정산한다. [전문개정 2010. 12. 27.]\\n제140조(근로소득자의 소득공제 등 신고)'),\n",
       "  Document(id='cff0738b-e15c-47e3-9366-61e7083d9819', metadata={'source': './documents/income_tax.txt'}, page_content='제59조의3(연금계좌세액공제) ① 종합소득이 있는 거주자가 연금계좌에 납입한 금액 중 다음 각 호에 해당하는 금액을 제외한 금액(이하 \"연금계좌 납입액\"이라 한다) 중 100분의 12에 해당하는 과세기간에 종합소득세표준을 계산할 때 한산하는 종합소득금액이 4천500만원 이하(근로소득이 있는 경우에는 종합소득금액이 5천500만원 이하)에 대해서는 100분의 15에 해당하는 금액을 해당 과세기간의 종합소득세산출세액에서 공제한다. 다만, 연금계좌 중 연금주계좌에 납입한 금액이 연 600만원을 초과하는 경우에는 초과하는 금액은 그 금액으로 하고, 연금주계좌에 납입한 금액 중 600만원 이내의 금액과 기타연금계좌에 납입한 금액을 합한 금액이 연 900만원을 초과하는 경우에는 그 초과하는 금액은 금액으로 하는 것으 로 한다. <개정 2014. 12. 31.>\\n1. 제146조제28항에 따른 소득세 원천징수대상이 아닌 퇴직소득 등 기타 예외 소득\\n2. 연금계좌에 따른 연금계좌세액공제는 납입된 금액\\n③ 제1항에 따른 공제는 \"연금계좌세액공제\"라 한다.\\n④ \"조세특례제한법\", 제59조의18에 따른 기금이행자산관리계약이 만료되고 해당 계좌 잔여의 종류도 일정한 방법으로 정하는 방법으로 연금계좌에 납입한 금액(이하 이 조에서 \"전환금\"이라 한다)을 납입한 법인 또는 실속있는 방법으로 연금계좌의 납입액을 포함한다. <신설 2019. 12. 31.>\\n⑤ 전환금이 있는 경우 제1항 각 호의 부분 구분에서 불가피한 경우 한정 적용 할 전환금의 100분의 10을 초과하는 경우 제2항 각 호에 기한 연금계좌 세액에 발생한 금액에 대하여 차감하는 금액을 총 중간계좌 세액이 제1항 각 호에 해당 연금계좌에 납입한 금액으로 하는 금액을 포함하는 금액은 금액으로 하지 않는다. <신설 2019. 12. 31.>\\n⑥ 제1항부터 제3항까지의 규정에 따라 연금계좌세액공제의 계산방법, 신청 절차 등에 필요한 사항을 대통령령으로 정한다. <개정 2019. 12. 31.>\\n제59조의4(특별세액공제) ① 근로소득이 있는 거주자(일용근로자는 제외한다)가 해당 과세기간에 만기환급금의 납입보호를 초과하지 아니하는 범위의 범죄재판에 따라 지급되는 다음 각 호의 범위로 지칭한 경우 그 금액의 100분의 12(제1호의 경우에는 100분의 15)가 해당 과세기간의 종합소득세에서 공제한다. 다만, 각 호의 범위로 보할 경우 그 금액이 100만원을 초과하는 경우 그 초과하는 금액을 포함한다.\\n1. 기금구세대상자가 지체장애인으로 판별된 경우 장애인연금봉급으로 대통령령으로 정하는 장애인 통합공공서비스법\\n2. 기금구세대상자가 일반 متوسط병역자로 정하는 법률(제1호에 따라 장애인연금봉급으로 제어한다)\\n③ 근로소득이 있는 거주자는 기초공제대상자(나 및 소득의 필한 이와 같다)를 위하여 해당 과세기간에 대해 통합적으로 정하는 의료비를 지급한 경우 각 호의 금액의 100분의 15(제132조의 경우에는 100분의 20)을 초과하는 경우에 대해\\n소특별판'),\n",
       "  Document(id='83f406b5-e2fc-4408-bc0f-8b5fc6f7a049', metadata={'source': './documents/income_tax.txt'}, page_content='제 143조의3 삭제 <2009. 12. 31.>\\n제 143조의4(공적연금소득세에 관한 원천징수) ① 공적연금소득에 대한 원천징수의무자가 해당 과세기간의 다음 연도 1월 본인의 공적연금소득을 지급할 때에는 연금소득자에 해당 과세기간에 그 공적연금소득자 제143조의6에 따라 신고한 내용에 따라 일정금액을 적용한 금액을 종합소득세산출세표로 하고, 그 금액에 기계세율을 적용하여 종합소득세산출세를 계산한 후에 사전에 세액공제를 적용한 세액이외에 이미 원천징수하여 남한 소득세를 증명하고 남은액을 원천징수한다. <개정 2013. 1. 1.>\\n② 제1항의 경우 해당 과세기간에 이미 원천징수하여 남한 소득세, 자녀세액공제 및 표준세액공제에 따른 공제액의 합계액이 해당 종합소득세산출세를 초과할 때에는 그 초과액에 해당 연금소득자에게 대정통보를 정하는 바에 따라 환급하여야 한다. <개정 2014. 1. 1.>\\n③ 원천징수의무자는 제143조에 따른 신고를 하지 않은 연금소득자에 대해서 제1항을 적용하여 소득세를 원천징수할 때에는 그 연금소득자 본인이 부담하는 기본공제전과 표준세액공제를 적용받을 수 있다. <개정 2014. 1. 1.>\\n④ 공적연금소득을 받는 사람이 해당 과세기간 중에 원천징수의무자 또는 사용인이 속하는 다음 달의 말일까지 제1항부텀 제3항까지의 규정을 준용하여 그 자신의 공적연금소득에 대한 원천징수를 하여야 한다. <개정 2013. 1. 1.> \\n삭제 <2013. 1. 1.>\\n제 3관 삭제 <2009. 12. 31.>\\n[제목개정 2013. 1. 1.]\\n소제목판\\n제143조의4(정수 부정당의 이의정심)\\n제143조의4에 따른 원천징수를 하는 경우 징수하여야 할 소득세가 지급될 공적 연금소득을 초과할 때에는 그 초과하는 세액은 다음 달의 공적 연금소득을 지급할 때에 징수할 것. <개정 2013. 1. 1.>\\n[전문개정 2009. 12. 31.]\\n제143조의6(연금소득자의 소득 신고)\\n① 공적 연금소득을 지급받는 자는 공적 연금소득을 최소로 신고할 기 전에 기획재정부가 정하는 연금소득자 신고(이하 “연금소득자 소득, 세액 신고서”라 한다)에 원천징수의무자에게 제출하여야 한다. <신설 2010. 12. 27, 2013. 1. 1, 2014. 1. 1.>\\n② 공적연금소득을 받는 사람이 자신의 배우자 또는 봉양가족에 대한 인정공제를 적정방안으로 정하는 경우에는 해당 연금소득자에게 연금소득자 소득, 세액 공제신고서에 대등별령명을 정하는 법에 따라 제출하여야 한다. 다만, 해당 과세기간에 해당 연금소득자 소득, 세액 공제신고서 제출한 경우로서 공적인 배우자 또는 부모가 족이 변동되지 아니한 경우에는 연금소득자 소득, 세액 공제신고서 제출할 필요가 없으며, 연금소득자가 해당 과세기간에 해당 연금소득자 소득, 세액 공제신고서를 제출하여야 한다. <개정 2010. 12. 27, 2013. 1. 1, 2014. 1. 1.>')],\n",
       " 'answer': AIMessage(content='The provided text does not contain information about the income tax for a person earning 30 million won per year.  \\n', additional_kwargs={}, response_metadata={'token_usage': {'completion_tokens': 27, 'prompt_tokens': 3440, 'total_tokens': 3467, 'completion_time': 0.049090909, 'prompt_time': 0.148651071, 'queue_time': 0.019891275000000014, 'total_time': 0.19774198}, 'model_name': 'gemma2-9b-it', 'system_fingerprint': 'fp_10c08bf97d', 'finish_reason': 'stop', 'logprobs': None}, id='run-0f3243c2-29d5-4495-a5b6-c99a5b4a7a60-0', usage_metadata={'input_tokens': 3440, 'output_tokens': 27, 'total_tokens': 3467})}"
      ]
     },
     "execution_count": 81,
     "metadata": {},
     "output_type": "execute_result"
    }
   ],
   "source": [
    "initial_state = {\"query\" : query}\n",
    "graph.invoke(initial_state)"
   ]
  },
  {
   "cell_type": "markdown",
   "metadata": {},
   "source": [
    "# 답변 생성전에 검증 후,  retrieve 필요하면 다시 하기"
   ]
  },
  {
   "cell_type": "code",
   "execution_count": null,
   "metadata": {},
   "outputs": [],
   "source": []
  }
 ],
 "metadata": {
  "kernelspec": {
   "display_name": "VENV",
   "language": "python",
   "name": "python3"
  },
  "language_info": {
   "codemirror_mode": {
    "name": "ipython",
    "version": 3
   },
   "file_extension": ".py",
   "mimetype": "text/x-python",
   "name": "python",
   "nbconvert_exporter": "python",
   "pygments_lexer": "ipython3",
   "version": "3.11.8"
  }
 },
 "nbformat": 4,
 "nbformat_minor": 2
}
