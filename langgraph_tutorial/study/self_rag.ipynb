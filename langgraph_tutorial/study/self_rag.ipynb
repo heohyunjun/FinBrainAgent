{
 "cells": [
  {
   "cell_type": "code",
   "execution_count": 2,
   "metadata": {},
   "outputs": [
    {
     "data": {
      "text/plain": [
       "True"
      ]
     },
     "execution_count": 2,
     "metadata": {},
     "output_type": "execute_result"
    }
   ],
   "source": [
    "# 표준 라이브러리\n",
    "from typing import Literal\n",
    "from typing_extensions import TypedDict, List\n",
    "import os \n",
    "\n",
    "# 서드파티 라이브러리\n",
    "from dotenv import load_dotenv\n",
    "from langchain_chroma import Chroma\n",
    "from langgraph.graph import StateGraph, START, END\n",
    "from pyzerox import zerox\n",
    "\n",
    "# LangChain 관련 라이브러리\n",
    "from langchain_core.documents import Document\n",
    "from langchain_core.output_parsers import StrOutputParser\n",
    "from langchain_core.prompts import PromptTemplate\n",
    "from langchain_text_splitters import RecursiveCharacterTextSplitter\n",
    "from langchain_community.document_loaders import (\n",
    "    PyPDFLoader,\n",
    "    UnstructuredMarkdownLoader,\n",
    "    TextLoader,\n",
    ")\n",
    "from langchain_community.embeddings import HuggingFaceEmbeddings\n",
    "from langchain_groq import ChatGroq\n",
    "from langchain import hub\n",
    "\n",
    "load_dotenv()\n"
   ]
  },
  {
   "cell_type": "code",
   "execution_count": 3,
   "metadata": {},
   "outputs": [],
   "source": [
    "MODEL_NAME = \"gemma2-9b-it\"\n",
    "\n",
    "groq_api_key = os.getenv(\"GROQ_API_KEY\")\n",
    "llm = ChatGroq(model_name=MODEL_NAME, api_key=groq_api_key)\n"
   ]
  },
  {
   "cell_type": "code",
   "execution_count": 4,
   "metadata": {},
   "outputs": [],
   "source": [
    "class AgentState(TypedDict):\n",
    "    query: str\n",
    "    context: List[Document]\n",
    "    answer: str"
   ]
  },
  {
   "cell_type": "code",
   "execution_count": 5,
   "metadata": {},
   "outputs": [
    {
     "name": "stderr",
     "output_type": "stream",
     "text": [
      "C:\\Users\\user\\AppData\\Local\\Temp\\ipykernel_20084\\3403747413.py:2: LangChainDeprecationWarning: The class `HuggingFaceEmbeddings` was deprecated in LangChain 0.2.2 and will be removed in 1.0. An updated version of the class exists in the :class:`~langchain-huggingface package and should be used instead. To use it run `pip install -U :class:`~langchain-huggingface` and import as `from :class:`~langchain_huggingface import HuggingFaceEmbeddings``.\n",
      "  embeddings_model = HuggingFaceEmbeddings(\n",
      "c:\\USERS\\USER\\DESKTOP\\FINBRAINAGENT\\VENV\\Lib\\site-packages\\tqdm\\auto.py:21: TqdmWarning: IProgress not found. Please update jupyter and ipywidgets. See https://ipywidgets.readthedocs.io/en/stable/user_install.html\n",
      "  from .autonotebook import tqdm as notebook_tqdm\n"
     ]
    }
   ],
   "source": [
    "# 이미 생성된 크로마 db 가져오기\n",
    "embeddings_model = HuggingFaceEmbeddings(\n",
    "    model_name='jhgan/ko-sroberta-nli',\n",
    "    model_kwargs={'device':'cpu'},\n",
    "    encode_kwargs={'normalize_embeddings':True},\n",
    ")\n",
    "\n",
    "\n",
    "vector_store = Chroma(\n",
    "    embedding_function=embeddings_model,\n",
    "    collection_name = \"income_tax_collection\",\n",
    "    persist_directory = \"./income_tax_collection\"\n",
    ")\n",
    "\n",
    "retriever = vector_store.as_retriever(search_kwargs = {\"k\":3})"
   ]
  },
  {
   "cell_type": "code",
   "execution_count": 11,
   "metadata": {},
   "outputs": [],
   "source": [
    "prompt = hub.pull(\"rlm/rag-prompt\")\n",
    "generate_prompt = hub.pull(\"rlm/rag-prompt\")\n",
    "doc_relevance_prompt = hub.pull(\"langchain-ai/rag-document-relevance\")"
   ]
  },
  {
   "cell_type": "code",
   "execution_count": 18,
   "metadata": {},
   "outputs": [],
   "source": [
    "\n",
    "def retrieve(state: AgentState):\n",
    "    query = state[\"query\"]\n",
    "    docs = retriever.invoke(query)\n",
    "    return {\"context\" : docs}\n",
    "\n",
    "def generate(state : AgentState):\n",
    "    context = state[\"context\"]\n",
    "    query = state[\"query\"]\n",
    "    rag_chain = prompt | llm\n",
    "    response = rag_chain.invoke({\"question\" : query, \"context\" : context})\n",
    "    return {\"answer\" : response}\n",
    "\n",
    "\n",
    "def check_doc_relevance(state : AgentState) -> Literal['relevant', 'irrelevant']:\n",
    "    query = state[\"query\"]\n",
    "    context = state[\"context\"]\n",
    "    print(f\"context == {context}\")\n",
    "    doc_relevance_chain = doc_relevance_prompt | llm\n",
    "    response = doc_relevance_chain.invoke({\"question\" : query, \"documents\" : context})\n",
    "    print(f\"response == {response}\")\n",
    "    if response[\"Score\"] ==1:\n",
    "        return \"relevant\"\n",
    "    return \"irrelevant\"\n",
    "\n",
    "\n",
    "\n",
    "\n",
    "\n",
    "dictionary = ['직장인 -> 거주자']\n",
    "rewrite_prompt = PromptTemplate.from_template(f\"\"\"\n",
    "사용자 질문을 보고, 우리 사전 참고해서 사용자의 질문을 변경해라\n",
    "사전: {dictionary}\n",
    "질문: {{query}}                                              \n",
    "\"\"\")\n",
    "\n",
    "\n",
    "def rewrite(state: AgentState):\n",
    "    query = state[\"query\"]\n",
    "    rewrite_chain = rewrite_prompt | llm | StrOutputParser()\n",
    "    \n",
    "\n",
    "    response = rewrite_chain.invoke({\"query\" : query})\n",
    "    print(f\"rewrite_response =={response}\")\n",
    "    return {\"query\" : response}\n"
   ]
  },
  {
   "cell_type": "markdown",
   "metadata": {},
   "source": [
    "### 할루시네이션 검증"
   ]
  },
  {
   "cell_type": "code",
   "execution_count": 21,
   "metadata": {},
   "outputs": [],
   "source": [
    "hallucination_prompt = hub.pull(\"langchain-ai/rag-answer-hallucination\")\n",
    "\n",
    "def check_hallucination(state : AgentState) -> Literal[\"generate\", \"rewrite\"]:\n",
    "    answer = state[\"answer\"]\n",
    "    context = state[\"context\"]\n",
    "    hallucination_chain = hallucination_prompt | llm\n",
    "    response = hallucination_chain.invoke({\"student_answer\" : answer, \"documents\" : context})\n",
    "    print(f\"hallucination_response == {response}\")\n",
    "    if response[\"Score\"] ==1:\n",
    "        return \"generate\"\n",
    "    return \"end\"\n",
    "\n"
   ]
  },
  {
   "cell_type": "code",
   "execution_count": 26,
   "metadata": {},
   "outputs": [
    {
     "name": "stdout",
     "output_type": "stream",
     "text": [
      "제59조의3(연금계좌세액공제) ① 종합소득이 있는 거주자가 연금계좌에 납입한 금액 중 다음 각 호에 해당하는 금액을 제외한 금액(이하 \"연금계좌 납입액\"이라 한다) 중 100분의 12에 해당하는 과세기간에 종합소득세표준을 계산할 때 한산하는 종합소득금액이 4천500만원 이하(근로소득이 있는 경우에는 종합소득금액이 5천500만원 이하)에 대해서는 100분의 15에 해당하는 금액을 해당 과세기간의 종합소득세산출세액에서 공제한다. 다만, 연금계좌 중 연금주계좌에 납입한 금액이 연 600만원을 초과하는 경우에는 초과하는 금액은 그 금액으로 하고, 연금주계좌에 납입한 금액 중 600만원 이내의 금액과 기타연금계좌에 납입한 금액을 합한 금액이 연 900만원을 초과하는 경우에는 그 초과하는 금액은 금액으로 하는 것으 로 한다. <개정 2014. 12. 31.>\n",
      "1. 제146조제28항에 따른 소득세 원천징수대상이 아닌 퇴직소득 등 기타 예외 소득\n",
      "2. 연금계좌에 따른 연금계좌세액공제는 납입된 금액\n",
      "③ 제1항에 따른 공제는 \"연금계좌세액공제\"라 한다.\n",
      "④ \"조세특례제한법\", 제59조의18에 따른 기금이행자산관리계약이 만료되고 해당 계좌 잔여의 종류도 일정한 방법으로 정하는 방법으로 연금계좌에 납입한 금액(이하 이 조에서 \"전환금\"이라 한다)을 납입한 법인 또는 실속있는 방법으로 연금계좌의 납입액을 포함한다. <신설 2019. 12. 31.>\n",
      "⑤ 전환금이 있는 경우 제1항 각 호의 부분 구분에서 불가피한 경우 한정 적용 할 전환금의 100분의 10을 초과하는 경우 제2항 각 호에 기한 연금계좌 세액에 발생한 금액에 대하여 차감하는 금액을 총 중간계좌 세액이 제1항 각 호에 해당 연금계좌에 납입한 금액으로 하는 금액을 포함하는 금액은 금액으로 하지 않는다. <신설 2019. 12. 31.>\n",
      "⑥ 제1항부터 제3항까지의 규정에 따라 연금계좌세액공제의 계산방법, 신청 절차 등에 필요한 사항을 대통령령으로 정한다. <개정 2019. 12. 31.>\n",
      "제59조의4(특별세액공제) ① 근로소득이 있는 거주자(일용근로자는 제외한다)가 해당 과세기간에 만기환급금의 납입보호를 초과하지 아니하는 범위의 범죄재판에 따라 지급되는 다음 각 호의 범위로 지칭한 경우 그 금액의 100분의 12(제1호의 경우에는 100분의 15)가 해당 과세기간의 종합소득세에서 공제한다. 다만, 각 호의 범위로 보할 경우 그 금액이 100만원을 초과하는 경우 그 초과하는 금액을 포함한다.\n",
      "1. 기금구세대상자가 지체장애인으로 판별된 경우 장애인연금봉급으로 대통령령으로 정하는 장애인 통합공공서비스법\n",
      "2. 기금구세대상자가 일반 متوسط병역자로 정하는 법률(제1호에 따라 장애인연금봉급으로 제어한다)\n",
      "③ 근로소득이 있는 거주자는 기초공제대상자(나 및 소득의 필한 이와 같다)를 위하여 해당 과세기간에 대해 통합적으로 정하는 의료비를 지급한 경우 각 호의 금액의 100분의 15(제132조의 경우에는 100분의 20)을 초과하는 경우에 대해\n",
      "소특별판\n",
      "제 143조의3 삭제 <2009. 12. 31.>\n",
      "제 143조의4(공적연금소득세에 관한 원천징수) ① 공적연금소득에 대한 원천징수의무자가 해당 과세기간의 다음 연도 1월 본인의 공적연금소득을 지급할 때에는 연금소득자에 해당 과세기간에 그 공적연금소득자 제143조의6에 따라 신고한 내용에 따라 일정금액을 적용한 금액을 종합소득세산출세표로 하고, 그 금액에 기계세율을 적용하여 종합소득세산출세를 계산한 후에 사전에 세액공제를 적용한 세액이외에 이미 원천징수하여 남한 소득세를 증명하고 남은액을 원천징수한다. <개정 2013. 1. 1.>\n",
      "② 제1항의 경우 해당 과세기간에 이미 원천징수하여 남한 소득세, 자녀세액공제 및 표준세액공제에 따른 공제액의 합계액이 해당 종합소득세산출세를 초과할 때에는 그 초과액에 해당 연금소득자에게 대정통보를 정하는 바에 따라 환급하여야 한다. <개정 2014. 1. 1.>\n",
      "③ 원천징수의무자는 제143조에 따른 신고를 하지 않은 연금소득자에 대해서 제1항을 적용하여 소득세를 원천징수할 때에는 그 연금소득자 본인이 부담하는 기본공제전과 표준세액공제를 적용받을 수 있다. <개정 2014. 1. 1.>\n",
      "④ 공적연금소득을 받는 사람이 해당 과세기간 중에 원천징수의무자 또는 사용인이 속하는 다음 달의 말일까지 제1항부텀 제3항까지의 규정을 준용하여 그 자신의 공적연금소득에 대한 원천징수를 하여야 한다. <개정 2013. 1. 1.> \n",
      "삭제 <2013. 1. 1.>\n",
      "제 3관 삭제 <2009. 12. 31.>\n",
      "[제목개정 2013. 1. 1.]\n",
      "소제목판\n",
      "제143조의4(정수 부정당의 이의정심)\n",
      "제143조의4에 따른 원천징수를 하는 경우 징수하여야 할 소득세가 지급될 공적 연금소득을 초과할 때에는 그 초과하는 세액은 다음 달의 공적 연금소득을 지급할 때에 징수할 것. <개정 2013. 1. 1.>\n",
      "[전문개정 2009. 12. 31.]\n",
      "제143조의6(연금소득자의 소득 신고)\n",
      "① 공적 연금소득을 지급받는 자는 공적 연금소득을 최소로 신고할 기 전에 기획재정부가 정하는 연금소득자 신고(이하 “연금소득자 소득, 세액 신고서”라 한다)에 원천징수의무자에게 제출하여야 한다. <신설 2010. 12. 27, 2013. 1. 1, 2014. 1. 1.>\n",
      "② 공적연금소득을 받는 사람이 자신의 배우자 또는 봉양가족에 대한 인정공제를 적정방안으로 정하는 경우에는 해당 연금소득자에게 연금소득자 소득, 세액 공제신고서에 대등별령명을 정하는 법에 따라 제출하여야 한다. 다만, 해당 과세기간에 해당 연금소득자 소득, 세액 공제신고서 제출한 경우로서 공적인 배우자 또는 부모가 족이 변동되지 아니한 경우에는 연금소득자 소득, 세액 공제신고서 제출할 필요가 없으며, 연금소득자가 해당 과세기간에 해당 연금소득자 소득, 세액 공제신고서를 제출하여야 한다. <개정 2010. 12. 27, 2013. 1. 1, 2014. 1. 1.>\n",
      "제121조제3항 및 제127조에 따른 비거주자와 국내원천소득 등(제119조제1항에 따라 국내원천 근로소득 및 같은 조 제2호에 따른 국내원천 연금소득을 제외한다)에 대한 세액표준은 이 조 항에 따른 국내원천소득에 대한 계산법에 따라 계산한다. 다만, 국내 및 호의 소득에 대한 재표준의 계산은 같은 호에 정의하는 바에 따라 수입금액에서 필요경비 등을 공제한 금액으로 할 수 있다. <개정> 2013. 1. 1., 2018. 12. 31., 2020. 12. 29. \n",
      "\n",
      "\n",
      "제119조제11항에 따른 국내원천 유가증권소득에 대해서는 그 수입금액에 대통 령령으로 정하는 바에 따라 확정된 해당 유가증권의 거래사와 및 운용비용을 차감하여 계산한 금액 \n",
      "\n",
      "\n",
      "제119조제12항에 따른 국내원천 기타소득 중 대통 령령으로 정하는 상 - 부상 등에 대해서는 그 수입금액에서 대통 령령으로 정하는 바에 따라 필요한 금액 \n",
      "\n",
      "\n",
      "제121조제9항의 경우 가상자산소득에 대해서는 그 수입금액(거주자 가상자산사업자에 분 - 리하는 가상자산을 포함하는 경우에 한해 실질적인 가상자산 시가청령으로 정하는 금액을 말한다)에 대해 통과령으로 정하는 필요경비를 제한하여 계산한 금액 \n",
      "\n",
      "\n",
      "② 제하항의 국내원천소득에 대한 세액은 특정해 규정하는 과세표준 제156조제11항 호의 세율을 적용하여 계산한 금액으로 한다. \n",
      "(6) 제121조제3항 또는 제156조의 적용을 받는 비거주자와 국내원천소득 중 제119조제2항에 따른 국내원천 근로소득 및 같은 조 제2호에 따른 국내원천 연금소득의 과세표준과 세액의 계산, 신고 및 경정, 결정 중 자금의 환금에 대해서는 이 법 같은 거래자에 대한 손세의 과세표준과 세액 등의 관한 규정은 준용한다. 다만, 제156조에 따른 인정증에 중 비거주자 본인 자에 대한 공지가 제2조에 따른 특벌소득으로, 제159조에 따른 자산세에 의하여 특수금을 남부한 비거주자에 대해서는 제73조제11항을 준용한다. \n",
      "국내사무소가 있는 비거주자의 제119조제11항에 따른 국내원천 유가증권소득의 경우 5주간 적용을 제하항에 불구하고 대통령으로 정하는 정산가액(이하 “정산가격”이라 한다)을 수수료 금액으로 한다. \n",
      "\n",
      "\n",
      "국내사무소가 있는 비거주자와 대통령으로 정하는 특정관계 있는 비거주자(외국법인을 포함한다) 간의 거래의 경우 \n",
      "\n",
      "\n",
      "제126조의 거래에 의한 거래가격의 정상가격에 미달하는 경우로서 대통령으로 정하는 경우일 것\n",
      "answer =={'answer': AIMessage(content='The provided text does not contain information about the income tax for a resident with an annual salary of 30 million won.  Therefore, I cannot answer your question. \\n', additional_kwargs={}, response_metadata={'token_usage': {'completion_tokens': 38, 'prompt_tokens': 1185, 'total_tokens': 1223, 'completion_time': 0.069090909, 'prompt_time': 0.041780488, 'queue_time': 0.019204567000000006, 'total_time': 0.110871397}, 'model_name': 'gemma2-9b-it', 'system_fingerprint': 'fp_10c08bf97d', 'finish_reason': 'stop', 'logprobs': None}, id='run-2033074c-8b68-42f0-9680-f21b7387cbfa-0', usage_metadata={'input_tokens': 1185, 'output_tokens': 38, 'total_tokens': 1223})}\n",
      "hallucination_context == 제59조의3(연금계좌세액공제) ① 종합소득이 있는 거주자가 연금계좌에 납입한 금액 중 다음 각 호에 해당하는 금액을 제외한 금액(이하 \"연금계좌 납입액\"이라 한다) 중 100분의 12에 해당하는 과세기간에 종합소득세표준을 계산할 때 한산하는 종합소득금액이 4천500만원 이하(근로소득이 있는 경우에는 종합소득금액이 5천500만원 이하)에 대해서는 100분의 15에 해당하는 금액을 해당 과세기간의 종합소득세산출세액에서 공제한다. 다만, 연금계좌 중 연금주계좌에 납입한 금액이 연 600만원을 초과하는 경우에는 초과하는 금액은 그 금액으로 하고, 연금주계좌에 납입한 금액 중 600만원 이내의 금액과 기타연금계좌에 납입한 금액을 합한 금액이 연 900만원을 초과하는 경우에는 그 초과하는 금액은 금액으로 하는 것으 로 한다. <개정 2014. 12. 31.>\n",
      "1. 제146조제28항에 따른 소득세 원천징수대상이 아닌 퇴직소득 등 기타 예외 소득\n",
      "2. 연금계좌에 따른 연금계좌세액공제는 납입된 금액\n",
      "③ 제1항에 따른 공제는 \"연금계좌세액공제\"라 한다.\n",
      "④ \"조세특례제한법\", 제59조의18에 따른 기금이행자산관리계약이 만료되고 해당 계좌 잔여의 종류도 일정한 방법으로 정하는 방법으로 연금계좌에 납입한 금액(이하 이 조에서 \"전환금\"이라 한다)을 납입한 법인 또는 실속있는 방법으로 연금계좌의 납입액을 포함한다. <신설 2019. 12. 31.>\n",
      "⑤ 전환금이 있는 경우 제1항 각 호의 부분 구분에서 불가피한 경우 한정 적용 할 전환금의 100분의 10을 초과하는 경우 제2항 각 호에 기한 연금계좌 세액에 발생한 금액에 대하여 차감하는 금액을 총 중간계좌 세액이 제1항 각 호에 해당 연금계좌에 납입한 금액으로 하는 금액을 포함하는 금액은 금액으로 하지 않는다. <신설 2019. 12. 31.>\n",
      "⑥ 제1항부터 제3항까지의 규정에 따라 연금계좌세액공제의 계산방법, 신청 절차 등에 필요한 사항을 대통령령으로 정한다. <개정 2019. 12. 31.>\n",
      "제59조의4(특별세액공제) ① 근로소득이 있는 거주자(일용근로자는 제외한다)가 해당 과세기간에 만기환급금의 납입보호를 초과하지 아니하는 범위의 범죄재판에 따라 지급되는 다음 각 호의 범위로 지칭한 경우 그 금액의 100분의 12(제1호의 경우에는 100분의 15)가 해당 과세기간의 종합소득세에서 공제한다. 다만, 각 호의 범위로 보할 경우 그 금액이 100만원을 초과하는 경우 그 초과하는 금액을 포함한다.\n",
      "1. 기금구세대상자가 지체장애인으로 판별된 경우 장애인연금봉급으로 대통령령으로 정하는 장애인 통합공공서비스법\n",
      "2. 기금구세대상자가 일반 متوسط병역자로 정하는 법률(제1호에 따라 장애인연금봉급으로 제어한다)\n",
      "③ 근로소득이 있는 거주자는 기초공제대상자(나 및 소득의 필한 이와 같다)를 위하여 해당 과세기간에 대해 통합적으로 정하는 의료비를 지급한 경우 각 호의 금액의 100분의 15(제132조의 경우에는 100분의 20)을 초과하는 경우에 대해\n",
      "소특별판\n",
      "hallucination_response == {'Score': 0, 'Explanation': \"The student's answer does not address the provided facts about South Korean income tax law. It makes a claim that the text does not contain relevant information, which is incorrect.\"}\n"
     ]
    },
    {
     "data": {
      "text/plain": [
       "'end'"
      ]
     },
     "execution_count": 26,
     "metadata": {},
     "output_type": "execute_result"
    }
   ],
   "source": [
    "# 테스트 \n",
    "query = \"연봉 3천만원 거주자 소득세 얼마?\"\n",
    "\n",
    "context = retriever.invoke(query)\n",
    "\n",
    "for doc in context:\n",
    "    print(doc.page_content)\n",
    "generate_state = {\"query\" : query, \"context\" : context[0].page_content}\n",
    "answer = generate(generate_state)\n",
    "\n",
    "print(f\"answer =={answer}\")\n",
    "hallucination_state = {\"answer\" : answer , \"context\" : context[0].page_content}\n",
    "\n",
    "check_hallucination(hallucination_state)"
   ]
  },
  {
   "cell_type": "code",
   "execution_count": 110,
   "metadata": {},
   "outputs": [
    {
     "name": "stdout",
     "output_type": "stream",
     "text": [
      "response == 주어진 텍스트에는 연봉 3천만원 거주자의 소득세율에 대한 정보가 없습니다.  \n",
      "\n",
      "answer =={'answer': '주어진 텍스트에는 연봉 3천만원 거주자의 소득세율에 대한 정보가 없습니다.  \\n'}\n",
      "hallucination_response == hallucinated \n",
      "\n"
     ]
    },
    {
     "data": {
      "text/plain": [
       "'hallucinated \\n'"
      ]
     },
     "execution_count": 110,
     "metadata": {},
     "output_type": "execute_result"
    }
   ],
   "source": [
    "# 할루시네이션 프롬프트 수정 \n",
    "hallucination_prompt = PromptTemplate.from_template(\"\"\"\n",
    "You are a teacher tasked with evaluating whether a student's answer is based on documents or not,\n",
    "Given documents, which are excerpts from income tax law, and a student's answer;\n",
    "If the student's answer is based on documents, respond with \"not hallucinated\",\n",
    "If the student's answer is not based on documents, respond with \"hallucinated\".\n",
    "\n",
    "documents: {documents}\n",
    "student_answer: {student_answer}\n",
    "\"\"\")\n",
    "\n",
    "generate_llm = ChatGroq(model_name=MODEL_NAME, api_key=groq_api_key, max_tokens=100)\n",
    "hallucination_llm = ChatGroq(model_name=MODEL_NAME, api_key=groq_api_key, temperature=0)\n",
    "\n",
    "\n",
    "def generate(state: AgentState) -> AgentState:\n",
    "\n",
    "    context = state['context']\n",
    "    query = state['query']\n",
    "    \n",
    "    rag_chain = generate_prompt | generate_llm | StrOutputParser()\n",
    "    \n",
    "\n",
    "    response = rag_chain.invoke({'question': query, 'context': context})\n",
    "    print(f\"response == {response}\")\n",
    "\n",
    "\n",
    "\n",
    "    return {'answer': response}\n",
    "\n",
    "def check_hallucination(state: AgentState) -> Literal['hallucinated', 'not hallucinated']:\n",
    "    answer = state['answer']\n",
    "    context = state['context']\n",
    "    context = [doc.page_content for doc in context]\n",
    "    hallucination_chain = hallucination_prompt | hallucination_llm | StrOutputParser()\n",
    "    response = hallucination_chain.invoke({'student_answer': answer, 'documents': context})\n",
    "    print(f\"hallucination_response == {response}\")\n",
    "    return response\n",
    "     \n",
    "# 테스트 \n",
    "query = \"연봉 3천만원 거주자 소득세 얼마인가요?\"\n",
    "retriever = vector_store.as_retriever(search_kwargs = {\"k\":3})\n",
    "context = retriever.invoke(query)\n",
    "\n",
    "generate_state = {\"query\" : query, \"context\" : context}\n",
    "answer = generate(generate_state)\n",
    "\n",
    "print(f\"answer =={answer}\")\n",
    "hallucination_state = {\"answer\" : answer , \"context\" : context}\n",
    "\n",
    "check_hallucination(hallucination_state)"
   ]
  },
  {
   "cell_type": "code",
   "execution_count": 42,
   "metadata": {},
   "outputs": [
    {
     "data": {
      "text/plain": [
       "[Document(id='cff0738b-e15c-47e3-9366-61e7083d9819', metadata={'source': './documents/income_tax.txt'}, page_content='제59조의3(연금계좌세액공제) ① 종합소득이 있는 거주자가 연금계좌에 납입한 금액 중 다음 각 호에 해당하는 금액을 제외한 금액(이하 \"연금계좌 납입액\"이라 한다) 중 100분의 12에 해당하는 과세기간에 종합소득세표준을 계산할 때 한산하는 종합소득금액이 4천500만원 이하(근로소득이 있는 경우에는 종합소득금액이 5천500만원 이하)에 대해서는 100분의 15에 해당하는 금액을 해당 과세기간의 종합소득세산출세액에서 공제한다. 다만, 연금계좌 중 연금주계좌에 납입한 금액이 연 600만원을 초과하는 경우에는 초과하는 금액은 그 금액으로 하고, 연금주계좌에 납입한 금액 중 600만원 이내의 금액과 기타연금계좌에 납입한 금액을 합한 금액이 연 900만원을 초과하는 경우에는 그 초과하는 금액은 금액으로 하는 것으 로 한다. <개정 2014. 12. 31.>\\n1. 제146조제28항에 따른 소득세 원천징수대상이 아닌 퇴직소득 등 기타 예외 소득\\n2. 연금계좌에 따른 연금계좌세액공제는 납입된 금액\\n③ 제1항에 따른 공제는 \"연금계좌세액공제\"라 한다.\\n④ \"조세특례제한법\", 제59조의18에 따른 기금이행자산관리계약이 만료되고 해당 계좌 잔여의 종류도 일정한 방법으로 정하는 방법으로 연금계좌에 납입한 금액(이하 이 조에서 \"전환금\"이라 한다)을 납입한 법인 또는 실속있는 방법으로 연금계좌의 납입액을 포함한다. <신설 2019. 12. 31.>\\n⑤ 전환금이 있는 경우 제1항 각 호의 부분 구분에서 불가피한 경우 한정 적용 할 전환금의 100분의 10을 초과하는 경우 제2항 각 호에 기한 연금계좌 세액에 발생한 금액에 대하여 차감하는 금액을 총 중간계좌 세액이 제1항 각 호에 해당 연금계좌에 납입한 금액으로 하는 금액을 포함하는 금액은 금액으로 하지 않는다. <신설 2019. 12. 31.>\\n⑥ 제1항부터 제3항까지의 규정에 따라 연금계좌세액공제의 계산방법, 신청 절차 등에 필요한 사항을 대통령령으로 정한다. <개정 2019. 12. 31.>\\n제59조의4(특별세액공제) ① 근로소득이 있는 거주자(일용근로자는 제외한다)가 해당 과세기간에 만기환급금의 납입보호를 초과하지 아니하는 범위의 범죄재판에 따라 지급되는 다음 각 호의 범위로 지칭한 경우 그 금액의 100분의 12(제1호의 경우에는 100분의 15)가 해당 과세기간의 종합소득세에서 공제한다. 다만, 각 호의 범위로 보할 경우 그 금액이 100만원을 초과하는 경우 그 초과하는 금액을 포함한다.\\n1. 기금구세대상자가 지체장애인으로 판별된 경우 장애인연금봉급으로 대통령령으로 정하는 장애인 통합공공서비스법\\n2. 기금구세대상자가 일반 متوسط병역자로 정하는 법률(제1호에 따라 장애인연금봉급으로 제어한다)\\n③ 근로소득이 있는 거주자는 기초공제대상자(나 및 소득의 필한 이와 같다)를 위하여 해당 과세기간에 대해 통합적으로 정하는 의료비를 지급한 경우 각 호의 금액의 100분의 15(제132조의 경우에는 100분의 20)을 초과하는 경우에 대해\\n소특별판'),\n",
       " Document(id='83f406b5-e2fc-4408-bc0f-8b5fc6f7a049', metadata={'source': './documents/income_tax.txt'}, page_content='제 143조의3 삭제 <2009. 12. 31.>\\n제 143조의4(공적연금소득세에 관한 원천징수) ① 공적연금소득에 대한 원천징수의무자가 해당 과세기간의 다음 연도 1월 본인의 공적연금소득을 지급할 때에는 연금소득자에 해당 과세기간에 그 공적연금소득자 제143조의6에 따라 신고한 내용에 따라 일정금액을 적용한 금액을 종합소득세산출세표로 하고, 그 금액에 기계세율을 적용하여 종합소득세산출세를 계산한 후에 사전에 세액공제를 적용한 세액이외에 이미 원천징수하여 남한 소득세를 증명하고 남은액을 원천징수한다. <개정 2013. 1. 1.>\\n② 제1항의 경우 해당 과세기간에 이미 원천징수하여 남한 소득세, 자녀세액공제 및 표준세액공제에 따른 공제액의 합계액이 해당 종합소득세산출세를 초과할 때에는 그 초과액에 해당 연금소득자에게 대정통보를 정하는 바에 따라 환급하여야 한다. <개정 2014. 1. 1.>\\n③ 원천징수의무자는 제143조에 따른 신고를 하지 않은 연금소득자에 대해서 제1항을 적용하여 소득세를 원천징수할 때에는 그 연금소득자 본인이 부담하는 기본공제전과 표준세액공제를 적용받을 수 있다. <개정 2014. 1. 1.>\\n④ 공적연금소득을 받는 사람이 해당 과세기간 중에 원천징수의무자 또는 사용인이 속하는 다음 달의 말일까지 제1항부텀 제3항까지의 규정을 준용하여 그 자신의 공적연금소득에 대한 원천징수를 하여야 한다. <개정 2013. 1. 1.> \\n삭제 <2013. 1. 1.>\\n제 3관 삭제 <2009. 12. 31.>\\n[제목개정 2013. 1. 1.]\\n소제목판\\n제143조의4(정수 부정당의 이의정심)\\n제143조의4에 따른 원천징수를 하는 경우 징수하여야 할 소득세가 지급될 공적 연금소득을 초과할 때에는 그 초과하는 세액은 다음 달의 공적 연금소득을 지급할 때에 징수할 것. <개정 2013. 1. 1.>\\n[전문개정 2009. 12. 31.]\\n제143조의6(연금소득자의 소득 신고)\\n① 공적 연금소득을 지급받는 자는 공적 연금소득을 최소로 신고할 기 전에 기획재정부가 정하는 연금소득자 신고(이하 “연금소득자 소득, 세액 신고서”라 한다)에 원천징수의무자에게 제출하여야 한다. <신설 2010. 12. 27, 2013. 1. 1, 2014. 1. 1.>\\n② 공적연금소득을 받는 사람이 자신의 배우자 또는 봉양가족에 대한 인정공제를 적정방안으로 정하는 경우에는 해당 연금소득자에게 연금소득자 소득, 세액 공제신고서에 대등별령명을 정하는 법에 따라 제출하여야 한다. 다만, 해당 과세기간에 해당 연금소득자 소득, 세액 공제신고서 제출한 경우로서 공적인 배우자 또는 부모가 족이 변동되지 아니한 경우에는 연금소득자 소득, 세액 공제신고서 제출할 필요가 없으며, 연금소득자가 해당 과세기간에 해당 연금소득자 소득, 세액 공제신고서를 제출하여야 한다. <개정 2010. 12. 27, 2013. 1. 1, 2014. 1. 1.>'),\n",
       " Document(id='43054921-d39f-4909-8547-67bd28526b3d', metadata={'source': './documents/income_tax.txt'}, page_content='제121조제3항 및 제127조에 따른 비거주자와 국내원천소득 등(제119조제1항에 따라 국내원천 근로소득 및 같은 조 제2호에 따른 국내원천 연금소득을 제외한다)에 대한 세액표준은 이 조 항에 따른 국내원천소득에 대한 계산법에 따라 계산한다. 다만, 국내 및 호의 소득에 대한 재표준의 계산은 같은 호에 정의하는 바에 따라 수입금액에서 필요경비 등을 공제한 금액으로 할 수 있다. <개정> 2013. 1. 1., 2018. 12. 31., 2020. 12. 29. \\n\\n\\n제119조제11항에 따른 국내원천 유가증권소득에 대해서는 그 수입금액에 대통 령령으로 정하는 바에 따라 확정된 해당 유가증권의 거래사와 및 운용비용을 차감하여 계산한 금액 \\n\\n\\n제119조제12항에 따른 국내원천 기타소득 중 대통 령령으로 정하는 상 - 부상 등에 대해서는 그 수입금액에서 대통 령령으로 정하는 바에 따라 필요한 금액 \\n\\n\\n제121조제9항의 경우 가상자산소득에 대해서는 그 수입금액(거주자 가상자산사업자에 분 - 리하는 가상자산을 포함하는 경우에 한해 실질적인 가상자산 시가청령으로 정하는 금액을 말한다)에 대해 통과령으로 정하는 필요경비를 제한하여 계산한 금액 \\n\\n\\n② 제하항의 국내원천소득에 대한 세액은 특정해 규정하는 과세표준 제156조제11항 호의 세율을 적용하여 계산한 금액으로 한다. \\n(6) 제121조제3항 또는 제156조의 적용을 받는 비거주자와 국내원천소득 중 제119조제2항에 따른 국내원천 근로소득 및 같은 조 제2호에 따른 국내원천 연금소득의 과세표준과 세액의 계산, 신고 및 경정, 결정 중 자금의 환금에 대해서는 이 법 같은 거래자에 대한 손세의 과세표준과 세액 등의 관한 규정은 준용한다. 다만, 제156조에 따른 인정증에 중 비거주자 본인 자에 대한 공지가 제2조에 따른 특벌소득으로, 제159조에 따른 자산세에 의하여 특수금을 남부한 비거주자에 대해서는 제73조제11항을 준용한다. \\n국내사무소가 있는 비거주자의 제119조제11항에 따른 국내원천 유가증권소득의 경우 5주간 적용을 제하항에 불구하고 대통령으로 정하는 정산가액(이하 “정산가격”이라 한다)을 수수료 금액으로 한다. \\n\\n\\n국내사무소가 있는 비거주자와 대통령으로 정하는 특정관계 있는 비거주자(외국법인을 포함한다) 간의 거래의 경우 \\n\\n\\n제126조의 거래에 의한 거래가격의 정상가격에 미달하는 경우로서 대통령으로 정하는 경우일 것'),\n",
       " Document(id='e13eda70-d5c4-4f84-b8de-d683c3a43e5a', metadata={'source': './documents/income_tax.txt'}, page_content=\"제2관 세액의 정수와 합계\\n<개정 2009. 12. 31.>  \\n제85조(장수와 합계)\\n① 남세지 관할 세무사장은 거주자가 다음 각 호의 어느 하나에 해당하면 그 미바틴 부분의 소득세액을 ‘국세징수법’에 따라 정산한다. <개정 2013. 1. 1.>\\n1. 제85조제16항에 따라 종합소득세액을 신고·납부해야 할 자가 각 세액의 전부 또는 일부를 납부하지 아니한 경우\\n② 남세지 관할 세무사장은 제1항 또는 제76조에 따라 장수세가 남별 거주자에 해당 과세기간 소득세액의 제80조에 따라 남세지 관할 세무사장 또는 지방세지청장이 경정한 소득세액에 미달할 때는 미달하는 세액을 증감한다. 제76조에 따른 종합세액의 경우에도 해당된다.\\n③ 남세지 관할 세무사장은 원천징수의무자가 장수해야 할 세액을 납부하지 아니했거나 미달하게 납부한 경우에는 정산하여야 할 세액에 '국세징수법', 제47조제15항에 따라 가산세액을 정산한다. <개정 2013. 1. 1.>\\n1. 남세의무자가 신고·납부할 과세표준에 원천징수당 소득금액의 미비 산입된 경우\\n2. 원천징수하지 아니한 원천징수당 소득세액에 대해 남세의무자와 관련 세무사장이 제80조 제114조를 근거로 그 금액을 세무서에 직접 세액을 부가·정산해야 한다. <개정 2020. 12. 29.>  \\n제85조의2(종합소득결정금소납부에 관한 규정)\\n주자기관 중 소상공인의 사업소득영위에 관한 제40조제3항에 규정하는 해계지급공사는 이익결손금(투자량 대여에 의해 발생하는 이익결손금은 제외한다.) 이하 이 조에서 같거나 발생한 경우에 직접 세기자공사의 가상소득산출시 체류 종합소득세 정산에 필요한 사항을 정리해야 한다. 이 경우 소득공정을 이익결손금에 대하여 제45조제85항을 적용할 때는 그 이익결손금은 공제받는 금액으로 한다. <개정 2019. 12. 31., 2020. 12. 29.>  \\n소득세법\\n② 결금은 소득금액을 환급받으려는 자는 제70조, 제70조의2 또는 제74조에 따른 과세표준정신신고기간까지 대통령령으로 정하는 바에 따라 남세제한 세무서장에 환급을 신청하여 한다.<개정 2013. 1. 1.>\\n③ 남세제한 세무서장이 제정한 바에 따라 소득세의 환급신청을 받은 경우에는 지체 없이 환급세액을 결정하며, 국세기본법 제75조 및 제52조에 따라 환급하여야 한다.\\n④ 제정법 제3항까지의 규정은 해당 거주자가 제70조, 제70조의2 또는 제74조에 따른 과세표준에 대한 소득세의 과세표준 및 세액을 각 세력한 경우에도 적용한다.<개정 2013. 1. 1.>\\n⑤ 남세제한 세무서장이 제3항에 따라 소득세를 손실하는 자가 다음 각 호의 어느 하나에 해당하는 경우에는 그 환급세액(제1호 및 제2호의 경우에 과다하여 환급된 세액 상당액을 말한다)과 이에 대한 이자상당액을 대통령령으로 정하는 바에 따라 그 이행결손금 발생한 과세기간의 소득세를 감액한다.<개정 2012. 1. 1., 2013. 1. 1., 2019. 12. 31.>\"),\n",
       " Document(id='d6eaa815-2e4b-495f-94d8-be4d1338ee1e', metadata={'source': './documents/income_tax.txt'}, page_content='- “법인세법” 제67조에 따라 제3분의 배당에 대하여 다음 각 호의 어느 하나에 해당하는 날 이 배당소득을 지급할 것으로 보아 소득세를 원천징수한다.')]"
      ]
     },
     "execution_count": 42,
     "metadata": {},
     "output_type": "execute_result"
    }
   ],
   "source": [
    "context"
   ]
  },
  {
   "cell_type": "code",
   "execution_count": null,
   "metadata": {},
   "outputs": [],
   "source": []
  },
  {
   "cell_type": "markdown",
   "metadata": {},
   "source": [
    "## 답변- 질문 관련성 체크"
   ]
  },
  {
   "cell_type": "code",
   "execution_count": 45,
   "metadata": {},
   "outputs": [],
   "source": [
    "helpfulness_prompt = hub.pull(\"langchain-ai/rag-answer-helpfulness\")\n",
    "\n",
    "def check_helpfulness(state: AgentState):\n",
    "    query = state['query']\n",
    "    answer = state['answer']\n",
    "\n",
    "    helpfulness_chain = helpfulness_prompt | llm\n",
    "    \n",
    "    response = helpfulness_chain.invoke({'question': query, 'student_answer': answer})\n",
    "\n",
    "    if response['Score'] == 1:\n",
    "        return 'helpful'\n",
    "    \n",
    "    return 'unhelpful'"
   ]
  },
  {
   "cell_type": "code",
   "execution_count": 68,
   "metadata": {},
   "outputs": [
    {
     "name": "stdout",
     "output_type": "stream",
     "text": [
      "answer =={'answer': \"I'm sorry, but I don't have enough information to answer that question. \\n\"}\n"
     ]
    },
    {
     "data": {
      "text/plain": [
       "'unhelpful'"
      ]
     },
     "execution_count": 68,
     "metadata": {},
     "output_type": "execute_result"
    }
   ],
   "source": [
    "# 테스트 \n",
    "query = \"연봉 3천만원 거주자 소득세 얼마인가요?\"\n",
    "retriever = vector_store.as_retriever(search_kwargs = {\"k\":2})\n",
    "context = retriever.invoke(query)\n",
    "\n",
    "generate_state = {\"query\" : query, \"context\" : context}\n",
    "answer = generate(generate_state)\n",
    "\n",
    "print(f\"answer =={answer}\")\n",
    "helpfulness_state = {\"query\" : query, \"answer\" : answer}\n",
    "\n",
    "check_helpfulness(helpfulness_state)"
   ]
  },
  {
   "cell_type": "markdown",
   "metadata": {},
   "source": [
    "## 그래프"
   ]
  },
  {
   "cell_type": "markdown",
   "metadata": {},
   "source": [
    "![alt text](20250310_215132.png)"
   ]
  },
  {
   "cell_type": "code",
   "execution_count": 111,
   "metadata": {},
   "outputs": [],
   "source": [
    "def check_helpfulness_grader(state: AgentState) -> str:\n",
    "\n",
    "    query = state['query']\n",
    "    answer = state['answer']\n",
    "\n",
    "    helpfulness_chain = helpfulness_prompt | llm\n",
    "    \n",
    "    response = helpfulness_chain.invoke({'question': query, 'student_answer': answer})\n",
    "\n",
    "    if response['Score'] == 1:\n",
    "        return 'helpful'\n",
    "    \n",
    "    return 'unhelpful'\n",
    "\n",
    "def check_helpfulness(state: AgentState) -> AgentState:\n",
    "    return state\n"
   ]
  },
  {
   "cell_type": "code",
   "execution_count": 112,
   "metadata": {},
   "outputs": [],
   "source": [
    "graph_builder = StateGraph(AgentState)\n",
    "\n",
    "graph_builder.add_node(\"retrieve\", retrieve)\n",
    "graph_builder.add_node(\"generate\", generate)\n",
    "graph_builder.add_node(\"rewrite\", rewrite)\n",
    "\n",
    "graph_builder.add_node(\"check_helpfulness\", check_helpfulness)\n",
    "\n",
    "\n",
    "graph_builder.add_edge(START, \"retrieve\")\n",
    "graph_builder.add_conditional_edges(\n",
    "    \"retrieve\",\n",
    "    check_doc_relevance,\n",
    "    {\n",
    "        \"relevant\" : \"generate\",\n",
    "        \"irrelevant\" : END\n",
    "    }\n",
    ")\n",
    "\n",
    "# 거짓이면 재생성 \n",
    "# 거짓아니면 답변이랑 체크 \n",
    "graph_builder.add_conditional_edges(\n",
    "    \"generate\",\n",
    "    check_hallucination,\n",
    "    {\n",
    "        \"hallucinated\" : \"generate\",\n",
    "        \"not hallucinated\" : \"check_helpfulness\"\n",
    "    }\n",
    ")\n",
    "\n",
    "graph_builder.add_conditional_edges(\n",
    "    \"check_helpfulness\",\n",
    "    check_helpfulness_grader,\n",
    "    {\n",
    "        \"helpful\" : END,\n",
    "        \"unhelpful\" : \"rewrite\"\n",
    "    }\n",
    ")\n",
    "\n",
    "graph_builder.add_edge(\"rewrite\", \"retrieve\")\n",
    "graph  = graph_builder.compile()"
   ]
  },
  {
   "cell_type": "code",
   "execution_count": 113,
   "metadata": {},
   "outputs": [
    {
     "data": {
      "image/png": "[encoded data removed]",
      "text/plain": [
       "<IPython.core.display.Image object>"
      ]
     },
     "metadata": {},
     "output_type": "display_data"
    }
   ],
   "source": [
    "from IPython.display import Image, display\n",
    "\n",
    "display(\n",
    "    Image(\n",
    "        graph.get_graph(xray=True).draw_mermaid_png()\n",
    "    )\n",
    ")\n"
   ]
  },
  {
   "cell_type": "code",
   "execution_count": 114,
   "metadata": {},
   "outputs": [
    {
     "name": "stdout",
     "output_type": "stream",
     "text": [
      "context == [Document(id='ebae0d79-e28d-49a9-86a2-5268132bf2a6', metadata={'source': './documents/income_tax.txt'}, page_content=\"바. '국공료보상 송환 및 모두에 관한 법령' 또는 '목록 프로포즈'가 받는 보수 및 퇴직소득\\n사. '교육기본법', 제28조21항에 따라 받는 장학금 즉 대학교에서 근로를 제공받는 장학금('고등교육법', 제62조제1항에 따라 규정에 대하여 재학생 대학교에 설명한다)\\n아. '마봉법' 제52조2에 따라 직무방법으로 비근로 보상의 수단(이 하 '직무보상금'이라 한다)으로서 대통령령으로 정하는 급여\\n1) 대변법이 통금법에 따른 원칙으로 이 조, 제20조 및 제21조에서 ‘중복되는 것’이라 한다) 같은 의로부터 사용하는 것을 이하 이 조에서 ‘사용자’이라 한다. 따라서 보상금을 지급한 사용자들\\n소득세법\\n과 대통령령으로 정하는 특수관계에 있는 자가 받는 보상금은 제외한다.\\n다만 대학교의 직원 또는 대학과 고용관계에 있는 자를 사업의 소속 대학의 ‘산학협력단’(이하 “산학협력단”이라 한다)이나 이 조에서 “산학협력단”이라 표현하는 제32조제1항 제4호에 따라 받는 보상금\\n제1. 대통령령으로 정하는 복리후생적 성격의 급여\\n6. 연금소득 중 다음 각 목의 이하여 하여야 하는 소득\\n가. 구인연금법, 공무원연금법, 또는 공무원 재해보상법, 구인연금법, 사립학교교직원연금법, 법정정년퇴직급여법 또는 구인연금과 직역연금에 관한 법률(이하 “고정급금”이라 한다)에 따라 받는 유직연금·퇴직유직연금·퇴역예금·장해연금·상이어금·준약유직연금·직무상해적연금·위험직무수당연금, 장애연금·비공무사장해연금·비직무상해연금, 연계퇴직연금 또는 연계퇴직유직연금\\n나. 사체 2013. 1. 1.\\n다. 산업재해보상보험법에 따라 받는 자격 연금\\n라. 국가프로포르 송환 및 대우 등에 관한 법률에 따른 국가프로포르가 받는 연금\\n마. 사체 2013. 1. 1.\\n7. 기타소득 중 다음 각 목의 이하여 하여야 하는 소득\\n가. 국가유공자 등 예우 지원에 관한 법률 또는 보훈보상지원법에 관한 법률에 따라 받는 보훈급여\\n나. 학술보조비 및 북한이탈주민의 보호 및 정착지원에 관한 법률에 따라 받는 정착금·보료급여(자격요건과 그 밖의 금품)\\n다. 구직안내법에 따라 받는 상금과 보료금\\n라. 상법에 따른 혼탁과 관련하여 받는 부상(傷害)이 그 밖에 대통령이 정하는 상금과 부상\\n마. 각 활동들로 인해 대학의 고직원이 퇴직한 후에 사용자도 또는 산학협력단으로부터 지급받거나 대학의 학생이 소속 대학에 설치된 산학협력단으로부터 받는 정부의 보상금으로서 대통령령으로 정하며, 다만, 직무명부상금을 지급한 사용자도 또는 산학협력단과 대통령령으로 정하는 특수관계에 있는 자가 받을 직무정보상금을 제외한다.\\n바. 국가프로포르 송환 및 대우 등에 관한 법률에 따른 국가프로포르가 받는 위로지원금과 그 밖의 금품\\n사. 문학·미술의 본소 및 활용에 관한 법률에 따라 국가 지원문화사업으로 지정된 서화·공동체의 용도로 발생하는 소득\\n아. 제21조제1항제2호에 따른 종교미소득 등 다음의 각 목의 이하여 하여야 하는 소득\"), Document(id='605552f8-e070-4f9c-98fb-95713c2d2a85', metadata={'source': './documents/income_tax.txt'}, page_content='환산급여에 따라 정한 다음의 금액\\n\\n| 환산금여        | 공 제 악                |\\n|----------------|------------------------|\\n| 8백만원 이하     | 환산금여의 10퍼센트       |\\n| 8백만원 초과 7백만원 이하 | 8백만원×(8백만원 초과분의 60퍼센트)  |\\n| 7백만원 초과 1억원 이하 | 4천520만원×(7백만원 초과분의 55퍼센트) |\\n| 1억원 초과 3억원 이하 | 6천170만원×(1억원 초과분의 45퍼센트)  |\\n| 3억원 초과      | 1억5천170만원+(3억원 초과분의 35퍼센트) |\\n② 해당 과세기간의 퇴직소득금액이 제1항제1호에 따른 공제금액에 미달하는 경우에는 그 퇴직소득금액을 공제액으로 한다. <개정 2014. 12. 23.>\\n③ 제1항과 제2항에 따른 공제를 \\'퇴직소득공제\\'라 한다.\\n④ 퇴직소득금액 계산 방법에 필요한 사항은 대통령령으로 정한다. <개정 2013. 1. 1.>\\n[전문개정 2009. 12. 31.]\\n제49조 삭제 <2006. 12. 30.>\\n제관 종합소득공제 <개정 2009. 12. 31.>\\n제50조(가난공제)\\n가. 종합소득이 있는 거주자(자연인인 해외단체)에 대해서는 다음 각 호의 어느 하나에 해당하는 사람의 수에 1명당 연 150만 원을 곱하여 계산한 금액을 그 거주자의 해당 과세기간의 종합소득금액에서 공제한다. <개정 2015. 12. 15.>\\n\\n거주자\\n\\n거주자가 배우자로서 해당 과세기간의 소득금액이 없거나 해당 과세기간의 소득금액 합계가 100만원 이하인 사람(종합소득이 500만원 이하인 근로소득 있는 배우자를 포함한다)\\n\\n\\n거주자와 배우자를 포함한다. 이하 이 호에서 갈과 생계를 같이 하는 다음 각 목의 어느 하나에 해당하는 부양가족(제15조제1항제3호와같이 장애인에 해당되는 경우에는 나이의 제한을 받지 아니한다)로서 해당 과세기간의 소득금액의 합계액이 100만 원 이상인 사람(종합소득에 제재한 경우에는 배우자로서 대통령령으로 정한 사람을 포함한다)으로서\\n\\n\\n가. 거주자의 제체속으로 대통령령으로 정하는 사각과 대통령령으로 정하는 5구 입양자(이하 \"입양자\"라 한다)가 모두 20세 이하인 사람인 경우, 이 경우 둘 다 제8조제1항제2호에 따른 장애에 해당하는 경우에는 배우자를 포함한다. \\n나. 거주자의 형제자매로서 20세 이하 또는 60세 이상인 사람\\n다. \\'국민기초생활 보장법\\'에 따른 수급가구 중 대통령령으로 정하는 사람\\n라. \\'5통특별법\\' 내의 가정위탁을 받아 양육하는 아동으로서 대통령령으로 정하는 사람(이하 \"위탁아동\"이라 한다)\\n마. 제1항에 따른 공제를 \\'가난공제\\'라 한다.\\n바. 거주자의 배우자 또는 거주자의 부양가족에 해당하는 경우에는 대통령령으로 정하는 바에 따라 이들의 소득이 종합소득금액에서 공제된다.\\n스주세븐\\n[전문개정 2009. 12. 31]\\n제51조(주거공제대상)'), Document(id='59dcb8db-4c5b-46fd-bc21-39c3360125ee', metadata={'source': './documents/income_tax.txt'}, page_content='퇴직이 현재 연말기까지 있으나 연기계좌로 지불되는 경우\\n퇴직하여 지급받는 바는 60일 이내에 지급받음이 불능인 경우\\n퇴직소득을 지급하는 자는 그 지급이 실은 다음 달 밀림의 제1 퇴직소득의 금액과 그 밖에 필요한 사항 등을 기재하지부담으로 정하는 원천징수영수증을 퇴직소득의 지급받는 사람에게 발급하여야 한다. 다만, 제2항에 따라 퇴직소득에 대한 소속세를 원천징수하여야 할 때에는 사유를 함께 명백히 하여야 한다.\\n[전문개정 2013. 1. 1.]')]\n",
      "response == {'Explanation': \"The user is asking about their salary.  The provided text does not contain any information about the user's salary.\", 'Score': 0}\n"
     ]
    },
    {
     "data": {
      "text/plain": [
       "{'query': '내 연봉은 얼마냐',\n",
       " 'context': [Document(id='ebae0d79-e28d-49a9-86a2-5268132bf2a6', metadata={'source': './documents/income_tax.txt'}, page_content=\"바. '국공료보상 송환 및 모두에 관한 법령' 또는 '목록 프로포즈'가 받는 보수 및 퇴직소득\\n사. '교육기본법', 제28조21항에 따라 받는 장학금 즉 대학교에서 근로를 제공받는 장학금('고등교육법', 제62조제1항에 따라 규정에 대하여 재학생 대학교에 설명한다)\\n아. '마봉법' 제52조2에 따라 직무방법으로 비근로 보상의 수단(이 하 '직무보상금'이라 한다)으로서 대통령령으로 정하는 급여\\n1) 대변법이 통금법에 따른 원칙으로 이 조, 제20조 및 제21조에서 ‘중복되는 것’이라 한다) 같은 의로부터 사용하는 것을 이하 이 조에서 ‘사용자’이라 한다. 따라서 보상금을 지급한 사용자들\\n소득세법\\n과 대통령령으로 정하는 특수관계에 있는 자가 받는 보상금은 제외한다.\\n다만 대학교의 직원 또는 대학과 고용관계에 있는 자를 사업의 소속 대학의 ‘산학협력단’(이하 “산학협력단”이라 한다)이나 이 조에서 “산학협력단”이라 표현하는 제32조제1항 제4호에 따라 받는 보상금\\n제1. 대통령령으로 정하는 복리후생적 성격의 급여\\n6. 연금소득 중 다음 각 목의 이하여 하여야 하는 소득\\n가. 구인연금법, 공무원연금법, 또는 공무원 재해보상법, 구인연금법, 사립학교교직원연금법, 법정정년퇴직급여법 또는 구인연금과 직역연금에 관한 법률(이하 “고정급금”이라 한다)에 따라 받는 유직연금·퇴직유직연금·퇴역예금·장해연금·상이어금·준약유직연금·직무상해적연금·위험직무수당연금, 장애연금·비공무사장해연금·비직무상해연금, 연계퇴직연금 또는 연계퇴직유직연금\\n나. 사체 2013. 1. 1.\\n다. 산업재해보상보험법에 따라 받는 자격 연금\\n라. 국가프로포르 송환 및 대우 등에 관한 법률에 따른 국가프로포르가 받는 연금\\n마. 사체 2013. 1. 1.\\n7. 기타소득 중 다음 각 목의 이하여 하여야 하는 소득\\n가. 국가유공자 등 예우 지원에 관한 법률 또는 보훈보상지원법에 관한 법률에 따라 받는 보훈급여\\n나. 학술보조비 및 북한이탈주민의 보호 및 정착지원에 관한 법률에 따라 받는 정착금·보료급여(자격요건과 그 밖의 금품)\\n다. 구직안내법에 따라 받는 상금과 보료금\\n라. 상법에 따른 혼탁과 관련하여 받는 부상(傷害)이 그 밖에 대통령이 정하는 상금과 부상\\n마. 각 활동들로 인해 대학의 고직원이 퇴직한 후에 사용자도 또는 산학협력단으로부터 지급받거나 대학의 학생이 소속 대학에 설치된 산학협력단으로부터 받는 정부의 보상금으로서 대통령령으로 정하며, 다만, 직무명부상금을 지급한 사용자도 또는 산학협력단과 대통령령으로 정하는 특수관계에 있는 자가 받을 직무정보상금을 제외한다.\\n바. 국가프로포르 송환 및 대우 등에 관한 법률에 따른 국가프로포르가 받는 위로지원금과 그 밖의 금품\\n사. 문학·미술의 본소 및 활용에 관한 법률에 따라 국가 지원문화사업으로 지정된 서화·공동체의 용도로 발생하는 소득\\n아. 제21조제1항제2호에 따른 종교미소득 등 다음의 각 목의 이하여 하여야 하는 소득\"),\n",
       "  Document(id='605552f8-e070-4f9c-98fb-95713c2d2a85', metadata={'source': './documents/income_tax.txt'}, page_content='환산급여에 따라 정한 다음의 금액\\n\\n| 환산금여        | 공 제 악                |\\n|----------------|------------------------|\\n| 8백만원 이하     | 환산금여의 10퍼센트       |\\n| 8백만원 초과 7백만원 이하 | 8백만원×(8백만원 초과분의 60퍼센트)  |\\n| 7백만원 초과 1억원 이하 | 4천520만원×(7백만원 초과분의 55퍼센트) |\\n| 1억원 초과 3억원 이하 | 6천170만원×(1억원 초과분의 45퍼센트)  |\\n| 3억원 초과      | 1억5천170만원+(3억원 초과분의 35퍼센트) |\\n② 해당 과세기간의 퇴직소득금액이 제1항제1호에 따른 공제금액에 미달하는 경우에는 그 퇴직소득금액을 공제액으로 한다. <개정 2014. 12. 23.>\\n③ 제1항과 제2항에 따른 공제를 \\'퇴직소득공제\\'라 한다.\\n④ 퇴직소득금액 계산 방법에 필요한 사항은 대통령령으로 정한다. <개정 2013. 1. 1.>\\n[전문개정 2009. 12. 31.]\\n제49조 삭제 <2006. 12. 30.>\\n제관 종합소득공제 <개정 2009. 12. 31.>\\n제50조(가난공제)\\n가. 종합소득이 있는 거주자(자연인인 해외단체)에 대해서는 다음 각 호의 어느 하나에 해당하는 사람의 수에 1명당 연 150만 원을 곱하여 계산한 금액을 그 거주자의 해당 과세기간의 종합소득금액에서 공제한다. <개정 2015. 12. 15.>\\n\\n거주자\\n\\n거주자가 배우자로서 해당 과세기간의 소득금액이 없거나 해당 과세기간의 소득금액 합계가 100만원 이하인 사람(종합소득이 500만원 이하인 근로소득 있는 배우자를 포함한다)\\n\\n\\n거주자와 배우자를 포함한다. 이하 이 호에서 갈과 생계를 같이 하는 다음 각 목의 어느 하나에 해당하는 부양가족(제15조제1항제3호와같이 장애인에 해당되는 경우에는 나이의 제한을 받지 아니한다)로서 해당 과세기간의 소득금액의 합계액이 100만 원 이상인 사람(종합소득에 제재한 경우에는 배우자로서 대통령령으로 정한 사람을 포함한다)으로서\\n\\n\\n가. 거주자의 제체속으로 대통령령으로 정하는 사각과 대통령령으로 정하는 5구 입양자(이하 \"입양자\"라 한다)가 모두 20세 이하인 사람인 경우, 이 경우 둘 다 제8조제1항제2호에 따른 장애에 해당하는 경우에는 배우자를 포함한다. \\n나. 거주자의 형제자매로서 20세 이하 또는 60세 이상인 사람\\n다. \\'국민기초생활 보장법\\'에 따른 수급가구 중 대통령령으로 정하는 사람\\n라. \\'5통특별법\\' 내의 가정위탁을 받아 양육하는 아동으로서 대통령령으로 정하는 사람(이하 \"위탁아동\"이라 한다)\\n마. 제1항에 따른 공제를 \\'가난공제\\'라 한다.\\n바. 거주자의 배우자 또는 거주자의 부양가족에 해당하는 경우에는 대통령령으로 정하는 바에 따라 이들의 소득이 종합소득금액에서 공제된다.\\n스주세븐\\n[전문개정 2009. 12. 31]\\n제51조(주거공제대상)'),\n",
       "  Document(id='59dcb8db-4c5b-46fd-bc21-39c3360125ee', metadata={'source': './documents/income_tax.txt'}, page_content='퇴직이 현재 연말기까지 있으나 연기계좌로 지불되는 경우\\n퇴직하여 지급받는 바는 60일 이내에 지급받음이 불능인 경우\\n퇴직소득을 지급하는 자는 그 지급이 실은 다음 달 밀림의 제1 퇴직소득의 금액과 그 밖에 필요한 사항 등을 기재하지부담으로 정하는 원천징수영수증을 퇴직소득의 지급받는 사람에게 발급하여야 한다. 다만, 제2항에 따라 퇴직소득에 대한 소속세를 원천징수하여야 할 때에는 사유를 함께 명백히 하여야 한다.\\n[전문개정 2013. 1. 1.]')]}"
      ]
     },
     "execution_count": 114,
     "metadata": {},
     "output_type": "execute_result"
    }
   ],
   "source": [
    "initial_state = {\"query\": \"내 연봉은 얼마냐\"}\n",
    "graph.invoke(initial_state)"
   ]
  },
  {
   "cell_type": "code",
   "execution_count": 115,
   "metadata": {},
   "outputs": [
    {
     "name": "stdout",
     "output_type": "stream",
     "text": [
      "context == [Document(id='cff0738b-e15c-47e3-9366-61e7083d9819', metadata={'source': './documents/income_tax.txt'}, page_content='제59조의3(연금계좌세액공제) ① 종합소득이 있는 거주자가 연금계좌에 납입한 금액 중 다음 각 호에 해당하는 금액을 제외한 금액(이하 \"연금계좌 납입액\"이라 한다) 중 100분의 12에 해당하는 과세기간에 종합소득세표준을 계산할 때 한산하는 종합소득금액이 4천500만원 이하(근로소득이 있는 경우에는 종합소득금액이 5천500만원 이하)에 대해서는 100분의 15에 해당하는 금액을 해당 과세기간의 종합소득세산출세액에서 공제한다. 다만, 연금계좌 중 연금주계좌에 납입한 금액이 연 600만원을 초과하는 경우에는 초과하는 금액은 그 금액으로 하고, 연금주계좌에 납입한 금액 중 600만원 이내의 금액과 기타연금계좌에 납입한 금액을 합한 금액이 연 900만원을 초과하는 경우에는 그 초과하는 금액은 금액으로 하는 것으 로 한다. <개정 2014. 12. 31.>\\n1. 제146조제28항에 따른 소득세 원천징수대상이 아닌 퇴직소득 등 기타 예외 소득\\n2. 연금계좌에 따른 연금계좌세액공제는 납입된 금액\\n③ 제1항에 따른 공제는 \"연금계좌세액공제\"라 한다.\\n④ \"조세특례제한법\", 제59조의18에 따른 기금이행자산관리계약이 만료되고 해당 계좌 잔여의 종류도 일정한 방법으로 정하는 방법으로 연금계좌에 납입한 금액(이하 이 조에서 \"전환금\"이라 한다)을 납입한 법인 또는 실속있는 방법으로 연금계좌의 납입액을 포함한다. <신설 2019. 12. 31.>\\n⑤ 전환금이 있는 경우 제1항 각 호의 부분 구분에서 불가피한 경우 한정 적용 할 전환금의 100분의 10을 초과하는 경우 제2항 각 호에 기한 연금계좌 세액에 발생한 금액에 대하여 차감하는 금액을 총 중간계좌 세액이 제1항 각 호에 해당 연금계좌에 납입한 금액으로 하는 금액을 포함하는 금액은 금액으로 하지 않는다. <신설 2019. 12. 31.>\\n⑥ 제1항부터 제3항까지의 규정에 따라 연금계좌세액공제의 계산방법, 신청 절차 등에 필요한 사항을 대통령령으로 정한다. <개정 2019. 12. 31.>\\n제59조의4(특별세액공제) ① 근로소득이 있는 거주자(일용근로자는 제외한다)가 해당 과세기간에 만기환급금의 납입보호를 초과하지 아니하는 범위의 범죄재판에 따라 지급되는 다음 각 호의 범위로 지칭한 경우 그 금액의 100분의 12(제1호의 경우에는 100분의 15)가 해당 과세기간의 종합소득세에서 공제한다. 다만, 각 호의 범위로 보할 경우 그 금액이 100만원을 초과하는 경우 그 초과하는 금액을 포함한다.\\n1. 기금구세대상자가 지체장애인으로 판별된 경우 장애인연금봉급으로 대통령령으로 정하는 장애인 통합공공서비스법\\n2. 기금구세대상자가 일반 متوسط병역자로 정하는 법률(제1호에 따라 장애인연금봉급으로 제어한다)\\n③ 근로소득이 있는 거주자는 기초공제대상자(나 및 소득의 필한 이와 같다)를 위하여 해당 과세기간에 대해 통합적으로 정하는 의료비를 지급한 경우 각 호의 금액의 100분의 15(제132조의 경우에는 100분의 20)을 초과하는 경우에 대해\\n소특별판'), Document(id='83f406b5-e2fc-4408-bc0f-8b5fc6f7a049', metadata={'source': './documents/income_tax.txt'}, page_content='제 143조의3 삭제 <2009. 12. 31.>\\n제 143조의4(공적연금소득세에 관한 원천징수) ① 공적연금소득에 대한 원천징수의무자가 해당 과세기간의 다음 연도 1월 본인의 공적연금소득을 지급할 때에는 연금소득자에 해당 과세기간에 그 공적연금소득자 제143조의6에 따라 신고한 내용에 따라 일정금액을 적용한 금액을 종합소득세산출세표로 하고, 그 금액에 기계세율을 적용하여 종합소득세산출세를 계산한 후에 사전에 세액공제를 적용한 세액이외에 이미 원천징수하여 남한 소득세를 증명하고 남은액을 원천징수한다. <개정 2013. 1. 1.>\\n② 제1항의 경우 해당 과세기간에 이미 원천징수하여 남한 소득세, 자녀세액공제 및 표준세액공제에 따른 공제액의 합계액이 해당 종합소득세산출세를 초과할 때에는 그 초과액에 해당 연금소득자에게 대정통보를 정하는 바에 따라 환급하여야 한다. <개정 2014. 1. 1.>\\n③ 원천징수의무자는 제143조에 따른 신고를 하지 않은 연금소득자에 대해서 제1항을 적용하여 소득세를 원천징수할 때에는 그 연금소득자 본인이 부담하는 기본공제전과 표준세액공제를 적용받을 수 있다. <개정 2014. 1. 1.>\\n④ 공적연금소득을 받는 사람이 해당 과세기간 중에 원천징수의무자 또는 사용인이 속하는 다음 달의 말일까지 제1항부텀 제3항까지의 규정을 준용하여 그 자신의 공적연금소득에 대한 원천징수를 하여야 한다. <개정 2013. 1. 1.> \\n삭제 <2013. 1. 1.>\\n제 3관 삭제 <2009. 12. 31.>\\n[제목개정 2013. 1. 1.]\\n소제목판\\n제143조의4(정수 부정당의 이의정심)\\n제143조의4에 따른 원천징수를 하는 경우 징수하여야 할 소득세가 지급될 공적 연금소득을 초과할 때에는 그 초과하는 세액은 다음 달의 공적 연금소득을 지급할 때에 징수할 것. <개정 2013. 1. 1.>\\n[전문개정 2009. 12. 31.]\\n제143조의6(연금소득자의 소득 신고)\\n① 공적 연금소득을 지급받는 자는 공적 연금소득을 최소로 신고할 기 전에 기획재정부가 정하는 연금소득자 신고(이하 “연금소득자 소득, 세액 신고서”라 한다)에 원천징수의무자에게 제출하여야 한다. <신설 2010. 12. 27, 2013. 1. 1, 2014. 1. 1.>\\n② 공적연금소득을 받는 사람이 자신의 배우자 또는 봉양가족에 대한 인정공제를 적정방안으로 정하는 경우에는 해당 연금소득자에게 연금소득자 소득, 세액 공제신고서에 대등별령명을 정하는 법에 따라 제출하여야 한다. 다만, 해당 과세기간에 해당 연금소득자 소득, 세액 공제신고서 제출한 경우로서 공적인 배우자 또는 부모가 족이 변동되지 아니한 경우에는 연금소득자 소득, 세액 공제신고서 제출할 필요가 없으며, 연금소득자가 해당 과세기간에 해당 연금소득자 소득, 세액 공제신고서를 제출하여야 한다. <개정 2010. 12. 27, 2013. 1. 1, 2014. 1. 1.>'), Document(id='43054921-d39f-4909-8547-67bd28526b3d', metadata={'source': './documents/income_tax.txt'}, page_content='제121조제3항 및 제127조에 따른 비거주자와 국내원천소득 등(제119조제1항에 따라 국내원천 근로소득 및 같은 조 제2호에 따른 국내원천 연금소득을 제외한다)에 대한 세액표준은 이 조 항에 따른 국내원천소득에 대한 계산법에 따라 계산한다. 다만, 국내 및 호의 소득에 대한 재표준의 계산은 같은 호에 정의하는 바에 따라 수입금액에서 필요경비 등을 공제한 금액으로 할 수 있다. <개정> 2013. 1. 1., 2018. 12. 31., 2020. 12. 29. \\n\\n\\n제119조제11항에 따른 국내원천 유가증권소득에 대해서는 그 수입금액에 대통 령령으로 정하는 바에 따라 확정된 해당 유가증권의 거래사와 및 운용비용을 차감하여 계산한 금액 \\n\\n\\n제119조제12항에 따른 국내원천 기타소득 중 대통 령령으로 정하는 상 - 부상 등에 대해서는 그 수입금액에서 대통 령령으로 정하는 바에 따라 필요한 금액 \\n\\n\\n제121조제9항의 경우 가상자산소득에 대해서는 그 수입금액(거주자 가상자산사업자에 분 - 리하는 가상자산을 포함하는 경우에 한해 실질적인 가상자산 시가청령으로 정하는 금액을 말한다)에 대해 통과령으로 정하는 필요경비를 제한하여 계산한 금액 \\n\\n\\n② 제하항의 국내원천소득에 대한 세액은 특정해 규정하는 과세표준 제156조제11항 호의 세율을 적용하여 계산한 금액으로 한다. \\n(6) 제121조제3항 또는 제156조의 적용을 받는 비거주자와 국내원천소득 중 제119조제2항에 따른 국내원천 근로소득 및 같은 조 제2호에 따른 국내원천 연금소득의 과세표준과 세액의 계산, 신고 및 경정, 결정 중 자금의 환금에 대해서는 이 법 같은 거래자에 대한 손세의 과세표준과 세액 등의 관한 규정은 준용한다. 다만, 제156조에 따른 인정증에 중 비거주자 본인 자에 대한 공지가 제2조에 따른 특벌소득으로, 제159조에 따른 자산세에 의하여 특수금을 남부한 비거주자에 대해서는 제73조제11항을 준용한다. \\n국내사무소가 있는 비거주자의 제119조제11항에 따른 국내원천 유가증권소득의 경우 5주간 적용을 제하항에 불구하고 대통령으로 정하는 정산가액(이하 “정산가격”이라 한다)을 수수료 금액으로 한다. \\n\\n\\n국내사무소가 있는 비거주자와 대통령으로 정하는 특정관계 있는 비거주자(외국법인을 포함한다) 간의 거래의 경우 \\n\\n\\n제126조의 거래에 의한 거래가격의 정상가격에 미달하는 경우로서 대통령으로 정하는 경우일 것')]\n",
      "response == {'Explanation': 'The provided text does not contain information about income tax for someone making 30 million won per year.', 'Score': 0}\n"
     ]
    },
    {
     "data": {
      "text/plain": [
       "{'query': '연봉 3천만원 거주자 소득세 얼마인가요?',\n",
       " 'context': [Document(id='cff0738b-e15c-47e3-9366-61e7083d9819', metadata={'source': './documents/income_tax.txt'}, page_content='제59조의3(연금계좌세액공제) ① 종합소득이 있는 거주자가 연금계좌에 납입한 금액 중 다음 각 호에 해당하는 금액을 제외한 금액(이하 \"연금계좌 납입액\"이라 한다) 중 100분의 12에 해당하는 과세기간에 종합소득세표준을 계산할 때 한산하는 종합소득금액이 4천500만원 이하(근로소득이 있는 경우에는 종합소득금액이 5천500만원 이하)에 대해서는 100분의 15에 해당하는 금액을 해당 과세기간의 종합소득세산출세액에서 공제한다. 다만, 연금계좌 중 연금주계좌에 납입한 금액이 연 600만원을 초과하는 경우에는 초과하는 금액은 그 금액으로 하고, 연금주계좌에 납입한 금액 중 600만원 이내의 금액과 기타연금계좌에 납입한 금액을 합한 금액이 연 900만원을 초과하는 경우에는 그 초과하는 금액은 금액으로 하는 것으 로 한다. <개정 2014. 12. 31.>\\n1. 제146조제28항에 따른 소득세 원천징수대상이 아닌 퇴직소득 등 기타 예외 소득\\n2. 연금계좌에 따른 연금계좌세액공제는 납입된 금액\\n③ 제1항에 따른 공제는 \"연금계좌세액공제\"라 한다.\\n④ \"조세특례제한법\", 제59조의18에 따른 기금이행자산관리계약이 만료되고 해당 계좌 잔여의 종류도 일정한 방법으로 정하는 방법으로 연금계좌에 납입한 금액(이하 이 조에서 \"전환금\"이라 한다)을 납입한 법인 또는 실속있는 방법으로 연금계좌의 납입액을 포함한다. <신설 2019. 12. 31.>\\n⑤ 전환금이 있는 경우 제1항 각 호의 부분 구분에서 불가피한 경우 한정 적용 할 전환금의 100분의 10을 초과하는 경우 제2항 각 호에 기한 연금계좌 세액에 발생한 금액에 대하여 차감하는 금액을 총 중간계좌 세액이 제1항 각 호에 해당 연금계좌에 납입한 금액으로 하는 금액을 포함하는 금액은 금액으로 하지 않는다. <신설 2019. 12. 31.>\\n⑥ 제1항부터 제3항까지의 규정에 따라 연금계좌세액공제의 계산방법, 신청 절차 등에 필요한 사항을 대통령령으로 정한다. <개정 2019. 12. 31.>\\n제59조의4(특별세액공제) ① 근로소득이 있는 거주자(일용근로자는 제외한다)가 해당 과세기간에 만기환급금의 납입보호를 초과하지 아니하는 범위의 범죄재판에 따라 지급되는 다음 각 호의 범위로 지칭한 경우 그 금액의 100분의 12(제1호의 경우에는 100분의 15)가 해당 과세기간의 종합소득세에서 공제한다. 다만, 각 호의 범위로 보할 경우 그 금액이 100만원을 초과하는 경우 그 초과하는 금액을 포함한다.\\n1. 기금구세대상자가 지체장애인으로 판별된 경우 장애인연금봉급으로 대통령령으로 정하는 장애인 통합공공서비스법\\n2. 기금구세대상자가 일반 متوسط병역자로 정하는 법률(제1호에 따라 장애인연금봉급으로 제어한다)\\n③ 근로소득이 있는 거주자는 기초공제대상자(나 및 소득의 필한 이와 같다)를 위하여 해당 과세기간에 대해 통합적으로 정하는 의료비를 지급한 경우 각 호의 금액의 100분의 15(제132조의 경우에는 100분의 20)을 초과하는 경우에 대해\\n소특별판'),\n",
       "  Document(id='83f406b5-e2fc-4408-bc0f-8b5fc6f7a049', metadata={'source': './documents/income_tax.txt'}, page_content='제 143조의3 삭제 <2009. 12. 31.>\\n제 143조의4(공적연금소득세에 관한 원천징수) ① 공적연금소득에 대한 원천징수의무자가 해당 과세기간의 다음 연도 1월 본인의 공적연금소득을 지급할 때에는 연금소득자에 해당 과세기간에 그 공적연금소득자 제143조의6에 따라 신고한 내용에 따라 일정금액을 적용한 금액을 종합소득세산출세표로 하고, 그 금액에 기계세율을 적용하여 종합소득세산출세를 계산한 후에 사전에 세액공제를 적용한 세액이외에 이미 원천징수하여 남한 소득세를 증명하고 남은액을 원천징수한다. <개정 2013. 1. 1.>\\n② 제1항의 경우 해당 과세기간에 이미 원천징수하여 남한 소득세, 자녀세액공제 및 표준세액공제에 따른 공제액의 합계액이 해당 종합소득세산출세를 초과할 때에는 그 초과액에 해당 연금소득자에게 대정통보를 정하는 바에 따라 환급하여야 한다. <개정 2014. 1. 1.>\\n③ 원천징수의무자는 제143조에 따른 신고를 하지 않은 연금소득자에 대해서 제1항을 적용하여 소득세를 원천징수할 때에는 그 연금소득자 본인이 부담하는 기본공제전과 표준세액공제를 적용받을 수 있다. <개정 2014. 1. 1.>\\n④ 공적연금소득을 받는 사람이 해당 과세기간 중에 원천징수의무자 또는 사용인이 속하는 다음 달의 말일까지 제1항부텀 제3항까지의 규정을 준용하여 그 자신의 공적연금소득에 대한 원천징수를 하여야 한다. <개정 2013. 1. 1.> \\n삭제 <2013. 1. 1.>\\n제 3관 삭제 <2009. 12. 31.>\\n[제목개정 2013. 1. 1.]\\n소제목판\\n제143조의4(정수 부정당의 이의정심)\\n제143조의4에 따른 원천징수를 하는 경우 징수하여야 할 소득세가 지급될 공적 연금소득을 초과할 때에는 그 초과하는 세액은 다음 달의 공적 연금소득을 지급할 때에 징수할 것. <개정 2013. 1. 1.>\\n[전문개정 2009. 12. 31.]\\n제143조의6(연금소득자의 소득 신고)\\n① 공적 연금소득을 지급받는 자는 공적 연금소득을 최소로 신고할 기 전에 기획재정부가 정하는 연금소득자 신고(이하 “연금소득자 소득, 세액 신고서”라 한다)에 원천징수의무자에게 제출하여야 한다. <신설 2010. 12. 27, 2013. 1. 1, 2014. 1. 1.>\\n② 공적연금소득을 받는 사람이 자신의 배우자 또는 봉양가족에 대한 인정공제를 적정방안으로 정하는 경우에는 해당 연금소득자에게 연금소득자 소득, 세액 공제신고서에 대등별령명을 정하는 법에 따라 제출하여야 한다. 다만, 해당 과세기간에 해당 연금소득자 소득, 세액 공제신고서 제출한 경우로서 공적인 배우자 또는 부모가 족이 변동되지 아니한 경우에는 연금소득자 소득, 세액 공제신고서 제출할 필요가 없으며, 연금소득자가 해당 과세기간에 해당 연금소득자 소득, 세액 공제신고서를 제출하여야 한다. <개정 2010. 12. 27, 2013. 1. 1, 2014. 1. 1.>'),\n",
       "  Document(id='43054921-d39f-4909-8547-67bd28526b3d', metadata={'source': './documents/income_tax.txt'}, page_content='제121조제3항 및 제127조에 따른 비거주자와 국내원천소득 등(제119조제1항에 따라 국내원천 근로소득 및 같은 조 제2호에 따른 국내원천 연금소득을 제외한다)에 대한 세액표준은 이 조 항에 따른 국내원천소득에 대한 계산법에 따라 계산한다. 다만, 국내 및 호의 소득에 대한 재표준의 계산은 같은 호에 정의하는 바에 따라 수입금액에서 필요경비 등을 공제한 금액으로 할 수 있다. <개정> 2013. 1. 1., 2018. 12. 31., 2020. 12. 29. \\n\\n\\n제119조제11항에 따른 국내원천 유가증권소득에 대해서는 그 수입금액에 대통 령령으로 정하는 바에 따라 확정된 해당 유가증권의 거래사와 및 운용비용을 차감하여 계산한 금액 \\n\\n\\n제119조제12항에 따른 국내원천 기타소득 중 대통 령령으로 정하는 상 - 부상 등에 대해서는 그 수입금액에서 대통 령령으로 정하는 바에 따라 필요한 금액 \\n\\n\\n제121조제9항의 경우 가상자산소득에 대해서는 그 수입금액(거주자 가상자산사업자에 분 - 리하는 가상자산을 포함하는 경우에 한해 실질적인 가상자산 시가청령으로 정하는 금액을 말한다)에 대해 통과령으로 정하는 필요경비를 제한하여 계산한 금액 \\n\\n\\n② 제하항의 국내원천소득에 대한 세액은 특정해 규정하는 과세표준 제156조제11항 호의 세율을 적용하여 계산한 금액으로 한다. \\n(6) 제121조제3항 또는 제156조의 적용을 받는 비거주자와 국내원천소득 중 제119조제2항에 따른 국내원천 근로소득 및 같은 조 제2호에 따른 국내원천 연금소득의 과세표준과 세액의 계산, 신고 및 경정, 결정 중 자금의 환금에 대해서는 이 법 같은 거래자에 대한 손세의 과세표준과 세액 등의 관한 규정은 준용한다. 다만, 제156조에 따른 인정증에 중 비거주자 본인 자에 대한 공지가 제2조에 따른 특벌소득으로, 제159조에 따른 자산세에 의하여 특수금을 남부한 비거주자에 대해서는 제73조제11항을 준용한다. \\n국내사무소가 있는 비거주자의 제119조제11항에 따른 국내원천 유가증권소득의 경우 5주간 적용을 제하항에 불구하고 대통령으로 정하는 정산가액(이하 “정산가격”이라 한다)을 수수료 금액으로 한다. \\n\\n\\n국내사무소가 있는 비거주자와 대통령으로 정하는 특정관계 있는 비거주자(외국법인을 포함한다) 간의 거래의 경우 \\n\\n\\n제126조의 거래에 의한 거래가격의 정상가격에 미달하는 경우로서 대통령으로 정하는 경우일 것')]}"
      ]
     },
     "execution_count": 115,
     "metadata": {},
     "output_type": "execute_result"
    }
   ],
   "source": [
    "initial_state = {\"query\": \"연봉 3천만원 거주자 소득세 얼마인가요?\"}\n",
    "graph.invoke(initial_state)"
   ]
  },
  {
   "cell_type": "code",
   "execution_count": null,
   "metadata": {},
   "outputs": [],
   "source": []
  }
 ],
 "metadata": {
  "kernelspec": {
   "display_name": "VENV",
   "language": "python",
   "name": "python3"
  },
  "language_info": {
   "codemirror_mode": {
    "name": "ipython",
    "version": 3
   },
   "file_extension": ".py",
   "mimetype": "text/x-python",
   "name": "python",
   "nbconvert_exporter": "python",
   "pygments_lexer": "ipython3",
   "version": "3.11.8"
  }
 },
 "nbformat": 4,
 "nbformat_minor": 2
}
