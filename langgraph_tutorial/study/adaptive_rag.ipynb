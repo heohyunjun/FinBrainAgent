{
 "cells": [
  {
   "cell_type": "markdown",
   "metadata": {},
   "source": [
    "![alt text](./../../img/adaptive_rag.png)"
   ]
  },
  {
   "cell_type": "code",
   "execution_count": 9,
   "metadata": {},
   "outputs": [
    {
     "data": {
      "text/plain": [
       "True"
      ]
     },
     "execution_count": 9,
     "metadata": {},
     "output_type": "execute_result"
    }
   ],
   "source": [
    "# 표준 라이브러리\n",
    "from typing import Literal\n",
    "from typing_extensions import TypedDict, List\n",
    "import os \n",
    "\n",
    "# 서드파티 라이브러리\n",
    "from dotenv import load_dotenv\n",
    "from langchain_chroma import Chroma\n",
    "from langgraph.graph import StateGraph, START, END\n",
    "from pyzerox import zerox\n",
    "\n",
    "# LangChain 관련 라이브러리\n",
    "from langchain_core.documents import Document\n",
    "from langchain_core.output_parsers import StrOutputParser\n",
    "from langchain_core.prompts import PromptTemplate, ChatPromptTemplate\n",
    "from langchain_text_splitters import RecursiveCharacterTextSplitter\n",
    "from langchain_community.document_loaders import (\n",
    "    PyPDFLoader,\n",
    "    UnstructuredMarkdownLoader,\n",
    "    TextLoader,\n",
    ")\n",
    "from langchain_community.embeddings import HuggingFaceEmbeddings\n",
    "from langchain_community.tools import TavilySearchResults\n",
    "from langchain_groq import ChatGroq\n",
    "from langchain import hub\n",
    "\n",
    "load_dotenv()\n"
   ]
  },
  {
   "cell_type": "code",
   "execution_count": 2,
   "metadata": {},
   "outputs": [],
   "source": [
    "class AgentState(TypedDict):\n",
    "    query: str\n",
    "    context: List\n",
    "    answer: str\n"
   ]
  },
  {
   "cell_type": "code",
   "execution_count": 3,
   "metadata": {},
   "outputs": [],
   "source": [
    "prompt = hub.pull(\"rlm/rag-prompt\")\n",
    "generate_prompt = hub.pull(\"rlm/rag-prompt\")\n",
    "doc_relevance_prompt = hub.pull(\"langchain-ai/rag-document-relevance\")"
   ]
  },
  {
   "cell_type": "code",
   "execution_count": 4,
   "metadata": {},
   "outputs": [
    {
     "name": "stderr",
     "output_type": "stream",
     "text": [
      "C:\\Users\\user\\AppData\\Local\\Temp\\ipykernel_16496\\3184129235.py:7: LangChainDeprecationWarning: The class `HuggingFaceEmbeddings` was deprecated in LangChain 0.2.2 and will be removed in 1.0. An updated version of the class exists in the :class:`~langchain-huggingface package and should be used instead. To use it run `pip install -U :class:`~langchain-huggingface` and import as `from :class:`~langchain_huggingface import HuggingFaceEmbeddings``.\n",
      "  embeddings_model = HuggingFaceEmbeddings(\n",
      "c:\\USERS\\USER\\DESKTOP\\FINBRAINAGENT\\VENV\\Lib\\site-packages\\tqdm\\auto.py:21: TqdmWarning: IProgress not found. Please update jupyter and ipywidgets. See https://ipywidgets.readthedocs.io/en/stable/user_install.html\n",
      "  from .autonotebook import tqdm as notebook_tqdm\n"
     ]
    }
   ],
   "source": [
    "MODEL_NAME = \"gemma2-9b-it\"\n",
    "\n",
    "\n",
    "\n",
    "# 이미 생성된 크로마 db 가져오기\n",
    "embeddings_model = HuggingFaceEmbeddings(\n",
    "    model_name='jhgan/ko-sroberta-nli',\n",
    "    model_kwargs={'device':'cpu'},\n",
    "    encode_kwargs={'normalize_embeddings':True},\n",
    ")\n",
    "\n",
    "\n",
    "vector_store = Chroma(\n",
    "    embedding_function=embeddings_model,\n",
    "    collection_name = \"income_tax_collection\",\n",
    "    persist_directory = \"./income_tax_collection\"\n",
    ")\n",
    "\n",
    "retriever = vector_store.as_retriever(search_kwargs = {\"k\":3})"
   ]
  },
  {
   "cell_type": "code",
   "execution_count": 42,
   "metadata": {},
   "outputs": [],
   "source": [
    "# 지금은 모두 동일한 모델 사용\n",
    "# 하지만 간단한 대답이 필요할 때는 저렴한 모델로 비용 아끼자\n",
    "# 습관을 위해 일단 나눔\n",
    "\n",
    "generate_llm = ChatGroq(model_name=MODEL_NAME)\n",
    "basic_llm =ChatGroq(model_name=MODEL_NAME)"
   ]
  },
  {
   "cell_type": "code",
   "execution_count": 43,
   "metadata": {},
   "outputs": [],
   "source": [
    "tavily_search_tool = TavilySearchResults(\n",
    "    max_results=3,\n",
    "    search_depth=\"advanced\",\n",
    "    include_answer=True,\n",
    "    include_raw_content=True,\n",
    "    include_images=True,\n",
    ")\n",
    "\n",
    "def web_search(state: AgentState):\n",
    "    query = state[\"query\"]\n",
    "    results = tavily_search_tool.invoke(query)\n",
    "    print(f\"web_search_results == {results}\")\n",
    "    return {\"context\": results}\n",
    "\n",
    "\n",
    "def web_generate(state: AgentState):\n",
    "\n",
    "    context = state['context']\n",
    "    query = state['query']\n",
    "    rag_chain = generate_prompt | generate_llm | StrOutputParser()\n",
    "    response = rag_chain.invoke({'question': query, 'context': context})\n",
    "    return {'answer': response}\n"
   ]
  },
  {
   "cell_type": "code",
   "execution_count": 44,
   "metadata": {},
   "outputs": [],
   "source": [
    "def basic_generate(state: AgentState):\n",
    "    query = state[\"query\"]\n",
    "    basic_llm_chain = basic_llm | StrOutputParser()\n",
    "    response = basic_llm_chain.invoke(query)\n",
    "    return {\"answer\" : response}\n",
    "\n"
   ]
  },
  {
   "cell_type": "markdown",
   "metadata": {},
   "source": [
    "## query analysic"
   ]
  },
  {
   "cell_type": "code",
   "execution_count": 45,
   "metadata": {},
   "outputs": [],
   "source": [
    "from pydantic import BaseModel, Field\n"
   ]
  },
  {
   "cell_type": "code",
   "execution_count": 46,
   "metadata": {},
   "outputs": [],
   "source": [
    "class Route(BaseModel):\n",
    "    target : Literal[\"vector_store\", \"llm\", \"web_search\"] = Field(description=\"the target for the query to answer\")\n"
   ]
  },
  {
   "cell_type": "code",
   "execution_count": 47,
   "metadata": {},
   "outputs": [],
   "source": [
    "router_system_prompt = \"\"\"\n",
    "You are an expert at routing a user's question to 'vector_store', 'llm', or 'web_search'.\n",
    "'vector_store' contains information about income tax up to December 2024.\n",
    "if you think the question is simple enough use 'llm'\n",
    "if you think you need to search the web to answer the question use 'web_search'\n",
    "\"\"\"\n",
    "\n",
    "# 간단한 테스크 -> 저렴한 모델 사용해도 무방 \n",
    "router_llm = ChatGroq(model_name=MODEL_NAME)\n",
    "structured_router_llm = router_llm.with_structured_output(Route)\n",
    "\n",
    "\n",
    "router_prompt = ChatPromptTemplate.from_messages([\n",
    "    (\"system\", router_system_prompt),\n",
    "    (\"user\", \"{query}\"),\n",
    "])\n",
    "def router(state: AgentState):\n",
    "    query = state[\"query\"]\n",
    "    router_chain = router_prompt | structured_router_llm \n",
    "    route = router_chain.invoke({\"query\": query})\n",
    "    print(f\"route == {route}\")\n",
    "    print(f\"route.target == {route.target}\")\n",
    "    return route.target\n"
   ]
  },
  {
   "cell_type": "code",
   "execution_count": 48,
   "metadata": {},
   "outputs": [],
   "source": [
    "from income_tax_graph import graph as income_tax_subgraph\n"
   ]
  },
  {
   "cell_type": "code",
   "execution_count": 49,
   "metadata": {},
   "outputs": [],
   "source": [
    "graph_builder = StateGraph(AgentState)\n",
    "\n",
    "graph_builder.add_node(\"web_search\", web_search)\n",
    "graph_builder.add_node(\"basic_generate\", basic_generate)\n",
    "graph_builder.add_node(\"web_generate\", web_generate)\n",
    "graph_builder.add_node(\"income_tax_subgraph\", income_tax_subgraph)\n",
    "\n",
    "graph_builder.add_conditional_edges(\n",
    "    START,\n",
    "    router,\n",
    "    {\n",
    "        \"vector_store\": \"income_tax_subgraph\",\n",
    "        \"llm\": \"basic_generate\",\n",
    "        \"web_search\": \"web_search\",\n",
    "    }\n",
    ")\n",
    "\n",
    "graph_builder.add_edge(\"web_search\", \"web_generate\")\n",
    "graph_builder.add_edge(\"income_tax_subgraph\", END)\n",
    "graph_builder.add_edge(\"web_generate\", END)\n",
    "graph_builder.add_edge(\"basic_generate\", END)\n",
    "\n",
    "\n",
    "\n",
    "graph = graph_builder.compile()\n"
   ]
  },
  {
   "cell_type": "code",
   "execution_count": 50,
   "metadata": {},
   "outputs": [
    {
     "data": {
      "image/png": "[encoded data removed]",
      "text/plain": [
       "<IPython.core.display.Image object>"
      ]
     },
     "metadata": {},
     "output_type": "display_data"
    }
   ],
   "source": [
    "from IPython.display import Image, display\n",
    "\n",
    "display(\n",
    "    Image(\n",
    "        graph.get_graph(xray=False).draw_mermaid_png()\n",
    "    )\n",
    ")\n"
   ]
  },
  {
   "cell_type": "code",
   "execution_count": 40,
   "metadata": {},
   "outputs": [
    {
     "name": "stdout",
     "output_type": "stream",
     "text": [
      "route == target='web_search'\n",
      "route.target == web_search\n",
      "web_search_results == [{'url': 'https://www.diningcode.com/list.dc?query=%EC%8B%A0%EB%8C%80%EB%B0%A9%EC%97%AD', 'content': '신대방역맛집 (305곳) · 1. 등나무집 신대방 · 2. 사생활 카페 신림 · 3. 한마음정육식당 서울 신대방점 · 4. 서우얼큰칼국수 신대방역 · 5. Hoang hon 베트남쌀국수 신대방역.'}, {'url': 'https://m.blog.naver.com/god10043179/223100468242', 'content': '가성비 ; 육회비빔밥. 10000원 ; 육회냉면. 12000원 ; 연어초밥. 15000원.'}, {'url': 'https://blog.naver.com/chansxor1/221917094627', 'content': '신대방삼거리역에서 5분정도 거리이고 버스정류장하고도 1분남짓한 가까운 거리에 있기때문에 접근성이 굉장히 편리한 곳이에요. 도착해보니 향토적인'}]\n"
     ]
    },
    {
     "data": {
      "text/plain": [
       "{'query': '신대방역 맛집 추천해라',\n",
       " 'context': [{'url': 'https://www.diningcode.com/list.dc?query=%EC%8B%A0%EB%8C%80%EB%B0%A9%EC%97%AD',\n",
       "   'content': '신대방역맛집 (305곳) · 1. 등나무집 신대방 · 2. 사생활 카페 신림 · 3. 한마음정육식당 서울 신대방점 · 4. 서우얼큰칼국수 신대방역 · 5. Hoang hon 베트남쌀국수 신대방역.'},\n",
       "  {'url': 'https://m.blog.naver.com/god10043179/223100468242',\n",
       "   'content': '가성비 ; 육회비빔밥. 10000원 ; 육회냉면. 12000원 ; 연어초밥. 15000원.'},\n",
       "  {'url': 'https://blog.naver.com/chansxor1/221917094627',\n",
       "   'content': '신대방삼거리역에서 5분정도 거리이고 버스정류장하고도 1분남짓한 가까운 거리에 있기때문에 접근성이 굉장히 편리한 곳이에요. 도착해보니 향토적인'}],\n",
       " 'answer': '신대방역에서 가까운 곳에 위치한 맛집으로는 등나무집 신대방, 사생활 카페 신림, 한마음정육식당 서울 신대방점, 서우얼큰칼국수 신대방역, Hoang hon 베트남쌀국수 신대방역이 있습니다. 육회비빔밥, 육회냉면, 연어초밥 등도 추천합니다. \\n'}"
      ]
     },
     "execution_count": 40,
     "metadata": {},
     "output_type": "execute_result"
    }
   ],
   "source": [
    "initial_state = {\"query\": \"신대방역 맛집 추천해라\"}\n",
    "\n",
    "graph.invoke(initial_state)\n"
   ]
  },
  {
   "cell_type": "code",
   "execution_count": 51,
   "metadata": {},
   "outputs": [
    {
     "name": "stdout",
     "output_type": "stream",
     "text": [
      "route == target='llm'\n",
      "route.target == llm\n"
     ]
    },
    {
     "data": {
      "text/plain": [
       "{'query': '대한민국 수도', 'answer': '대한민국 수도는 **서울**입니다. \\n'}"
      ]
     },
     "execution_count": 51,
     "metadata": {},
     "output_type": "execute_result"
    }
   ],
   "source": [
    "initial_state = {\"query\": \"대한민국 수도\"}\n",
    "\n",
    "graph.invoke(initial_state)\n"
   ]
  },
  {
   "cell_type": "code",
   "execution_count": 52,
   "metadata": {},
   "outputs": [
    {
     "name": "stdout",
     "output_type": "stream",
     "text": [
      "route == target='vector_store'\n",
      "route.target == vector_store\n",
      "context == [Document(id='cff0738b-e15c-47e3-9366-61e7083d9819', metadata={'source': './documents/income_tax.txt'}, page_content='제59조의3(연금계좌세액공제) ① 종합소득이 있는 거주자가 연금계좌에 납입한 금액 중 다음 각 호에 해당하는 금액을 제외한 금액(이하 \"연금계좌 납입액\"이라 한다) 중 100분의 12에 해당하는 과세기간에 종합소득세표준을 계산할 때 한산하는 종합소득금액이 4천500만원 이하(근로소득이 있는 경우에는 종합소득금액이 5천500만원 이하)에 대해서는 100분의 15에 해당하는 금액을 해당 과세기간의 종합소득세산출세액에서 공제한다. 다만, 연금계좌 중 연금주계좌에 납입한 금액이 연 600만원을 초과하는 경우에는 초과하는 금액은 그 금액으로 하고, 연금주계좌에 납입한 금액 중 600만원 이내의 금액과 기타연금계좌에 납입한 금액을 합한 금액이 연 900만원을 초과하는 경우에는 그 초과하는 금액은 금액으로 하는 것으 로 한다. <개정 2014. 12. 31.>\\n1. 제146조제28항에 따른 소득세 원천징수대상이 아닌 퇴직소득 등 기타 예외 소득\\n2. 연금계좌에 따른 연금계좌세액공제는 납입된 금액\\n③ 제1항에 따른 공제는 \"연금계좌세액공제\"라 한다.\\n④ \"조세특례제한법\", 제59조의18에 따른 기금이행자산관리계약이 만료되고 해당 계좌 잔여의 종류도 일정한 방법으로 정하는 방법으로 연금계좌에 납입한 금액(이하 이 조에서 \"전환금\"이라 한다)을 납입한 법인 또는 실속있는 방법으로 연금계좌의 납입액을 포함한다. <신설 2019. 12. 31.>\\n⑤ 전환금이 있는 경우 제1항 각 호의 부분 구분에서 불가피한 경우 한정 적용 할 전환금의 100분의 10을 초과하는 경우 제2항 각 호에 기한 연금계좌 세액에 발생한 금액에 대하여 차감하는 금액을 총 중간계좌 세액이 제1항 각 호에 해당 연금계좌에 납입한 금액으로 하는 금액을 포함하는 금액은 금액으로 하지 않는다. <신설 2019. 12. 31.>\\n⑥ 제1항부터 제3항까지의 규정에 따라 연금계좌세액공제의 계산방법, 신청 절차 등에 필요한 사항을 대통령령으로 정한다. <개정 2019. 12. 31.>\\n제59조의4(특별세액공제) ① 근로소득이 있는 거주자(일용근로자는 제외한다)가 해당 과세기간에 만기환급금의 납입보호를 초과하지 아니하는 범위의 범죄재판에 따라 지급되는 다음 각 호의 범위로 지칭한 경우 그 금액의 100분의 12(제1호의 경우에는 100분의 15)가 해당 과세기간의 종합소득세에서 공제한다. 다만, 각 호의 범위로 보할 경우 그 금액이 100만원을 초과하는 경우 그 초과하는 금액을 포함한다.\\n1. 기금구세대상자가 지체장애인으로 판별된 경우 장애인연금봉급으로 대통령령으로 정하는 장애인 통합공공서비스법\\n2. 기금구세대상자가 일반 متوسط병역자로 정하는 법률(제1호에 따라 장애인연금봉급으로 제어한다)\\n③ 근로소득이 있는 거주자는 기초공제대상자(나 및 소득의 필한 이와 같다)를 위하여 해당 과세기간에 대해 통합적으로 정하는 의료비를 지급한 경우 각 호의 금액의 100분의 15(제132조의 경우에는 100분의 20)을 초과하는 경우에 대해\\n소특별판'), Document(id='17e44074-30a9-4948-bee5-b9b8ca7ebd7b', metadata={'source': './documents/income_tax.txt'}, page_content=\"제38조 삭제 <2006. 12. 30.>  \\n제3장 귀속소득 및 취득동 <재정 2009. 12. 31.>  \\n제39조(총수입금액 및 필요경비의 귀속연도 등) 제1항 거주자의 과세기간에 총수입금액 및 필요경비의 귀속연도는 총입금액의 필요경비획정일 등이 속하는 과세기간으로 한다.\\n2. 거주자가 매일, 취득 등으로 취득한 자산의 취득가액은 그 자산의 매입액에 의제원가에 부담비용을 대한 금액으로 한다.\\n3. 거주자가 보유하는 자산 및 부채의 정부자료를 중엽 등(평가상각을 제외한다. 이하 이 조에서 '평가'란 한다)의 경우 평가기간이 속하는 과세기간의 소득금액에 대한 자산 및 부채의 정부액을 평가하는 일 전 자여액으로 한다. 다만, 자산과부채 대청령 동의를 정하는 경우 유량별로 각 자산별로 대청령을 한다.\\n법제처 27\\n국가법령정보센터\\n소 특 세 번 \\n로 정하는 방법에 따라 평가는 가외부가 아닌 자에 의해 행한다. <개정 2018. 12. 31.>\\n④ 제자형에 포함하고 다음 각 호의 1 하나에 해당하는 자산은 대통령령으로 정하는 방법에 따라 장부가액을 감액할 수 있다. <개정 2019. 12. 31.>\\n1. 파산·부도 등으로 정상가액에 판매할 수 없는 자산\\n2. 천재지변이나 화재에 대하여 보험으로 정하는 사유를 파산 후 대체할 수 있는 유환자산\\n⑤ 거주자와 각 과세기간의 소득금액을 계산할 때 총수입금액 및 필요경비의 귀속연도와 자산·부채의 취득 및 평가에 대한 일반적용으로 공정·형평당한다는 인정되는 기업회계의 기준을 적용하여 관행을 계속 적용하여야 하는 이 범위 [원자재의 재비평가 방식]의 세택기준이 있는 경우 이와 기업회계의 기준도 관련된다. \\n<전문개정 2009. 12. 31.>\\n제40조 삭제 <2009. 12. 31.>\\n제41관 소득금의 계산의 특례 <개정 2019. 12. 31.>\\n제41조(부동산위탁계약) ① 납세의무자 또는 지방세칙제정자는 배당소득(제17조제1항제3호에 따른 배당소득만 해당한다), 사업소득 또는 기타소득이 있는 거주자와 계약하여 해당소득에 대한 조세 부담을 부당하게 감소시키는 것으로 개산이 거주자와 특별계인과의 거래로 인하여 해소될 경우 해당 소득금액을 계산할 수 있다. <개정 2012. 1. 1.>\\n② 제1항에 따른 특수관계의 범위와 밖에 부당행위계산에 관한 필요한 사항을 대통령령으로 정한다. <개정 2012. 1. 1.> \\n<전문개정 2009. 12. 31.>\\n제42조(비거주자 동종의 거래에 대한 소득금의 계산의 특례) ① 우리는 다라 조세의 이전과 회피를 위하여 체결한 조약에 따라 “조세조약이라 한다”가 실수와 고선제조약의 상호 합의 규정에 따라 거주자가 국외에 있는 비거주자 또는 외국법인에 관한 금액에 대하여 일정 조건과 합의하는 경우에는 합의에 따라 납세의무자 또는 지방세칙제정자가 거주자와 각 과세기간의 소득금액을 조정하여 계산할 수 있다.\\n② 제1항에 따른 거주자의 소득금액 조정의 신청에 관한 사항과 함께 조정에 필요한 사항을 대통령령으로 정한다. \\n<전문개정 2009. 12. 31.>\"), Document(id='753a376c-9ab4-4e78-9678-a74c87f1fa94', metadata={'source': './documents/income_tax.txt'}, page_content='법제처 130 국가법령정보센터\\n소속세벤\\n➄ 제1항에도 불구하고 추가 남부세액이 10만 원을 초과하는 경우 원천징수의무자는 해당 과세기간의 다음 연도 2월분부터 4월분까지 근로소득을 지급할 때마다 추가 남부세액을 나누어 원천징수할 수 있다. <신설 2015. 3. 10.> [전문개정 2010. 12. 27.]\\n제137조(2건 이상으로부터 근로소득을 받는 사람에 대한 근로소득세의 연말정산)\\n① 2인 이상으로부터 근로소득을 받는 사람(일용근로자는 제외한다)이 대통령령으로 정하는 바에 따라 주된 근무지와 종된 근무지를 정하여 종된 근무지의 원천징수의무자로부터 제143조제1항에 따른 근로소득의 원천징수의무를 발행받아 해당 과세기간의 다음 연도 2월분에 근로소득을 받기 전에 주된 근무지의 원천징수의무자에게 제출하는 경우 주된 근무지의 근로소득에 대한 금액에 대하여 제137조에 따른 소득세를 원천징수한다.\\n② 제1항에 따라 근로소득 원천징수영수증을 발급하는 주된 근무지의 원천징수의무자는 해당 과세기간의 근로소득금액에 기본세율을 적용하여 계산한 소득세산출세액에 대해 제134조제1항에 따라 원천징수의무를 현출지급한다.\\n③ 제150조제3항에 따라 남의체험에 의하여 소득세 장수제127조제1항제1호 각 목에 따른 근로소득과 다른 근로소득이 함께 있는 사람(일용근로자는 제외한다)에게 근로소득세의 연말정산에 관하여 제1항과 제2항을 준용한다. [본소설 2010. 12. 27.]\\n제138조(자회세자에 대한 근로소득세의 연말정산)\\n➀ 해당 과세기간 중에 퇴직하는 경우 1월부터 과세기간이 끝날 때까지 받은 근로소득을 포함하여 제140조 제1항에 따라 근로소득세 소속ㆍ새의 공제신고서를 제출하는 경우 원천징수의무자는 그 근로소득이 중에서 받은 근로소득과 별도로 근무지에 받은 근로소득에 대해서는 제137조에 따른 소득세를 원천징수한다. <개정 2010. 12. 27. 2014. 1. 1.>\\n➁ 해당 과세기간 중에 퇴직한 근로소득자는 제137조에 따른 소득세를 납부한 후 다시 취직하고 과세기간의 중도에 다시 퇴직한 자에 대한 소득세의 원천징수에 관하여 제131항을 준용한다. [전문개정 2009. 12. 31.]\\n제139조(상조 부족에 의한 정산)\\n➀ 제137조, 제137조의2 또는 제138조에 따른 원천징수를 하는 경우 징수하여야 할 소득세 지급 받는 근로소득의 금액을 초과하거나 다음 달에 지급할 근로소득이 없는 경우 제한한다) 는 초과한 세액은 그 다음 달에 근로소득을 지급할 때에 정산한다. [전문개정 2010. 12. 27.]\\n제140조(근로소득자의 소득공제 등 신고)')]\n",
      "response == {'Explanation': \"The provided text does not contain any information about the individual's tax bracket, deductions, or any other factors that would be needed to calculate their income tax liability.  \", 'Score': 0}\n"
     ]
    },
    {
     "data": {
      "text/plain": [
       "{'query': '연봉 3000만원 거주자 소득세 얼마냐',\n",
       " 'context': [Document(id='cff0738b-e15c-47e3-9366-61e7083d9819', metadata={'source': './documents/income_tax.txt'}, page_content='제59조의3(연금계좌세액공제) ① 종합소득이 있는 거주자가 연금계좌에 납입한 금액 중 다음 각 호에 해당하는 금액을 제외한 금액(이하 \"연금계좌 납입액\"이라 한다) 중 100분의 12에 해당하는 과세기간에 종합소득세표준을 계산할 때 한산하는 종합소득금액이 4천500만원 이하(근로소득이 있는 경우에는 종합소득금액이 5천500만원 이하)에 대해서는 100분의 15에 해당하는 금액을 해당 과세기간의 종합소득세산출세액에서 공제한다. 다만, 연금계좌 중 연금주계좌에 납입한 금액이 연 600만원을 초과하는 경우에는 초과하는 금액은 그 금액으로 하고, 연금주계좌에 납입한 금액 중 600만원 이내의 금액과 기타연금계좌에 납입한 금액을 합한 금액이 연 900만원을 초과하는 경우에는 그 초과하는 금액은 금액으로 하는 것으 로 한다. <개정 2014. 12. 31.>\\n1. 제146조제28항에 따른 소득세 원천징수대상이 아닌 퇴직소득 등 기타 예외 소득\\n2. 연금계좌에 따른 연금계좌세액공제는 납입된 금액\\n③ 제1항에 따른 공제는 \"연금계좌세액공제\"라 한다.\\n④ \"조세특례제한법\", 제59조의18에 따른 기금이행자산관리계약이 만료되고 해당 계좌 잔여의 종류도 일정한 방법으로 정하는 방법으로 연금계좌에 납입한 금액(이하 이 조에서 \"전환금\"이라 한다)을 납입한 법인 또는 실속있는 방법으로 연금계좌의 납입액을 포함한다. <신설 2019. 12. 31.>\\n⑤ 전환금이 있는 경우 제1항 각 호의 부분 구분에서 불가피한 경우 한정 적용 할 전환금의 100분의 10을 초과하는 경우 제2항 각 호에 기한 연금계좌 세액에 발생한 금액에 대하여 차감하는 금액을 총 중간계좌 세액이 제1항 각 호에 해당 연금계좌에 납입한 금액으로 하는 금액을 포함하는 금액은 금액으로 하지 않는다. <신설 2019. 12. 31.>\\n⑥ 제1항부터 제3항까지의 규정에 따라 연금계좌세액공제의 계산방법, 신청 절차 등에 필요한 사항을 대통령령으로 정한다. <개정 2019. 12. 31.>\\n제59조의4(특별세액공제) ① 근로소득이 있는 거주자(일용근로자는 제외한다)가 해당 과세기간에 만기환급금의 납입보호를 초과하지 아니하는 범위의 범죄재판에 따라 지급되는 다음 각 호의 범위로 지칭한 경우 그 금액의 100분의 12(제1호의 경우에는 100분의 15)가 해당 과세기간의 종합소득세에서 공제한다. 다만, 각 호의 범위로 보할 경우 그 금액이 100만원을 초과하는 경우 그 초과하는 금액을 포함한다.\\n1. 기금구세대상자가 지체장애인으로 판별된 경우 장애인연금봉급으로 대통령령으로 정하는 장애인 통합공공서비스법\\n2. 기금구세대상자가 일반 متوسط병역자로 정하는 법률(제1호에 따라 장애인연금봉급으로 제어한다)\\n③ 근로소득이 있는 거주자는 기초공제대상자(나 및 소득의 필한 이와 같다)를 위하여 해당 과세기간에 대해 통합적으로 정하는 의료비를 지급한 경우 각 호의 금액의 100분의 15(제132조의 경우에는 100분의 20)을 초과하는 경우에 대해\\n소특별판'),\n",
       "  Document(id='17e44074-30a9-4948-bee5-b9b8ca7ebd7b', metadata={'source': './documents/income_tax.txt'}, page_content=\"제38조 삭제 <2006. 12. 30.>  \\n제3장 귀속소득 및 취득동 <재정 2009. 12. 31.>  \\n제39조(총수입금액 및 필요경비의 귀속연도 등) 제1항 거주자의 과세기간에 총수입금액 및 필요경비의 귀속연도는 총입금액의 필요경비획정일 등이 속하는 과세기간으로 한다.\\n2. 거주자가 매일, 취득 등으로 취득한 자산의 취득가액은 그 자산의 매입액에 의제원가에 부담비용을 대한 금액으로 한다.\\n3. 거주자가 보유하는 자산 및 부채의 정부자료를 중엽 등(평가상각을 제외한다. 이하 이 조에서 '평가'란 한다)의 경우 평가기간이 속하는 과세기간의 소득금액에 대한 자산 및 부채의 정부액을 평가하는 일 전 자여액으로 한다. 다만, 자산과부채 대청령 동의를 정하는 경우 유량별로 각 자산별로 대청령을 한다.\\n법제처 27\\n국가법령정보센터\\n소 특 세 번 \\n로 정하는 방법에 따라 평가는 가외부가 아닌 자에 의해 행한다. <개정 2018. 12. 31.>\\n④ 제자형에 포함하고 다음 각 호의 1 하나에 해당하는 자산은 대통령령으로 정하는 방법에 따라 장부가액을 감액할 수 있다. <개정 2019. 12. 31.>\\n1. 파산·부도 등으로 정상가액에 판매할 수 없는 자산\\n2. 천재지변이나 화재에 대하여 보험으로 정하는 사유를 파산 후 대체할 수 있는 유환자산\\n⑤ 거주자와 각 과세기간의 소득금액을 계산할 때 총수입금액 및 필요경비의 귀속연도와 자산·부채의 취득 및 평가에 대한 일반적용으로 공정·형평당한다는 인정되는 기업회계의 기준을 적용하여 관행을 계속 적용하여야 하는 이 범위 [원자재의 재비평가 방식]의 세택기준이 있는 경우 이와 기업회계의 기준도 관련된다. \\n<전문개정 2009. 12. 31.>\\n제40조 삭제 <2009. 12. 31.>\\n제41관 소득금의 계산의 특례 <개정 2019. 12. 31.>\\n제41조(부동산위탁계약) ① 납세의무자 또는 지방세칙제정자는 배당소득(제17조제1항제3호에 따른 배당소득만 해당한다), 사업소득 또는 기타소득이 있는 거주자와 계약하여 해당소득에 대한 조세 부담을 부당하게 감소시키는 것으로 개산이 거주자와 특별계인과의 거래로 인하여 해소될 경우 해당 소득금액을 계산할 수 있다. <개정 2012. 1. 1.>\\n② 제1항에 따른 특수관계의 범위와 밖에 부당행위계산에 관한 필요한 사항을 대통령령으로 정한다. <개정 2012. 1. 1.> \\n<전문개정 2009. 12. 31.>\\n제42조(비거주자 동종의 거래에 대한 소득금의 계산의 특례) ① 우리는 다라 조세의 이전과 회피를 위하여 체결한 조약에 따라 “조세조약이라 한다”가 실수와 고선제조약의 상호 합의 규정에 따라 거주자가 국외에 있는 비거주자 또는 외국법인에 관한 금액에 대하여 일정 조건과 합의하는 경우에는 합의에 따라 납세의무자 또는 지방세칙제정자가 거주자와 각 과세기간의 소득금액을 조정하여 계산할 수 있다.\\n② 제1항에 따른 거주자의 소득금액 조정의 신청에 관한 사항과 함께 조정에 필요한 사항을 대통령령으로 정한다. \\n<전문개정 2009. 12. 31.>\"),\n",
       "  Document(id='753a376c-9ab4-4e78-9678-a74c87f1fa94', metadata={'source': './documents/income_tax.txt'}, page_content='법제처 130 국가법령정보센터\\n소속세벤\\n➄ 제1항에도 불구하고 추가 남부세액이 10만 원을 초과하는 경우 원천징수의무자는 해당 과세기간의 다음 연도 2월분부터 4월분까지 근로소득을 지급할 때마다 추가 남부세액을 나누어 원천징수할 수 있다. <신설 2015. 3. 10.> [전문개정 2010. 12. 27.]\\n제137조(2건 이상으로부터 근로소득을 받는 사람에 대한 근로소득세의 연말정산)\\n① 2인 이상으로부터 근로소득을 받는 사람(일용근로자는 제외한다)이 대통령령으로 정하는 바에 따라 주된 근무지와 종된 근무지를 정하여 종된 근무지의 원천징수의무자로부터 제143조제1항에 따른 근로소득의 원천징수의무를 발행받아 해당 과세기간의 다음 연도 2월분에 근로소득을 받기 전에 주된 근무지의 원천징수의무자에게 제출하는 경우 주된 근무지의 근로소득에 대한 금액에 대하여 제137조에 따른 소득세를 원천징수한다.\\n② 제1항에 따라 근로소득 원천징수영수증을 발급하는 주된 근무지의 원천징수의무자는 해당 과세기간의 근로소득금액에 기본세율을 적용하여 계산한 소득세산출세액에 대해 제134조제1항에 따라 원천징수의무를 현출지급한다.\\n③ 제150조제3항에 따라 남의체험에 의하여 소득세 장수제127조제1항제1호 각 목에 따른 근로소득과 다른 근로소득이 함께 있는 사람(일용근로자는 제외한다)에게 근로소득세의 연말정산에 관하여 제1항과 제2항을 준용한다. [본소설 2010. 12. 27.]\\n제138조(자회세자에 대한 근로소득세의 연말정산)\\n➀ 해당 과세기간 중에 퇴직하는 경우 1월부터 과세기간이 끝날 때까지 받은 근로소득을 포함하여 제140조 제1항에 따라 근로소득세 소속ㆍ새의 공제신고서를 제출하는 경우 원천징수의무자는 그 근로소득이 중에서 받은 근로소득과 별도로 근무지에 받은 근로소득에 대해서는 제137조에 따른 소득세를 원천징수한다. <개정 2010. 12. 27. 2014. 1. 1.>\\n➁ 해당 과세기간 중에 퇴직한 근로소득자는 제137조에 따른 소득세를 납부한 후 다시 취직하고 과세기간의 중도에 다시 퇴직한 자에 대한 소득세의 원천징수에 관하여 제131항을 준용한다. [전문개정 2009. 12. 31.]\\n제139조(상조 부족에 의한 정산)\\n➀ 제137조, 제137조의2 또는 제138조에 따른 원천징수를 하는 경우 징수하여야 할 소득세 지급 받는 근로소득의 금액을 초과하거나 다음 달에 지급할 근로소득이 없는 경우 제한한다) 는 초과한 세액은 그 다음 달에 근로소득을 지급할 때에 정산한다. [전문개정 2010. 12. 27.]\\n제140조(근로소득자의 소득공제 등 신고)')]}"
      ]
     },
     "execution_count": 52,
     "metadata": {},
     "output_type": "execute_result"
    }
   ],
   "source": [
    "initial_state = {\"query\": \"연봉 3000만원 거주자 소득세 얼마냐\"}\n",
    "\n",
    "graph.invoke(initial_state)\n"
   ]
  },
  {
   "cell_type": "code",
   "execution_count": null,
   "metadata": {},
   "outputs": [],
   "source": []
  }
 ],
 "metadata": {
  "kernelspec": {
   "display_name": "VENV",
   "language": "python",
   "name": "python3"
  },
  "language_info": {
   "codemirror_mode": {
    "name": "ipython",
    "version": 3
   },
   "file_extension": ".py",
   "mimetype": "text/x-python",
   "name": "python",
   "nbconvert_exporter": "python",
   "pygments_lexer": "ipython3",
   "version": "3.11.8"
  }
 },
 "nbformat": 4,
 "nbformat_minor": 2
}
