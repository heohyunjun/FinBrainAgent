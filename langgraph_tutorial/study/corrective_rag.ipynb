{
 "cells": [
  {
   "cell_type": "code",
   "execution_count": 8,
   "metadata": {},
   "outputs": [
    {
     "data": {
      "text/plain": [
       "True"
      ]
     },
     "execution_count": 8,
     "metadata": {},
     "output_type": "execute_result"
    }
   ],
   "source": [
    "# 표준 라이브러리\n",
    "from typing import Literal\n",
    "from typing_extensions import TypedDict, List\n",
    "import os \n",
    "\n",
    "# 서드파티 라이브러리\n",
    "from dotenv import load_dotenv\n",
    "from langchain_chroma import Chroma\n",
    "from langgraph.graph import StateGraph, START, END\n",
    "from pyzerox import zerox\n",
    "\n",
    "# LangChain 관련 라이브러리\n",
    "from langchain_core.documents import Document\n",
    "from langchain_core.output_parsers import StrOutputParser\n",
    "from langchain_core.prompts import PromptTemplate\n",
    "from langchain_text_splitters import RecursiveCharacterTextSplitter\n",
    "from langchain_community.document_loaders import (\n",
    "    PyPDFLoader,\n",
    "    UnstructuredMarkdownLoader,\n",
    "    TextLoader,\n",
    ")\n",
    "from langchain_community.embeddings import HuggingFaceEmbeddings\n",
    "from langchain_community.tools import TavilySearchResults\n",
    "from langchain_groq import ChatGroq\n",
    "from langchain import hub\n",
    "\n",
    "load_dotenv()\n"
   ]
  },
  {
   "cell_type": "code",
   "execution_count": 2,
   "metadata": {},
   "outputs": [
    {
     "name": "stderr",
     "output_type": "stream",
     "text": [
      "C:\\Users\\user\\AppData\\Local\\Temp\\ipykernel_10664\\3184129235.py:7: LangChainDeprecationWarning: The class `HuggingFaceEmbeddings` was deprecated in LangChain 0.2.2 and will be removed in 1.0. An updated version of the class exists in the :class:`~langchain-huggingface package and should be used instead. To use it run `pip install -U :class:`~langchain-huggingface` and import as `from :class:`~langchain_huggingface import HuggingFaceEmbeddings``.\n",
      "  embeddings_model = HuggingFaceEmbeddings(\n",
      "c:\\USERS\\USER\\DESKTOP\\FINBRAINAGENT\\VENV\\Lib\\site-packages\\tqdm\\auto.py:21: TqdmWarning: IProgress not found. Please update jupyter and ipywidgets. See https://ipywidgets.readthedocs.io/en/stable/user_install.html\n",
      "  from .autonotebook import tqdm as notebook_tqdm\n"
     ]
    }
   ],
   "source": [
    "MODEL_NAME = \"gemma2-9b-it\"\n",
    "\n",
    "llm = ChatGroq(model_name=MODEL_NAME)\n",
    "\n",
    "\n",
    "# 이미 생성된 크로마 db 가져오기\n",
    "embeddings_model = HuggingFaceEmbeddings(\n",
    "    model_name='jhgan/ko-sroberta-nli',\n",
    "    model_kwargs={'device':'cpu'},\n",
    "    encode_kwargs={'normalize_embeddings':True},\n",
    ")\n",
    "\n",
    "\n",
    "vector_store = Chroma(\n",
    "    embedding_function=embeddings_model,\n",
    "    collection_name = \"income_tax_collection\",\n",
    "    persist_directory = \"./income_tax_collection\"\n",
    ")\n",
    "\n",
    "retriever = vector_store.as_retriever(search_kwargs = {\"k\":3})"
   ]
  },
  {
   "cell_type": "code",
   "execution_count": 6,
   "metadata": {},
   "outputs": [],
   "source": [
    "class AgentState(TypedDict):\n",
    "    query: str\n",
    "    context: List\n",
    "    answer: str\n",
    "\n",
    "\n",
    "prompt = hub.pull(\"rlm/rag-prompt\")\n",
    "generate_prompt = hub.pull(\"rlm/rag-prompt\")\n",
    "doc_relevance_prompt = hub.pull(\"langchain-ai/rag-document-relevance\")\n",
    "\n",
    "\n",
    "def retrieve(state: AgentState):\n",
    "    query = state[\"query\"]\n",
    "    docs = retriever.invoke(query)\n",
    "    return {\"context\" : docs}\n",
    "\n",
    "def generate(state: AgentState):\n",
    "\n",
    "    context = state['context']\n",
    "    query = state['query']\n",
    "    \n",
    "    rag_chain = generate_prompt | llm | StrOutputParser()\n",
    "    \n",
    "\n",
    "    response = rag_chain.invoke({'question': query, 'context': context})\n",
    "\n",
    "    return {'answer': response}\n",
    "\n",
    "\n",
    "def check_doc_relevance(state : AgentState) -> Literal['relevant', 'irrelevant']:\n",
    "    query = state[\"query\"]\n",
    "    context = state[\"context\"]\n",
    "    print(f\"context == {context}\")\n",
    "    doc_relevance_chain = doc_relevance_prompt | llm\n",
    "    response = doc_relevance_chain.invoke({\"question\" : query, \"documents\" : context})\n",
    "    print(f\"response == {response}\")\n",
    "    if response[\"Score\"] ==1:\n",
    "        return \"relevant\"\n",
    "    return \"irrelevant\""
   ]
  },
  {
   "cell_type": "code",
   "execution_count": 7,
   "metadata": {},
   "outputs": [],
   "source": [
    "\n",
    "rewrite_prompt = PromptTemplate.from_template(\"\"\"사용자 질문을 보고, 웹 검색에 용이하게 사용자 질문을 수정해라 \n",
    "                                              질문: {query}\"\"\")\n",
    "def rewrite(state: AgentState):\n",
    "    query = state[\"query\"]\n",
    "    rewrite_chain = rewrite_prompt | llm | StrOutputParser()\n",
    "    \n",
    "\n",
    "    response = rewrite_chain.invoke({\"query\" : query})\n",
    "    print(f\"rewrite_response =={response}\")\n",
    "    return {\"query\" : response}"
   ]
  },
  {
   "cell_type": "code",
   "execution_count": 12,
   "metadata": {},
   "outputs": [],
   "source": [
    "tavily_search_tool = TavilySearchResults(\n",
    "    max_results=3,\n",
    "    search_depth=\"advanced\",\n",
    "    include_answer=True,\n",
    "    include_raw_content=True,\n",
    "    include_images=True,\n",
    ")\n",
    "\n",
    "def web_search(state: AgentState):\n",
    "    query = state[\"query\"]\n",
    "    results = tavily_search_tool.invoke(query)\n",
    "    print(f\"web_search_results == {results}\")\n",
    "    return {\"context\": results}\n"
   ]
  },
  {
   "cell_type": "code",
   "execution_count": 13,
   "metadata": {},
   "outputs": [],
   "source": [
    "graph_builder = StateGraph(AgentState)\n",
    "\n",
    "graph_builder.add_node(\"retrieve\", retrieve)\n",
    "graph_builder.add_node(\"generate\", generate)\n",
    "graph_builder.add_node(\"rewrite\", rewrite)\n",
    "graph_builder.add_node(\"web_search\", web_search)\n",
    "\n",
    "graph_builder.add_edge(START, \"retrieve\")\n",
    "graph_builder.add_conditional_edges(\n",
    "    \"retrieve\",\n",
    "    check_doc_relevance,\n",
    "    {\n",
    "        \"relevant\": \"generate\",\n",
    "        \"irrelevant\": \"rewrite\"\n",
    "    },\n",
    ")\n",
    "\n",
    "graph_builder.add_edge(\"rewrite\", \"web_search\")\n",
    "graph_builder.add_edge(\"web_search\", \"generate\")\n",
    "graph_builder.add_edge(\"generate\", END)\n",
    "\n",
    "graph = graph_builder.compile()\n"
   ]
  },
  {
   "cell_type": "code",
   "execution_count": 14,
   "metadata": {},
   "outputs": [
    {
     "data": {
      "image/png": "[encoded data removed]",
      "text/plain": [
       "<IPython.core.display.Image object>"
      ]
     },
     "metadata": {},
     "output_type": "display_data"
    }
   ],
   "source": [
    "from IPython.display import Image, display\n",
    "\n",
    "display(\n",
    "    Image(\n",
    "        graph.get_graph(xray=True).draw_mermaid_png()\n",
    "    )\n",
    ")\n"
   ]
  },
  {
   "cell_type": "code",
   "execution_count": 15,
   "metadata": {},
   "outputs": [
    {
     "name": "stdout",
     "output_type": "stream",
     "text": [
      "context == [Document(id='a58b5c03-3e00-4a5d-b672-362416d15e60', metadata={'source': './documents/income_tax.txt'}, page_content='담당세무서로서 담당공무원에게 지명이음으로는 보호를 위하는 바에 따라 담의 다음을 말하기는 것에 대한 해상금의 숙소는 본 해당하는 숙소는 달의 다음과 함께 말할 것이다. <개정 2020. 12. 29, 2021. 3. 16.>\\n법제처 151\\n국가법전정보센터'), Document(id='533fb97c-cf2d-4873-b2ee-922ae4fbb6e8', metadata={'source': './documents/income_tax.txt'}, page_content='범죄처 122 국가법정정보센터\\n한다. <개정 2009. 12. 31, 2010. 12. 27.>\\n⑥ 사업자(법인은 포함한다. 이하 이 약에서 같다)가 음식, 숙박용역이나 서비스용역을 공급하고 그 대가를 받을 때 지정제한법에 따른 봉사료를 포함하여 하여야 소득세가 그 사업자에게 대한 소득세를 원천징수하여야 한다. <개정 2009. 12. 31, 2010. 12. 27.>\\n⑦ 제정부칙 제향까지의 규정에 이어야 할 자를 “원천징수의무자”라 한다. <개정 2010. 12. 27.>\\n⑧ 원천징수의무자의 범위 등 밖에 필요한 사항을 대통령령으로 정한다. <신설 2013. 1. 1.> \\n[제목개정 2009. 12. 31]\\n제127조(원천징수의무) \\n국내에서 거주자나 비거주자에게 다음 각 호의 어느 하나에 해당하는 소득을 지급하는 자(제3호 또는 제4호의 소득을 지급하는 자의 경우에는 사업자)는 대통령령으로 정하는 바에 의하여 그 사업자가 그 소득세를 원천징수하여야 한다. <개정 2009. 12. 31, 2010. 12. 27, 2015. 12. 15, 2020. 12. 29.>\\n1. 이자소득\\n2. 배당소득\\n3. 대여금융소득을 정의하는 사업소득(이하 “원천징수대상 사업소득”이라 한다)\\n4. 근로소득. 다만, 다음 각 목의 어느 하나에 해당하는 소득은 제외한다.\\n  가. 외국에서 은퇴연금에 주도록 지정한(미국의 제정법으로부터 받는 근로소득\\n  나. 국외에 있는 비거주자 또는 규격법인(국내법인 또는 국내영업소를 지정하지 아니하게)은 다만, 다음의 어느 하나에 해당하는 소득은 제외한다.\\n  1) 제120조제1항 및 제122항의 비거주자와 국내사업자가 “법인세법” 제94조제1항 및 제126항의 외국법인의 국내사업장에 있었던 원천징수소득금액을 계산할 때 필요한 손금으로 계산하는 소득\\n  2) 국외에 있는 외국법인(거주지의 적이 있는 국내영업소는 제외하는 것으로 제156조에 의하여 소득세가 원천징수되는 파격근로자의 소득\\n5. 연금소득\\n6. 기타소득. 다만, 다음 각 목의 어느 하나에 해당하는 소득은 제외한다.\\n  가. 제80조에 따른 소득\\n  나. 제81조제1항제10호에 따른 위약금·배상금(계약의 위반과 배상금으로 대체되는 경우만 해당한다)\\n  다. 제81조제1항제2조, 제82조 또는 제87조에 따른 소득\\n7. 퇴직소득. 다만, 제54조 각 목의 어느 하나에 해당하는 근로소득이 있는 사람이 퇴직함으로써 받는 소득은 제외한다.\\n8. 대통령령으로 정하는 봉사소득\\n9. 금용대리로 정의하는 금융부동소득\\n제127조의3(원천징수) \\n제134회에 따른 원천징수하여야 할 자에게 대한 소득의 경우에는 사업자 대통령령으로 정하는 자로 한정할 방법 달리한다. 그러므로 이 행위의 수급(受給)이 본인의 범위에서 본인의 행위로 보아 지원을 요구한다. <개정 2010. 12. 31, 2010. 12. 27.>'), Document(id='d6a31ea0-a54b-465a-98e8-fc0043528c01', metadata={'source': './documents/income_tax.txt'}, page_content=\"- ㉠ '국가기본세법'에 따라 사업등록을 하는 사업자는 해당 사업에 관하여 제18항에 따라 등록할 것으로 판단한다.\\n  ② 법인에 대한 사업등록을 하는 사업자의 관하여는 “부가가치세법, 제조업법 중관다., 제168조 6.7-”.\\n    사업장 소재지의 법인으로는 단체 및 법인 단체의 소재지 관할 세무서가 다음 각 호의 어느 하나에 해당하는 자에게 대통령령으로 정하는 바에 따라 고유번호를 매길 수 있다.\\n  1. 종합소득이 있는 사업자가 아닌 자\\n  2. '대형일반중간지원법', 대한 등록된 단체 등 과세표준 및 소득증명 사무 경험을 위하여 필요한 일정온의 자\\n[전문개정 2009. 12. 31.]\\n제169조(교부금의 지급)\\n국세청장은 제150조에 따라 소득세를 증수하여 납부한 자에게 대통령령으로 정하는 바에 따라 교부금을 지급하여야 한다.\\n[전문개정 2009. 12. 31.]\\n제170조(질문·조사)\\n① 소틀세에 관한 사무에 종사하는 공무원은 그 직무 수행을 위하여 필요한 경우에는 다음 각 호의 어느 하나에 해당하는 자에게 질문을 하거나 해당 정부·서류 또는 그 밖의 물건을 조사하거나 그 제출을 명할 수 있다. 다만, 제21조제1항제26호에 따른 공공미소득제21조제위생법의 경우를 포함하는 데 대하여 종교단체의 장사 · 서류 또는 그 밖의 물건 중에서 종교의식과 관련된 부분에 한정하여 조사하거나 그 제출을 명할 수 있다.\\n  1. 남제기무자 또는 남제에 의한 인증되는 자\\n  2. 원천징수의무자\\n  3. 남비세통제 및 제정에 관한 자\\n  4. 방문능의를 지원하는 자 및 등록된 단체의 과세관리인\\n  5. 남제에 의해 규정하는 자가 아닌 인증되는 자\\n  6. 기부금 영수증 발급하는 자\\n  7. 제1항을 적용할 경우 소틀세에 관한 사무에 종사하는 공무원은 직무를 위하여 필요한 법의 제6 이하의 목적 등 을 위하여 그 관련을 긴용해야 하는 것이 아니다.\\n[신설 2018. 12. 31., 2020. 12. 29.]\\n법제처 \\n155\\n국가기본정보센터\\n소맥세반\\n[전문개정 2009. 12. 31.]\\n제171조(자문)\\n세무서장, 지방국세청장 또는 국세청장은 소득세에 관한 신 - 결정 - 경정 또는 조사를 할 때 필요한 사항과 관련된 사항에 대하여 단체 또는 해당 사업에 정통(精通)한 자에게 소득세에 관한 사항을 자문할 수 있다.\\n[전문개정 2009. 12. 31.]\\n제172조(예각·동기 - 동부관세 서류 등의 열람)\\n관할 세무서장, 지방국세청장 또는 그 위임을 받은 세무공무원에게 이 기재의 제한 사항에 소속을 파악하기 위하여 다음 각 호의 자료에 대한 관계 서류의 열람 또는 복사를 요청하는 경우 관계기관은 정당한 사유가 없으면 이에 따라야 한다.\\n1. 주택, 토지, 공짜재산, 선박, 건설기계 및 자동차 등의 매각·동기·등록자료\\n2. '국민권익위원회'에 따른 수수료 등의 소득, 재산 및 경비 자료\\n3. '국민연금법'에 따른 가입자 등의 소득, 재산 및 연금 자료\\n4. '국민건강보험법'에 따른 가입자 등의 소득, 재산 및 요양급여 자료\")]\n",
      "response == {'Explanation': 'The facts provided are unrelated to the question as they contain information about income tax laws and regulations.', 'Score': 0}\n",
      "rewrite_response ==## 사용자 질문 수정: 강남역 맛집 추천 \n",
      "\n",
      "다음과 같은 방법으로 웹 검색에 용이하게 수정할 수 있습니다. \n",
      "\n",
      "1. **요리 종류를 명시:** \n",
      "    * 강남역 **한식 맛집** 추천해라\n",
      "    * 강남역 **피자 맛집** 추천해라\n",
      "    * 강남역 **고기 맛집** 추천해라\n",
      "\n",
      "2. **가격대를 명시:**\n",
      "    * 강남역 **저렴한 맛집** 추천해라\n",
      "    * 강남역 **고급 맛집** 추천해라\n",
      "    * 강남역 **1인 기준 1만원 이내 맛집** 추천해라\n",
      "\n",
      "3. **특정 분위기나 테마를 명시:**\n",
      "    * 강남역 **분위기 좋은 데이트 맛집** 추천해라\n",
      "    * 강남역 **가족끼리 갈 수 있는 맛집** 추천해라\n",
      "    * 강남역 **친구들과 모여서 먹기 좋은 맛집** 추천해라\n",
      "\n",
      "4. **구체적인 메뉴를 언급:**\n",
      "    * 강남역 **닭갈비 맛집** 추천해라\n",
      "    * 강남역 **파스타 맛집** 추천해라\n",
      "    * 강남역 **갈비찜 맛집** 추천해라\n",
      "\n",
      "5. **추가 정보를 포함:**\n",
      "    * 강남역 **맛집 숨은 명소** 추천해라\n",
      "    * 강남역 **보이지 않는 맛집** 추천해라\n",
      "    * 강남역 **지하철 1호선 강남역 근처 맛집** 추천해라\n",
      "\n",
      "\n",
      "\n",
      "위와 같은 방법으로 질문을 수정하면 좀 더 정확하고 유용한 검색 결과를 얻을 수 있습니다.\n",
      "\n",
      "web_search_results == HTTPError('400 Client Error: Bad Request for url: https://api.tavily.com/search')\n"
     ]
    },
    {
     "data": {
      "text/plain": [
       "{'query': '## 사용자 질문 수정: 강남역 맛집 추천 \\n\\n다음과 같은 방법으로 웹 검색에 용이하게 수정할 수 있습니다. \\n\\n1. **요리 종류를 명시:** \\n    * 강남역 **한식 맛집** 추천해라\\n    * 강남역 **피자 맛집** 추천해라\\n    * 강남역 **고기 맛집** 추천해라\\n\\n2. **가격대를 명시:**\\n    * 강남역 **저렴한 맛집** 추천해라\\n    * 강남역 **고급 맛집** 추천해라\\n    * 강남역 **1인 기준 1만원 이내 맛집** 추천해라\\n\\n3. **특정 분위기나 테마를 명시:**\\n    * 강남역 **분위기 좋은 데이트 맛집** 추천해라\\n    * 강남역 **가족끼리 갈 수 있는 맛집** 추천해라\\n    * 강남역 **친구들과 모여서 먹기 좋은 맛집** 추천해라\\n\\n4. **구체적인 메뉴를 언급:**\\n    * 강남역 **닭갈비 맛집** 추천해라\\n    * 강남역 **파스타 맛집** 추천해라\\n    * 강남역 **갈비찜 맛집** 추천해라\\n\\n5. **추가 정보를 포함:**\\n    * 강남역 **맛집 숨은 명소** 추천해라\\n    * 강남역 **보이지 않는 맛집** 추천해라\\n    * 강남역 **지하철 1호선 강남역 근처 맛집** 추천해라\\n\\n\\n\\n위와 같은 방법으로 질문을 수정하면 좀 더 정확하고 유용한 검색 결과를 얻을 수 있습니다.\\n',\n",
       " 'context': \"HTTPError('400 Client Error: Bad Request for url: https://api.tavily.com/search')\",\n",
       " 'answer': \"I don't know. I am not able to access external websites or APIs to retrieve information.  My knowledge is based on the text data I was trained on. \\n\"}"
      ]
     },
     "execution_count": 15,
     "metadata": {},
     "output_type": "execute_result"
    }
   ],
   "source": [
    "initial_state = {\"query\": \"강남역 맛집 추천해라\"}\n",
    "\n",
    "graph.invoke(initial_state)\n"
   ]
  },
  {
   "cell_type": "code",
   "execution_count": 16,
   "metadata": {},
   "outputs": [],
   "source": [
    "no_rewrite_graph_builder = StateGraph(AgentState)\n",
    "\n",
    "no_rewrite_graph_builder.add_node(\"retrieve\", retrieve)\n",
    "no_rewrite_graph_builder.add_node(\"generate\", generate)\n",
    "\n",
    "no_rewrite_graph_builder.add_node(\"web_search\", web_search)\n",
    "\n",
    "no_rewrite_graph_builder.add_edge(START, \"retrieve\")\n",
    "no_rewrite_graph_builder.add_conditional_edges(\n",
    "    \"retrieve\",\n",
    "    check_doc_relevance,\n",
    "    {\n",
    "        \"relevant\": \"generate\",\n",
    "        \"irrelevant\": \"web_search\"\n",
    "    },\n",
    ")\n",
    "\n",
    "no_rewrite_graph_builder.add_edge(\"web_search\", \"generate\")\n",
    "no_rewrite_graph_builder.add_edge(\"generate\", END)\n",
    "\n",
    "no_rewrite_graph = no_rewrite_graph_builder.compile()\n"
   ]
  },
  {
   "cell_type": "code",
   "execution_count": 17,
   "metadata": {},
   "outputs": [
    {
     "data": {
      "image/png": "[encoded data removed]",
      "text/plain": [
       "<IPython.core.display.Image object>"
      ]
     },
     "metadata": {},
     "output_type": "display_data"
    }
   ],
   "source": [
    "display(\n",
    "    Image(\n",
    "        no_rewrite_graph.get_graph(xray=True).draw_mermaid_png()\n",
    "    )\n",
    ")\n"
   ]
  },
  {
   "cell_type": "code",
   "execution_count": 18,
   "metadata": {},
   "outputs": [
    {
     "name": "stdout",
     "output_type": "stream",
     "text": [
      "context == [Document(id='a58b5c03-3e00-4a5d-b672-362416d15e60', metadata={'source': './documents/income_tax.txt'}, page_content='담당세무서로서 담당공무원에게 지명이음으로는 보호를 위하는 바에 따라 담의 다음을 말하기는 것에 대한 해상금의 숙소는 본 해당하는 숙소는 달의 다음과 함께 말할 것이다. <개정 2020. 12. 29, 2021. 3. 16.>\\n법제처 151\\n국가법전정보센터'), Document(id='533fb97c-cf2d-4873-b2ee-922ae4fbb6e8', metadata={'source': './documents/income_tax.txt'}, page_content='범죄처 122 국가법정정보센터\\n한다. <개정 2009. 12. 31, 2010. 12. 27.>\\n⑥ 사업자(법인은 포함한다. 이하 이 약에서 같다)가 음식, 숙박용역이나 서비스용역을 공급하고 그 대가를 받을 때 지정제한법에 따른 봉사료를 포함하여 하여야 소득세가 그 사업자에게 대한 소득세를 원천징수하여야 한다. <개정 2009. 12. 31, 2010. 12. 27.>\\n⑦ 제정부칙 제향까지의 규정에 이어야 할 자를 “원천징수의무자”라 한다. <개정 2010. 12. 27.>\\n⑧ 원천징수의무자의 범위 등 밖에 필요한 사항을 대통령령으로 정한다. <신설 2013. 1. 1.> \\n[제목개정 2009. 12. 31]\\n제127조(원천징수의무) \\n국내에서 거주자나 비거주자에게 다음 각 호의 어느 하나에 해당하는 소득을 지급하는 자(제3호 또는 제4호의 소득을 지급하는 자의 경우에는 사업자)는 대통령령으로 정하는 바에 의하여 그 사업자가 그 소득세를 원천징수하여야 한다. <개정 2009. 12. 31, 2010. 12. 27, 2015. 12. 15, 2020. 12. 29.>\\n1. 이자소득\\n2. 배당소득\\n3. 대여금융소득을 정의하는 사업소득(이하 “원천징수대상 사업소득”이라 한다)\\n4. 근로소득. 다만, 다음 각 목의 어느 하나에 해당하는 소득은 제외한다.\\n  가. 외국에서 은퇴연금에 주도록 지정한(미국의 제정법으로부터 받는 근로소득\\n  나. 국외에 있는 비거주자 또는 규격법인(국내법인 또는 국내영업소를 지정하지 아니하게)은 다만, 다음의 어느 하나에 해당하는 소득은 제외한다.\\n  1) 제120조제1항 및 제122항의 비거주자와 국내사업자가 “법인세법” 제94조제1항 및 제126항의 외국법인의 국내사업장에 있었던 원천징수소득금액을 계산할 때 필요한 손금으로 계산하는 소득\\n  2) 국외에 있는 외국법인(거주지의 적이 있는 국내영업소는 제외하는 것으로 제156조에 의하여 소득세가 원천징수되는 파격근로자의 소득\\n5. 연금소득\\n6. 기타소득. 다만, 다음 각 목의 어느 하나에 해당하는 소득은 제외한다.\\n  가. 제80조에 따른 소득\\n  나. 제81조제1항제10호에 따른 위약금·배상금(계약의 위반과 배상금으로 대체되는 경우만 해당한다)\\n  다. 제81조제1항제2조, 제82조 또는 제87조에 따른 소득\\n7. 퇴직소득. 다만, 제54조 각 목의 어느 하나에 해당하는 근로소득이 있는 사람이 퇴직함으로써 받는 소득은 제외한다.\\n8. 대통령령으로 정하는 봉사소득\\n9. 금용대리로 정의하는 금융부동소득\\n제127조의3(원천징수) \\n제134회에 따른 원천징수하여야 할 자에게 대한 소득의 경우에는 사업자 대통령령으로 정하는 자로 한정할 방법 달리한다. 그러므로 이 행위의 수급(受給)이 본인의 범위에서 본인의 행위로 보아 지원을 요구한다. <개정 2010. 12. 31, 2010. 12. 27.>'), Document(id='d6a31ea0-a54b-465a-98e8-fc0043528c01', metadata={'source': './documents/income_tax.txt'}, page_content=\"- ㉠ '국가기본세법'에 따라 사업등록을 하는 사업자는 해당 사업에 관하여 제18항에 따라 등록할 것으로 판단한다.\\n  ② 법인에 대한 사업등록을 하는 사업자의 관하여는 “부가가치세법, 제조업법 중관다., 제168조 6.7-”.\\n    사업장 소재지의 법인으로는 단체 및 법인 단체의 소재지 관할 세무서가 다음 각 호의 어느 하나에 해당하는 자에게 대통령령으로 정하는 바에 따라 고유번호를 매길 수 있다.\\n  1. 종합소득이 있는 사업자가 아닌 자\\n  2. '대형일반중간지원법', 대한 등록된 단체 등 과세표준 및 소득증명 사무 경험을 위하여 필요한 일정온의 자\\n[전문개정 2009. 12. 31.]\\n제169조(교부금의 지급)\\n국세청장은 제150조에 따라 소득세를 증수하여 납부한 자에게 대통령령으로 정하는 바에 따라 교부금을 지급하여야 한다.\\n[전문개정 2009. 12. 31.]\\n제170조(질문·조사)\\n① 소틀세에 관한 사무에 종사하는 공무원은 그 직무 수행을 위하여 필요한 경우에는 다음 각 호의 어느 하나에 해당하는 자에게 질문을 하거나 해당 정부·서류 또는 그 밖의 물건을 조사하거나 그 제출을 명할 수 있다. 다만, 제21조제1항제26호에 따른 공공미소득제21조제위생법의 경우를 포함하는 데 대하여 종교단체의 장사 · 서류 또는 그 밖의 물건 중에서 종교의식과 관련된 부분에 한정하여 조사하거나 그 제출을 명할 수 있다.\\n  1. 남제기무자 또는 남제에 의한 인증되는 자\\n  2. 원천징수의무자\\n  3. 남비세통제 및 제정에 관한 자\\n  4. 방문능의를 지원하는 자 및 등록된 단체의 과세관리인\\n  5. 남제에 의해 규정하는 자가 아닌 인증되는 자\\n  6. 기부금 영수증 발급하는 자\\n  7. 제1항을 적용할 경우 소틀세에 관한 사무에 종사하는 공무원은 직무를 위하여 필요한 법의 제6 이하의 목적 등 을 위하여 그 관련을 긴용해야 하는 것이 아니다.\\n[신설 2018. 12. 31., 2020. 12. 29.]\\n법제처 \\n155\\n국가기본정보센터\\n소맥세반\\n[전문개정 2009. 12. 31.]\\n제171조(자문)\\n세무서장, 지방국세청장 또는 국세청장은 소득세에 관한 신 - 결정 - 경정 또는 조사를 할 때 필요한 사항과 관련된 사항에 대하여 단체 또는 해당 사업에 정통(精通)한 자에게 소득세에 관한 사항을 자문할 수 있다.\\n[전문개정 2009. 12. 31.]\\n제172조(예각·동기 - 동부관세 서류 등의 열람)\\n관할 세무서장, 지방국세청장 또는 그 위임을 받은 세무공무원에게 이 기재의 제한 사항에 소속을 파악하기 위하여 다음 각 호의 자료에 대한 관계 서류의 열람 또는 복사를 요청하는 경우 관계기관은 정당한 사유가 없으면 이에 따라야 한다.\\n1. 주택, 토지, 공짜재산, 선박, 건설기계 및 자동차 등의 매각·동기·등록자료\\n2. '국민권익위원회'에 따른 수수료 등의 소득, 재산 및 경비 자료\\n3. '국민연금법'에 따른 가입자 등의 소득, 재산 및 연금 자료\\n4. '국민건강보험법'에 따른 가입자 등의 소득, 재산 및 요양급여 자료\")]\n",
      "response == {'Explanation': 'The provided FACTS are completely unrelated to the QUESTION about restaurant recommendations in Gangnam.', 'Score': 0}\n",
      "web_search_results == [{'url': 'https://www.siksinhot.com/taste?upHpAreaId=9&hpAreaId=33&isBestOrd=N', 'content': '추천 맛집(271)식신과 매장 방문 고객님들이 함께 엄선한 인기 맛집입니다. · best. 4.2. 강남교자. 강남역 · best. 4.4. 도치피자. 주차 · best 착한식당. 4.1. 시골야채된장.'}, {'url': 'https://m.blog.naver.com/twin_couple/222717441660', 'content': '1. 강남역 제철한식 맛집 : 들름집 · 2. 강남역 맛집 : 기와집양대창 · 3. 강남역 룸있는 #식당 : 우탭 · 4. #강남역맛집 매운갈비찜 : 푸에르코 강남 · 5.'}, {'url': 'https://m.blog.naver.com/twin_couple/222831691893', 'content': '강남역 맛집 내돈내산 14군데 모음 (3탄) : 네이버 블로그 강남역 맛집 내돈내산 14군데 모음 (3탄) #직장인 #점심 먹으러 자주가는 #강남역 #맛집 #정리! #식당 선정 필요할 때, #메뉴 고민될 때 나를 위해 해보는 간단한 #강남역 #맛집 #내돈내산 #기록 #모음~ 벌써 3탄이네;;;ㅋㅋ 내 기준 맛집은 #맛집 으로, 그 정도는 아니면 그냥 #식당 으로 표기합니다. 1. 강남역 맛집 : 신도세기 아 여기 낙지가 진짜 실하다ㅎㅎㅎㅎ 근데 점심메뉴용이 있고, 따로 메인요리로 시키는 게 있는데, 같이 가신 분이 메인요리로 시켜주셔서 더 실하고 양도 많았던 거 같기도... 강남역 맛집 무교동낙지 4. 강남역 맛집 : 소호정 강남역 맛집 소호정 강남역 맛집 낙원타코 9. 강남역 맛집 : 해우담 강남역 맛집 푸에르코 ▼ 강남역 내돈내산 직장인 점심 맛집 모음 1탄 ▼ 강남역 내돈내산 직장인 점심 맛집 모음 2탄'}]\n"
     ]
    },
    {
     "data": {
      "text/plain": [
       "{'query': '강남역 맛집 추천해라',\n",
       " 'context': [{'url': 'https://www.siksinhot.com/taste?upHpAreaId=9&hpAreaId=33&isBestOrd=N',\n",
       "   'content': '추천 맛집(271)식신과 매장 방문 고객님들이 함께 엄선한 인기 맛집입니다. · best. 4.2. 강남교자. 강남역 · best. 4.4. 도치피자. 주차 · best 착한식당. 4.1. 시골야채된장.'},\n",
       "  {'url': 'https://m.blog.naver.com/twin_couple/222717441660',\n",
       "   'content': '1. 강남역 제철한식 맛집 : 들름집 · 2. 강남역 맛집 : 기와집양대창 · 3. 강남역 룸있는 #식당 : 우탭 · 4. #강남역맛집 매운갈비찜 : 푸에르코 강남 · 5.'},\n",
       "  {'url': 'https://m.blog.naver.com/twin_couple/222831691893',\n",
       "   'content': '강남역 맛집 내돈내산 14군데 모음 (3탄) : 네이버 블로그 강남역 맛집 내돈내산 14군데 모음 (3탄) #직장인 #점심 먹으러 자주가는 #강남역 #맛집 #정리! #식당 선정 필요할 때, #메뉴 고민될 때 나를 위해 해보는 간단한 #강남역 #맛집 #내돈내산 #기록 #모음~ 벌써 3탄이네;;;ㅋㅋ 내 기준 맛집은 #맛집 으로, 그 정도는 아니면 그냥 #식당 으로 표기합니다. 1. 강남역 맛집 : 신도세기 아 여기 낙지가 진짜 실하다ㅎㅎㅎㅎ 근데 점심메뉴용이 있고, 따로 메인요리로 시키는 게 있는데, 같이 가신 분이 메인요리로 시켜주셔서 더 실하고 양도 많았던 거 같기도... 강남역 맛집 무교동낙지 4. 강남역 맛집 : 소호정 강남역 맛집 소호정 강남역 맛집 낙원타코 9. 강남역 맛집 : 해우담 강남역 맛집 푸에르코 ▼ 강남역 내돈내산 직장인 점심 맛집 모음 1탄 ▼ 강남역 내돈내산 직장인 점심 맛집 모음 2탄'}],\n",
       " 'answer': '강남역 맛집으로 강남교자, 도치피자, 착한식당이 추천됩니다.  또한, 들름집, 기와집양대창, 우탭도 강남역 맛집으로 유명합니다.  다른 맛집 정보는 블로그 게시글에서 확인할 수 있습니다. \\n\\n\\n'}"
      ]
     },
     "execution_count": 18,
     "metadata": {},
     "output_type": "execute_result"
    }
   ],
   "source": [
    "initial_state = {\"query\": \"강남역 맛집 추천해라\"}\n",
    "\n",
    "no_rewrite_graph.invoke(initial_state)\n"
   ]
  },
  {
   "cell_type": "code",
   "execution_count": null,
   "metadata": {},
   "outputs": [],
   "source": []
  }
 ],
 "metadata": {
  "kernelspec": {
   "display_name": "VENV",
   "language": "python",
   "name": "python3"
  },
  "language_info": {
   "codemirror_mode": {
    "name": "ipython",
    "version": 3
   },
   "file_extension": ".py",
   "mimetype": "text/x-python",
   "name": "python",
   "nbconvert_exporter": "python",
   "pygments_lexer": "ipython3",
   "version": "3.11.8"
  }
 },
 "nbformat": 4,
 "nbformat_minor": 2
}
