{
 "cells": [
  {
   "cell_type": "code",
   "execution_count": 31,
   "metadata": {},
   "outputs": [
    {
     "data": {
      "text/plain": [
       "True"
      ]
     },
     "execution_count": 31,
     "metadata": {},
     "output_type": "execute_result"
    }
   ],
   "source": [
    "# 표준 라이브러리\n",
    "from typing import Literal\n",
    "from typing_extensions import TypedDict, List\n",
    "import os \n",
    "\n",
    "# 서드파티 라이브러리\n",
    "from dotenv import load_dotenv\n",
    "from langchain_chroma import Chroma\n",
    "from langgraph.graph import StateGraph, START, END\n",
    "from pyzerox import zerox\n",
    "\n",
    "# LangChain 관련 라이브러리\n",
    "from langchain_core.documents import Document\n",
    "from langchain_core.output_parsers import StrOutputParser\n",
    "from langchain_core.prompts import PromptTemplate,ChatPromptTemplate\n",
    "from langchain_text_splitters import RecursiveCharacterTextSplitter\n",
    "from langchain_community.document_loaders import (\n",
    "    PyPDFLoader,\n",
    "    UnstructuredMarkdownLoader,\n",
    "    TextLoader,\n",
    ")\n",
    "from langchain_community.embeddings import HuggingFaceEmbeddings\n",
    "from langchain_community.tools import TavilySearchResults\n",
    "from langchain_groq import ChatGroq\n",
    "from langchain import hub\n",
    "from langchain_core.runnables import RunnablePassthrough\n",
    "import markdown\n",
    "from bs4 import BeautifulSoup\n",
    "from datetime import date\n",
    "\n",
    "load_dotenv()\n"
   ]
  },
  {
   "cell_type": "code",
   "execution_count": 11,
   "metadata": {},
   "outputs": [],
   "source": [
    "MODEL_NAME = \"gemma2-9b-it\"\n",
    "\n",
    "llm = ChatGroq(model_name=MODEL_NAME)\n",
    "small_llm = ChatGroq(model_name=MODEL_NAME)"
   ]
  },
  {
   "cell_type": "code",
   "execution_count": 13,
   "metadata": {},
   "outputs": [],
   "source": [
    "# 프롬프트\n",
    "rag_prompt = hub.pull(\"rlm/rag-prompt\")\n",
    "\n"
   ]
  },
  {
   "cell_type": "code",
   "execution_count": 46,
   "metadata": {},
   "outputs": [],
   "source": [
    "class AgentState(TypedDict):\n",
    "    query: str\n",
    "    answer: str\n",
    "\n",
    "    tax_base_equation: str # 과세표준 계산 수식\n",
    "    tax_deduction: str # 공제액\n",
    "    market_ratio: str # 공정시장가액비율\n",
    "    tax_base: str # 과세표준 계산\n",
    "    "
   ]
  },
  {
   "cell_type": "code",
   "execution_count": 5,
   "metadata": {},
   "outputs": [
    {
     "name": "stdout",
     "output_type": "stream",
     "text": [
      "Markdown converted to plain text successfully!\n"
     ]
    }
   ],
   "source": [
    "text_path = './documents/real_estate_tax.txt'\n",
    "\n",
    "markdown_path =\"./documents/real_estate_tax.md\"\n",
    "\n",
    "# 마크다운 파일\n",
    "with open(markdown_path, 'r', encoding='utf-8') as md_file:\n",
    "    md_content = md_file.read()\n",
    "\n",
    "# 마크다운 콘텐츠를 HTML로 변환\n",
    "html_content = markdown.markdown(md_content)\n",
    "\n",
    "# HTML 콘텐츠를 파싱하여 텍스트만 추출합니다\n",
    "soup = BeautifulSoup(html_content, 'html.parser')\n",
    "text_content = soup.get_text()\n",
    "\n",
    "# 추출한 텍스트를 텍스트 파일로 저장\n",
    "with open(text_path, 'w', encoding='utf-8') as txt_file:\n",
    "    txt_file.write(text_content)\n",
    "\n",
    "print(\"Markdown converted to plain text successfully!\")"
   ]
  },
  {
   "cell_type": "code",
   "execution_count": 6,
   "metadata": {},
   "outputs": [],
   "source": [
    "text_splitter = RecursiveCharacterTextSplitter(\n",
    "    chunk_size = 1500, \n",
    "    chunk_overlap = 100,\n",
    "    separators=['\\n\\n','\\n']\n",
    ")"
   ]
  },
  {
   "cell_type": "code",
   "execution_count": 7,
   "metadata": {},
   "outputs": [],
   "source": [
    "\n",
    "loader = TextLoader(text_path, encoding='utf-8')\n",
    "document_list = loader.load_and_split(text_splitter)"
   ]
  },
  {
   "cell_type": "code",
   "execution_count": 8,
   "metadata": {},
   "outputs": [
    {
     "name": "stderr",
     "output_type": "stream",
     "text": [
      "C:\\Users\\user\\AppData\\Local\\Temp\\ipykernel_2340\\2544830205.py:1: LangChainDeprecationWarning: The class `HuggingFaceEmbeddings` was deprecated in LangChain 0.2.2 and will be removed in 1.0. An updated version of the class exists in the :class:`~langchain-huggingface package and should be used instead. To use it run `pip install -U :class:`~langchain-huggingface` and import as `from :class:`~langchain_huggingface import HuggingFaceEmbeddings``.\n",
      "  embeddings_model = HuggingFaceEmbeddings(\n",
      "c:\\USERS\\USER\\DESKTOP\\FINBRAINAGENT\\VENV\\Lib\\site-packages\\tqdm\\auto.py:21: TqdmWarning: IProgress not found. Please update jupyter and ipywidgets. See https://ipywidgets.readthedocs.io/en/stable/user_install.html\n",
      "  from .autonotebook import tqdm as notebook_tqdm\n"
     ]
    }
   ],
   "source": [
    "embeddings_model = HuggingFaceEmbeddings(\n",
    "    model_name='jhgan/ko-sroberta-nli',\n",
    "    model_kwargs={'device':'cpu'},\n",
    "    encode_kwargs={'normalize_embeddings':True},\n",
    ")\n"
   ]
  },
  {
   "cell_type": "code",
   "execution_count": 9,
   "metadata": {},
   "outputs": [],
   "source": [
    "\n",
    "\n",
    "vector_store = Chroma.from_documents(\n",
    "    documents=document_list,\n",
    "    embedding=embeddings_model,\n",
    "    collection_name = \"real_estate_tax\",\n",
    "    persist_directory = \"./real_estate_tax_collection\"\n",
    ")\n",
    "\n",
    "\n",
    "# 이미 생성된 크로마 db 가져오기\n",
    "# vector_store = Chroma(\n",
    "#     embedding_function=embeddings_model,\n",
    "#     collection_name = \"income_tax_collection\",\n",
    "#     persist_directory = \"./income_tax_collection\"\n",
    "# )\n",
    "\n",
    "retriever = vector_store.as_retriever(search_kwargs = {\"k\":3})"
   ]
  },
  {
   "cell_type": "code",
   "execution_count": 47,
   "metadata": {},
   "outputs": [],
   "source": [
    "tax_base_equation_prompt = ChatPromptTemplate.from_messages([\n",
    "    ('system', '사용자 질문에서 과세표준을 계산하는 방법을 수식으로 나타내라. 부연 설명없이 수식만 나타내라.'),\n",
    "    ('human', \"{tax_base_equation_information}\")\n",
    "])\n"
   ]
  },
  {
   "cell_type": "code",
   "execution_count": 48,
   "metadata": {},
   "outputs": [],
   "source": [
    "tax_base_retrieval_chain = (\n",
    "    {\"context\":retriever, \"question\": RunnablePassthrough()}\n",
    "    | rag_prompt \n",
    "    | llm \n",
    "    | StrOutputParser()\n",
    "    )\n",
    "\n",
    "tax_base_equation_chain = (\n",
    "    {'tax_base_equation_information':RunnablePassthrough()} \n",
    "    | tax_base_equation_prompt\n",
    "    | llm\n",
    "    | StrOutputParser()\n",
    "    )\n",
    "\n",
    "tax_base_chain = {'tax_base_equation_information' : tax_base_retrieval_chain} | tax_base_equation_chain"
   ]
  },
  {
   "cell_type": "code",
   "execution_count": 49,
   "metadata": {},
   "outputs": [],
   "source": [
    "def get_tax_base_equation(state: AgentState) -> str:\n",
    "    tax_base_equation_question = \"주택에 대한 종합부동산세 계산 시 과세표준 계산 방법을 수식으로 표현해서 알려줘라\"\n",
    "    tax_base_equation = tax_base_chain.invoke(tax_base_equation_question)\n",
    "    return {'tax_base_equation':tax_base_equation}\n"
   ]
  },
  {
   "cell_type": "code",
   "execution_count": 50,
   "metadata": {},
   "outputs": [
    {
     "data": {
      "text/plain": [
       "{'tax_base_equation': 'Tax Base = Σ(House Price) * Fair Market Value Ratio \\n'}"
      ]
     },
     "execution_count": 50,
     "metadata": {},
     "output_type": "execute_result"
    }
   ],
   "source": [
    "get_tax_base_equation({})"
   ]
  },
  {
   "cell_type": "code",
   "execution_count": 51,
   "metadata": {},
   "outputs": [],
   "source": [
    "tax_deduction_chain = (\n",
    "    {'context': retriever, 'question': RunnablePassthrough()} \n",
    "    | rag_prompt \n",
    "    | llm \n",
    "    | StrOutputParser()\n",
    ")\n",
    "\n",
    "def get_tax_deduction(state: AgentState) -> AgentState:\n",
    "    # 공제금액을 묻는 질문\n",
    "    tax_deduction_question = '주택에 대한 종합부동산세 계산시 공제금액을 알려주세요'\n",
    "    \n",
    "    tax_deduction = tax_deduction_chain.invoke(tax_deduction_question)\n",
    "    return {'tax_deduction': tax_deduction}"
   ]
  },
  {
   "cell_type": "code",
   "execution_count": 52,
   "metadata": {},
   "outputs": [],
   "source": [
    "tavily_search_tool = TavilySearchResults(\n",
    "    max_results=3,\n",
    "    search_depth=\"advanced\",\n",
    "    include_answer=True,\n",
    "    include_raw_content=True,\n",
    "    include_images=True,\n",
    ")\n",
    "\n",
    "tax_market_ratio_prompt = ChatPromptTemplate.from_messages([\n",
    "    ('system', f'아래 정보를 기반으로 공정시장 가액비율을 계산해주세요\\n\\nContext:\\n{{context}}'),\n",
    "    ('human', '{query}')\n",
    "])\n",
    "\n",
    "tax_market_ratio_chain = (\n",
    "    tax_market_ratio_prompt\n",
    "    | llm\n",
    "    | StrOutputParser()\n",
    ")\n",
    "\n",
    "def get_market_ratio(state: AgentState):\n",
    "    query = f'오늘 날짜:({date.today()})에 해당하는 주택 공시가격 공정시장가액비율은 몇%인가요?'\n",
    "    context = tavily_search_tool.invoke(query)\n",
    "    market_ratio= tax_market_ratio_chain.invoke({'context' :context, 'query':query})\n",
    "    return {'market_ratio':market_ratio}\n",
    "\n",
    "\n"
   ]
  },
  {
   "cell_type": "code",
   "execution_count": 53,
   "metadata": {},
   "outputs": [
    {
     "data": {
      "text/plain": [
       "{'market_ratio': '제공된 정보를 바탕으로 2025년 3월 11일 공시가격에 적용되는 공정시장가액비율을 정확하게 계산할 수는 없습니다. \\n\\n다음과 같은 이유 때문입니다.\\n\\n* **2025년 공시가격은 2020년 시세반영률로 동결:**  2020년의 시세반영률은 공정시장가액비율과 뚜렷하게 연관되어 있지 않아 직접적으로 계산할 수 없습니다.\\n* **공정시장가액비율의 변동:** 과거 80%로 유지되었던 공정시장가액비율이 현재 60%로 변경되었고, 2024년에는 43~45%로 변경되었습니다.  이러한 변동성은 앞으로도 지속될 수 있으며 2025년 3월 11일의 정확한 비율을 예측하기 어렵습니다.\\n\\n**결론적으로, 제공된 정보만으로는 2025년 3월 11일 공시가격에 적용되는 공정시장가액비율을 정확하게 계산할 수 없습니다.** \\n\\n\\n자세한 정보는 국토교통부 또는 관련 부처의 공식 발표를 참조하시기 바랍니다. \\n'}"
      ]
     },
     "execution_count": 53,
     "metadata": {},
     "output_type": "execute_result"
    }
   ],
   "source": [
    "get_market_ratio({})"
   ]
  },
  {
   "cell_type": "code",
   "execution_count": 54,
   "metadata": {},
   "outputs": [],
   "source": [
    "# 과세표준 계산\n",
    "\n",
    "tax_base_calculation_prompt = ChatPromptTemplate.from_messages(\n",
    "    [\n",
    "        ('system',\"\"\"\n",
    "주어진 내용을 기반으로 과세표준을 계산해주세요\n",
    "\n",
    "과세표준 계산 공식: {tax_base_equation}\n",
    "공제금액: {tax_deduction}\n",
    "공정시장가액비율: {market_ratio}\"\"\"),\n",
    "        ('human', '사용자 주택 공시가격 정보: {query}')\n",
    "    ]\n",
    ")\n",
    "\n",
    "def calculate_tax_base(state: AgentState) -> AgentState:\n",
    "    tax_base_equation = state['tax_base_equation']\n",
    "    tax_deduction = state['tax_deduction']\n",
    "    market_ratio = state['market_ratio']\n",
    "    query = state['query']\n",
    "    \n",
    "    # tax_base_calculation_chain을 구성하여 과세표준을 계산\n",
    "    tax_base_calculation_chain = (\n",
    "        tax_base_calculation_prompt\n",
    "        | llm\n",
    "        | StrOutputParser()\n",
    "    )\n",
    "\n",
    "    tax_base = tax_base_calculation_chain.invoke({\n",
    "        'tax_base_equation': tax_base_equation,\n",
    "        'tax_deduction': tax_deduction,\n",
    "        'market_ratio': market_ratio,\n",
    "        'query': query\n",
    "    })\n",
    "\n",
    "\n",
    "    return {'tax_base': tax_base}"
   ]
  },
  {
   "cell_type": "code",
   "execution_count": 55,
   "metadata": {},
   "outputs": [],
   "source": [
    "# 세율 , 세액 계산\n",
    "\n",
    "tax_rate_calculation_prompt = ChatPromptTemplate.from_messages([\n",
    "    ('system', '''당신은 종합부동산세 계산 전문가입니다. 아래 문서를 참고해서 사용자의 질문에 대한 종합부동산세를 계산해주세요\n",
    "\n",
    "종합부동산세 세율:{context}'''),\n",
    "    ('human', '''과세표준과 사용자가 소지한 주택의 수가 아래와 같을 때 종합부동산세를 계산해주세요\n",
    "\n",
    "과세표준: {tax_base}\n",
    "주택 수:{query}''')\n",
    "])\n",
    "\n",
    "def calculate_tax_rate(state: AgentState):\n",
    "\n",
    "    query = state['query']\n",
    "    tax_base = state['tax_base']\n",
    "    \n",
    "\n",
    "    context = retriever.invoke(query)\n",
    "    \n",
    "    # tax_rate_chain을 구성하여 세율을 계산\n",
    "    tax_rate_chain = (\n",
    "        tax_rate_calculation_prompt\n",
    "        | llm\n",
    "        | StrOutputParser()\n",
    "    )\n",
    "    \n",
    "    # tax_rate_chain을 사용하여 세율을 계산\n",
    "    tax_rate = tax_rate_chain.invoke({\n",
    "        'context': context, \n",
    "        'tax_base': tax_base, \n",
    "        'query': query\n",
    "    })\n",
    "\n",
    "    # state에서 'answer' 키에 대한 값을 반환\n",
    "    return {'answer': tax_rate}\n"
   ]
  },
  {
   "cell_type": "code",
   "execution_count": 56,
   "metadata": {},
   "outputs": [],
   "source": [
    "graph_builder = StateGraph(AgentState)\n",
    "graph_builder.add_node('get_tax_base_equation', get_tax_base_equation)\n",
    "graph_builder.add_node('get_tax_deduction', get_tax_deduction)\n",
    "graph_builder.add_node('get_market_ratio', get_market_ratio)\n",
    "graph_builder.add_node('calculate_tax_base', calculate_tax_base)\n",
    "graph_builder.add_node('calculate_tax_rate', calculate_tax_rate)\n",
    "\n",
    "graph_builder.add_edge(START, 'get_tax_base_equation')\n",
    "graph_builder.add_edge(START, 'get_tax_deduction')\n",
    "graph_builder.add_edge(START, 'get_market_ratio')\n",
    "graph_builder.add_edge('get_tax_base_equation', 'calculate_tax_base')\n",
    "graph_builder.add_edge('get_tax_deduction', 'calculate_tax_base')\n",
    "graph_builder.add_edge('get_market_ratio', 'calculate_tax_base')\n",
    "graph_builder.add_edge('calculate_tax_base', 'calculate_tax_rate')\n",
    "graph_builder.add_edge('calculate_tax_rate', END)\n",
    "\n",
    "graph = graph_builder.compile()"
   ]
  },
  {
   "cell_type": "code",
   "execution_count": 57,
   "metadata": {},
   "outputs": [
    {
     "data": {
      "image/png": "[encoded data removed]",
      "text/plain": [
       "<IPython.core.display.Image object>"
      ]
     },
     "metadata": {},
     "output_type": "display_data"
    }
   ],
   "source": [
    "from IPython.display import Image, display\n",
    "\n",
    "display(Image(graph.get_graph().draw_mermaid_png()))"
   ]
  },
  {
   "cell_type": "code",
   "execution_count": 58,
   "metadata": {},
   "outputs": [
    {
     "data": {
      "text/plain": [
       "{'query': '5억짜리 집 1채, 10억짜리 집 1채, 20억짜리 집 1채를 가지고 있을 때 세금을 얼마나 내나요?',\n",
       " 'answer': '제공해 주신 정보를 바탕으로 종합부동산세를 계산해 보겠습니다. \\n\\n**1. 공시가격 합계**\\n\\n* 5억짜리 집 1채 + 10억짜리 집 1채 + 20억짜리 집 1채 = 35억원\\n\\n**2. 공제금액 산출**\\n\\n* 사용자는 3주택 이상을 소유하고 있으므로 공제금액은 12억원이 아닌, 25억원입니다.\\n\\n**3. 과세표준 계산**\\n\\n* 과세표준 = (공시가격 합계 - 공제금액) * 공정시장가액비율\\n* 과세표준 = (35억 - 25억) * 0.43 (공정시장가액비율의 낮은 측면을 적용)\\n* 과세표준 = 10억 * 0.43 = 4300만원\\n\\n**4. 세율 계산 및 세액 산출**\\n\\n* 4300만원의 과세표준은 25억원 초과 50억원 이하에 해당합니다. 따라서 세율은 2천650만원 + (25억원 초과하는 금액의 1천분의 15) 입니다.\\n* 세액 = 2650만원 + (4300만원 - 25억원) * 0.015\\n* 세액 = 2650만원 + 100만원\\n* 세액 = 2750만원\\n\\n**따라서 사용자는 2750만원의 종합부동산세를 내야 합니다.**\\n\\n\\n\\n**참고:** \\n\\n* 위 계산은 공정시장가액비율의 낮은 측면 (43%)을 적용하여 산출되었습니다. \\n* 공정시장가액비율이 45%로 높아지면 세금액은 더 높아집니다.\\n\\n\\n\\n',\n",
       " 'tax_base_equation': '```\\nTax Base = (Sum of Declared Prices of Housing) - (Deduction Amount) * (Fair Market Value Ratio) \\n```',\n",
       " 'tax_deduction': '주택에 대한 종합부동산세 과세표준은 납세의무자별로 주택의 공시가격을 합산한 금액에서 공제금액을 공제한 금액에 대통령령으로 정하는 공정시장가액비율을 곱한 금액으로 한다. 공제금액은 1세대 1주택자는 12억원, 법인 또는 법인으로 보는 단체는 6억원, 그리고 나머지 자는 9억원이다.  \\n\\n\\n',\n",
       " 'market_ratio': '제공된 정보를 바탕으로 2025년 3월 11일 공시가격에 적용되는 공정시장 가액비율은 **43~45%**입니다. \\n\\n정보에서 다음과 같은 사실을 알 수 있습니다.\\n\\n* 2025년 공시가격은 2020년 수준의 시세반영률로 동결됩니다. \\n* 2024년 공시가격은 9월 실거래 시세에 공동주택 공시가격 현실화율 69%, 공정시장가액비율 43~45%를 적용하여 산출되었습니다.\\n\\n\\n따라서 2025년 3월 11일은 2024년 공시가격 동결 기준이 적용되는 시점이므로 43~45%가 적용된다고 예상됩니다. \\n',\n",
       " 'tax_base': '## 사용자 주택 과세표준 계산\\n\\n**1. 공시가격 합계:**\\n\\n* 5억짜리 집 1채 + 10억짜리 집 1채 + 20억짜리 집 1채 = 35억원\\n\\n**2. 공제금액 산출:**\\n\\n* 사용자는 1세대 1주택자이므로 공제금액은 12억원입니다.\\n\\n**3. 과세표준 계산:**\\n\\n*  **과세표준 = (공시가격 합계 - 공제금액) * 공정시장가액비율**\\n*  과세표준 = (35억원 - 12억원) * 0.43 (공정시장가액비율의 낮은 측면을 적용)\\n*  과세표준 = 23억원 * 0.43 = **9890만원** (2025년 3월 11일 기준)\\n\\n\\n**따라서 사용자는 9890만원의 세금을 내야 합니다.**\\n\\n**참고:**\\n\\n* 위 계산은 공정시장가액비율의 낮은 측면 (43%)을 적용하여 산출되었습니다. 공정시장가액비율이 45%로 높아지면 세금액은 더 높아집니다.\\n* 2025년 공시가격은 2020년 수준의 시세반영률로 동결된다는 점을 고려하여 계산되었습니다. \\n\\n\\n\\n\\n'}"
      ]
     },
     "execution_count": 58,
     "metadata": {},
     "output_type": "execute_result"
    }
   ],
   "source": [
    "query = '5억짜리 집 1채, 10억짜리 집 1채, 20억짜리 집 1채를 가지고 있을 때 세금을 얼마나 내나요?'\n",
    "initial_state = {'query': query}\n",
    "graph.invoke(initial_state)"
   ]
  },
  {
   "cell_type": "code",
   "execution_count": null,
   "metadata": {},
   "outputs": [],
   "source": []
  }
 ],
 "metadata": {
  "kernelspec": {
   "display_name": "VENV",
   "language": "python",
   "name": "python3"
  },
  "language_info": {
   "codemirror_mode": {
    "name": "ipython",
    "version": 3
   },
   "file_extension": ".py",
   "mimetype": "text/x-python",
   "name": "python",
   "nbconvert_exporter": "python",
   "pygments_lexer": "ipython3",
   "version": "3.11.8"
  }
 },
 "nbformat": 4,
 "nbformat_minor": 2
}
