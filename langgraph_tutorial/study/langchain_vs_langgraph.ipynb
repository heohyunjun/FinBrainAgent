{
 "cells": [
  {
   "cell_type": "code",
   "execution_count": 8,
   "metadata": {},
   "outputs": [
    {
     "data": {
      "text/plain": [
       "True"
      ]
     },
     "execution_count": 8,
     "metadata": {},
     "output_type": "execute_result"
    }
   ],
   "source": [
    "from dotenv import load_dotenv\n",
    "from typing import Annotated\n",
    "from typing_extensions import TypedDict\n",
    "\n",
    "from langgraph.graph.message import add_messages\n",
    "from langchain_core.messages import HumanMessage, AnyMessage\n",
    "import os\n",
    "\n",
    "load_dotenv()\n"
   ]
  },
  {
   "cell_type": "code",
   "execution_count": 3,
   "metadata": {},
   "outputs": [],
   "source": [
    "groq_api_key = os.getenv(\"GROQ_API_KEY\")\n",
    "MODEL_NAME = \"gemma2-9b-it\""
   ]
  },
  {
   "cell_type": "code",
   "execution_count": 4,
   "metadata": {},
   "outputs": [
    {
     "name": "stdout",
     "output_type": "stream",
     "text": [
      "content='일론 머스크는 매우 복잡하고 다면적인 인물이기 때문에 그의 성격에 대한 단정적인 답변은 불가능합니다. 사람들은 그를 다양하게 묘사하며, 그의 행동과 발언은 종종 논란이 됩니다. \\n\\n**일부 사람들은 머스크를 다음과 같이 묘사합니다.**\\n\\n* **독창적이고 비전적인 리더:** 혁신적인 아이디어와 함께 미래를 향한 뚜렷한 비전을 가지고 있습니다.\\n* **고집스럽고 야심찬:** 목표를 달성하기 위해 끊임없이 노력하고 어려움에 굴하지 않습니다.\\n* **과업 중심적:** 업무에 대한 열정이 강하며, 개인적인 습관이나 휴식보다 작업에 더 많은 시간을 투자합니다.\\n* **직설적이고 공격적:** 솔직한 의견을 꺼내는 편이며, 때로는 공격적인 태도를 보입니다.\\n* **사회적 책임감:** 지구의 미래와 인류의 진보에 대한 깊은 관심을 가지고 있으며, 이를 위한 적극적인 노력을 기울입니다.\\n\\n**반면에, 다른 사람들은 머스크를 다음과 같이 묘사합니다.**\\n\\n* **휘황찬란하지만 무례한:** 자신의 성공과 재산에 대한 과시가 지나치게 심하며, 다른 사람들을 무시하는 경향이 있습니다.\\n* **강압적이고 폭력적인:** 직원들과의 관계에서도 강압적인 태도를 보이며, 비판을 받을 때는 공격적으로 반응합니다.\\n* **불안정하고 예측 불가능:** 그의 발언과 행동이 변덕스러우며, 이는 그의 비전과 목표에 대한 불확실성을 야기합니다.\\n* **결과 지향적인:** 과정보다 결과를 중시하며, 실패를 두려워합니다.\\n\\n결국, 일론 머스크의 성격은 다양한 관점에서 보아야 하며, 개인적인 경험과 가치관에 따라 그를 다르게 평가할 수 있습니다. 그의 업적과 비판은 모두 함께 고려되어야만 그의 복잡한 인격을 이해할 수 있습니다.\\n' additional_kwargs={} response_metadata={'token_usage': {'completion_tokens': 526, 'prompt_tokens': 20, 'total_tokens': 546, 'completion_time': 0.956363636, 'prompt_time': 0.003200593, 'queue_time': 0.015981205999999998, 'total_time': 0.959564229}, 'model_name': 'gemma2-9b-it', 'system_fingerprint': 'fp_10c08bf97d', 'finish_reason': 'stop', 'logprobs': None} id='run-51c333e2-3da0-4f58-ba8c-67a71e9b0489-0' usage_metadata={'input_tokens': 20, 'output_tokens': 526, 'total_tokens': 546}\n"
     ]
    }
   ],
   "source": [
    "from langchain_groq import ChatGroq\n",
    "\n",
    "query = \"일론 머스크의 성격은 어때?\"\n",
    "\n",
    "llm = ChatGroq(model_name=MODEL_NAME, api_key=groq_api_key)\n",
    "\n",
    "response = llm.invoke(query)\n",
    "\n",
    "print(response)\n",
    "\n",
    "\n"
   ]
  },
  {
   "cell_type": "code",
   "execution_count": 9,
   "metadata": {},
   "outputs": [],
   "source": [
    "class AgentState(TypedDict):\n",
    "    messages: list[Annotated[AnyMessage, add_messages]]\n"
   ]
  },
  {
   "cell_type": "code",
   "execution_count": 11,
   "metadata": {},
   "outputs": [],
   "source": [
    "from langgraph.graph import StateGraph\n",
    "from langgraph.graph import START, END\n",
    "\n",
    "graph_builder = StateGraph(AgentState)\n",
    "\n",
    "\n",
    "\n",
    "def generate(staet: AgentState) -> AgentState:\n",
    "    messages = staet[\"messages\"]\n",
    "    ai_message = llm.invoke(messages)\n",
    "    return {\"messages\" : [ai_message]}\n",
    "\n",
    "graph_builder.add_node(\"generate\", generate)\n",
    "graph_builder.add_edge(START, \"generate\")\n",
    "graph_builder.add_edge(\"generate\", END)\n",
    "\n",
    "graph = graph_builder.compile()"
   ]
  },
  {
   "cell_type": "code",
   "execution_count": 12,
   "metadata": {},
   "outputs": [
    {
     "data": {
      "text/plain": [
       "{'messages': [AIMessage(content='일론 머스크는 매우 복잡하고 다층적인 인물이며, 그의 성격을 단순하게 요약하는 것은 어렵습니다. 다양한 관점과 정보를 바탕으로 그의 성격에 대한 몇 가지 주요 특징을 제시해 볼 수는 있습니다.\\n\\n**긍정적인 측면:**\\n\\n* **혁신적이고 visionary:** 머스크는 끊임없이 새로운 기술과 아이디어를 추구하며, SpaceX와 Tesla를 통해 인류의 미래를 긍정적으로 변화시키려는 획기적인 비전을 가지고 있습니다.\\n* **적극적이고 끈기 있는:** 어려움에 굴하지 않고 목표를 향해 끊임없이 노력하는 열정과 끈기를 가지고 있습니다. \\n* **도전적인 사고와 리스크 감수:** 기존의 경계를 넘어 도전적인 아이디어를 실현하려는 용기와 리스크 감수 능력을 보여줍니다.\\n\\n**부정적인 측면:**\\n\\n* **강압적이고 완벽주의적인 성향:** 높은 기대치와 완벽주의적인 성향으로 인해 직원들에게 압박감을 주는 경우도 있습니다.\\n* **衝動的な行動:** 때로는 충동적인 행동을 보이며, 트위터를 통해 논란을 일으키는 등 행동의 예측 불가능성을 보여줍니다.\\n* **사회적 감수성 부족:** 개인적인 의견과 생각을 과도하게 표현하며, 때로는 사회적 감수성이 부족해 보이는 경우가 있습니다.\\n\\n**결론적으로, 일론 머스크는 혁신과 도전을 추구하는 뛰어난 리더이지만, 그의 강직하고 완벽주의적인 성향은 때로는 부정적인 영향을 미칠 수 있습니다. 그의 복잡하고 다양한 성격은 그가 이끌어가는 회사와 프로젝트의 성공과 실패에 큰 영향을 미치고 있습니다.**\\n\\n\\n', additional_kwargs={}, response_metadata={'token_usage': {'completion_tokens': 467, 'prompt_tokens': 20, 'total_tokens': 487, 'completion_time': 0.849090909, 'prompt_time': 0.001973606, 'queue_time': 0.015979943, 'total_time': 0.851064515}, 'model_name': 'gemma2-9b-it', 'system_fingerprint': 'fp_10c08bf97d', 'finish_reason': 'stop', 'logprobs': None}, id='run-fde49d9b-e5ab-44b3-89fc-59b1876ec466-0', usage_metadata={'input_tokens': 20, 'output_tokens': 467, 'total_tokens': 487})]}"
      ]
     },
     "execution_count": 12,
     "metadata": {},
     "output_type": "execute_result"
    }
   ],
   "source": [
    "initial_state = {\"messages\" : [HumanMessage(query)]}\n",
    "\n",
    "graph.invoke(initial_state)"
   ]
  },
  {
   "cell_type": "code",
   "execution_count": null,
   "metadata": {},
   "outputs": [],
   "source": []
  }
 ],
 "metadata": {
  "kernelspec": {
   "display_name": "VENV",
   "language": "python",
   "name": "python3"
  },
  "language_info": {
   "codemirror_mode": {
    "name": "ipython",
    "version": 3
   },
   "file_extension": ".py",
   "mimetype": "text/x-python",
   "name": "python",
   "nbconvert_exporter": "python",
   "pygments_lexer": "ipython3",
   "version": "3.11.8"
  }
 },
 "nbformat": 4,
 "nbformat_minor": 2
}
