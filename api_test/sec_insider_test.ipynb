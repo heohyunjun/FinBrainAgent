{
 "cells": [
  {
   "cell_type": "code",
   "execution_count": 1,
   "metadata": {},
   "outputs": [
    {
     "name": "stdout",
     "output_type": "stream",
     "text": [
      "내부 함수 호출 결과:\n",
      "[{'accessionNo': '0000320193-25-000036', 'filedAt': '2025-02-27', 'periodOfReport': '2025-02-25', 'documentType': '4', 'issuer': {'name': 'Apple Inc.', 'tradingSymbol': 'AAPL'}, 'reportingOwner': {'name': 'WAGNER SUSAN', 'relationship': {'isDirector': True, 'isOfficer': False, 'officerTitle': '', 'isTenPercentOwner': False}}, 'nonDerivativeTransactions': [], 'derivativeTransactions': [{'transactionDate': '2025-02-25', 'securityTitle': 'Restricted Stock Unit', 'conversionOrExercisePrice': None, 'shares': 1255, 'transaction_code': 'A', 'expirationDate': '2026-02-01'}], 'footnotes': ['Automatic grant pursuant to the Apple Inc. Non-Employee Director Stock Plan.', 'Each restricted stock unit represents the right to receive, at settlement, one share of common stock.', '100% of these restricted stock units are scheduled to vest on February 1, 2026, assuming continued service through the vesting date.']}, {'accessionNo': '0000320193-25-000035', 'filedAt': '2025-02-27', 'periodOfReport': '2025-02-25', 'documentType': '4', 'issuer': {'name': 'Apple Inc.', 'tradingSymbol': 'AAPL'}, 'reportingOwner': {'name': 'SUGAR RONALD D', 'relationship': {'isDirector': True, 'isOfficer': False, 'officerTitle': '', 'isTenPercentOwner': False}}, 'nonDerivativeTransactions': [], 'derivativeTransactions': [{'transactionDate': '2025-02-25', 'securityTitle': 'Restricted Stock Unit', 'conversionOrExercisePrice': None, 'shares': 1255, 'transaction_code': 'A', 'expirationDate': '2026-02-01'}], 'footnotes': ['Automatic grant pursuant to the Apple Inc. Non-Employee Director Stock Plan.', 'Each restricted stock unit represents the right to receive, at settlement, one share of common stock.', '100% of these restricted stock units are scheduled to vest on February 1, 2026, assuming continued service through the vesting date.']}, {'accessionNo': '0000320193-25-000034', 'filedAt': '2025-02-27', 'periodOfReport': '2025-02-25', 'documentType': '4', 'issuer': {'name': 'Apple Inc.', 'tradingSymbol': 'AAPL'}, 'reportingOwner': {'name': 'LOZANO MONICA C', 'relationship': {'isDirector': True, 'isOfficer': False, 'officerTitle': '', 'isTenPercentOwner': False}}, 'nonDerivativeTransactions': [], 'derivativeTransactions': [{'transactionDate': '2025-02-25', 'securityTitle': 'Restricted Stock Unit', 'conversionOrExercisePrice': None, 'shares': 1255, 'transaction_code': 'A', 'expirationDate': '2026-02-01'}], 'footnotes': ['Automatic grant pursuant to the Apple Inc. Non-Employee Director Stock Plan.', 'Each restricted stock unit represents the right to receive, at settlement, one share of common stock.', '100% of these restricted stock units are scheduled to vest on February 1, 2026, assuming continued service through the vesting date.']}, {'accessionNo': '0000320193-25-000033', 'filedAt': '2025-02-27', 'periodOfReport': '2025-02-25', 'documentType': '4', 'issuer': {'name': 'Apple Inc.', 'tradingSymbol': 'AAPL'}, 'reportingOwner': {'name': 'LEVINSON ARTHUR D', 'relationship': {'isDirector': True, 'isOfficer': False, 'officerTitle': '', 'isTenPercentOwner': False}}, 'nonDerivativeTransactions': [], 'derivativeTransactions': [{'transactionDate': '2025-02-25', 'securityTitle': 'Restricted Stock Unit', 'conversionOrExercisePrice': None, 'shares': 1113, 'transaction_code': 'A', 'expirationDate': '2026-02-01'}], 'footnotes': ['Automatic grant pursuant to the Apple Inc. Non-Employee Director Stock Plan.', 'Each restricted stock unit represents the right to receive, at settlement, one share of common stock.', '100% of these restricted stock units are scheduled to vest on February 1, 2026, assuming continued service through the vesting date.']}, {'accessionNo': '0000320193-25-000032', 'filedAt': '2025-02-27', 'periodOfReport': '2025-02-25', 'documentType': '4', 'issuer': {'name': 'Apple Inc.', 'tradingSymbol': 'AAPL'}, 'reportingOwner': {'name': 'JUNG ANDREA', 'relationship': {'isDirector': True, 'isOfficer': False, 'officerTitle': '', 'isTenPercentOwner': False}}, 'nonDerivativeTransactions': [], 'derivativeTransactions': [{'transactionDate': '2025-02-25', 'securityTitle': 'Restricted Stock Unit', 'conversionOrExercisePrice': None, 'shares': 1255, 'transaction_code': 'A', 'expirationDate': '2026-02-01'}], 'footnotes': ['Automatic grant pursuant to the Apple Inc. Non-Employee Director Stock Plan.', 'Each restricted stock unit represents the right to receive, at settlement, one share of common stock.', '100% of these restricted stock units are scheduled to vest on February 1, 2026, assuming continued service through the vesting date.']}]\n"
     ]
    }
   ],
   "source": [
    "import sys\n",
    "import os\n",
    "\n",
    "# 현재 Jupyter Notebook이 실행 중인 디렉토리를 기준으로 상위 경로 추가\n",
    "sys.path.append(os.path.abspath(\"..\"))\n",
    "\n",
    "# 모듈 불러오기\n",
    "from sec_tool.insider_trade_tool import SecInsiderTrade\n",
    "\n",
    "# 테스트 실행\n",
    "result_core = SecInsiderTrade._fetch_insider_trades_core(ticker=\"AAPL\")\n",
    "print(\"내부 함수 호출 결과:\")\n",
    "print(result_core)\n"
   ]
  },
  {
   "cell_type": "code",
   "execution_count": null,
   "metadata": {},
   "outputs": [],
   "source": []
  }
 ],
 "metadata": {
  "kernelspec": {
   "display_name": "VENV",
   "language": "python",
   "name": "python3"
  },
  "language_info": {
   "codemirror_mode": {
    "name": "ipython",
    "version": 3
   },
   "file_extension": ".py",
   "mimetype": "text/x-python",
   "name": "python",
   "nbconvert_exporter": "python",
   "pygments_lexer": "ipython3",
   "version": "3.11.8"
  }
 },
 "nbformat": 4,
 "nbformat_minor": 2
}
