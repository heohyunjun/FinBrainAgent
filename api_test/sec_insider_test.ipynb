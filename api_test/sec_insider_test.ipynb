{
 "cells": [
  {
   "cell_type": "code",
   "execution_count": 1,
   "metadata": {},
   "outputs": [],
   "source": [
    "import sys\n",
    "import os\n",
    "\n",
    "# 현재 Jupyter Notebook이 실행 중인 디렉토리를 기준으로 상위 경로 추가\n",
    "sys.path.append(os.path.abspath(\"..\"))\n",
    "\n",
    "# 모듈 불러오기\n",
    "from sec_tool.insider_trade_tool import SECInsiderTradeAPI, SEC13D13GAPI"
   ]
  },
  {
   "cell_type": "code",
   "execution_count": 1,
   "metadata": {},
   "outputs": [
    {
     "name": "stdout",
     "output_type": "stream",
     "text": [
      "내부 함수 호출 결과:\n",
      "[{'accessionNo': '0000320193-25-000036', 'filedAt': '2025-02-27', 'periodOfReport': '2025-02-25', 'documentType': '4', 'issuer': {'name': 'Apple Inc.', 'tradingSymbol': 'AAPL'}, 'reportingOwner': {'name': 'WAGNER SUSAN', 'relationship': {'isDirector': True, 'isOfficer': False, 'officerTitle': '', 'isTenPercentOwner': False}}, 'nonDerivativeTransactions': [], 'derivativeTransactions': [{'transactionDate': '2025-02-25', 'securityTitle': 'Restricted Stock Unit', 'conversionOrExercisePrice': None, 'shares': 1255, 'transaction_code': 'A', 'expirationDate': '2026-02-01'}], 'footnotes': ['Automatic grant pursuant to the Apple Inc. Non-Employee Director Stock Plan.', 'Each restricted stock unit represents the right to receive, at settlement, one share of common stock.', '100% of these restricted stock units are scheduled to vest on February 1, 2026, assuming continued service through the vesting date.']}, {'accessionNo': '0000320193-25-000035', 'filedAt': '2025-02-27', 'periodOfReport': '2025-02-25', 'documentType': '4', 'issuer': {'name': 'Apple Inc.', 'tradingSymbol': 'AAPL'}, 'reportingOwner': {'name': 'SUGAR RONALD D', 'relationship': {'isDirector': True, 'isOfficer': False, 'officerTitle': '', 'isTenPercentOwner': False}}, 'nonDerivativeTransactions': [], 'derivativeTransactions': [{'transactionDate': '2025-02-25', 'securityTitle': 'Restricted Stock Unit', 'conversionOrExercisePrice': None, 'shares': 1255, 'transaction_code': 'A', 'expirationDate': '2026-02-01'}], 'footnotes': ['Automatic grant pursuant to the Apple Inc. Non-Employee Director Stock Plan.', 'Each restricted stock unit represents the right to receive, at settlement, one share of common stock.', '100% of these restricted stock units are scheduled to vest on February 1, 2026, assuming continued service through the vesting date.']}, {'accessionNo': '0000320193-25-000034', 'filedAt': '2025-02-27', 'periodOfReport': '2025-02-25', 'documentType': '4', 'issuer': {'name': 'Apple Inc.', 'tradingSymbol': 'AAPL'}, 'reportingOwner': {'name': 'LOZANO MONICA C', 'relationship': {'isDirector': True, 'isOfficer': False, 'officerTitle': '', 'isTenPercentOwner': False}}, 'nonDerivativeTransactions': [], 'derivativeTransactions': [{'transactionDate': '2025-02-25', 'securityTitle': 'Restricted Stock Unit', 'conversionOrExercisePrice': None, 'shares': 1255, 'transaction_code': 'A', 'expirationDate': '2026-02-01'}], 'footnotes': ['Automatic grant pursuant to the Apple Inc. Non-Employee Director Stock Plan.', 'Each restricted stock unit represents the right to receive, at settlement, one share of common stock.', '100% of these restricted stock units are scheduled to vest on February 1, 2026, assuming continued service through the vesting date.']}, {'accessionNo': '0000320193-25-000033', 'filedAt': '2025-02-27', 'periodOfReport': '2025-02-25', 'documentType': '4', 'issuer': {'name': 'Apple Inc.', 'tradingSymbol': 'AAPL'}, 'reportingOwner': {'name': 'LEVINSON ARTHUR D', 'relationship': {'isDirector': True, 'isOfficer': False, 'officerTitle': '', 'isTenPercentOwner': False}}, 'nonDerivativeTransactions': [], 'derivativeTransactions': [{'transactionDate': '2025-02-25', 'securityTitle': 'Restricted Stock Unit', 'conversionOrExercisePrice': None, 'shares': 1113, 'transaction_code': 'A', 'expirationDate': '2026-02-01'}], 'footnotes': ['Automatic grant pursuant to the Apple Inc. Non-Employee Director Stock Plan.', 'Each restricted stock unit represents the right to receive, at settlement, one share of common stock.', '100% of these restricted stock units are scheduled to vest on February 1, 2026, assuming continued service through the vesting date.']}, {'accessionNo': '0000320193-25-000032', 'filedAt': '2025-02-27', 'periodOfReport': '2025-02-25', 'documentType': '4', 'issuer': {'name': 'Apple Inc.', 'tradingSymbol': 'AAPL'}, 'reportingOwner': {'name': 'JUNG ANDREA', 'relationship': {'isDirector': True, 'isOfficer': False, 'officerTitle': '', 'isTenPercentOwner': False}}, 'nonDerivativeTransactions': [], 'derivativeTransactions': [{'transactionDate': '2025-02-25', 'securityTitle': 'Restricted Stock Unit', 'conversionOrExercisePrice': None, 'shares': 1255, 'transaction_code': 'A', 'expirationDate': '2026-02-01'}], 'footnotes': ['Automatic grant pursuant to the Apple Inc. Non-Employee Director Stock Plan.', 'Each restricted stock unit represents the right to receive, at settlement, one share of common stock.', '100% of these restricted stock units are scheduled to vest on February 1, 2026, assuming continued service through the vesting date.']}]\n"
     ]
    }
   ],
   "source": [
    "# 테스트 실행\n",
    "result_core = SECInsiderTradeAPI._fetch_filings_core(ticker=\"AAPL\")\n",
    "print(\"내부 함수 호출 결과:\")\n",
    "print(result_core)\n"
   ]
  },
  {
   "cell_type": "code",
   "execution_count": 3,
   "metadata": {},
   "outputs": [
    {
     "name": "stdout",
     "output_type": "stream",
     "text": [
      "200\n",
      "내부 함수 호출 결과:\n",
      "[{'accessionNo': '0001193125-24-036110', 'formType': 'SC 13G/A', 'filedAt': '2024-02-14', 'nameOfIssuer': 'Tesla, Inc.', 'cusip': ['88160R101'], 'eventDate': '2023-12-31', 'owners': [{'name': 'Elon R. Musk 2.', 'amountAsPercent': None, 'soleVotingPower': 715022706, 'sharedVotingPower': 715022706, 'soleDispositivePower': 715022706, 'sharedDispositivePower': 715022706, 'aggregateAmountOwned': 715022706}], 'legalProceedingsDisclosureRequired': False, 'item1': None, 'item2': None, 'item3': None, 'item4': None, 'item5': None, 'item6': None, 'item8': None}, {'accessionNo': '0001104659-24-020124', 'formType': 'SC 13G/A', 'filedAt': '2024-02-13', 'nameOfIssuer': 'Tesla Inc', 'cusip': ['88160R101'], 'eventDate': '2023-12-29', 'owners': [{'name': 'The Vanguard Group - 23-1945930', 'amountAsPercent': 7.23, 'soleVotingPower': 0, 'sharedVotingPower': 3719744, 'soleDispositivePower': 217847966, 'sharedDispositivePower': 11957525, 'aggregateAmountOwned': 229805491}], 'legalProceedingsDisclosureRequired': False, 'item1': None, 'item2': None, 'item3': None, 'item4': None, 'item5': None, 'item6': None, 'item8': None}, {'accessionNo': '0001086364-24-005595', 'formType': 'SC 13G/A', 'filedAt': '2024-01-29', 'nameOfIssuer': 'TESLA INC', 'cusip': ['88160R101'], 'eventDate': '2023-12-31', 'owners': [{'name': 'BlackRock, Inc.', 'amountAsPercent': 5.9, 'soleVotingPower': 169527462, 'sharedVotingPower': 0, 'soleDispositivePower': 188797465, 'sharedDispositivePower': 0, 'aggregateAmountOwned': 188797465}], 'legalProceedingsDisclosureRequired': False, 'item1': None, 'item2': None, 'item3': None, 'item4': None, 'item5': None, 'item6': None, 'item8': None}, {'accessionNo': '0001193125-23-067846', 'formType': 'SC 13G/A', 'filedAt': '2023-03-10', 'nameOfIssuer': 'Tesla, Inc.', 'cusip': ['88160R101'], 'eventDate': '2022-12-31', 'owners': [{'name': 'Elon R. Musk', 'amountAsPercent': 20.6, 'soleVotingPower': 715022706, 'sharedVotingPower': 715022706, 'soleDispositivePower': 715022706, 'sharedDispositivePower': 715022706, 'aggregateAmountOwned': 715022706}], 'legalProceedingsDisclosureRequired': False, 'item1': None, 'item2': None, 'item3': None, 'item4': None, 'item5': None, 'item6': None, 'item8': None}, {'accessionNo': '0001193125-23-039293', 'formType': 'SC 13G/A', 'filedAt': '2023-02-14', 'nameOfIssuer': 'Tesla, Inc.', 'cusip': ['88160R101'], 'eventDate': '2022-12-31', 'owners': [{'name': 'Elon R. Musk', 'amountAsPercent': 20.6, 'soleVotingPower': 716022963, 'sharedVotingPower': 716022963, 'soleDispositivePower': 716022963, 'sharedDispositivePower': 716022963, 'aggregateAmountOwned': 716022963}], 'legalProceedingsDisclosureRequired': False, 'item1': None, 'item2': None, 'item3': None, 'item4': None, 'item5': None, 'item6': None, 'item8': None}]\n"
     ]
    }
   ],
   "source": [
    "# 테스트 실행\n",
    "result_core = SEC13D13GAPI._fetch_filings_core(issuer_name=\"Tesla, Inc.\")\n",
    "print(\"내부 함수 호출 결과:\")\n",
    "print(result_core)"
   ]
  },
  {
   "cell_type": "code",
   "execution_count": 5,
   "metadata": {},
   "outputs": [
    {
     "name": "stdout",
     "output_type": "stream",
     "text": [
      "Query: nameOfIssuer:\"Tesla, Inc.\"\n"
     ]
    }
   ],
   "source": [
    "query = SEC13D13GAPI.build_query(issuer_name=\"Tesla, Inc.\")\n",
    "print(f\"Query: {query}\")\n"
   ]
  },
  {
   "cell_type": "code",
   "execution_count": null,
   "metadata": {},
   "outputs": [],
   "source": []
  }
 ],
 "metadata": {
  "kernelspec": {
   "display_name": "VENV",
   "language": "python",
   "name": "python3"
  },
  "language_info": {
   "codemirror_mode": {
    "name": "ipython",
    "version": 3
   },
   "file_extension": ".py",
   "mimetype": "text/x-python",
   "name": "python",
   "nbconvert_exporter": "python",
   "pygments_lexer": "ipython3",
   "version": "3.11.8"
  }
 },
 "nbformat": 4,
 "nbformat_minor": 2
}
