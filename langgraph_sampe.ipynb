{
 "cells": [
  {
   "cell_type": "code",
   "execution_count": 6,
   "metadata": {},
   "outputs": [
    {
     "data": {
      "text/plain": [
       "True"
      ]
     },
     "execution_count": 6,
     "metadata": {},
     "output_type": "execute_result"
    }
   ],
   "source": [
    "import os\n",
    "from typing import Annotated\n",
    "\n",
    "from typing_extensions import TypedDict\n",
    "from dotenv import load_dotenv\n",
    "from IPython.display import Image, display\n",
    "\n",
    "from langchain_groq import ChatGroq\n",
    "from langgraph.graph import StateGraph, START, END\n",
    "from langgraph.graph.message import add_messages\n",
    "from langchain_anthropic import ChatAnthropic\n",
    "from langsmith import utils \n",
    "\n",
    "# 환경 변수 로드\n",
    "load_dotenv()\n",
    "\n",
    "utils.tracing_is_enabled()"
   ]
  },
  {
   "cell_type": "markdown",
   "metadata": {},
   "source": [
    "# Build a Basic Chatbot"
   ]
  },
  {
   "cell_type": "code",
   "execution_count": 2,
   "metadata": {},
   "outputs": [
    {
     "data": {
      "image/png": "[encoded data removed]",
      "text/plain": [
       "<IPython.core.display.Image object>"
      ]
     },
     "metadata": {},
     "output_type": "display_data"
    }
   ],
   "source": [
    "\n",
    "\n",
    "class State(TypedDict):\n",
    "    # Messages have the type \"list\". The `add_messages` function\n",
    "    # in the annotation defines how this state key should be updated\n",
    "    # (in this case, it appends messages to the list, rather than overwriting them)\n",
    "    messages: Annotated[list, add_messages]\n",
    "\n",
    "def chatbot(state: State):\n",
    "    return {\"messages\": [llm.invoke(state[\"messages\"])]}\n",
    "\n",
    "llm = ChatGroq(\n",
    "    model=\"mixtral-8x7b-32768\",\n",
    "    temperature=0.7,\n",
    "    max_tokens=None,\n",
    "    timeout=None,\n",
    "    max_retries=2,\n",
    ")\n",
    "\n",
    "\n",
    "graph_builder = StateGraph(State)\n",
    "\n",
    "# llm = ChatAnthropic(model=\"claude-3-5-sonnet-20240620\")\n",
    "\n",
    "\n",
    "# The first argument is the unique node name\n",
    "# The second argument is the function or object that will be called whenever\n",
    "# the node is used.\n",
    "graph_builder.add_node(\"chatbot\", chatbot)\n",
    "\n",
    "# 엔트리 포인트 설정, 그래프가 실행될 때 어디서부터 시작할지 정의하는 역할할\n",
    "graph_builder.add_edge(START, \"chatbot\")\n",
    "\n",
    "# 피니쉬 포인트 설정, 그래프가 종료될 때 어디서 끝낼지 정의하는 역할\n",
    "graph_builder.add_edge(\"chatbot\", END)\n",
    "\n",
    "# compilie 메서드 호출로 그래프를 컴파일 -> CompliledGraph 객체가 생성됨\n",
    "# CompliledGraph 객를 이용하면, 우리가 만든 상태(State) 그래프를 실행(invoke)할 수 있음\n",
    "graph = graph_builder.compile()\n",
    "\n",
    "\n",
    "try:\n",
    "    display(Image(graph.get_graph().draw_mermaid_png()))\n",
    "except Exception:\n",
    "    # This requires some extra dependencies and is optional\n",
    "    pass\n",
    "\n"
   ]
  },
  {
   "cell_type": "code",
   "execution_count": 3,
   "metadata": {},
   "outputs": [
    {
     "name": "stdout",
     "output_type": "stream",
     "text": [
      "Assistant: Hello! How can I help you today? If you have any questions or need assistance with English, I'm here to help. Just let me know what you need.\n",
      " **** 1 cycle done ****\n",
      "Goodbye!\n",
      " **** 1 cycle done ****\n"
     ]
    }
   ],
   "source": [
    "def stream_graph_updates(user_input: str):\n",
    "    for event in graph.stream({\"messages\": [{\"role\": \"user\", \"content\": user_input}]}):\n",
    "        for value in event.values():\n",
    "            print(\"Assistant:\", value[\"messages\"][-1].content)\n",
    "\n",
    "\n",
    "while True:\n",
    "    try:\n",
    "        user_input = input(\"User: \")\n",
    "        if user_input.lower() in [\"quit\", \"exit\", \"q\"]:\n",
    "            print(\"Goodbye!\")\n",
    "            break\n",
    "\n",
    "        stream_graph_updates(user_input)\n",
    "    except:\n",
    "        # fallback if input() is not available\n",
    "        user_input = \"What do you know about LangGraph?\"\n",
    "        print(\"User: \" + user_input)\n",
    "        stream_graph_updates(user_input)\n",
    "        break\n",
    "    finally:\n",
    "        print(\" **** 1 cycle done ****\")"
   ]
  },
  {
   "cell_type": "markdown",
   "metadata": {},
   "source": [
    "# Enhancing the Chatbot with Tools"
   ]
  },
  {
   "cell_type": "code",
   "execution_count": 4,
   "metadata": {},
   "outputs": [],
   "source": [
    "from langchain_community.tools.tavily_search import TavilySearchResults"
   ]
  },
  {
   "cell_type": "code",
   "execution_count": null,
   "metadata": {},
   "outputs": [
    {
     "data": {
      "text/plain": [
       "[{'url': 'https://www.datacamp.com/tutorial/langgraph-tutorial',\n",
       "  'content': 'Nodes: Nodes represent units of work within your LangGraph. They are typically Python functions that perform a specific task, such as:.'},\n",
       " {'url': 'https://medium.com/@cplog/introduction-to-langgraph-a-beginners-guide-14f9be027141',\n",
       "  'content': 'Nodes: Nodes are the building blocks of your LangGraph. Each node represents a function or a computation step . You define nodes to perform'}]"
      ]
     },
     "execution_count": 7,
     "metadata": {},
     "output_type": "execute_result"
    }
   ],
   "source": [
    "# Tavily 검색 엔진을 사용 \n",
    "tool = TavilySearchResults(max_results=2)\n",
    "tools = [tool]\n",
    "tool.invoke(\"What's a 'node' in LangGraph?\")"
   ]
  },
  {
   "cell_type": "code",
   "execution_count": 37,
   "metadata": {},
   "outputs": [],
   "source": [
    "from typing import Annotated\n",
    "\n",
    "from langchain_anthropic import ChatAnthropic\n",
    "from typing_extensions import TypedDict\n",
    "\n",
    "from langgraph.graph import StateGraph, START, END\n",
    "from langgraph.graph.message import add_messages\n"
   ]
  },
  {
   "cell_type": "code",
   "execution_count": 38,
   "metadata": {},
   "outputs": [],
   "source": [
    "# State는 전체 애플리케이션의 현재 상태를 나타내는 공유 데이터 구조\n",
    "# 전체 워크플로우의 컨텍스트 유지; 노드 간 정보 공유; TypedDict 또는 Pydantic BaseModel로 정의 \n",
    "\n",
    "# 모든 정보 실시간 업데이트, 그래프 내에서 이 상태가 모든 직원(Agent)에게 공유 가능\n",
    "class State(TypedDict):\n",
    "    messages: Annotated[list, add_messages]\n",
    "\n",
    "graph_builder = StateGraph(State)"
   ]
  },
  {
   "cell_type": "code",
   "execution_count": 39,
   "metadata": {},
   "outputs": [],
   "source": [
    "llm = ChatGroq(\n",
    "    model=\"mixtral-8x7b-32768\",\n",
    "    temperature=0.7,\n",
    "    max_tokens=None,\n",
    "    timeout=None,\n",
    "    max_retries=2,\n",
    ")\n",
    "\n",
    "# LLM에 bind_tools 기능을 추가\n",
    "# bind_tools를 추가하면 LLM이 검색 엔진을 사용할 때 올바른 JSON 형식을 따르도록 알려줌\n",
    "# 즉, LLM이 검색 엔진과 올바르게 상호작용할 수 있도록 설정하는 과정\n",
    "llm_with_tools = llm.bind_tools(tools)"
   ]
  },
  {
   "cell_type": "code",
   "execution_count": 40,
   "metadata": {},
   "outputs": [
    {
     "data": {
      "text/plain": [
       "<langgraph.graph.state.StateGraph at 0x13b2d0ea8d0>"
      ]
     },
     "execution_count": 40,
     "metadata": {},
     "output_type": "execute_result"
    }
   ],
   "source": [
    "def chatbot(state: State):\n",
    "    return {\"messages\": [llm_with_tools.invoke(state[\"messages\"])]}\n",
    "\n",
    "graph_builder.add_node(\"chatbot\", chatbot)"
   ]
  },
  {
   "cell_type": "markdown",
   "metadata": {},
   "source": [
    "## BasicToolNode 구현\n",
    "역할\n",
    "- 현재 상태의 가장 최근 메시지 확인\n",
    "- 메시지에 tool_calls 정보가 포함되어 있다면, 도구 실행\n",
    "- 이 과정에서 llm의 tool_calling 기능 활용\n",
    "\n",
    "## Tool_calling\n",
    "- 최신 LLM은 외부 도구를 자동으로 호출하는 기능을 지원\n",
    "- 즉, 챗봇이 직접 웹 검색, 계산기, API 호출 등 다양한 도구를 필요에 따라 실행\n",
    "\n",
    "## BasicToolNode - > ToolNode\n",
    "- 지금은 직접 BasicToolNode를 구현하여 원리를 이해하지만, 나중에는 랭그래프의 ToolNode를 사용 "
   ]
  },
  {
   "cell_type": "code",
   "execution_count": 41,
   "metadata": {},
   "outputs": [],
   "source": [
    "import json\n",
    "\n",
    "from langchain_core.messages import ToolMessage\n",
    "\n",
    "\n",
    "class BasicToolNode:\n",
    "    \"\"\"A node that runs the tools requested in the last AIMessage.\"\"\"\n",
    "\n",
    "    def __init__(self, tools: list) -> None:\n",
    "        self.tools_by_name = {tool.name: tool for tool in tools}\n",
    "\n",
    "    def __call__(self, inputs: dict):\n",
    "        if messages := inputs.get(\"messages\", []):\n",
    "            message = messages[-1]\n",
    "        else:\n",
    "            raise ValueError(\"No message found in input\")\n",
    "        outputs = []\n",
    "        for tool_call in message.tool_calls:\n",
    "            tool_result = self.tools_by_name[tool_call[\"name\"]].invoke(\n",
    "                tool_call[\"args\"]\n",
    "            )\n",
    "            outputs.append(\n",
    "                ToolMessage(\n",
    "                    content=json.dumps(tool_result),\n",
    "                    name=tool_call[\"name\"],\n",
    "                    tool_call_id=tool_call[\"id\"],\n",
    "                )\n",
    "            )\n",
    "        return {\"messages\": outputs}\n",
    "\n"
   ]
  },
  {
   "cell_type": "code",
   "execution_count": 42,
   "metadata": {},
   "outputs": [
    {
     "data": {
      "text/plain": [
       "<langgraph.graph.state.StateGraph at 0x13b2d0ea8d0>"
      ]
     },
     "execution_count": 42,
     "metadata": {},
     "output_type": "execute_result"
    }
   ],
   "source": [
    "\n",
    "tool_node = BasicToolNode(tools=[tool])\n",
    "graph_builder.add_node(\"tools\", tool_node)"
   ]
  },
  {
   "cell_type": "markdown",
   "metadata": {},
   "source": [
    "## 도구 노드가 추가되면, 조건부 엣지(Conditional Edges)를 정의해야 함\n",
    "- 엣지(edges) : 그래프의 노드 간의 흐름제어 하는 역할\n",
    "- 조건부 엣지는 if 문을 포함하여 특정 조건에 따라 다른 노드로 이동할 수 있도록 함 \n",
    "\n",
    "## 조건부 엣지 역할\n",
    "- 현재 그래프 상태(graph state) 받아옴\n",
    "- 어떤 노드로 이동할지 결정하는 라우팅함수 실행\n",
    "- 라우팅 함수는 문자열 또는 문자열 리스트 반환, 이는 다으멩 실행할 노드의 이름을 나타냄 "
   ]
  },
  {
   "cell_type": "code",
   "execution_count": 43,
   "metadata": {},
   "outputs": [],
   "source": [
    "# 챗봇의 응답 확인하고, tool_calls 포함되어 있는지 확인\n",
    "# tool_calls가 포함되어 있으면 tools로 라우팅, 그렇지 않으면 END로 라우팅 \n",
    "\n",
    "# 직접 route_tools를 구현하여 원리를 이해\n",
    "# 나중에는 langgraph의 tools_condition을 사용하여 더 간단하게 구현 가능 \n",
    "def route_tools(\n",
    "    state: State,\n",
    "):\n",
    "    \"\"\"\n",
    "    Use in the conditional_edge to route to the ToolNode if the last message\n",
    "    has tool calls. Otherwise, route to the end.\n",
    "    \"\"\"\n",
    "    if isinstance(state, list):\n",
    "        ai_message = state[-1]\n",
    "    elif messages := state.get(\"messages\", []):\n",
    "        ai_message = messages[-1]\n",
    "    else:\n",
    "        raise ValueError(f\"No messages found in input state to tool_edge: {state}\")\n",
    "    if hasattr(ai_message, \"tool_calls\") and len(ai_message.tool_calls) > 0:\n",
    "        return \"tools\"\n",
    "    return END\n",
    "\n",
    "\n",
    "# `tools_condition` 함수는 챗봇이 도구를 사용해야 한다고 판단하면 \"tools\"를 반환하고,  \n",
    "# 직접 응답해도 괜찮다면 \"END\"를 반환 \n",
    "graph_builder.add_conditional_edges(\n",
    "    \"chatbot\",\n",
    "    route_tools,\n",
    "    # 아래 딕셔너리를 사용하면 그래프가 조건의 출력을 특정 노드로 해석하도록 설정\n",
    "    # 기본값은 identity function(입력을 그대로 반환)이며,  \n",
    "    # 만약 \"tools\"라는 노드 대신 다른 노드 이름을 사용하고 싶다면,  \n",
    "    # 예를 들어 \"tools\": \"my_tools\"로 변경할 수 있음 \n",
    "    {\"tools\": \"tools\", END: END},\n",
    ")\n",
    "# Any time a tool is called, we return to the chatbot to decide the next step\n",
    "graph_builder.add_edge(\"tools\", \"chatbot\")\n",
    "graph_builder.add_edge(START, \"chatbot\")\n",
    "graph = graph_builder.compile()"
   ]
  },
  {
   "cell_type": "code",
   "execution_count": 44,
   "metadata": {},
   "outputs": [
    {
     "data": {
      "image/png": "[encoded data removed]",
      "text/plain": [
       "<IPython.core.display.Image object>"
      ]
     },
     "metadata": {},
     "output_type": "display_data"
    }
   ],
   "source": [
    "from IPython.display import Image, display\n",
    "\n",
    "try:\n",
    "    display(Image(graph.get_graph().draw_mermaid_png()))\n",
    "except Exception:\n",
    "    # This requires some extra dependencies and is optional\n",
    "    pass"
   ]
  },
  {
   "cell_type": "code",
   "execution_count": 46,
   "metadata": {},
   "outputs": [
    {
     "name": "stdout",
     "output_type": "stream",
     "text": [
      "Assistant: \n",
      "Assistant: [{\"url\": \"https://blog.naver.com/wild_it/223268788749\", \"content\": \"\\uc708\\ub3c4\\uc6b0 11\\uc5d0 \\uc544\\uc774\\ud3f0\\uc744 \\uc5f0\\uacb0\\ud558\\uae30 \\uc704\\ud574\\uc11c\\ub294 \\ubcc4\\ub3c4 \\ud504\\ub85c\\uadf8\\ub7a8\\uc744 \\ub2e4\\uc6b4\\ub85c\\ub4dc\\ud560 \\ud544\\uc694\\uac00 \\uc5c6\\uc2b5\\ub2c8\\ub2e4. \\u200b. \\uba3c\\uc800 \\uc5f0\\uacb0\\uc5d0 \\ud544\\uc694\\ud55c \\ud504\\ub85c\\uadf8\\ub7a8\\uc744 \\uc2e4\\ud589\\uc2dc\\ucf1c\\ubcf4\\uaca0\\uc2b5\\ub2c8\\ub2e4. \\ud558\\ub2e8\"}, {\"url\": \"https://blog.naver.com/culture-box/223551367798\", \"content\": \"\\uc6b0\\ub9ac\\uac00 \\uc138\\uc6b4 \\uacc4\\ud68d\\uc740 \\uc5b4\\ub5bb\\uac8c \\ub3fc? \\u200b. The internet's gone wild watching movie stars on trial. \\ub514 \\uc778\\ud130\\ub137\\uc2a4 \\uac74 \\uc640\\uc77c\\ub4dc \\uc6cc\\uce58\\uc789 \\ubb34\\ube44 \\uc2a4\\ud0c0\\uc988 \\uc628 \\ud2b8\\ub77c\\uc774\\uc5bc.\"}]\n",
      "Assistant: 네이버 블로거 \"와일딧\"은 \"[https://blog.naver.com/wild\\_it/223268788749](https://blog.naver.com/wild_it/223268788749)\"와 \"[https://blog.naver.com/culture-box/223551367798](https://blog.naver.com/culture-box/223551367798)\"라는 두 블로그를 운영하고 있습니다.\n",
      "Goodbye!\n"
     ]
    }
   ],
   "source": [
    "while True:\n",
    "    try:\n",
    "        user_input = input(\"User: \")\n",
    "        if user_input.lower() in [\"quit\", \"exit\", \"q\"]:\n",
    "            print(\"Goodbye!\")\n",
    "            break\n",
    "\n",
    "        stream_graph_updates(user_input)\n",
    "    except:\n",
    "        # fallback if input() is not available\n",
    "        user_input = \"What do you know about LangGraph?\"\n",
    "        print(\"User: \" + user_input)\n",
    "        stream_graph_updates(user_input)\n",
    "        break"
   ]
  },
  {
   "cell_type": "code",
   "execution_count": null,
   "metadata": {},
   "outputs": [],
   "source": []
  }
 ],
 "metadata": {
  "kernelspec": {
   "display_name": "venv",
   "language": "python",
   "name": "python3"
  },
  "language_info": {
   "codemirror_mode": {
    "name": "ipython",
    "version": 3
   },
   "file_extension": ".py",
   "mimetype": "text/x-python",
   "name": "python",
   "nbconvert_exporter": "python",
   "pygments_lexer": "ipython3",
   "version": "3.11.8"
  }
 },
 "nbformat": 4,
 "nbformat_minor": 2
}
